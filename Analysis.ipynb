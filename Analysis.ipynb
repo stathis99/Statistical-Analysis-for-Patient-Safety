{
 "cells": [
  {
   "cell_type": "markdown",
   "id": "21633eae",
   "metadata": {},
   "source": [
    "# Data Analysis For Hospital Patient Safety"
   ]
  },
  {
   "cell_type": "markdown",
   "id": "b78a6a73",
   "metadata": {},
   "source": [
    "### Data Collection"
   ]
  },
  {
   "cell_type": "code",
   "execution_count": 2,
   "id": "7ea98c54",
   "metadata": {},
   "outputs": [],
   "source": [
    "# Libraries\n",
    "import pandas as pd\n",
    "import pingouin as pg\n"
   ]
  },
  {
   "cell_type": "code",
   "execution_count": 3,
   "id": "243e3af4",
   "metadata": {},
   "outputs": [],
   "source": [
    "#Load Data\n",
    "sismanoglio = pd.read_csv('Data/Sismanoglio.csv')\n",
    "evangelismos = pd.read_csv('Data/Evagelismos.csv')\n",
    "genimatas = pd.read_csv('Data/Genimatas.csv')\n",
    "thriasio = pd.read_csv('Data/Thriasio.csv')\n",
    "mpenakio = pd.read_csv('Data/Mpenakio.csv')\n",
    "\n",
    "frames = [sismanoglio,evangelismos,genimatas,thriasio,mpenakio]\n",
    "\n",
    "hospitals = pd.concat(frames)"
   ]
  },
  {
   "cell_type": "code",
   "execution_count": 4,
   "id": "b6554bf1",
   "metadata": {},
   "outputs": [
    {
     "name": "stdout",
     "output_type": "stream",
     "text": [
      "sismanoglio has 16 rows/answers and  60 columns/questios\n",
      "evangelismos has 17 rows/answers and  60 columns/questios\n",
      "genimatas has 56 rows/answers and  60 columns/questios\n",
      "thriasio has 12 rows/answers and  60 columns/questios\n",
      "mpenakio has 2 rows/answers and  60 columns/questios\n"
     ]
    }
   ],
   "source": [
    "#Shape of Data\n",
    "print('sismanoglio has', sismanoglio.shape[0], 'rows/answers and ',sismanoglio.shape[1], 'columns/questios')\n",
    "print('evangelismos has', evangelismos.shape[0], 'rows/answers and ',evangelismos.shape[1], 'columns/questios')\n",
    "print('genimatas has', genimatas.shape[0], 'rows/answers and ',genimatas.shape[1], 'columns/questios')\n",
    "print('thriasio has', thriasio.shape[0], 'rows/answers and ',thriasio.shape[1], 'columns/questios')\n",
    "print('mpenakio has', mpenakio.shape[0], 'rows/answers and ',mpenakio.shape[1], 'columns/questios')\n"
   ]
  },
  {
   "cell_type": "code",
   "execution_count": 5,
   "id": "bdeedc1d",
   "metadata": {
    "scrolled": true,
    "tags": [
     "{",
     "\"tags\":",
     "[",
     "\"hide-cell\"",
     "]",
     "}"
    ]
   },
   "outputs": [
    {
     "name": "stdout",
     "output_type": "stream",
     "text": [
      "hospitlas have 103 rows/answers and  61 columns/questios\n"
     ]
    }
   ],
   "source": [
    "print('hospitlas have', hospitals.shape[0], 'rows/answers and ',hospitals.shape[1], 'columns/questios')"
   ]
  },
  {
   "cell_type": "markdown",
   "id": "f8ddca5e",
   "metadata": {},
   "source": [
    "### Data cleaning"
   ]
  },
  {
   "cell_type": "code",
   "execution_count": 6,
   "id": "6ce6310a",
   "metadata": {},
   "outputs": [],
   "source": [
    "#Drop irrelevant coumns\n",
    "hospitals.drop(\"Χρονική σήμανση\", axis=1, inplace=True)"
   ]
  },
  {
   "cell_type": "code",
   "execution_count": 7,
   "id": "aa665bc5",
   "metadata": {},
   "outputs": [
    {
     "name": "stdout",
     "output_type": "stream",
     "text": [
      "0   Σε ποιο Εργασιακό Περιβάλλον /Τομέα/ Μονάδα εργάζεστε;\n",
      "1   Σε ποιο τμήμα του Παθολογικού Τομέα εργάζεστε;\n",
      "2   Σε ποιο τμήμα του Χειρουργικού Τομέα εργάζεστε;\n",
      "3   Σε ποιο τμήμα του Εργαστηριακού Τομέα εργάζεστε;\n",
      "4   Παρακαλώ γράψτε το όνομα του Τομέα που εργάζεστε.\n",
      "5   1. Οι εργαζόμενοι υποστηρίζουν ο ένας τον άλλον.\n",
      "6   2. Υπάρχει επαρκές προσωπικό για τη διεκπεραίωση της εργασίας.\n",
      "7   3. Όταν υπάρχει μεγάλος όγκος εργασίας που πρέπει να γίνει άμεσα, το προσωπικό εργάζεται ομαδικά για την ολοκλήρωση της.\n",
      "8   4. Υπάρχει σεβασμός ανάμεσα στους εργαζομένους.\n",
      "9   5. Το προσωπικό εργάζεται περισσότερες ώρες από αυτές που διασφαλίζουν ασφαλή φροντίδα για τον ασθενή.\n",
      "10   6. Το προσωπικό εργάζεται δυναμικά για τη βελτίωση της ασφάλειας του ασθενούς.\n",
      "11   7. Αξιοποιείται περισσότερο προσωρινό προσωπικό από αυτό που διασφαλίζει την ασφαλή φροντίδα του ασθενούς.\n",
      "12   8. Το προσωπικό αισθάνεται ότι τα λάθη του μπορεί να χρησιμοποιηθούν εναντίον του. \n",
      "13   9. Τα λάθη οδήγησαν σε θετικές αλλαγές.\n",
      "14   10. Από τύχη δεν συμβαίνουν σοβαρά λάθη.\n",
      "15   11. Όταν υπάρχει μεγάλος φόρτος εργασίας παρέχεται βοήθεια από άλλες Μονάδες.\n",
      "16   12. Όταν δηλώνεται ένα δυσμενές συμβάν, υπάρχει η αίσθηση ότι καταγράφεται το άτομο και όχι το καθαυτό συμβάν.\n",
      "17   13. Όταν γίνονται αλλαγές για τη βελτίωση της ασφάλειας του ασθενούς, αξιολογείται η αποτελεσματικότητά τους.\n",
      "18   14. Το προσωπικό εργάζεται σε «κατάσταση κρίσης» προσπαθώντας να κάνει πολλά πράγματα γρήγορα.\n",
      "19   15. Η ασφάλεια του ασθενούς αποτελεί προτεραιότητα ακόμα και όταν υπάρχει φόρτος εργασίας. \n",
      "20   16. Το προσωπικό ανησυχεί ότι τα λάθη του καταγράφονται στο προσωπικό του φάκελο.\n",
      "21   17. Υπάρχει πρόβλημα ασφάλειας του ασθενούς.\n",
      "22   18. Οι διαδικασίες διεκπεραίωσης της εργασίας και το σύστημα εν γένει συμβάλλει στην πρόληψη δυσμενών συμβάντων.\n",
      "23   1. Επιβραβεύει το προσωπικό με καλά λόγια όταν τηρούνται οι διαδικασίες ασφαλούς φροντίδας του ασθενούς.\n",
      "24   2. Λαμβάνει σοβαρά υπόψη του τις προτάσεις του προσωπικού για βελτίωση της ασφάλειας του ασθενούς.\n",
      "25   3. Παροτρύνει το προσωπικό να εργάζεται γρηγορότερα όταν υπάρχει υπερβολικός φόρτος εργασίας και πίεση, ακόμη και όταν παραβλέπονται σημαντικές διαδικασίες ασφάλειας του ασθενούς.\n",
      "26   4. Παραβλέπει επαναλαμβανόμενα προβλήματα ασφάλειας του ασθενούς.\n",
      "27   1. Γίνεται συστηματική αξιολόγηση των αλλαγών που τίθενται σε εφαρμογή, βάσει δυσμενών συμβάντων που έχουν αναφερθεί. \n",
      "28   2. Το προσωπικό μιλάει ελεύθερα όταν διαπιστώσει κάτι που επιδρά αρνητικά στη φροντίδα υγείας του ασθενούς.\n",
      "29   3. Το προσωπικό ενημερώνεται συχνά για τα δυσμενή συμβάντα που λαμβάνουν χώρα.\n",
      "30   4. Το προσωπικό μπορεί ελεύθερα να αμφισβητήσει τις αποφάσεις ή τις ενέργειες των ανωτέρων του.\n",
      "31   5. Το προσωπικό συζητά τρόπους πρόληψης δυσμενών συμβάντων ώστε να μην επαναληφθούν.\n",
      "32   6. Το προσωπικό φοβάται να ρωτήσει, όταν κάτι δεν φαίνεται σωστό.\n",
      "33   …..αλλά εντοπιστεί και διορθωθεί πριν επηρεάσει τον ασθενή \n",
      "34   ……αλλά δεν έχει πιθανότητα να βλάψει τον ασθενή.\n",
      "35   …..που θα μπορούσε να βλάψει τον ασθενή, αλλά δεν τον επηρέασε \n",
      "36   Παρακαλώ αξιολογήστε το επίπεδο ασφάλειας των ασθενών συνολικά στο Εργασιακό Περιβάλλον/Μονάδα σας επιλέγοντας με √ την απάντηση που σας εκφράζει.\n",
      "37   1. Η Διοίκηση εξασφαλίζει εργασιακό κλίμα που προάγει την ασφάλεια του ασθενούς .\n",
      "38   2. Υπάρχει ελλιπής συντονισμός μεταξύ των Μονάδων.\n",
      "39   3. Η μεταφορά ασθενούς από τη μία Μονάδα στην άλλη συνήθως συνοδεύεται από προβλήματα.\n",
      "40   4. Υπάρχει καλή συνεργασία ανάμεσα στις Μονάδες όταν αυτό απαιτείται.\n",
      "41   5. Συχνά, σημαντικές πληροφορίες σχετικά με τη νοσηλεία του ασθενούς χάνονται κατά την αλλαγή της βάρδιας.\n",
      "42   6. Η συνεργασία με το προσωπικό άλλων Μονάδων είναι συχνά δυσάρεστη.\n",
      "43   7. Συχνά παρουσιάζονται διάφορα προβλήματα κατά την ανταλλαγή πληροφοριών μεταξύ των Μονάδων.\n",
      "44   8. Η ασφάλεια του ασθενούς αποτελεί κύρια προτεραιότητα για την Διοίκηση.\n",
      "45   9. Η Διοίκηση δείχνει να ενδιαφέρεται για την ασφάλεια του ασθενούς μόνο μετά από την αναφορά κάποιου δυσμενούς συμβάντος.\n",
      "46   10. Οι Μονάδες συνεργάζονται καλά μεταξύ τους για την παροχή άριστης ποιοτικά φροντίδας υγείας στον ασθενή.\n",
      "47   11. Η αλλαγή βάρδιας είναι προβληματική για τον ασθενή.\n",
      "48   Τους τελευταίους 12 μήνες πόσα δυσμενή συμβάντα έχετε αναφέρει; (Αναφέρετε έναν αριθμό)\n",
      "49   1. Φύλο: \n",
      "50   2. Ηλικία…\n",
      "51   3α. Ποια είναι η βασική σας εκπαίδευση;\n",
      "52   3β. Άλλες σπουδές:\n",
      "53   7. Πόσο χρονικό διάστημα εργάζεστε στο συγκεκριμένο Νοσοκομείο;\n",
      "54   8. Πόσο χρονικό διάστημα εργάζεστε στη συγκεκριμένη μονάδα ?\n",
      "55   9. Συνήθως πόσες ώρες την εβδομάδα εργάζεστε στο συγκεκριμένο Νοσοκομείο; …\n",
      "56   10. Τι θέση κατέχετε στο νοσοκομείο που εργάζεστε;\n",
      "57   12. Πόσο χρονικό διάστημα εργάζεστε στην παρούσα ειδικότητα ή επάγγελμα; (Αθροιστικά στο τρέχον νοσοκομείο και σε τυχόν άλλα)\n",
      "58   Παρακαλώ, καταγράψτε ελεύθερα τυχόν σχόλια και παρατηρήσεις σχετικά με ζητήματα ασφάλειας των ασθενών, ιατρικών λαθών και την αναφορά δυσμενών συμβάντων εντός του νοσοκομείου σας.\n",
      "59   5. Το προσωπικό εργάζεται περισσότερες ώρες από αυτές που διασφαλίζουν ασφαλή φροντίδα για τον ασθενή\n"
     ]
    }
   ],
   "source": [
    "#print all questions\n",
    "for index, item in enumerate(hospitals.columns, start=0):  \n",
    "    print(index,\" \", item)"
   ]
  },
  {
   "cell_type": "code",
   "execution_count": 8,
   "id": "92517f90",
   "metadata": {},
   "outputs": [],
   "source": [
    "hospitals_jobField  = hospitals.iloc[: , :5]\n",
    "hospitals_personalInfo = hospitals.iloc[:, 49:58]\n",
    "hospitals_questions = hospitals.iloc[:, 5:49]"
   ]
  },
  {
   "cell_type": "code",
   "execution_count": 9,
   "id": "2f7aeabe",
   "metadata": {},
   "outputs": [
    {
     "name": "stdout",
     "output_type": "stream",
     "text": [
      "0   1. Οι εργαζόμενοι υποστηρίζουν ο ένας τον άλλον.\n",
      "1   2. Υπάρχει επαρκές προσωπικό για τη διεκπεραίωση της εργασίας.\n",
      "2   3. Όταν υπάρχει μεγάλος όγκος εργασίας που πρέπει να γίνει άμεσα, το προσωπικό εργάζεται ομαδικά για την ολοκλήρωση της.\n",
      "3   4. Υπάρχει σεβασμός ανάμεσα στους εργαζομένους.\n",
      "4   5. Το προσωπικό εργάζεται περισσότερες ώρες από αυτές που διασφαλίζουν ασφαλή φροντίδα για τον ασθενή.\n",
      "5   6. Το προσωπικό εργάζεται δυναμικά για τη βελτίωση της ασφάλειας του ασθενούς.\n",
      "6   7. Αξιοποιείται περισσότερο προσωρινό προσωπικό από αυτό που διασφαλίζει την ασφαλή φροντίδα του ασθενούς.\n",
      "7   8. Το προσωπικό αισθάνεται ότι τα λάθη του μπορεί να χρησιμοποιηθούν εναντίον του. \n",
      "8   9. Τα λάθη οδήγησαν σε θετικές αλλαγές.\n",
      "9   10. Από τύχη δεν συμβαίνουν σοβαρά λάθη.\n",
      "10   11. Όταν υπάρχει μεγάλος φόρτος εργασίας παρέχεται βοήθεια από άλλες Μονάδες.\n",
      "11   12. Όταν δηλώνεται ένα δυσμενές συμβάν, υπάρχει η αίσθηση ότι καταγράφεται το άτομο και όχι το καθαυτό συμβάν.\n",
      "12   13. Όταν γίνονται αλλαγές για τη βελτίωση της ασφάλειας του ασθενούς, αξιολογείται η αποτελεσματικότητά τους.\n",
      "13   14. Το προσωπικό εργάζεται σε «κατάσταση κρίσης» προσπαθώντας να κάνει πολλά πράγματα γρήγορα.\n",
      "14   15. Η ασφάλεια του ασθενούς αποτελεί προτεραιότητα ακόμα και όταν υπάρχει φόρτος εργασίας. \n",
      "15   16. Το προσωπικό ανησυχεί ότι τα λάθη του καταγράφονται στο προσωπικό του φάκελο.\n",
      "16   17. Υπάρχει πρόβλημα ασφάλειας του ασθενούς.\n",
      "17   18. Οι διαδικασίες διεκπεραίωσης της εργασίας και το σύστημα εν γένει συμβάλλει στην πρόληψη δυσμενών συμβάντων.\n",
      "18   1. Επιβραβεύει το προσωπικό με καλά λόγια όταν τηρούνται οι διαδικασίες ασφαλούς φροντίδας του ασθενούς.\n",
      "19   2. Λαμβάνει σοβαρά υπόψη του τις προτάσεις του προσωπικού για βελτίωση της ασφάλειας του ασθενούς.\n",
      "20   3. Παροτρύνει το προσωπικό να εργάζεται γρηγορότερα όταν υπάρχει υπερβολικός φόρτος εργασίας και πίεση, ακόμη και όταν παραβλέπονται σημαντικές διαδικασίες ασφάλειας του ασθενούς.\n",
      "21   4. Παραβλέπει επαναλαμβανόμενα προβλήματα ασφάλειας του ασθενούς.\n",
      "22   1. Γίνεται συστηματική αξιολόγηση των αλλαγών που τίθενται σε εφαρμογή, βάσει δυσμενών συμβάντων που έχουν αναφερθεί. \n",
      "23   2. Το προσωπικό μιλάει ελεύθερα όταν διαπιστώσει κάτι που επιδρά αρνητικά στη φροντίδα υγείας του ασθενούς.\n",
      "24   3. Το προσωπικό ενημερώνεται συχνά για τα δυσμενή συμβάντα που λαμβάνουν χώρα.\n",
      "25   4. Το προσωπικό μπορεί ελεύθερα να αμφισβητήσει τις αποφάσεις ή τις ενέργειες των ανωτέρων του.\n",
      "26   5. Το προσωπικό συζητά τρόπους πρόληψης δυσμενών συμβάντων ώστε να μην επαναληφθούν.\n",
      "27   6. Το προσωπικό φοβάται να ρωτήσει, όταν κάτι δεν φαίνεται σωστό.\n",
      "28   …..αλλά εντοπιστεί και διορθωθεί πριν επηρεάσει τον ασθενή \n",
      "29   ……αλλά δεν έχει πιθανότητα να βλάψει τον ασθενή.\n",
      "30   …..που θα μπορούσε να βλάψει τον ασθενή, αλλά δεν τον επηρέασε \n",
      "31   Παρακαλώ αξιολογήστε το επίπεδο ασφάλειας των ασθενών συνολικά στο Εργασιακό Περιβάλλον/Μονάδα σας επιλέγοντας με √ την απάντηση που σας εκφράζει.\n",
      "32   1. Η Διοίκηση εξασφαλίζει εργασιακό κλίμα που προάγει την ασφάλεια του ασθενούς .\n",
      "33   2. Υπάρχει ελλιπής συντονισμός μεταξύ των Μονάδων.\n",
      "34   3. Η μεταφορά ασθενούς από τη μία Μονάδα στην άλλη συνήθως συνοδεύεται από προβλήματα.\n",
      "35   4. Υπάρχει καλή συνεργασία ανάμεσα στις Μονάδες όταν αυτό απαιτείται.\n",
      "36   5. Συχνά, σημαντικές πληροφορίες σχετικά με τη νοσηλεία του ασθενούς χάνονται κατά την αλλαγή της βάρδιας.\n",
      "37   6. Η συνεργασία με το προσωπικό άλλων Μονάδων είναι συχνά δυσάρεστη.\n",
      "38   7. Συχνά παρουσιάζονται διάφορα προβλήματα κατά την ανταλλαγή πληροφοριών μεταξύ των Μονάδων.\n",
      "39   8. Η ασφάλεια του ασθενούς αποτελεί κύρια προτεραιότητα για την Διοίκηση.\n",
      "40   9. Η Διοίκηση δείχνει να ενδιαφέρεται για την ασφάλεια του ασθενούς μόνο μετά από την αναφορά κάποιου δυσμενούς συμβάντος.\n",
      "41   10. Οι Μονάδες συνεργάζονται καλά μεταξύ τους για την παροχή άριστης ποιοτικά φροντίδας υγείας στον ασθενή.\n",
      "42   11. Η αλλαγή βάρδιας είναι προβληματική για τον ασθενή.\n",
      "43   Τους τελευταίους 12 μήνες πόσα δυσμενή συμβάντα έχετε αναφέρει; (Αναφέρετε έναν αριθμό)\n"
     ]
    }
   ],
   "source": [
    "#print all questions\n",
    "for index, item in enumerate(hospitals_questions, start=0):  \n",
    "    print(index,\" \", item)"
   ]
  },
  {
   "cell_type": "markdown",
   "id": "136abe5b",
   "metadata": {},
   "source": [
    "### Split Questions to 12 categories according to HSOPSC"
   ]
  },
  {
   "cell_type": "code",
   "execution_count": 10,
   "id": "20666cde",
   "metadata": {},
   "outputs": [],
   "source": [
    "#helper functions\n",
    "\n",
    "def my_reverse(table, q):\n",
    "    for index in range(len(table)):\n",
    "        if table[q].iloc[index] == 1:\n",
    "            table[q].iloc[index] = 5\n",
    "        elif table[q].iloc[index] == 2:\n",
    "            table[q].iloc[index] = 4\n",
    "        elif table[q].iloc[index] == 4:\n",
    "            table[q].iloc[index] = 2\n",
    "        elif table[q].iloc[index] == 5:\n",
    "            table[q].iloc[index] = 1\n",
    "    return table"
   ]
  },
  {
   "cell_type": "markdown",
   "id": "5d7427e0",
   "metadata": {},
   "source": [
    "#### Parameter of patient safety 1 : Open Communication"
   ]
  },
  {
   "cell_type": "code",
   "execution_count": 11,
   "id": "86556220",
   "metadata": {},
   "outputs": [],
   "source": [
    "g4 = '4. Το προσωπικό μπορεί ελεύθερα να αμφισβητήσει τις αποφάσεις ή τις ενέργειες των ανωτέρων του.'\n",
    "g2 = '2. Το προσωπικό μιλάει ελεύθερα όταν διαπιστώσει κάτι που επιδρά αρνητικά στη φροντίδα υγείας του ασθενούς.'\n",
    "g6 = '6. Το προσωπικό φοβάται να ρωτήσει, όταν κάτι δεν φαίνεται σωστό.'\n",
    "\n",
    "open_communication = hospitals_questions[:][[g4,g2,g6]]"
   ]
  },
  {
   "cell_type": "code",
   "execution_count": 12,
   "id": "cc768d73",
   "metadata": {},
   "outputs": [
    {
     "data": {
      "text/html": [
       "<div>\n",
       "<style scoped>\n",
       "    .dataframe tbody tr th:only-of-type {\n",
       "        vertical-align: middle;\n",
       "    }\n",
       "\n",
       "    .dataframe tbody tr th {\n",
       "        vertical-align: top;\n",
       "    }\n",
       "\n",
       "    .dataframe thead th {\n",
       "        text-align: right;\n",
       "    }\n",
       "</style>\n",
       "<table border=\"1\" class=\"dataframe\">\n",
       "  <thead>\n",
       "    <tr style=\"text-align: right;\">\n",
       "      <th></th>\n",
       "      <th>4. Το προσωπικό μπορεί ελεύθερα να αμφισβητήσει τις αποφάσεις ή τις ενέργειες των ανωτέρων του.</th>\n",
       "      <th>2. Το προσωπικό μιλάει ελεύθερα όταν διαπιστώσει κάτι που επιδρά αρνητικά στη φροντίδα υγείας του ασθενούς.</th>\n",
       "      <th>6. Το προσωπικό φοβάται να ρωτήσει, όταν κάτι δεν φαίνεται σωστό.</th>\n",
       "    </tr>\n",
       "  </thead>\n",
       "  <tbody>\n",
       "    <tr>\n",
       "      <th>0</th>\n",
       "      <td>2</td>\n",
       "      <td>1</td>\n",
       "      <td>4</td>\n",
       "    </tr>\n",
       "    <tr>\n",
       "      <th>1</th>\n",
       "      <td>2</td>\n",
       "      <td>1</td>\n",
       "      <td>4</td>\n",
       "    </tr>\n",
       "    <tr>\n",
       "      <th>2</th>\n",
       "      <td>3</td>\n",
       "      <td>4</td>\n",
       "      <td>2</td>\n",
       "    </tr>\n",
       "    <tr>\n",
       "      <th>3</th>\n",
       "      <td>4</td>\n",
       "      <td>4</td>\n",
       "      <td>4</td>\n",
       "    </tr>\n",
       "    <tr>\n",
       "      <th>4</th>\n",
       "      <td>3</td>\n",
       "      <td>5</td>\n",
       "      <td>5</td>\n",
       "    </tr>\n",
       "    <tr>\n",
       "      <th>...</th>\n",
       "      <td>...</td>\n",
       "      <td>...</td>\n",
       "      <td>...</td>\n",
       "    </tr>\n",
       "    <tr>\n",
       "      <th>9</th>\n",
       "      <td>3</td>\n",
       "      <td>4</td>\n",
       "      <td>4</td>\n",
       "    </tr>\n",
       "    <tr>\n",
       "      <th>10</th>\n",
       "      <td>3</td>\n",
       "      <td>4</td>\n",
       "      <td>5</td>\n",
       "    </tr>\n",
       "    <tr>\n",
       "      <th>11</th>\n",
       "      <td>1</td>\n",
       "      <td>3</td>\n",
       "      <td>3</td>\n",
       "    </tr>\n",
       "    <tr>\n",
       "      <th>0</th>\n",
       "      <td>2</td>\n",
       "      <td>3</td>\n",
       "      <td>4</td>\n",
       "    </tr>\n",
       "    <tr>\n",
       "      <th>1</th>\n",
       "      <td>4</td>\n",
       "      <td>3</td>\n",
       "      <td>4</td>\n",
       "    </tr>\n",
       "  </tbody>\n",
       "</table>\n",
       "<p>103 rows × 3 columns</p>\n",
       "</div>"
      ],
      "text/plain": [
       "    4. Το προσωπικό μπορεί ελεύθερα να αμφισβητήσει τις αποφάσεις ή τις ενέργειες των ανωτέρων του.  \\\n",
       "0                                                   2                                                 \n",
       "1                                                   2                                                 \n",
       "2                                                   3                                                 \n",
       "3                                                   4                                                 \n",
       "4                                                   3                                                 \n",
       "..                                                ...                                                 \n",
       "9                                                   3                                                 \n",
       "10                                                  3                                                 \n",
       "11                                                  1                                                 \n",
       "0                                                   2                                                 \n",
       "1                                                   4                                                 \n",
       "\n",
       "    2. Το προσωπικό μιλάει ελεύθερα όταν διαπιστώσει κάτι που επιδρά αρνητικά στη φροντίδα υγείας του ασθενούς.  \\\n",
       "0                                                   1                                                             \n",
       "1                                                   1                                                             \n",
       "2                                                   4                                                             \n",
       "3                                                   4                                                             \n",
       "4                                                   5                                                             \n",
       "..                                                ...                                                             \n",
       "9                                                   4                                                             \n",
       "10                                                  4                                                             \n",
       "11                                                  3                                                             \n",
       "0                                                   3                                                             \n",
       "1                                                   3                                                             \n",
       "\n",
       "    6. Το προσωπικό φοβάται να ρωτήσει, όταν κάτι δεν φαίνεται σωστό.  \n",
       "0                                                   4                  \n",
       "1                                                   4                  \n",
       "2                                                   2                  \n",
       "3                                                   4                  \n",
       "4                                                   5                  \n",
       "..                                                ...                  \n",
       "9                                                   4                  \n",
       "10                                                  5                  \n",
       "11                                                  3                  \n",
       "0                                                   4                  \n",
       "1                                                   4                  \n",
       "\n",
       "[103 rows x 3 columns]"
      ]
     },
     "execution_count": 12,
     "metadata": {},
     "output_type": "execute_result"
    }
   ],
   "source": [
    "#reverse question g6\n",
    "my_reverse(open_communication, g6)"
   ]
  },
  {
   "cell_type": "code",
   "execution_count": 13,
   "id": "6ac41b2c",
   "metadata": {},
   "outputs": [
    {
     "name": "stdout",
     "output_type": "stream",
     "text": [
      "Cronabachs alpha for parameter 1:  0.7009313356857754\n"
     ]
    }
   ],
   "source": [
    "#calculate cronabachs alpha\n",
    "ca = pg.cronbach_alpha(data=open_communication)\n",
    "print(\"Cronabachs alpha for parameter 1: \",ca[0])"
   ]
  },
  {
   "cell_type": "markdown",
   "id": "b8e14250",
   "metadata": {},
   "source": [
    "#### Parameter of patient safety 2 \n"
   ]
  },
  {
   "cell_type": "code",
   "execution_count": 14,
   "id": "467da32c",
   "metadata": {},
   "outputs": [],
   "source": [
    "g1 = '1. Γίνεται συστηματική αξιολόγηση των αλλαγών που τίθενται σε εφαρμογή, βάσει δυσμενών συμβάντων που έχουν αναφερθεί. '\n",
    "g3 = '3. Το προσωπικό ενημερώνεται συχνά για τα δυσμενή συμβάντα που λαμβάνουν χώρα.'\n",
    "g5 = '5. Το προσωπικό συζητά τρόπους πρόληψης δυσμενών συμβάντων ώστε να μην επαναληφθούν.'\n",
    "\n",
    "\n",
    "parameter_2 = hospitals_questions[:][[g1,g3,g5]]"
   ]
  },
  {
   "cell_type": "code",
   "execution_count": 15,
   "id": "9da23280",
   "metadata": {},
   "outputs": [
    {
     "name": "stdout",
     "output_type": "stream",
     "text": [
      "Cronabachs alpha for parameter 1:  0.7054077126445635\n"
     ]
    }
   ],
   "source": [
    "#calculate cronabachs alpha\n",
    "ca = pg.cronbach_alpha(data=parameter_2)\n",
    "print(\"Cronabachs alpha for parameter 1: \",ca[0])"
   ]
  },
  {
   "cell_type": "markdown",
   "id": "99157db7",
   "metadata": {},
   "source": [
    "#### Parameter of patient safety 3"
   ]
  },
  {
   "cell_type": "code",
   "execution_count": 16,
   "id": "36b5b80e",
   "metadata": {},
   "outputs": [],
   "source": [
    "a6 = '6. Το προσωπικό εργάζεται δυναμικά για τη βελτίωση της ασφάλειας του ασθενούς.'\n",
    "a9 = '9. Τα λάθη οδήγησαν σε θετικές αλλαγές.'\n",
    "a13 = '13. Όταν γίνονται αλλαγές για τη βελτίωση της ασφάλειας του ασθενούς, αξιολογείται η αποτελεσματικότητά τους.'\n",
    "\n",
    "parameter_3 = hospitals_questions[:][[a6,a9,a13]]"
   ]
  },
  {
   "cell_type": "code",
   "execution_count": 17,
   "id": "1ec61482",
   "metadata": {},
   "outputs": [
    {
     "name": "stdout",
     "output_type": "stream",
     "text": [
      "Cronabachs alpha for parameter 1:  0.5784065608025519\n"
     ]
    }
   ],
   "source": [
    "#calculate cronabachs alpha\n",
    "ca = pg.cronbach_alpha(data=parameter_3)\n",
    "print(\"Cronabachs alpha for parameter 1: \",ca[0])"
   ]
  },
  {
   "cell_type": "markdown",
   "id": "14a0a080",
   "metadata": {},
   "source": [
    "#### Parameter of patient safety 4"
   ]
  },
  {
   "cell_type": "code",
   "execution_count": 18,
   "id": "0b1c1f68",
   "metadata": {},
   "outputs": [],
   "source": [
    "a1 = '1. Οι εργαζόμενοι υποστηρίζουν ο ένας τον άλλον.'\n",
    "a3 = '3. Όταν υπάρχει μεγάλος όγκος εργασίας που πρέπει να γίνει άμεσα, το προσωπικό εργάζεται ομαδικά για την ολοκλήρωση της.'\n",
    "a4 = '4. Υπάρχει σεβασμός ανάμεσα στους εργαζομένους.'\n",
    "a11 = '11. Όταν υπάρχει μεγάλος φόρτος εργασίας παρέχεται βοήθεια από άλλες Μονάδες.'\n",
    "\n",
    "parameter_4 = hospitals_questions[:][[a1,a3,a4,a11]]"
   ]
  },
  {
   "cell_type": "code",
   "execution_count": 19,
   "id": "6a711d9e",
   "metadata": {},
   "outputs": [
    {
     "name": "stdout",
     "output_type": "stream",
     "text": [
      "Cronabachs alpha for parameter 1:  0.7165631888715147\n"
     ]
    }
   ],
   "source": [
    "#calculate cronabachs alpha\n",
    "ca = pg.cronbach_alpha(data=parameter_4)\n",
    "print(\"Cronabachs alpha for parameter 1: \",ca[0])"
   ]
  },
  {
   "cell_type": "markdown",
   "id": "e52ca784",
   "metadata": {},
   "source": [
    "#### Parameter of patient safety 5"
   ]
  },
  {
   "cell_type": "code",
   "execution_count": 20,
   "id": "8f5089a8",
   "metadata": {},
   "outputs": [],
   "source": [
    "a8 = '8. Το προσωπικό αισθάνεται ότι τα λάθη του μπορεί να χρησιμοποιηθούν εναντίον του. '\n",
    "a12 = '12. Όταν δηλώνεται ένα δυσμενές συμβάν, υπάρχει η αίσθηση ότι καταγράφεται το άτομο και όχι το καθαυτό συμβάν.'\n",
    "a16 = '16. Το προσωπικό ανησυχεί ότι τα λάθη του καταγράφονται στο προσωπικό του φάκελο.'\n",
    "\n",
    "\n",
    "parameter_5 = hospitals_questions[:][[a8,a12,a16]]"
   ]
  },
  {
   "cell_type": "code",
   "execution_count": 21,
   "id": "f09463f3",
   "metadata": {},
   "outputs": [
    {
     "data": {
      "text/html": [
       "<div>\n",
       "<style scoped>\n",
       "    .dataframe tbody tr th:only-of-type {\n",
       "        vertical-align: middle;\n",
       "    }\n",
       "\n",
       "    .dataframe tbody tr th {\n",
       "        vertical-align: top;\n",
       "    }\n",
       "\n",
       "    .dataframe thead th {\n",
       "        text-align: right;\n",
       "    }\n",
       "</style>\n",
       "<table border=\"1\" class=\"dataframe\">\n",
       "  <thead>\n",
       "    <tr style=\"text-align: right;\">\n",
       "      <th></th>\n",
       "      <th>8. Το προσωπικό αισθάνεται ότι τα λάθη του μπορεί να χρησιμοποιηθούν εναντίον του.</th>\n",
       "      <th>12. Όταν δηλώνεται ένα δυσμενές συμβάν, υπάρχει η αίσθηση ότι καταγράφεται το άτομο και όχι το καθαυτό συμβάν.</th>\n",
       "      <th>16. Το προσωπικό ανησυχεί ότι τα λάθη του καταγράφονται στο προσωπικό του φάκελο.</th>\n",
       "    </tr>\n",
       "  </thead>\n",
       "  <tbody>\n",
       "    <tr>\n",
       "      <th>0</th>\n",
       "      <td>3</td>\n",
       "      <td>3.0</td>\n",
       "      <td>3</td>\n",
       "    </tr>\n",
       "    <tr>\n",
       "      <th>1</th>\n",
       "      <td>3</td>\n",
       "      <td>3.0</td>\n",
       "      <td>2</td>\n",
       "    </tr>\n",
       "    <tr>\n",
       "      <th>2</th>\n",
       "      <td>4</td>\n",
       "      <td>2.0</td>\n",
       "      <td>2</td>\n",
       "    </tr>\n",
       "    <tr>\n",
       "      <th>3</th>\n",
       "      <td>2</td>\n",
       "      <td>3.0</td>\n",
       "      <td>3</td>\n",
       "    </tr>\n",
       "    <tr>\n",
       "      <th>4</th>\n",
       "      <td>4</td>\n",
       "      <td>2.0</td>\n",
       "      <td>4</td>\n",
       "    </tr>\n",
       "    <tr>\n",
       "      <th>...</th>\n",
       "      <td>...</td>\n",
       "      <td>...</td>\n",
       "      <td>...</td>\n",
       "    </tr>\n",
       "    <tr>\n",
       "      <th>9</th>\n",
       "      <td>4</td>\n",
       "      <td>3.0</td>\n",
       "      <td>4</td>\n",
       "    </tr>\n",
       "    <tr>\n",
       "      <th>10</th>\n",
       "      <td>4</td>\n",
       "      <td>4.0</td>\n",
       "      <td>3</td>\n",
       "    </tr>\n",
       "    <tr>\n",
       "      <th>11</th>\n",
       "      <td>5</td>\n",
       "      <td>5.0</td>\n",
       "      <td>5</td>\n",
       "    </tr>\n",
       "    <tr>\n",
       "      <th>0</th>\n",
       "      <td>2</td>\n",
       "      <td>3.0</td>\n",
       "      <td>2</td>\n",
       "    </tr>\n",
       "    <tr>\n",
       "      <th>1</th>\n",
       "      <td>4</td>\n",
       "      <td>3.0</td>\n",
       "      <td>3</td>\n",
       "    </tr>\n",
       "  </tbody>\n",
       "</table>\n",
       "<p>103 rows × 3 columns</p>\n",
       "</div>"
      ],
      "text/plain": [
       "    8. Το προσωπικό αισθάνεται ότι τα λάθη του μπορεί να χρησιμοποιηθούν εναντίον του.   \\\n",
       "0                                                   3                                     \n",
       "1                                                   3                                     \n",
       "2                                                   4                                     \n",
       "3                                                   2                                     \n",
       "4                                                   4                                     \n",
       "..                                                ...                                     \n",
       "9                                                   4                                     \n",
       "10                                                  4                                     \n",
       "11                                                  5                                     \n",
       "0                                                   2                                     \n",
       "1                                                   4                                     \n",
       "\n",
       "    12. Όταν δηλώνεται ένα δυσμενές συμβάν, υπάρχει η αίσθηση ότι καταγράφεται το άτομο και όχι το καθαυτό συμβάν.  \\\n",
       "0                                                 3.0                                                                \n",
       "1                                                 3.0                                                                \n",
       "2                                                 2.0                                                                \n",
       "3                                                 3.0                                                                \n",
       "4                                                 2.0                                                                \n",
       "..                                                ...                                                                \n",
       "9                                                 3.0                                                                \n",
       "10                                                4.0                                                                \n",
       "11                                                5.0                                                                \n",
       "0                                                 3.0                                                                \n",
       "1                                                 3.0                                                                \n",
       "\n",
       "    16. Το προσωπικό ανησυχεί ότι τα λάθη του καταγράφονται στο προσωπικό του φάκελο.  \n",
       "0                                                   3                                  \n",
       "1                                                   2                                  \n",
       "2                                                   2                                  \n",
       "3                                                   3                                  \n",
       "4                                                   4                                  \n",
       "..                                                ...                                  \n",
       "9                                                   4                                  \n",
       "10                                                  3                                  \n",
       "11                                                  5                                  \n",
       "0                                                   2                                  \n",
       "1                                                   3                                  \n",
       "\n",
       "[103 rows x 3 columns]"
      ]
     },
     "execution_count": 21,
     "metadata": {},
     "output_type": "execute_result"
    }
   ],
   "source": [
    "parameter_5"
   ]
  },
  {
   "cell_type": "code",
   "execution_count": 22,
   "id": "0da32c87",
   "metadata": {},
   "outputs": [],
   "source": [
    "#reverse question a8 a12 a16\n",
    "#pd.options.mode.chained_assignment = None  # default='warn'\n",
    "#my_reverse(parameter_5, a12)\n",
    "#my_reverse(parameter_5, a12)\n",
    "#my_reverse(parameter_5, a16)"
   ]
  },
  {
   "cell_type": "code",
   "execution_count": 23,
   "id": "11d55979",
   "metadata": {},
   "outputs": [
    {
     "name": "stdout",
     "output_type": "stream",
     "text": [
      "Cronabachs alpha for parameter 1:  0.6166206065600939\n"
     ]
    }
   ],
   "source": [
    "#calculate cronabachs alpha\n",
    "ca = pg.cronbach_alpha(data=parameter_5)\n",
    "print(\"Cronabachs alpha for parameter 1: \",ca[0])"
   ]
  },
  {
   "cell_type": "markdown",
   "id": "e68817d0",
   "metadata": {},
   "source": [
    "#### Parameter of patient safety 6"
   ]
  },
  {
   "cell_type": "code",
   "execution_count": 24,
   "id": "b0ce7cde",
   "metadata": {},
   "outputs": [],
   "source": [
    "b1 = '1. Επιβραβεύει το προσωπικό με καλά λόγια όταν τηρούνται οι διαδικασίες ασφαλούς φροντίδας του ασθενούς.'\n",
    "b2 = '2. Λαμβάνει σοβαρά υπόψη του τις προτάσεις του προσωπικού για βελτίωση της ασφάλειας του ασθενούς.'\n",
    "b3 = '3. Παροτρύνει το προσωπικό να εργάζεται γρηγορότερα όταν υπάρχει υπερβολικός φόρτος εργασίας και πίεση, ακόμη και όταν παραβλέπονται σημαντικές διαδικασίες ασφάλειας του ασθενούς.'\n",
    "b4 = '4. Παραβλέπει επαναλαμβανόμενα προβλήματα ασφάλειας του ασθενούς.'\n",
    "\n",
    "parameter_6 = hospitals_questions[:][[b1,b2,b3,b4]]\n",
    "\n"
   ]
  },
  {
   "cell_type": "code",
   "execution_count": 25,
   "id": "6eab5d4b",
   "metadata": {},
   "outputs": [
    {
     "name": "stderr",
     "output_type": "stream",
     "text": [
      "/Users/stathis/opt/anaconda3/lib/python3.9/site-packages/pandas/core/indexing.py:1732: SettingWithCopyWarning: \n",
      "A value is trying to be set on a copy of a slice from a DataFrame\n",
      "\n",
      "See the caveats in the documentation: https://pandas.pydata.org/pandas-docs/stable/user_guide/indexing.html#returning-a-view-versus-a-copy\n",
      "  self._setitem_single_block(indexer, value, name)\n"
     ]
    }
   ],
   "source": [
    "#reverse question b3 b4\n",
    "parameter_6 = my_reverse(parameter_6, b3)\n",
    "parameter_6 = my_reverse(parameter_6, b4)\n",
    "\n"
   ]
  },
  {
   "cell_type": "code",
   "execution_count": 26,
   "id": "6981ee83",
   "metadata": {},
   "outputs": [
    {
     "name": "stdout",
     "output_type": "stream",
     "text": [
      "Cronabachs alpha for parameter 1:  0.7798695280142379\n"
     ]
    }
   ],
   "source": [
    "#calculate cronabachs alpha\n",
    "ca = pg.cronbach_alpha(data=parameter_6)\n",
    "print(\"Cronabachs alpha for parameter 1: \",ca[0])"
   ]
  },
  {
   "cell_type": "markdown",
   "id": "8fa73a00",
   "metadata": {},
   "source": [
    "#### Parameter of patient safety 7"
   ]
  },
  {
   "cell_type": "code",
   "execution_count": 27,
   "id": "ce48ce08",
   "metadata": {},
   "outputs": [
    {
     "data": {
      "text/html": [
       "<div>\n",
       "<style scoped>\n",
       "    .dataframe tbody tr th:only-of-type {\n",
       "        vertical-align: middle;\n",
       "    }\n",
       "\n",
       "    .dataframe tbody tr th {\n",
       "        vertical-align: top;\n",
       "    }\n",
       "\n",
       "    .dataframe thead th {\n",
       "        text-align: right;\n",
       "    }\n",
       "</style>\n",
       "<table border=\"1\" class=\"dataframe\">\n",
       "  <thead>\n",
       "    <tr style=\"text-align: right;\">\n",
       "      <th></th>\n",
       "      <th>2. Υπάρχει επαρκές προσωπικό για τη διεκπεραίωση της εργασίας.</th>\n",
       "      <th>5. Το προσωπικό εργάζεται περισσότερες ώρες από αυτές που διασφαλίζουν ασφαλή φροντίδα για τον ασθενή.</th>\n",
       "      <th>7. Αξιοποιείται περισσότερο προσωρινό προσωπικό από αυτό που διασφαλίζει την ασφαλή φροντίδα του ασθενούς.</th>\n",
       "      <th>14. Το προσωπικό εργάζεται σε «κατάσταση κρίσης» προσπαθώντας να κάνει πολλά πράγματα γρήγορα.</th>\n",
       "    </tr>\n",
       "  </thead>\n",
       "  <tbody>\n",
       "    <tr>\n",
       "      <th>0</th>\n",
       "      <td>3</td>\n",
       "      <td>3.0</td>\n",
       "      <td>3</td>\n",
       "      <td>3</td>\n",
       "    </tr>\n",
       "    <tr>\n",
       "      <th>1</th>\n",
       "      <td>2</td>\n",
       "      <td>3.0</td>\n",
       "      <td>2</td>\n",
       "      <td>2</td>\n",
       "    </tr>\n",
       "    <tr>\n",
       "      <th>2</th>\n",
       "      <td>3</td>\n",
       "      <td>4.0</td>\n",
       "      <td>4</td>\n",
       "      <td>4</td>\n",
       "    </tr>\n",
       "    <tr>\n",
       "      <th>3</th>\n",
       "      <td>2</td>\n",
       "      <td>3.0</td>\n",
       "      <td>3</td>\n",
       "      <td>3</td>\n",
       "    </tr>\n",
       "    <tr>\n",
       "      <th>4</th>\n",
       "      <td>2</td>\n",
       "      <td>3.0</td>\n",
       "      <td>1</td>\n",
       "      <td>5</td>\n",
       "    </tr>\n",
       "  </tbody>\n",
       "</table>\n",
       "</div>"
      ],
      "text/plain": [
       "   2. Υπάρχει επαρκές προσωπικό για τη διεκπεραίωση της εργασίας.  \\\n",
       "0                                                  3                \n",
       "1                                                  2                \n",
       "2                                                  3                \n",
       "3                                                  2                \n",
       "4                                                  2                \n",
       "\n",
       "   5. Το προσωπικό εργάζεται περισσότερες ώρες από αυτές που διασφαλίζουν ασφαλή φροντίδα για τον ασθενή.  \\\n",
       "0                                                3.0                                                        \n",
       "1                                                3.0                                                        \n",
       "2                                                4.0                                                        \n",
       "3                                                3.0                                                        \n",
       "4                                                3.0                                                        \n",
       "\n",
       "   7. Αξιοποιείται περισσότερο προσωρινό προσωπικό από αυτό που διασφαλίζει την ασφαλή φροντίδα του ασθενούς.  \\\n",
       "0                                                  3                                                            \n",
       "1                                                  2                                                            \n",
       "2                                                  4                                                            \n",
       "3                                                  3                                                            \n",
       "4                                                  1                                                            \n",
       "\n",
       "   14. Το προσωπικό εργάζεται σε «κατάσταση κρίσης» προσπαθώντας να κάνει πολλά πράγματα γρήγορα.  \n",
       "0                                                  3                                               \n",
       "1                                                  2                                               \n",
       "2                                                  4                                               \n",
       "3                                                  3                                               \n",
       "4                                                  5                                               "
      ]
     },
     "execution_count": 27,
     "metadata": {},
     "output_type": "execute_result"
    }
   ],
   "source": [
    "a2 = '2. Υπάρχει επαρκές προσωπικό για τη διεκπεραίωση της εργασίας.'\n",
    "a5 = '5. Το προσωπικό εργάζεται περισσότερες ώρες από αυτές που διασφαλίζουν ασφαλή φροντίδα για τον ασθενή.'\n",
    "a7 = '7. Αξιοποιείται περισσότερο προσωρινό προσωπικό από αυτό που διασφαλίζει την ασφαλή φροντίδα του ασθενούς.'\n",
    "a14 = '14. Το προσωπικό εργάζεται σε «κατάσταση κρίσης» προσπαθώντας να κάνει πολλά πράγματα γρήγορα.'\n",
    "\n",
    "parameter_7 = hospitals_questions[:][[a2,a5,a7,a14]]\n",
    "parameter_7.head()"
   ]
  },
  {
   "cell_type": "code",
   "execution_count": 28,
   "id": "ff1d121e",
   "metadata": {},
   "outputs": [
    {
     "name": "stderr",
     "output_type": "stream",
     "text": [
      "/Users/stathis/opt/anaconda3/lib/python3.9/site-packages/pandas/core/indexing.py:1732: SettingWithCopyWarning: \n",
      "A value is trying to be set on a copy of a slice from a DataFrame\n",
      "\n",
      "See the caveats in the documentation: https://pandas.pydata.org/pandas-docs/stable/user_guide/indexing.html#returning-a-view-versus-a-copy\n",
      "  self._setitem_single_block(indexer, value, name)\n"
     ]
    }
   ],
   "source": [
    "#reverse question a5 a7 a14\n",
    "parameter_7 = my_reverse(parameter_7,a5)\n",
    "parameter_7 = my_reverse(parameter_7,a7)\n",
    "parameter_7 = my_reverse(parameter_7,a14)\n",
    "\n",
    "\n"
   ]
  },
  {
   "cell_type": "code",
   "execution_count": 29,
   "id": "000c6f85",
   "metadata": {},
   "outputs": [
    {
     "name": "stdout",
     "output_type": "stream",
     "text": [
      "Cronabachs alpha for parameter 1:  0.5449498614191258\n"
     ]
    }
   ],
   "source": [
    "#calculate cronabachs alpha\n",
    "ca = pg.cronbach_alpha(data=parameter_7)\n",
    "print(\"Cronabachs alpha for parameter 1: \",ca[0])"
   ]
  },
  {
   "cell_type": "markdown",
   "id": "2ad48799",
   "metadata": {},
   "source": [
    "#### Parameter of patient safety 8"
   ]
  },
  {
   "cell_type": "code",
   "execution_count": 30,
   "id": "75f8b2b3",
   "metadata": {},
   "outputs": [],
   "source": [
    "st1 = '1. Η Διοίκηση εξασφαλίζει εργασιακό κλίμα που προάγει την ασφάλεια του ασθενούς .'\n",
    "st8 = '8. Η ασφάλεια του ασθενούς αποτελεί κύρια προτεραιότητα για την Διοίκηση.'\n",
    "st9 = '9. Η Διοίκηση δείχνει να ενδιαφέρεται για την ασφάλεια του ασθενούς μόνο μετά από την αναφορά κάποιου δυσμενούς συμβάντος.'\n",
    "\n",
    "parameter_8 = hospitals_questions[:][[st1,st8,st9]]"
   ]
  },
  {
   "cell_type": "code",
   "execution_count": 31,
   "id": "87b69d13",
   "metadata": {},
   "outputs": [],
   "source": [
    "#reverse question st9\n",
    "parameter_8 = my_reverse(parameter_8,st9)\n",
    "\n",
    "\n"
   ]
  },
  {
   "cell_type": "code",
   "execution_count": 32,
   "id": "7b441406",
   "metadata": {},
   "outputs": [
    {
     "name": "stdout",
     "output_type": "stream",
     "text": [
      "Cronabachs alpha for parameter 1:  0.7144048962711684\n"
     ]
    }
   ],
   "source": [
    "#calculate cronabachs alpha\n",
    "ca = pg.cronbach_alpha(data=parameter_8)\n",
    "print(\"Cronabachs alpha for parameter 1: \",ca[0])"
   ]
  },
  {
   "cell_type": "markdown",
   "id": "6f6a5966",
   "metadata": {},
   "source": [
    "#### Eleftheroi paramteroi"
   ]
  },
  {
   "cell_type": "code",
   "execution_count": 33,
   "id": "889106d0",
   "metadata": {},
   "outputs": [],
   "source": [
    "z = 'Τους τελευταίους 12 μήνες πόσα δυσμενή συμβάντα έχετε αναφέρει; (Αναφέρετε έναν αριθμό)'\n",
    "parameter_14 = hospitals_questions[:][[z]]"
   ]
  },
  {
   "cell_type": "code",
   "execution_count": 61,
   "id": "2f261851",
   "metadata": {},
   "outputs": [
    {
     "name": "stdout",
     "output_type": "stream",
     "text": [
      "   Τους τελευταίους 12 μήνες πόσα δυσμενή συμβάντα έχετε αναφέρει; (Αναφέρετε έναν αριθμό)\n",
      "0                                                   4                                     \n",
      "2                                                  10                                     \n",
      "4                                                   2                                     \n",
      "6                                                   6                                     \n",
      "12                                                  2                                     \n",
      "13                                       ΟΠΩΣΔΗΠΟΤΕ 2                                     \n",
      "14                                                  2                                     \n",
      "15                                                  3                                     \n",
      "0                                                  10                                     \n",
      "1                                              ΚΑΝΕΝΑ                                     \n",
      "2                                              ΚΑΝΕΝΑ                                     \n",
      "3                                                   1                                     \n",
      "4                                                   0                                     \n",
      "5                                                   2                                     \n",
      "6                                              KANENA                                     \n",
      "7                                                   1                                     \n",
      "8                                                   0                                     \n",
      "9                                                   3                                     \n",
      "10                                                  0                                     \n",
      "11                                                  1                                     \n",
      "13                                                  0                                     \n",
      "15                                       Δεν γνωριζω.                                     \n",
      "16                                                 50                                     \n",
      "0                                                   2                                     \n",
      "1                                                   2                                     \n",
      "3                                                   2                                     \n",
      "4                                                   0                                     \n",
      "7                                                   2                                     \n",
      "8                                              Κανενα                                     \n",
      "9                                                   3                                     \n",
      "10                                              Τρία                                      \n",
      "11                                                  5                                     \n",
      "12                           Ισως 3 με 4 (οχι σοβαρα)                                     \n",
      "13                                                  3                                     \n",
      "14                                                  2                                     \n",
      "15                                                  3                                     \n",
      "17                                                 10                                     \n",
      "18                                                  3                                     \n",
      "19                                        Δεν απαντώ                                      \n",
      "20                                                  6                                     \n",
      "23                                             Κανενα                                     \n",
      "24                                                  4                                     \n",
      "25                                                  0                                     \n",
      "26                                                Ενα                                     \n",
      "27                                                  0                                     \n",
      "28                                                  0                                     \n",
      "29                                                  1                                     \n",
      "30                                                4-5                                     \n",
      "31                                            Κανένα                                      \n",
      "34                                                  6                                     \n",
      "36                                                  1                                     \n",
      "37                                                  0                                     \n",
      "39                                                  2                                     \n",
      "40                                                  0                                     \n",
      "41                                                  0                                     \n",
      "42                                                  2                                     \n",
      "43                                                ΟΧΙ                                     \n",
      "44                                                  1                                     \n",
      "45                                                  2                                     \n",
      "46                                                  0                                     \n",
      "47                                                  0                                     \n",
      "48                                                  1                                     \n",
      "49                                              Μηδέν                                     \n",
      "50                                                  2                                     \n",
      "51                                                  0                                     \n",
      "52                                                  0                                     \n",
      "53                                                  2                                     \n",
      "54                                                  0                                     \n",
      "55                                                  0                                     \n",
      "0                                               ΠΕΝΤΕ                                     \n",
      "1                                                   3                                     \n",
      "2                                              Κανενα                                     \n",
      "3                                                   0                                     \n",
      "5                                                   1                                     \n",
      "6                                                   3                                     \n",
      "7                                                7-10                                     \n",
      "9                                                   0                                     \n",
      "10                                                  4                                     \n",
      "11                                                 40                                     \n",
      "0                                                   6                                     \n",
      "1                                                   3                                     \n"
     ]
    }
   ],
   "source": [
    "import numpy as np\n",
    "\n",
    "\n",
    "pd.set_option('display.max_rows', None)\n",
    "parameter_14 = parameter_14.dropna()\n",
    "\n",
    "print(parameter_14)\n",
    "\n",
    "#for i in range(len(parameter_14)):\n",
    " #   print(parameter_14.loc[i,z])\n",
    "\n",
    "\n",
    "\n"
   ]
  },
  {
   "cell_type": "code",
   "execution_count": 35,
   "id": "84873ac1",
   "metadata": {},
   "outputs": [],
   "source": [
    "e = 'Παρακαλώ αξιολογήστε το επίπεδο ασφάλειας των ασθενών συνολικά στο Εργασιακό Περιβάλλον/Μονάδα σας επιλέγοντας με √ την απάντηση που σας εκφράζει.'\n",
    "\n",
    "parameter_13 = hospitals_questions[:][[e]]\n",
    "\n",
    "parameter_13 = parameter_13.dropna()\n",
    "#print(parameter_13.shape)\n",
    "\n",
    "#print(parameter_13)\n",
    "\n"
   ]
  },
  {
   "cell_type": "code",
   "execution_count": 65,
   "id": "48a32371",
   "metadata": {},
   "outputs": [
    {
     "name": "stdout",
     "output_type": "stream",
     "text": [
      "0   Παρακαλώ αξιολογήστε το επίπεδο ασφάλειας των ασθενών συνολικά στο Εργασιακό Περιβάλλον/Μονάδα σας επιλέγοντας με √ την απάντηση που σας εκφράζει.\n"
     ]
    }
   ],
   "source": [
    "for index, item in enumerate(parameter_13, start=0):  \n",
    "    print(index,\" \", item)"
   ]
  },
  {
   "cell_type": "code",
   "execution_count": null,
   "id": "d5862816",
   "metadata": {},
   "outputs": [],
   "source": []
  },
  {
   "cell_type": "code",
   "execution_count": null,
   "id": "a5c03a43",
   "metadata": {},
   "outputs": [],
   "source": []
  }
 ],
 "metadata": {
  "celltoolbar": "Raw Cell Format",
  "kernelspec": {
   "display_name": "Python 3 (ipykernel)",
   "language": "python",
   "name": "python3"
  },
  "language_info": {
   "codemirror_mode": {
    "name": "ipython",
    "version": 3
   },
   "file_extension": ".py",
   "mimetype": "text/x-python",
   "name": "python",
   "nbconvert_exporter": "python",
   "pygments_lexer": "ipython3",
   "version": "3.9.7"
  }
 },
 "nbformat": 4,
 "nbformat_minor": 5
}
