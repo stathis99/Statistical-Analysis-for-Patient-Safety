{
 "cells": [
  {
   "cell_type": "code",
   "execution_count": 63,
   "id": "90313e37",
   "metadata": {},
   "outputs": [],
   "source": [
    "# Libraries\n",
    "import pandas as pd\n",
    "import pingouin as pg\n",
    "import matplotlib.pyplot as plt\n",
    "import seaborn as sns\n",
    "\n",
    "import statsmodels.api as sm\n",
    "from statsmodels.formula.api import ols\n",
    "\n",
    "from scipy.stats.stats import pearsonr\n",
    "from scipy import stats\n",
    "from scipy.stats import f_oneway\n",
    "\n",
    "\n",
    "\n",
    "pd.set_option('display.max_rows', None)"
   ]
  },
  {
   "cell_type": "code",
   "execution_count": 64,
   "id": "48378195",
   "metadata": {},
   "outputs": [],
   "source": [
    "%store -r open_communication\n",
    "\n",
    "%store -r hospitals_personalInfo"
   ]
  },
  {
   "cell_type": "code",
   "execution_count": 65,
   "id": "f9045208",
   "metadata": {},
   "outputs": [],
   "source": [
    "#parameter_1\n",
    "my_parameter = open_communication"
   ]
  },
  {
   "cell_type": "code",
   "execution_count": 66,
   "id": "7c35e898",
   "metadata": {},
   "outputs": [
    {
     "data": {
      "text/html": [
       "<div>\n",
       "<style scoped>\n",
       "    .dataframe tbody tr th:only-of-type {\n",
       "        vertical-align: middle;\n",
       "    }\n",
       "\n",
       "    .dataframe tbody tr th {\n",
       "        vertical-align: top;\n",
       "    }\n",
       "\n",
       "    .dataframe thead th {\n",
       "        text-align: right;\n",
       "    }\n",
       "</style>\n",
       "<table border=\"1\" class=\"dataframe\">\n",
       "  <thead>\n",
       "    <tr style=\"text-align: right;\">\n",
       "      <th></th>\n",
       "      <th>4. Το προσωπικό μπορεί ελεύθερα να αμφισβητήσει τις αποφάσεις ή τις ενέργειες των ανωτέρων του.</th>\n",
       "      <th>2. Το προσωπικό μιλάει ελεύθερα όταν διαπιστώσει κάτι που επιδρά αρνητικά στη φροντίδα υγείας του ασθενούς.</th>\n",
       "      <th>6. Το προσωπικό φοβάται να ρωτήσει, όταν κάτι δεν φαίνεται σωστό.</th>\n",
       "    </tr>\n",
       "  </thead>\n",
       "  <tbody>\n",
       "    <tr>\n",
       "      <th>1.0</th>\n",
       "      <td>0.140496</td>\n",
       "      <td>0.037190</td>\n",
       "      <td>0.033058</td>\n",
       "    </tr>\n",
       "    <tr>\n",
       "      <th>2.0</th>\n",
       "      <td>0.297521</td>\n",
       "      <td>0.082645</td>\n",
       "      <td>0.152893</td>\n",
       "    </tr>\n",
       "    <tr>\n",
       "      <th>3.0</th>\n",
       "      <td>0.305785</td>\n",
       "      <td>0.198347</td>\n",
       "      <td>0.231405</td>\n",
       "    </tr>\n",
       "    <tr>\n",
       "      <th>4.0</th>\n",
       "      <td>0.181818</td>\n",
       "      <td>0.392562</td>\n",
       "      <td>0.289256</td>\n",
       "    </tr>\n",
       "    <tr>\n",
       "      <th>5.0</th>\n",
       "      <td>0.074380</td>\n",
       "      <td>0.289256</td>\n",
       "      <td>0.293388</td>\n",
       "    </tr>\n",
       "  </tbody>\n",
       "</table>\n",
       "</div>"
      ],
      "text/plain": [
       "     4. Το προσωπικό μπορεί ελεύθερα να αμφισβητήσει τις αποφάσεις ή τις ενέργειες των ανωτέρων του.  \\\n",
       "1.0                                           0.140496                                                 \n",
       "2.0                                           0.297521                                                 \n",
       "3.0                                           0.305785                                                 \n",
       "4.0                                           0.181818                                                 \n",
       "5.0                                           0.074380                                                 \n",
       "\n",
       "     2. Το προσωπικό μιλάει ελεύθερα όταν διαπιστώσει κάτι που επιδρά αρνητικά στη φροντίδα υγείας του ασθενούς.  \\\n",
       "1.0                                           0.037190                                                             \n",
       "2.0                                           0.082645                                                             \n",
       "3.0                                           0.198347                                                             \n",
       "4.0                                           0.392562                                                             \n",
       "5.0                                           0.289256                                                             \n",
       "\n",
       "     6. Το προσωπικό φοβάται να ρωτήσει, όταν κάτι δεν φαίνεται σωστό.  \n",
       "1.0                                           0.033058                  \n",
       "2.0                                           0.152893                  \n",
       "3.0                                           0.231405                  \n",
       "4.0                                           0.289256                  \n",
       "5.0                                           0.293388                  "
      ]
     },
     "execution_count": 66,
     "metadata": {},
     "output_type": "execute_result"
    }
   ],
   "source": [
    "# Relative frequences for answers of every question\n",
    "\n",
    "relative_frequencies = my_parameter.apply(lambda x: x.value_counts(normalize=True))\n",
    "relative_frequencies"
   ]
  },
  {
   "cell_type": "code",
   "execution_count": 67,
   "id": "13bde5e7",
   "metadata": {},
   "outputs": [
    {
     "name": "stderr",
     "output_type": "stream",
     "text": [
      "/var/folders/q9/jvtr2p8s6sn6wt933mh1tyfm0000gn/T/ipykernel_48409/2184165003.py:23: UserWarning: FixedFormatter should only be used together with FixedLocator\n",
      "  ax.set_yticklabels(['{:,.0%}'.format(x) for x in vals])\n"
     ]
    },
    {
     "data": {
      "image/png": "[encoded data removed]",
      "text/plain": [
       "<Figure size 288x288 with 1 Axes>"
      ]
     },
     "metadata": {
      "needs_background": "light"
     },
     "output_type": "display_data"
    }
   ],
   "source": [
    "relative_frequencies_sum = relative_frequencies.sum(axis=1)/3\n",
    "height = relative_frequencies_sum\n",
    "\n",
    "bars = ('1', '2', '3', '4', '5')\n",
    "\n",
    "\n",
    "# Figure Size\n",
    "fig, ax= plt.subplots(figsize =(4, 4))\n",
    "\n",
    "\n",
    "# Horizontal Bar Plot\n",
    "ax.bar(bars, height,color=(0.0, 0.4, 0.6, 0.6))\n",
    "# Add x, y gridlines\n",
    "ax.grid(b = True, color ='grey',\n",
    "        linestyle ='-.', linewidth = 0.9,\n",
    "        alpha = 0.2)\n",
    "\n",
    "    # Add padding between axes and labels\n",
    "ax.xaxis.set_tick_params(pad = 10)\n",
    "ax.yaxis.set_tick_params(pad = 2)\n",
    "\n",
    "vals = ax.get_yticks()\n",
    "ax.set_yticklabels(['{:,.0%}'.format(x) for x in vals])\n",
    "\n",
    "plt.savefig('distribution.png')\n",
    "\n",
    "plt.show()"
   ]
  },
  {
   "cell_type": "code",
   "execution_count": 68,
   "id": "c1e8b94b",
   "metadata": {},
   "outputs": [
    {
     "data": {
      "text/plain": [
       "1.0    0.070248\n",
       "2.0    0.177686\n",
       "3.0    0.245179\n",
       "4.0    0.287879\n",
       "5.0    0.219008\n",
       "dtype: float64"
      ]
     },
     "execution_count": 68,
     "metadata": {},
     "output_type": "execute_result"
    }
   ],
   "source": [
    "height"
   ]
  },
  {
   "cell_type": "code",
   "execution_count": 69,
   "id": "a89d8d09",
   "metadata": {},
   "outputs": [
    {
     "data": {
      "text/html": [
       "<div>\n",
       "<style scoped>\n",
       "    .dataframe tbody tr th:only-of-type {\n",
       "        vertical-align: middle;\n",
       "    }\n",
       "\n",
       "    .dataframe tbody tr th {\n",
       "        vertical-align: top;\n",
       "    }\n",
       "\n",
       "    .dataframe thead th {\n",
       "        text-align: right;\n",
       "    }\n",
       "</style>\n",
       "<table border=\"1\" class=\"dataframe\">\n",
       "  <thead>\n",
       "    <tr style=\"text-align: right;\">\n",
       "      <th></th>\n",
       "      <th>4. Το προσωπικό μπορεί ελεύθερα να αμφισβητήσει τις αποφάσεις ή τις ενέργειες των ανωτέρων του.</th>\n",
       "      <th>2. Το προσωπικό μιλάει ελεύθερα όταν διαπιστώσει κάτι που επιδρά αρνητικά στη φροντίδα υγείας του ασθενούς.</th>\n",
       "      <th>6. Το προσωπικό φοβάται να ρωτήσει, όταν κάτι δεν φαίνεται σωστό.</th>\n",
       "    </tr>\n",
       "  </thead>\n",
       "  <tbody>\n",
       "    <tr>\n",
       "      <th>count</th>\n",
       "      <td>242.000000</td>\n",
       "      <td>242.000000</td>\n",
       "      <td>242.000000</td>\n",
       "    </tr>\n",
       "    <tr>\n",
       "      <th>mean</th>\n",
       "      <td>2.752066</td>\n",
       "      <td>3.814050</td>\n",
       "      <td>3.657025</td>\n",
       "    </tr>\n",
       "    <tr>\n",
       "      <th>std</th>\n",
       "      <td>1.132551</td>\n",
       "      <td>1.059696</td>\n",
       "      <td>1.149658</td>\n",
       "    </tr>\n",
       "    <tr>\n",
       "      <th>min</th>\n",
       "      <td>1.000000</td>\n",
       "      <td>1.000000</td>\n",
       "      <td>1.000000</td>\n",
       "    </tr>\n",
       "    <tr>\n",
       "      <th>25%</th>\n",
       "      <td>2.000000</td>\n",
       "      <td>3.000000</td>\n",
       "      <td>3.000000</td>\n",
       "    </tr>\n",
       "    <tr>\n",
       "      <th>50%</th>\n",
       "      <td>3.000000</td>\n",
       "      <td>4.000000</td>\n",
       "      <td>4.000000</td>\n",
       "    </tr>\n",
       "    <tr>\n",
       "      <th>75%</th>\n",
       "      <td>4.000000</td>\n",
       "      <td>5.000000</td>\n",
       "      <td>5.000000</td>\n",
       "    </tr>\n",
       "    <tr>\n",
       "      <th>max</th>\n",
       "      <td>5.000000</td>\n",
       "      <td>5.000000</td>\n",
       "      <td>5.000000</td>\n",
       "    </tr>\n",
       "  </tbody>\n",
       "</table>\n",
       "</div>"
      ],
      "text/plain": [
       "       4. Το προσωπικό μπορεί ελεύθερα να αμφισβητήσει τις αποφάσεις ή τις ενέργειες των ανωτέρων του.  \\\n",
       "count                                         242.000000                                                 \n",
       "mean                                            2.752066                                                 \n",
       "std                                             1.132551                                                 \n",
       "min                                             1.000000                                                 \n",
       "25%                                             2.000000                                                 \n",
       "50%                                             3.000000                                                 \n",
       "75%                                             4.000000                                                 \n",
       "max                                             5.000000                                                 \n",
       "\n",
       "       2. Το προσωπικό μιλάει ελεύθερα όταν διαπιστώσει κάτι που επιδρά αρνητικά στη φροντίδα υγείας του ασθενούς.  \\\n",
       "count                                         242.000000                                                             \n",
       "mean                                            3.814050                                                             \n",
       "std                                             1.059696                                                             \n",
       "min                                             1.000000                                                             \n",
       "25%                                             3.000000                                                             \n",
       "50%                                             4.000000                                                             \n",
       "75%                                             5.000000                                                             \n",
       "max                                             5.000000                                                             \n",
       "\n",
       "       6. Το προσωπικό φοβάται να ρωτήσει, όταν κάτι δεν φαίνεται σωστό.  \n",
       "count                                         242.000000                  \n",
       "mean                                            3.657025                  \n",
       "std                                             1.149658                  \n",
       "min                                             1.000000                  \n",
       "25%                                             3.000000                  \n",
       "50%                                             4.000000                  \n",
       "75%                                             5.000000                  \n",
       "max                                             5.000000                  "
      ]
     },
     "execution_count": 69,
     "metadata": {},
     "output_type": "execute_result"
    }
   ],
   "source": [
    "my_parameter.describe()"
   ]
  },
  {
   "cell_type": "markdown",
   "id": "5bcd89a1",
   "metadata": {},
   "source": [
    "# Correlation Analysis"
   ]
  },
  {
   "cell_type": "code",
   "execution_count": 70,
   "id": "802d82c3",
   "metadata": {},
   "outputs": [],
   "source": [
    "# individual score to parameter \n",
    "\n",
    "parameter = my_parameter\n",
    "\n",
    "individualScore = parameter.sum(axis=1)/3\n"
   ]
  },
  {
   "cell_type": "code",
   "execution_count": 71,
   "id": "898d3566",
   "metadata": {},
   "outputs": [
    {
     "data": {
      "text/plain": [
       "count    244.000000\n",
       "mean       3.379781\n",
       "std        0.917059\n",
       "min        0.000000\n",
       "25%        2.666667\n",
       "50%        3.333333\n",
       "75%        4.000000\n",
       "max        5.000000\n",
       "dtype: float64"
      ]
     },
     "execution_count": 71,
     "metadata": {},
     "output_type": "execute_result"
    }
   ],
   "source": [
    "individualScore.describe()"
   ]
  },
  {
   "cell_type": "markdown",
   "id": "a31b6d10",
   "metadata": {},
   "source": [
    "### Gender correlation"
   ]
  },
  {
   "cell_type": "code",
   "execution_count": 72,
   "id": "bf66fb9a",
   "metadata": {},
   "outputs": [],
   "source": [
    "gender = hospitals_personalInfo['1. Φύλο: ']"
   ]
  },
  {
   "cell_type": "code",
   "execution_count": 73,
   "id": "7a5d0efc",
   "metadata": {},
   "outputs": [],
   "source": [
    "# create a frame with gender and score\n",
    "gender = pd.concat([gender,individualScore],axis=1)\n",
    "\n",
    "gender = gender.dropna()\n",
    "\n",
    "gender.columns = ['Gender','Score']\n",
    "\n",
    "male = []\n",
    "female = []\n",
    "\n",
    "\n",
    "#create table for every category\n",
    "for index, row in gender.iterrows(): \n",
    "    if row['Gender'] == 'Γυναίκα':\n",
    "        female.append(row['Score'])\n",
    "    else:\n",
    "        male.append(row['Score'])\n",
    "        "
   ]
  },
  {
   "cell_type": "code",
   "execution_count": 74,
   "id": "0c1fd138",
   "metadata": {},
   "outputs": [
    {
     "name": "stdout",
     "output_type": "stream",
     "text": [
      "avg male = 3.1173708920187795 var male = 0.7233132755846503 avg female = 3.52465483234714 var female = 0.7017261300374636\n"
     ]
    }
   ],
   "source": [
    "from statistics import mean, pvariance\n",
    "avg1 = mean(male)\n",
    "var1 = pvariance(male)\n",
    "avg2 = mean(female)\n",
    "var2 = pvariance(female)\n",
    "\n",
    "print(\"avg male =\", avg1,\"var male =\",var1,\"avg female =\", avg2,\"var female =\",var2 )"
   ]
  },
  {
   "cell_type": "code",
   "execution_count": 75,
   "id": "33020013",
   "metadata": {
    "scrolled": true
   },
   "outputs": [
    {
     "name": "stdout",
     "output_type": "stream",
     "text": [
      "P-Value:0.0009551985596903161 T-Statistic:3.3811447085610924\n"
     ]
    }
   ],
   "source": [
    "tStat, pValue = stats.ttest_ind(female, male, equal_var = False) #run independent sample T-Test\n",
    "print(\"P-Value:{0} T-Statistic:{1}\".format(pValue,tStat)) #print the"
   ]
  },
  {
   "cell_type": "code",
   "execution_count": 76,
   "id": "17da153d",
   "metadata": {},
   "outputs": [],
   "source": [
    "#create table for every category\n",
    "\n",
    "# for index, row in gender.iterrows(): \n",
    "#     if row['Gender'] == 'Γυναίκα':\n",
    "#         gender[\"Gender\"].loc[index] = 0\n",
    "#     elif row['Gender'] == 'Άνδρας':\n",
    "#         gender[\"Gender\"].loc[index] = 1\n",
    "\n",
    "    "
   ]
  },
  {
   "cell_type": "markdown",
   "id": "dd3b3193",
   "metadata": {},
   "source": [
    "### Age Correlation"
   ]
  },
  {
   "cell_type": "code",
   "execution_count": 77,
   "id": "8e76b708",
   "metadata": {},
   "outputs": [],
   "source": [
    "age = hospitals_personalInfo['2. Ηλικία…']"
   ]
  },
  {
   "cell_type": "code",
   "execution_count": 78,
   "id": "a9299146",
   "metadata": {},
   "outputs": [],
   "source": [
    "# create a frame with age and score\n",
    "age = pd.concat([age,individualScore],axis=1)\n",
    "age.columns = ['Age','Score']\n",
    "age = age.dropna()"
   ]
  },
  {
   "cell_type": "code",
   "execution_count": 79,
   "id": "d5523f7a",
   "metadata": {},
   "outputs": [],
   "source": [
    "# remove outliers\n",
    "q = age['Age'].quantile(0.99)\n",
    "age = age[age['Age'] < q]"
   ]
  },
  {
   "cell_type": "code",
   "execution_count": 80,
   "id": "4c5f939f",
   "metadata": {},
   "outputs": [
    {
     "name": "stdout",
     "output_type": "stream",
     "text": [
      "(corr,p-val) = (0.09308787306832242, 0.15939393536372984)\n"
     ]
    }
   ],
   "source": [
    "\n",
    "x = age['Age']\n",
    "y = age['Score']\n",
    "#calculation correlation coefficient and p-value between x and y\n",
    "print(\"(corr,p-val) =\",pearsonr(x, y))\n",
    "\n"
   ]
  },
  {
   "cell_type": "code",
   "execution_count": 81,
   "id": "651ea68f",
   "metadata": {},
   "outputs": [
    {
     "data": {
      "image/png": "[encoded data removed]",
      "text/plain": [
       "<Figure size 432x288 with 1 Axes>"
      ]
     },
     "metadata": {
      "needs_background": "light"
     },
     "output_type": "display_data"
    }
   ],
   "source": [
    "plt.plot(x, y, '.')\n",
    "plt.title(\"age-scre correlation\")\n",
    "plt.xlabel(\"age\",fontweight=\"bold\", fontsize=\"15\")\n",
    "plt.ylabel(\"score\",fontweight=\"bold\", fontsize=\"15\")\n",
    "\n",
    "plt.show()"
   ]
  },
  {
   "cell_type": "markdown",
   "id": "a7ba3b88",
   "metadata": {},
   "source": [
    "### Proffesion correlation"
   ]
  },
  {
   "cell_type": "code",
   "execution_count": 82,
   "id": "fa76e1f0",
   "metadata": {},
   "outputs": [],
   "source": [
    "profession = hospitals_personalInfo['10. Τι θέση κατέχετε στο νοσοκομείο που εργάζεστε;']\n",
    "\n",
    "profession= pd.concat([profession,individualScore],axis=1)\n",
    "\n",
    "profession.columns = ['Profession','Score']\n",
    "\n",
    "profession = profession.dropna()"
   ]
  },
  {
   "cell_type": "code",
   "execution_count": 83,
   "id": "4ba78ffd",
   "metadata": {},
   "outputs": [
    {
     "name": "stdout",
     "output_type": "stream",
     "text": [
      "Mean\n"
     ]
    },
    {
     "data": {
      "text/plain": [
       "Profession\n",
       "1. Ειδικευόμενος ιατρός    3.098765\n",
       "2. Ειδικός ιατρός          3.122807\n",
       "3. ΠΕ Νοσηλευτής           3.411765\n",
       "4. ΤΕ Νοσηλευτής           3.544776\n",
       "5. ΔΕ Βοηθός Νοσηλευτή     3.666667\n",
       "Name: Score, dtype: float64"
      ]
     },
     "execution_count": 83,
     "metadata": {},
     "output_type": "execute_result"
    }
   ],
   "source": [
    "print(\"Mean\")\n",
    "profession.groupby('Profession')['Score'].mean()"
   ]
  },
  {
   "cell_type": "code",
   "execution_count": 84,
   "id": "8fa67e69",
   "metadata": {},
   "outputs": [
    {
     "name": "stdout",
     "output_type": "stream",
     "text": [
      "Variance\n"
     ]
    },
    {
     "data": {
      "text/plain": [
       "Profession\n",
       "1. Ειδικευόμενος ιατρός    0.665084\n",
       "2. Ειδικός ιατρός          0.705232\n",
       "3. ΠΕ Νοσηλευτής           0.535131\n",
       "4. ΤΕ Νοσηλευτής           0.722709\n",
       "5. ΔΕ Βοηθός Νοσηλευτή     0.819444\n",
       "Name: Score, dtype: float64"
      ]
     },
     "execution_count": 84,
     "metadata": {},
     "output_type": "execute_result"
    }
   ],
   "source": [
    "print(\"Variance\")\n",
    "profession.groupby('Profession')['Score'].var()"
   ]
  },
  {
   "cell_type": "code",
   "execution_count": 85,
   "id": "a7747b8a",
   "metadata": {},
   "outputs": [],
   "source": [
    "eidikevomenos_iatros = []\n",
    "eidikos_iatros = []\n",
    "pe_nosileftis = []\n",
    "te_nosileftis = []\n",
    "de_voithos_nosilefti = []\n",
    "\n",
    "#create table for every category of profession\n",
    "for index, row in profession.iterrows(): \n",
    "    if row['Profession'] == '1. Ειδικευόμενος ιατρός':\n",
    "        eidikevomenos_iatros.append(row['Score'])\n",
    "    elif row['Profession'] == '2. Ειδικός ιατρός':\n",
    "        eidikos_iatros.append(row['Score'])\n",
    "    elif row['Profession'] == '3. ΠΕ Νοσηλευτής':\n",
    "        pe_nosileftis.append(row['Score'])\n",
    "    elif row['Profession'] == '4. ΤΕ Νοσηλευτής':\n",
    "        te_nosileftis.append(row['Score'])\n",
    "    else:\n",
    "        de_voithos_nosilefti.append(row['Score'])\n",
    "        \n"
   ]
  },
  {
   "cell_type": "code",
   "execution_count": 86,
   "id": "3e95c52a",
   "metadata": {},
   "outputs": [
    {
     "data": {
      "text/plain": [
       "F_onewayResult(statistic=3.275252005107076, pvalue=0.012327865349798937)"
      ]
     },
     "execution_count": 86,
     "metadata": {},
     "output_type": "execute_result"
    }
   ],
   "source": [
    "f_oneway(eidikevomenos_iatros, eidikos_iatros, pe_nosileftis,te_nosileftis,de_voithos_nosilefti)"
   ]
  },
  {
   "cell_type": "code",
   "execution_count": 87,
   "id": "d774d968",
   "metadata": {},
   "outputs": [
    {
     "data": {
      "image/png": "[encoded data removed]",
      "text/plain": [
       "<Figure size 432x288 with 1 Axes>"
      ]
     },
     "metadata": {
      "needs_background": "light"
     },
     "output_type": "display_data"
    }
   ],
   "source": [
    "fig1, ax1 = plt.subplots()\n",
    "ax1.set_title('Basic Plot')\n",
    "ax1.boxplot([eidikevomenos_iatros,eidikos_iatros,pe_nosileftis,te_nosileftis,de_voithos_nosilefti])\n",
    "\n",
    "plt.show()\n",
    "\n"
   ]
  },
  {
   "cell_type": "markdown",
   "id": "f6cb3df6",
   "metadata": {},
   "source": [
    "### Education Correlation"
   ]
  },
  {
   "cell_type": "code",
   "execution_count": 88,
   "id": "3438e395",
   "metadata": {},
   "outputs": [],
   "source": [
    "education = hospitals_personalInfo['3α. Ποια είναι η βασική σας εκπαίδευση;']\n",
    "\n",
    "education= pd.concat([education,individualScore],axis=1)\n",
    "\n",
    "education.columns = ['Education','Score']\n",
    "\n",
    "education = education.dropna()"
   ]
  },
  {
   "cell_type": "code",
   "execution_count": 89,
   "id": "e9d971b6",
   "metadata": {},
   "outputs": [
    {
     "name": "stdout",
     "output_type": "stream",
     "text": [
      "Mean\n"
     ]
    },
    {
     "data": {
      "text/plain": [
       "Education\n",
       "1. Δευτεροβάθμια (Δ.Ε.)     3.844444\n",
       "2. Τεχνολογική (Τ.Ε.)       3.525180\n",
       "3. Πανεπιστημιακή (Π.Ε.)    3.140562\n",
       "Name: Score, dtype: float64"
      ]
     },
     "execution_count": 89,
     "metadata": {},
     "output_type": "execute_result"
    }
   ],
   "source": [
    "print(\"Mean\")\n",
    "education.groupby('Education')['Score'].mean()"
   ]
  },
  {
   "cell_type": "code",
   "execution_count": 90,
   "id": "82194011",
   "metadata": {},
   "outputs": [
    {
     "name": "stdout",
     "output_type": "stream",
     "text": [
      "Variance\n"
     ]
    },
    {
     "data": {
      "text/plain": [
       "Education\n",
       "1. Δευτεροβάθμια (Δ.Ε.)     0.648677\n",
       "2. Τεχνολογική (Τ.Ε.)       0.708500\n",
       "3. Πανεπιστημιακή (Π.Ε.)    0.718484\n",
       "Name: Score, dtype: float64"
      ]
     },
     "execution_count": 90,
     "metadata": {},
     "output_type": "execute_result"
    }
   ],
   "source": [
    "print(\"Variance\")\n",
    "education.groupby('Education')['Score'].var()"
   ]
  },
  {
   "cell_type": "code",
   "execution_count": 91,
   "id": "bf93f7fa",
   "metadata": {},
   "outputs": [],
   "source": [
    "defterovathmia = []\n",
    "texnologiki = []\n",
    "panepistimiaki = []\n",
    "\n",
    "\n",
    "#create table for every category of profession\n",
    "for index, row in education.iterrows(): \n",
    "    if row['Education'] == '1. Δευτεροβάθμια (Δ.Ε.)':\n",
    "        defterovathmia.append(row['Score'])\n",
    "    elif row['Education'] == '2. Τεχνολογική (Τ.Ε.)':\n",
    "        texnologiki.append(row['Score'])\n",
    "    elif row['Education'] == '3. Πανεπιστημιακή (Π.Ε.)':\n",
    "        panepistimiaki.append(row['Score'])\n",
    "\n",
    "        "
   ]
  },
  {
   "cell_type": "code",
   "execution_count": 92,
   "id": "cd0fb052",
   "metadata": {},
   "outputs": [
    {
     "data": {
      "image/png": "[encoded data removed]",
      "text/plain": [
       "<Figure size 432x288 with 1 Axes>"
      ]
     },
     "metadata": {
      "needs_background": "light"
     },
     "output_type": "display_data"
    }
   ],
   "source": [
    "fig1, ax1 = plt.subplots()\n",
    "ax1.set_title('Basic Plot')\n",
    "ax1.boxplot([defterovathmia,texnologiki,panepistimiaki])\n",
    "\n",
    "plt.show()"
   ]
  },
  {
   "cell_type": "code",
   "execution_count": 93,
   "id": "d4920e00",
   "metadata": {},
   "outputs": [
    {
     "data": {
      "text/plain": [
       "F_onewayResult(statistic=7.552428472518997, pvalue=0.0006630380696734581)"
      ]
     },
     "execution_count": 93,
     "metadata": {},
     "output_type": "execute_result"
    }
   ],
   "source": [
    "f_oneway(defterovathmia,texnologiki,panepistimiaki)"
   ]
  },
  {
   "cell_type": "markdown",
   "id": "3327807c",
   "metadata": {},
   "source": [
    "### Adverse Event"
   ]
  },
  {
   "cell_type": "code",
   "execution_count": 94,
   "id": "e82ed474",
   "metadata": {},
   "outputs": [],
   "source": [
    "aevent = hospitals_personalInfo['Τους τελευταίους 12 μήνες πόσα δυσμενή συμβάντα έχετε αναφέρει; (Αναφέρετε έναν αριθμό)']"
   ]
  },
  {
   "cell_type": "code",
   "execution_count": 95,
   "id": "7da4d47a",
   "metadata": {},
   "outputs": [],
   "source": [
    "# create a frame with age and score\n",
    "aevent = pd.concat([aevent,individualScore],axis=1)\n",
    "aevent.columns = ['aevent','Score']\n",
    "aevent = aevent.dropna()"
   ]
  },
  {
   "cell_type": "code",
   "execution_count": 96,
   "id": "b0901765",
   "metadata": {},
   "outputs": [],
   "source": [
    "# remove outliers\n",
    "q = aevent['aevent'].quantile(0.99)\n",
    "aevent = aevent[aevent['aevent'] < q]"
   ]
  },
  {
   "cell_type": "code",
   "execution_count": 97,
   "id": "012a00f8",
   "metadata": {},
   "outputs": [
    {
     "name": "stdout",
     "output_type": "stream",
     "text": [
      "(corr,p-val) = (-0.10372533920661534, 0.1418244414990625)\n"
     ]
    }
   ],
   "source": [
    "\n",
    "x = aevent['aevent']\n",
    "y = aevent['Score']\n",
    "#calculation correlation coefficient and p-value between x and y\n",
    "print(\"(corr,p-val) =\",pearsonr(x, y))\n"
   ]
  },
  {
   "cell_type": "code",
   "execution_count": 98,
   "id": "3a50a2bc",
   "metadata": {},
   "outputs": [
    {
     "data": {
      "image/png": "[encoded data removed]",
      "text/plain": [
       "<Figure size 432x288 with 1 Axes>"
      ]
     },
     "metadata": {
      "needs_background": "light"
     },
     "output_type": "display_data"
    }
   ],
   "source": [
    "plt.plot(x, y, '.')\n",
    "plt.title(\"age-scre correlation\")\n",
    "plt.xlabel(\"aevent\",fontweight=\"bold\", fontsize=\"15\")\n",
    "plt.ylabel(\"score\",fontweight=\"bold\", fontsize=\"15\")\n",
    "\n",
    "plt.show()"
   ]
  },
  {
   "cell_type": "markdown",
   "id": "3845776d",
   "metadata": {},
   "source": [
    "### Years of work in the team"
   ]
  },
  {
   "cell_type": "code",
   "execution_count": 99,
   "id": "229064dd",
   "metadata": {},
   "outputs": [],
   "source": [
    "wyears = hospitals_personalInfo['8. Πόσο χρονικό διάστημα εργάζεστε στη συγκεκριμένη μονάδα ?']"
   ]
  },
  {
   "cell_type": "code",
   "execution_count": 100,
   "id": "31133203",
   "metadata": {},
   "outputs": [],
   "source": [
    "# create a frame with years and score\n",
    "wyears = pd.concat([wyears,individualScore],axis=1)\n",
    "wyears.columns = ['wyears','Score']\n",
    "wyears = wyears.dropna()\n",
    "\n"
   ]
  },
  {
   "cell_type": "code",
   "execution_count": 101,
   "id": "85badee9",
   "metadata": {},
   "outputs": [],
   "source": [
    "# remove outlie\n",
    "q = wyears['wyears'].quantile(0.99)\n",
    "wyears = wyears[wyears['wyears'] < q]"
   ]
  },
  {
   "cell_type": "code",
   "execution_count": 102,
   "id": "38db7033",
   "metadata": {},
   "outputs": [
    {
     "name": "stdout",
     "output_type": "stream",
     "text": [
      "(corr,p-val) = (0.02093712282609737, 0.7553147614248215)\n"
     ]
    }
   ],
   "source": [
    "x = wyears['wyears']\n",
    "y = wyears['Score']\n",
    "#calculation correlation coefficient and p-value between x and y\n",
    "print(\"(corr,p-val) =\",pearsonr(x, y))"
   ]
  },
  {
   "cell_type": "code",
   "execution_count": 103,
   "id": "6541ebb6",
   "metadata": {},
   "outputs": [
    {
     "data": {
      "image/png": "[encoded data removed]",
      "text/plain": [
       "<Figure size 432x288 with 1 Axes>"
      ]
     },
     "metadata": {
      "needs_background": "light"
     },
     "output_type": "display_data"
    }
   ],
   "source": [
    "plt.plot(x, y, '.')\n",
    "plt.title(\"age-scre correlation\")\n",
    "plt.xlabel(\"age\",fontweight=\"bold\", fontsize=\"15\")\n",
    "plt.ylabel(\"score\",fontweight=\"bold\", fontsize=\"15\")\n",
    "\n",
    "plt.show()"
   ]
  },
  {
   "cell_type": "markdown",
   "id": "611e2638",
   "metadata": {},
   "source": [
    "### Years of work in the hospital\n"
   ]
  },
  {
   "cell_type": "code",
   "execution_count": 104,
   "id": "65f2472b",
   "metadata": {},
   "outputs": [],
   "source": [
    "wyears = hospitals_personalInfo['7. Πόσο χρονικό διάστημα εργάζεστε στο συγκεκριμένο Νοσοκομείο;']"
   ]
  },
  {
   "cell_type": "code",
   "execution_count": 105,
   "id": "26e67532",
   "metadata": {},
   "outputs": [],
   "source": [
    "# create a frame with years and score\n",
    "wyears = pd.concat([wyears,individualScore],axis=1)\n",
    "wyears.columns = ['wyears','Score']\n",
    "wyears = wyears.dropna()\n",
    "\n"
   ]
  },
  {
   "cell_type": "code",
   "execution_count": 106,
   "id": "bc4fb4e3",
   "metadata": {},
   "outputs": [],
   "source": [
    "# remove outliers\n",
    "q = wyears['wyears'].quantile(0.99)\n",
    "wyears = wyears[wyears['wyears'] < q]"
   ]
  },
  {
   "cell_type": "code",
   "execution_count": 107,
   "id": "f3a364c8",
   "metadata": {},
   "outputs": [
    {
     "name": "stdout",
     "output_type": "stream",
     "text": [
      "(corr,p-val) = (0.17625762009115398, 0.00711788956662204)\n"
     ]
    }
   ],
   "source": [
    "x = wyears['wyears']\n",
    "y = wyears['Score']\n",
    "#calculation correlation coefficient and p-value between x and y\n",
    "print(\"(corr,p-val) =\",pearsonr(x, y))"
   ]
  },
  {
   "cell_type": "code",
   "execution_count": 108,
   "id": "9774223c",
   "metadata": {},
   "outputs": [
    {
     "data": {
      "image/png": "[encoded data removed]",
      "text/plain": [
       "<Figure size 432x288 with 1 Axes>"
      ]
     },
     "metadata": {
      "needs_background": "light"
     },
     "output_type": "display_data"
    }
   ],
   "source": [
    "plt.plot(x, y, '.')\n",
    "plt.title(\"age-scre correlation\")\n",
    "plt.xlabel(\"age\",fontweight=\"bold\", fontsize=\"15\")\n",
    "plt.ylabel(\"score\",fontweight=\"bold\", fontsize=\"15\")\n",
    "\n",
    "plt.show()"
   ]
  },
  {
   "cell_type": "code",
   "execution_count": 113,
   "id": "250e6ca1",
   "metadata": {},
   "outputs": [],
   "source": [
    "whours = hospitals_personalInfo['9. Συνήθως πόσες ώρες την εβδομάδα εργάζεστε στο συγκεκριμένο Νοσοκομείο; …']"
   ]
  },
  {
   "cell_type": "code",
   "execution_count": 114,
   "id": "42bccf56",
   "metadata": {},
   "outputs": [],
   "source": [
    "# create a frame with hours and score\n",
    "whours = pd.concat([whours,individualScore],axis=1)\n",
    "whours.columns = ['whours','Score']\n",
    "whours = whours.dropna()\n"
   ]
  },
  {
   "cell_type": "code",
   "execution_count": 115,
   "id": "70041cde",
   "metadata": {},
   "outputs": [],
   "source": [
    "# remove outliers\n",
    "q = whours['whours'].quantile(0.99)\n",
    "whours = whours[whours['whours'] < q]"
   ]
  },
  {
   "cell_type": "code",
   "execution_count": 116,
   "id": "5cdfd994",
   "metadata": {},
   "outputs": [
    {
     "name": "stdout",
     "output_type": "stream",
     "text": [
      "(corr,p-val) = (-0.10292797081776763, 0.12202856291900466)\n"
     ]
    }
   ],
   "source": [
    "x = whours['whours']\n",
    "y = whours['Score']\n",
    "#calculation correlation coefficient and p-value between x and y\n",
    "print(\"(corr,p-val) =\",pearsonr(x, y))"
   ]
  },
  {
   "cell_type": "code",
   "execution_count": 117,
   "id": "bdb2e844",
   "metadata": {},
   "outputs": [
    {
     "data": {
      "image/png": "[encoded data removed]",
      "text/plain": [
       "<Figure size 432x288 with 1 Axes>"
      ]
     },
     "metadata": {
      "needs_background": "light"
     },
     "output_type": "display_data"
    }
   ],
   "source": [
    "plt.plot(x, y, '.')\n",
    "plt.title(\"age-scre correlation\")\n",
    "plt.xlabel(\"age\",fontweight=\"bold\", fontsize=\"15\")\n",
    "plt.ylabel(\"score\",fontweight=\"bold\", fontsize=\"15\")\n",
    "\n",
    "plt.show()"
   ]
  },
  {
   "cell_type": "markdown",
   "id": "c48042a0",
   "metadata": {},
   "source": [
    "## Multivariant linear Regression for score and variables with evidece of correlation"
   ]
  },
  {
   "cell_type": "code",
   "execution_count": null,
   "id": "79554939",
   "metadata": {},
   "outputs": [],
   "source": [
    "hospitals_personalInfo"
   ]
  },
  {
   "cell_type": "code",
   "execution_count": null,
   "id": "4c367ac7",
   "metadata": {},
   "outputs": [],
   "source": [
    "data = hospitals_personalInfo[['1. Φύλο: ','2. Ηλικία…','Τους τελευταίους 12 μήνες πόσα δυσμενή συμβάντα έχετε αναφέρει; (Αναφέρετε έναν αριθμό)','7. Πόσο χρονικό διάστημα εργάζεστε στο συγκεκριμένο Νοσοκομείο;','10. Τι θέση κατέχετε στο νοσοκομείο που εργάζεστε;','9. Συνήθως πόσες ώρες την εβδομάδα εργάζεστε στο συγκεκριμένο Νοσοκομείο; …']]\n",
    "data = pd.concat((data, individualScore), axis=1)\n",
    "data.columns = ['gender','age','aevent','yearsHospital','position','hours','score']\n"
   ]
  },
  {
   "cell_type": "code",
   "execution_count": null,
   "id": "15f91f18",
   "metadata": {},
   "outputs": [],
   "source": [
    "#clean data\n",
    "data = data.dropna()\n",
    "data"
   ]
  },
  {
   "cell_type": "code",
   "execution_count": null,
   "id": "694d904f",
   "metadata": {},
   "outputs": [],
   "source": [
    "#remove outliers\n",
    "q1 = data['aevent'].quantile(0.99)\n",
    "data = data.loc[data['aevent'] < q1]\n",
    "\n",
    "q2 = data['yearsHospital'].quantile(0.99)\n",
    "data = data.loc[data['yearsHospital'] < q2]\n",
    "\n",
    "q3 = data['hours'].quantile(0.99)\n",
    "data = data.loc[data['hours'] < q2]\n",
    "\n",
    "print(q3)"
   ]
  },
  {
   "cell_type": "code",
   "execution_count": null,
   "id": "03fc0c50",
   "metadata": {},
   "outputs": [],
   "source": [
    "#make categorical values binary\n",
    "\n",
    "dummies = pd.get_dummies(data['gender'])\n",
    "data = pd.concat((data, dummies), axis=1)\n",
    "\n",
    "dummies = pd.get_dummies(data['position'])\n",
    "data = pd.concat((data, dummies), axis=1)\n"
   ]
  },
  {
   "cell_type": "code",
   "execution_count": null,
   "id": "4248c2a3",
   "metadata": {},
   "outputs": [],
   "source": [
    "data"
   ]
  },
  {
   "cell_type": "code",
   "execution_count": null,
   "id": "88e5225b",
   "metadata": {},
   "outputs": [],
   "source": [
    "# build model\n",
    "X = data[['age','Άνδρας','aevent','1. Ειδικευόμενος ιατρός','hours']]\n",
    "y = data['score']"
   ]
  },
  {
   "cell_type": "code",
   "execution_count": null,
   "id": "0b8e7bad",
   "metadata": {},
   "outputs": [],
   "source": [
    "#ols model\n",
    "X2 = sm.add_constant(X)\n",
    "est = sm.OLS(y, X2)\n",
    "est2 = est.fit()\n",
    "print(est2.summary())"
   ]
  },
  {
   "cell_type": "code",
   "execution_count": null,
   "id": "b3a8d2ff",
   "metadata": {},
   "outputs": [],
   "source": []
  },
  {
   "cell_type": "code",
   "execution_count": null,
   "id": "f33fa9b5",
   "metadata": {},
   "outputs": [],
   "source": []
  },
  {
   "cell_type": "code",
   "execution_count": null,
   "id": "682677f8",
   "metadata": {},
   "outputs": [],
   "source": []
  },
  {
   "cell_type": "code",
   "execution_count": null,
   "id": "834034f8",
   "metadata": {},
   "outputs": [],
   "source": []
  }
 ],
 "metadata": {
  "kernelspec": {
   "display_name": "Python 3 (ipykernel)",
   "language": "python",
   "name": "python3"
  },
  "language_info": {
   "codemirror_mode": {
    "name": "ipython",
    "version": 3
   },
   "file_extension": ".py",
   "mimetype": "text/x-python",
   "name": "python",
   "nbconvert_exporter": "python",
   "pygments_lexer": "ipython3",
   "version": "3.9.7"
  }
 },
 "nbformat": 4,
 "nbformat_minor": 5
}
