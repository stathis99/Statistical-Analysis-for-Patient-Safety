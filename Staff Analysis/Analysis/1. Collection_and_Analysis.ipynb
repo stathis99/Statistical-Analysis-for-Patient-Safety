{
 "cells": [
  {
   "cell_type": "markdown",
   "id": "21633eae",
   "metadata": {},
   "source": [
    "# Data Analysis For Hospital Patient Safety"
   ]
  },
  {
   "cell_type": "markdown",
   "id": "5e78faa9",
   "metadata": {},
   "source": [
    "## Contents\n",
    "\n",
    "toc"
   ]
  },
  {
   "cell_type": "markdown",
   "id": "b78a6a73",
   "metadata": {},
   "source": [
    "## 1. Data Collection"
   ]
  },
  {
   "cell_type": "code",
   "execution_count": 1,
   "id": "7ea98c54",
   "metadata": {},
   "outputs": [],
   "source": [
    "# Libraries\n",
    "import pandas as pd\n",
    "import pingouin as pg\n",
    "import matplotlib.pyplot as plt\n",
    "import seaborn as sns\n",
    "\n",
    "pd.options.mode.chained_assignment = None  # default='warn'\n"
   ]
  },
  {
   "cell_type": "code",
   "execution_count": 2,
   "id": "243e3af4",
   "metadata": {},
   "outputs": [],
   "source": [
    "#Load Data\n",
    "sismanoglio = pd.read_csv('../Data/Sismanoglio.csv')\n",
    "evangelismos = pd.read_csv('../Data/Evagelismos.csv')\n",
    "genimatas = pd.read_csv('../Data/Genimatas.csv')\n",
    "thriasio = pd.read_csv('../Data/Thriasio.csv')\n",
    "mpenakio = pd.read_csv('../Data/Mpenakio.csv')\n",
    "\n",
    "frames = [sismanoglio,evangelismos,genimatas,thriasio,mpenakio]\n",
    "\n",
    "hospitals = pd.concat(frames)\n",
    "hospitals = hospitals.reset_index()\n"
   ]
  },
  {
   "cell_type": "code",
   "execution_count": 3,
   "id": "b6554bf1",
   "metadata": {},
   "outputs": [
    {
     "name": "stdout",
     "output_type": "stream",
     "text": [
      "sismanoglio has 16 rows/answers and  60 columns/questios\n",
      "evangelismos has 17 rows/answers and  60 columns/questios\n",
      "genimatas has 56 rows/answers and  60 columns/questios\n",
      "thriasio has 12 rows/answers and  60 columns/questios\n",
      "mpenakio has 2 rows/answers and  60 columns/questios\n"
     ]
    }
   ],
   "source": [
    "#Shape of Data\n",
    "print('sismanoglio has', sismanoglio.shape[0], 'rows/answers and ',sismanoglio.shape[1], 'columns/questios')\n",
    "print('evangelismos has', evangelismos.shape[0], 'rows/answers and ',evangelismos.shape[1], 'columns/questios')\n",
    "print('genimatas has', genimatas.shape[0], 'rows/answers and ',genimatas.shape[1], 'columns/questios')\n",
    "print('thriasio has', thriasio.shape[0], 'rows/answers and ',thriasio.shape[1], 'columns/questios')\n",
    "print('mpenakio has', mpenakio.shape[0], 'rows/answers and ',mpenakio.shape[1], 'columns/questios')\n"
   ]
  },
  {
   "cell_type": "code",
   "execution_count": 4,
   "id": "bdeedc1d",
   "metadata": {
    "scrolled": true,
    "tags": [
     "{",
     "\"tags\":",
     "[",
     "\"hide-cell\"",
     "]",
     "}"
    ]
   },
   "outputs": [
    {
     "name": "stdout",
     "output_type": "stream",
     "text": [
      "hospitlas have 103 rows/answers and  62 columns/questios\n"
     ]
    }
   ],
   "source": [
    "print('hospitlas have', hospitals.shape[0], 'rows/answers and ',hospitals.shape[1], 'columns/questios')"
   ]
  },
  {
   "cell_type": "markdown",
   "id": "f8ddca5e",
   "metadata": {},
   "source": [
    "## 2. Data cleaning"
   ]
  },
  {
   "cell_type": "code",
   "execution_count": 5,
   "id": "6ce6310a",
   "metadata": {},
   "outputs": [
    {
     "name": "stdout",
     "output_type": "stream",
     "text": [
      "Stored 'hospitals' (DataFrame)\n"
     ]
    }
   ],
   "source": [
    "#Drop irrelevant coumns\n",
    "hospitals.drop(\"Χρονική σήμανση\", axis=1, inplace=True)\n",
    "\n",
    "%store hospitals\n"
   ]
  },
  {
   "cell_type": "code",
   "execution_count": 6,
   "id": "aa665bc5",
   "metadata": {},
   "outputs": [
    {
     "name": "stdout",
     "output_type": "stream",
     "text": [
      "0   index\n",
      "1   Σε ποιο Εργασιακό Περιβάλλον /Τομέα/ Μονάδα εργάζεστε;\n",
      "2   Σε ποιο τμήμα του Παθολογικού Τομέα εργάζεστε;\n",
      "3   Σε ποιο τμήμα του Χειρουργικού Τομέα εργάζεστε;\n",
      "4   Σε ποιο τμήμα του Εργαστηριακού Τομέα εργάζεστε;\n",
      "5   Παρακαλώ γράψτε το όνομα του Τομέα που εργάζεστε.\n",
      "6   1. Οι εργαζόμενοι υποστηρίζουν ο ένας τον άλλον.\n",
      "7   2. Υπάρχει επαρκές προσωπικό για τη διεκπεραίωση της εργασίας.\n",
      "8   3. Όταν υπάρχει μεγάλος όγκος εργασίας που πρέπει να γίνει άμεσα, το προσωπικό εργάζεται ομαδικά για την ολοκλήρωση της.\n",
      "9   4. Υπάρχει σεβασμός ανάμεσα στους εργαζομένους.\n",
      "10   5. Το προσωπικό εργάζεται περισσότερες ώρες από αυτές που διασφαλίζουν ασφαλή φροντίδα για τον ασθενή.\n",
      "11   6. Το προσωπικό εργάζεται δυναμικά για τη βελτίωση της ασφάλειας του ασθενούς.\n",
      "12   7. Αξιοποιείται περισσότερο προσωρινό προσωπικό από αυτό που διασφαλίζει την ασφαλή φροντίδα του ασθενούς.\n",
      "13   8. Το προσωπικό αισθάνεται ότι τα λάθη του μπορεί να χρησιμοποιηθούν εναντίον του. \n",
      "14   9. Τα λάθη οδήγησαν σε θετικές αλλαγές.\n",
      "15   10. Από τύχη δεν συμβαίνουν σοβαρά λάθη.\n",
      "16   11. Όταν υπάρχει μεγάλος φόρτος εργασίας παρέχεται βοήθεια από άλλες Μονάδες.\n",
      "17   12. Όταν δηλώνεται ένα δυσμενές συμβάν, υπάρχει η αίσθηση ότι καταγράφεται το άτομο και όχι το καθαυτό συμβάν.\n",
      "18   13. Όταν γίνονται αλλαγές για τη βελτίωση της ασφάλειας του ασθενούς, αξιολογείται η αποτελεσματικότητά τους.\n",
      "19   14. Το προσωπικό εργάζεται σε «κατάσταση κρίσης» προσπαθώντας να κάνει πολλά πράγματα γρήγορα.\n",
      "20   15. Η ασφάλεια του ασθενούς αποτελεί προτεραιότητα ακόμα και όταν υπάρχει φόρτος εργασίας. \n",
      "21   16. Το προσωπικό ανησυχεί ότι τα λάθη του καταγράφονται στο προσωπικό του φάκελο.\n",
      "22   17. Υπάρχει πρόβλημα ασφάλειας του ασθενούς.\n",
      "23   18. Οι διαδικασίες διεκπεραίωσης της εργασίας και το σύστημα εν γένει συμβάλλει στην πρόληψη δυσμενών συμβάντων.\n",
      "24   1. Επιβραβεύει το προσωπικό με καλά λόγια όταν τηρούνται οι διαδικασίες ασφαλούς φροντίδας του ασθενούς.\n",
      "25   2. Λαμβάνει σοβαρά υπόψη του τις προτάσεις του προσωπικού για βελτίωση της ασφάλειας του ασθενούς.\n",
      "26   3. Παροτρύνει το προσωπικό να εργάζεται γρηγορότερα όταν υπάρχει υπερβολικός φόρτος εργασίας και πίεση, ακόμη και όταν παραβλέπονται σημαντικές διαδικασίες ασφάλειας του ασθενούς.\n",
      "27   4. Παραβλέπει επαναλαμβανόμενα προβλήματα ασφάλειας του ασθενούς.\n",
      "28   1. Γίνεται συστηματική αξιολόγηση των αλλαγών που τίθενται σε εφαρμογή, βάσει δυσμενών συμβάντων που έχουν αναφερθεί. \n",
      "29   2. Το προσωπικό μιλάει ελεύθερα όταν διαπιστώσει κάτι που επιδρά αρνητικά στη φροντίδα υγείας του ασθενούς.\n",
      "30   3. Το προσωπικό ενημερώνεται συχνά για τα δυσμενή συμβάντα που λαμβάνουν χώρα.\n",
      "31   4. Το προσωπικό μπορεί ελεύθερα να αμφισβητήσει τις αποφάσεις ή τις ενέργειες των ανωτέρων του.\n",
      "32   5. Το προσωπικό συζητά τρόπους πρόληψης δυσμενών συμβάντων ώστε να μην επαναληφθούν.\n",
      "33   6. Το προσωπικό φοβάται να ρωτήσει, όταν κάτι δεν φαίνεται σωστό.\n",
      "34   …..αλλά εντοπιστεί και διορθωθεί πριν επηρεάσει τον ασθενή \n",
      "35   ……αλλά δεν έχει πιθανότητα να βλάψει τον ασθενή.\n",
      "36   …..που θα μπορούσε να βλάψει τον ασθενή, αλλά δεν τον επηρέασε \n",
      "37   Παρακαλώ αξιολογήστε το επίπεδο ασφάλειας των ασθενών συνολικά στο Εργασιακό Περιβάλλον/Μονάδα σας επιλέγοντας με √ την απάντηση που σας εκφράζει.\n",
      "38   1. Η Διοίκηση εξασφαλίζει εργασιακό κλίμα που προάγει την ασφάλεια του ασθενούς .\n",
      "39   2. Υπάρχει ελλιπής συντονισμός μεταξύ των Μονάδων.\n",
      "40   3. Η μεταφορά ασθενούς από τη μία Μονάδα στην άλλη συνήθως συνοδεύεται από προβλήματα.\n",
      "41   4. Υπάρχει καλή συνεργασία ανάμεσα στις Μονάδες όταν αυτό απαιτείται.\n",
      "42   5. Συχνά, σημαντικές πληροφορίες σχετικά με τη νοσηλεία του ασθενούς χάνονται κατά την αλλαγή της βάρδιας.\n",
      "43   6. Η συνεργασία με το προσωπικό άλλων Μονάδων είναι συχνά δυσάρεστη.\n",
      "44   7. Συχνά παρουσιάζονται διάφορα προβλήματα κατά την ανταλλαγή πληροφοριών μεταξύ των Μονάδων.\n",
      "45   8. Η ασφάλεια του ασθενούς αποτελεί κύρια προτεραιότητα για την Διοίκηση.\n",
      "46   9. Η Διοίκηση δείχνει να ενδιαφέρεται για την ασφάλεια του ασθενούς μόνο μετά από την αναφορά κάποιου δυσμενούς συμβάντος.\n",
      "47   10. Οι Μονάδες συνεργάζονται καλά μεταξύ τους για την παροχή άριστης ποιοτικά φροντίδας υγείας στον ασθενή.\n",
      "48   11. Η αλλαγή βάρδιας είναι προβληματική για τον ασθενή.\n",
      "49   Τους τελευταίους 12 μήνες πόσα δυσμενή συμβάντα έχετε αναφέρει; (Αναφέρετε έναν αριθμό)\n",
      "50   1. Φύλο: \n",
      "51   2. Ηλικία…\n",
      "52   3α. Ποια είναι η βασική σας εκπαίδευση;\n",
      "53   3β. Άλλες σπουδές:\n",
      "54   7. Πόσο χρονικό διάστημα εργάζεστε στο συγκεκριμένο Νοσοκομείο;\n",
      "55   8. Πόσο χρονικό διάστημα εργάζεστε στη συγκεκριμένη μονάδα ?\n",
      "56   9. Συνήθως πόσες ώρες την εβδομάδα εργάζεστε στο συγκεκριμένο Νοσοκομείο; …\n",
      "57   10. Τι θέση κατέχετε στο νοσοκομείο που εργάζεστε;\n",
      "58   12. Πόσο χρονικό διάστημα εργάζεστε στην παρούσα ειδικότητα ή επάγγελμα; (Αθροιστικά στο τρέχον νοσοκομείο και σε τυχόν άλλα)\n",
      "59   Παρακαλώ, καταγράψτε ελεύθερα τυχόν σχόλια και παρατηρήσεις σχετικά με ζητήματα ασφάλειας των ασθενών, ιατρικών λαθών και την αναφορά δυσμενών συμβάντων εντός του νοσοκομείου σας.\n",
      "60   5. Το προσωπικό εργάζεται περισσότερες ώρες από αυτές που διασφαλίζουν ασφαλή φροντίδα για τον ασθενή\n"
     ]
    }
   ],
   "source": [
    "#print all questions\n",
    "for index, item in enumerate(hospitals.columns, start=0):  \n",
    "    print(index,\" \", item)"
   ]
  },
  {
   "cell_type": "code",
   "execution_count": 7,
   "id": "92517f90",
   "metadata": {},
   "outputs": [
    {
     "name": "stdout",
     "output_type": "stream",
     "text": [
      "Stored 'hospitals_personalInfo' (DataFrame)\n"
     ]
    }
   ],
   "source": [
    "hospitals_jobField  = hospitals.iloc[: , :5]\n",
    "hospitals_personalInfo = hospitals.iloc[:, 49:58]\n",
    "hospitals_questions = hospitals.iloc[:, 5:49]\n",
    "\n",
    "%store hospitals_personalInfo"
   ]
  },
  {
   "cell_type": "markdown",
   "id": "6c332596",
   "metadata": {},
   "source": [
    "#### Clean Personal Info"
   ]
  },
  {
   "cell_type": "code",
   "execution_count": 8,
   "id": "280b910a",
   "metadata": {},
   "outputs": [
    {
     "data": {
      "text/html": [
       "<div>\n",
       "<style scoped>\n",
       "    .dataframe tbody tr th:only-of-type {\n",
       "        vertical-align: middle;\n",
       "    }\n",
       "\n",
       "    .dataframe tbody tr th {\n",
       "        vertical-align: top;\n",
       "    }\n",
       "\n",
       "    .dataframe thead th {\n",
       "        text-align: right;\n",
       "    }\n",
       "</style>\n",
       "<table border=\"1\" class=\"dataframe\">\n",
       "  <thead>\n",
       "    <tr style=\"text-align: right;\">\n",
       "      <th></th>\n",
       "      <th>Τους τελευταίους 12 μήνες πόσα δυσμενή συμβάντα έχετε αναφέρει; (Αναφέρετε έναν αριθμό)</th>\n",
       "      <th>1. Φύλο:</th>\n",
       "      <th>2. Ηλικία…</th>\n",
       "      <th>3α. Ποια είναι η βασική σας εκπαίδευση;</th>\n",
       "      <th>3β. Άλλες σπουδές:</th>\n",
       "      <th>7. Πόσο χρονικό διάστημα εργάζεστε στο συγκεκριμένο Νοσοκομείο;</th>\n",
       "      <th>8. Πόσο χρονικό διάστημα εργάζεστε στη συγκεκριμένη μονάδα ?</th>\n",
       "      <th>9. Συνήθως πόσες ώρες την εβδομάδα εργάζεστε στο συγκεκριμένο Νοσοκομείο; …</th>\n",
       "      <th>10. Τι θέση κατέχετε στο νοσοκομείο που εργάζεστε;</th>\n",
       "    </tr>\n",
       "  </thead>\n",
       "  <tbody>\n",
       "    <tr>\n",
       "      <th>0</th>\n",
       "      <td>4</td>\n",
       "      <td>Γυναίκα</td>\n",
       "      <td>23.0</td>\n",
       "      <td>3. Πανεπιστημιακή (Π.Ε.)</td>\n",
       "      <td>3. Διδακτορικό δίπλωμα</td>\n",
       "      <td>23</td>\n",
       "      <td>12</td>\n",
       "      <td>23</td>\n",
       "      <td>4. ΤΕ Νοσηλευτής</td>\n",
       "    </tr>\n",
       "    <tr>\n",
       "      <th>1</th>\n",
       "      <td>NaN</td>\n",
       "      <td>Γυναίκα</td>\n",
       "      <td>45.0</td>\n",
       "      <td>3. Πανεπιστημιακή (Π.Ε.)</td>\n",
       "      <td>2. Μεταπτυχιακές σπουδές</td>\n",
       "      <td>23</td>\n",
       "      <td>NaN</td>\n",
       "      <td>12</td>\n",
       "      <td>4. ΤΕ Νοσηλευτής</td>\n",
       "    </tr>\n",
       "    <tr>\n",
       "      <th>2</th>\n",
       "      <td>10</td>\n",
       "      <td>Άνδρας</td>\n",
       "      <td>55.0</td>\n",
       "      <td>2. Τεχνολογική (Τ.Ε.)</td>\n",
       "      <td>3. Διδακτορικό δίπλωμα</td>\n",
       "      <td>33</td>\n",
       "      <td>3</td>\n",
       "      <td>60</td>\n",
       "      <td>4. ΤΕ Νοσηλευτής</td>\n",
       "    </tr>\n",
       "    <tr>\n",
       "      <th>3</th>\n",
       "      <td>NaN</td>\n",
       "      <td>Άνδρας</td>\n",
       "      <td>61.0</td>\n",
       "      <td>3. Πανεπιστημιακή (Π.Ε.)</td>\n",
       "      <td>3. Διδακτορικό δίπλωμα</td>\n",
       "      <td>30 έτη</td>\n",
       "      <td>30 έτη</td>\n",
       "      <td>NaN</td>\n",
       "      <td>NaN</td>\n",
       "    </tr>\n",
       "    <tr>\n",
       "      <th>4</th>\n",
       "      <td>2</td>\n",
       "      <td>Άνδρας</td>\n",
       "      <td>50.0</td>\n",
       "      <td>2. Τεχνολογική (Τ.Ε.)</td>\n",
       "      <td>2. Μεταπτυχιακές σπουδές</td>\n",
       "      <td>25</td>\n",
       "      <td>9 ΧΡΟΝΙΑ1998-2007 ΚΑΙ 2 2020-2022</td>\n",
       "      <td>41</td>\n",
       "      <td>4. ΤΕ Νοσηλευτής</td>\n",
       "    </tr>\n",
       "    <tr>\n",
       "      <th>...</th>\n",
       "      <td>...</td>\n",
       "      <td>...</td>\n",
       "      <td>...</td>\n",
       "      <td>...</td>\n",
       "      <td>...</td>\n",
       "      <td>...</td>\n",
       "      <td>...</td>\n",
       "      <td>...</td>\n",
       "      <td>...</td>\n",
       "    </tr>\n",
       "    <tr>\n",
       "      <th>98</th>\n",
       "      <td>0</td>\n",
       "      <td>Γυναίκα</td>\n",
       "      <td>44.0</td>\n",
       "      <td>3. Πανεπιστημιακή (Π.Ε.)</td>\n",
       "      <td>2. Μεταπτυχιακές σπουδές</td>\n",
       "      <td>8 ετη</td>\n",
       "      <td>3 μηνες</td>\n",
       "      <td>60</td>\n",
       "      <td>2. Ειδικός ιατρός</td>\n",
       "    </tr>\n",
       "    <tr>\n",
       "      <th>99</th>\n",
       "      <td>4</td>\n",
       "      <td>Γυναίκα</td>\n",
       "      <td>34.0</td>\n",
       "      <td>3. Πανεπιστημιακή (Π.Ε.)</td>\n",
       "      <td>2. Μεταπτυχιακές σπουδές</td>\n",
       "      <td>10 μήνες</td>\n",
       "      <td>10 μήνες</td>\n",
       "      <td>40-48</td>\n",
       "      <td>3. ΠΕ Νοσηλευτής</td>\n",
       "    </tr>\n",
       "    <tr>\n",
       "      <th>100</th>\n",
       "      <td>40</td>\n",
       "      <td>Γυναίκα</td>\n",
       "      <td>40.0</td>\n",
       "      <td>1. Δευτεροβάθμια (Δ.Ε.)</td>\n",
       "      <td>1. Ειδικότητα</td>\n",
       "      <td>6 χρονια</td>\n",
       "      <td>1χρονο</td>\n",
       "      <td>48</td>\n",
       "      <td>5. ΔΕ Βοηθός Νοσηλευτή</td>\n",
       "    </tr>\n",
       "    <tr>\n",
       "      <th>101</th>\n",
       "      <td>6</td>\n",
       "      <td>Γυναίκα</td>\n",
       "      <td>23.0</td>\n",
       "      <td>2. Τεχνολογική (Τ.Ε.)</td>\n",
       "      <td>2. Μεταπτυχιακές σπουδές</td>\n",
       "      <td>12</td>\n",
       "      <td>10</td>\n",
       "      <td>34</td>\n",
       "      <td>4. ΤΕ Νοσηλευτής</td>\n",
       "    </tr>\n",
       "    <tr>\n",
       "      <th>102</th>\n",
       "      <td>3</td>\n",
       "      <td>Γυναίκα</td>\n",
       "      <td>50.0</td>\n",
       "      <td>2. Τεχνολογική (Τ.Ε.)</td>\n",
       "      <td>2. Μεταπτυχιακές σπουδές</td>\n",
       "      <td>32</td>\n",
       "      <td>5χρονια</td>\n",
       "      <td>50</td>\n",
       "      <td>4. ΤΕ Νοσηλευτής</td>\n",
       "    </tr>\n",
       "  </tbody>\n",
       "</table>\n",
       "<p>103 rows × 9 columns</p>\n",
       "</div>"
      ],
      "text/plain": [
       "    Τους τελευταίους 12 μήνες πόσα δυσμενή συμβάντα έχετε αναφέρει; (Αναφέρετε έναν αριθμό)  \\\n",
       "0                                                    4                                        \n",
       "1                                                  NaN                                        \n",
       "2                                                   10                                        \n",
       "3                                                  NaN                                        \n",
       "4                                                    2                                        \n",
       "..                                                 ...                                        \n",
       "98                                                   0                                        \n",
       "99                                                   4                                        \n",
       "100                                                 40                                        \n",
       "101                                                  6                                        \n",
       "102                                                  3                                        \n",
       "\n",
       "    1. Φύλο:   2. Ηλικία… 3α. Ποια είναι η βασική σας εκπαίδευση;  \\\n",
       "0     Γυναίκα        23.0                3. Πανεπιστημιακή (Π.Ε.)   \n",
       "1     Γυναίκα        45.0                3. Πανεπιστημιακή (Π.Ε.)   \n",
       "2      Άνδρας        55.0                   2. Τεχνολογική (Τ.Ε.)   \n",
       "3      Άνδρας        61.0                3. Πανεπιστημιακή (Π.Ε.)   \n",
       "4      Άνδρας        50.0                   2. Τεχνολογική (Τ.Ε.)   \n",
       "..        ...         ...                                     ...   \n",
       "98    Γυναίκα        44.0                3. Πανεπιστημιακή (Π.Ε.)   \n",
       "99    Γυναίκα        34.0                3. Πανεπιστημιακή (Π.Ε.)   \n",
       "100   Γυναίκα        40.0                 1. Δευτεροβάθμια (Δ.Ε.)   \n",
       "101   Γυναίκα        23.0                   2. Τεχνολογική (Τ.Ε.)   \n",
       "102   Γυναίκα        50.0                   2. Τεχνολογική (Τ.Ε.)   \n",
       "\n",
       "           3β. Άλλες σπουδές:  \\\n",
       "0      3. Διδακτορικό δίπλωμα   \n",
       "1    2. Μεταπτυχιακές σπουδές   \n",
       "2      3. Διδακτορικό δίπλωμα   \n",
       "3      3. Διδακτορικό δίπλωμα   \n",
       "4    2. Μεταπτυχιακές σπουδές   \n",
       "..                        ...   \n",
       "98   2. Μεταπτυχιακές σπουδές   \n",
       "99   2. Μεταπτυχιακές σπουδές   \n",
       "100             1. Ειδικότητα   \n",
       "101  2. Μεταπτυχιακές σπουδές   \n",
       "102  2. Μεταπτυχιακές σπουδές   \n",
       "\n",
       "    7. Πόσο χρονικό διάστημα εργάζεστε στο συγκεκριμένο Νοσοκομείο;  \\\n",
       "0                                                   23                \n",
       "1                                                   23                \n",
       "2                                                   33                \n",
       "3                                               30 έτη                \n",
       "4                                                   25                \n",
       "..                                                 ...                \n",
       "98                                               8 ετη                \n",
       "99                                            10 μήνες                \n",
       "100                                           6 χρονια                \n",
       "101                                                 12                \n",
       "102                                                 32                \n",
       "\n",
       "    8. Πόσο χρονικό διάστημα εργάζεστε στη συγκεκριμένη μονάδα ?  \\\n",
       "0                                                   12             \n",
       "1                                                  NaN             \n",
       "2                                                    3             \n",
       "3                                               30 έτη             \n",
       "4                    9 ΧΡΟΝΙΑ1998-2007 ΚΑΙ 2 2020-2022             \n",
       "..                                                 ...             \n",
       "98                                             3 μηνες             \n",
       "99                                            10 μήνες             \n",
       "100                                             1χρονο             \n",
       "101                                                 10             \n",
       "102                                            5χρονια             \n",
       "\n",
       "    9. Συνήθως πόσες ώρες την εβδομάδα εργάζεστε στο συγκεκριμένο Νοσοκομείο; …  \\\n",
       "0                                                   23                            \n",
       "1                                                   12                            \n",
       "2                                                   60                            \n",
       "3                                                  NaN                            \n",
       "4                                                   41                            \n",
       "..                                                 ...                            \n",
       "98                                                  60                            \n",
       "99                                               40-48                            \n",
       "100                                                 48                            \n",
       "101                                                 34                            \n",
       "102                                                 50                            \n",
       "\n",
       "    10. Τι θέση κατέχετε στο νοσοκομείο που εργάζεστε;  \n",
       "0                                     4. ΤΕ Νοσηλευτής  \n",
       "1                                     4. ΤΕ Νοσηλευτής  \n",
       "2                                     4. ΤΕ Νοσηλευτής  \n",
       "3                                                  NaN  \n",
       "4                                     4. ΤΕ Νοσηλευτής  \n",
       "..                                                 ...  \n",
       "98                                   2. Ειδικός ιατρός  \n",
       "99                                    3. ΠΕ Νοσηλευτής  \n",
       "100                             5. ΔΕ Βοηθός Νοσηλευτή  \n",
       "101                                   4. ΤΕ Νοσηλευτής  \n",
       "102                                   4. ΤΕ Νοσηλευτής  \n",
       "\n",
       "[103 rows x 9 columns]"
      ]
     },
     "execution_count": 8,
     "metadata": {},
     "output_type": "execute_result"
    }
   ],
   "source": [
    "hospitals_personalInfo.dropna()\n",
    "hospitals_personalInfo"
   ]
  },
  {
   "cell_type": "code",
   "execution_count": null,
   "id": "6bdc03fa",
   "metadata": {},
   "outputs": [],
   "source": []
  },
  {
   "cell_type": "code",
   "execution_count": null,
   "id": "c3803862",
   "metadata": {},
   "outputs": [],
   "source": []
  },
  {
   "cell_type": "code",
   "execution_count": null,
   "id": "03b847ae",
   "metadata": {},
   "outputs": [],
   "source": []
  },
  {
   "cell_type": "code",
   "execution_count": null,
   "id": "ca65ee22",
   "metadata": {},
   "outputs": [],
   "source": []
  },
  {
   "cell_type": "code",
   "execution_count": 9,
   "id": "2f7aeabe",
   "metadata": {},
   "outputs": [],
   "source": [
    "#print all questions\n",
    "#for index, item in enumerate(hospitals_questions, start=0):  \n",
    "#    print(index,\" \", item)"
   ]
  },
  {
   "cell_type": "markdown",
   "id": "136abe5b",
   "metadata": {},
   "source": [
    "## 3. Split Questions to 12 categories according to HSOPSC and check for internal consistency internal consistency"
   ]
  },
  {
   "cell_type": "code",
   "execution_count": 10,
   "id": "20666cde",
   "metadata": {},
   "outputs": [],
   "source": [
    "#helper functions\n",
    "\n",
    "def my_reverse(table, q):\n",
    "    for index in range(len(table)):\n",
    "        if table[q].iloc[index] == 1:\n",
    "            table[q].iloc[index] = 5\n",
    "        elif table[q].iloc[index] == 2:\n",
    "            table[q].iloc[index] = 4\n",
    "        elif table[q].iloc[index] == 4:\n",
    "            table[q].iloc[index] = 2\n",
    "        elif table[q].iloc[index] == 5:\n",
    "            table[q].iloc[index] = 1\n",
    "    return table"
   ]
  },
  {
   "cell_type": "markdown",
   "id": "5d7427e0",
   "metadata": {},
   "source": [
    "#### Parameter of patient safety 1 : Open Communication"
   ]
  },
  {
   "cell_type": "code",
   "execution_count": 11,
   "id": "86556220",
   "metadata": {},
   "outputs": [],
   "source": [
    "g4 = '4. Το προσωπικό μπορεί ελεύθερα να αμφισβητήσει τις αποφάσεις ή τις ενέργειες των ανωτέρων του.'\n",
    "g2 = '2. Το προσωπικό μιλάει ελεύθερα όταν διαπιστώσει κάτι που επιδρά αρνητικά στη φροντίδα υγείας του ασθενούς.'\n",
    "g6 = '6. Το προσωπικό φοβάται να ρωτήσει, όταν κάτι δεν φαίνεται σωστό.'\n",
    "\n",
    "open_communication = hospitals_questions[:][[g4,g2,g6]]\n",
    "\n"
   ]
  },
  {
   "cell_type": "code",
   "execution_count": 12,
   "id": "cc768d73",
   "metadata": {},
   "outputs": [
    {
     "name": "stdout",
     "output_type": "stream",
     "text": [
      "Stored 'open_communication' (DataFrame)\n"
     ]
    }
   ],
   "source": [
    "#reverse question g6\n",
    "open_communication = my_reverse(open_communication, g6)\n",
    "%store open_communication"
   ]
  },
  {
   "cell_type": "code",
   "execution_count": 13,
   "id": "6ac41b2c",
   "metadata": {},
   "outputs": [
    {
     "name": "stdout",
     "output_type": "stream",
     "text": [
      "Cronabachs alpha for parameter 1:  0.7009313356857754\n"
     ]
    }
   ],
   "source": [
    "#calculate cronabachs alpha\n",
    "ca = pg.cronbach_alpha(data=open_communication)\n",
    "print(\"Cronabachs alpha for parameter 1: \",ca[0])"
   ]
  },
  {
   "cell_type": "markdown",
   "id": "b8e14250",
   "metadata": {},
   "source": [
    "#### Parameter of patient safety 2 \n"
   ]
  },
  {
   "cell_type": "code",
   "execution_count": 14,
   "id": "467da32c",
   "metadata": {},
   "outputs": [
    {
     "name": "stdout",
     "output_type": "stream",
     "text": [
      "Stored 'parameter_2' (DataFrame)\n"
     ]
    }
   ],
   "source": [
    "g1 = '1. Γίνεται συστηματική αξιολόγηση των αλλαγών που τίθενται σε εφαρμογή, βάσει δυσμενών συμβάντων που έχουν αναφερθεί. '\n",
    "g3 = '3. Το προσωπικό ενημερώνεται συχνά για τα δυσμενή συμβάντα που λαμβάνουν χώρα.'\n",
    "g5 = '5. Το προσωπικό συζητά τρόπους πρόληψης δυσμενών συμβάντων ώστε να μην επαναληφθούν.'\n",
    "\n",
    "\n",
    "parameter_2 = hospitals_questions[:][[g1,g3,g5]]\n",
    "%store parameter_2"
   ]
  },
  {
   "cell_type": "code",
   "execution_count": 15,
   "id": "9da23280",
   "metadata": {},
   "outputs": [
    {
     "name": "stdout",
     "output_type": "stream",
     "text": [
      "Cronabachs alpha for parameter 1:  0.7054077126445635\n"
     ]
    }
   ],
   "source": [
    "#calculate cronabachs alpha\n",
    "ca = pg.cronbach_alpha(data=parameter_2)\n",
    "print(\"Cronabachs alpha for parameter 1: \",ca[0])"
   ]
  },
  {
   "cell_type": "markdown",
   "id": "99157db7",
   "metadata": {},
   "source": [
    "#### Parameter of patient safety 3"
   ]
  },
  {
   "cell_type": "code",
   "execution_count": 16,
   "id": "36b5b80e",
   "metadata": {},
   "outputs": [
    {
     "name": "stdout",
     "output_type": "stream",
     "text": [
      "Stored 'parameter_3' (DataFrame)\n"
     ]
    }
   ],
   "source": [
    "a6 = '6. Το προσωπικό εργάζεται δυναμικά για τη βελτίωση της ασφάλειας του ασθενούς.'\n",
    "a9 = '9. Τα λάθη οδήγησαν σε θετικές αλλαγές.'\n",
    "a13 = '13. Όταν γίνονται αλλαγές για τη βελτίωση της ασφάλειας του ασθενούς, αξιολογείται η αποτελεσματικότητά τους.'\n",
    "\n",
    "parameter_3 = hospitals_questions[:][[a6,a9,a13]]\n",
    "%store parameter_3"
   ]
  },
  {
   "cell_type": "code",
   "execution_count": 17,
   "id": "1ec61482",
   "metadata": {},
   "outputs": [
    {
     "name": "stdout",
     "output_type": "stream",
     "text": [
      "Cronabachs alpha for parameter 1:  0.5784065608025519\n"
     ]
    }
   ],
   "source": [
    "#calculate cronabachs alpha\n",
    "ca = pg.cronbach_alpha(data=parameter_3)\n",
    "print(\"Cronabachs alpha for parameter 1: \",ca[0])"
   ]
  },
  {
   "cell_type": "markdown",
   "id": "14a0a080",
   "metadata": {},
   "source": [
    "#### Parameter of patient safety 4"
   ]
  },
  {
   "cell_type": "code",
   "execution_count": 18,
   "id": "0b1c1f68",
   "metadata": {},
   "outputs": [
    {
     "name": "stdout",
     "output_type": "stream",
     "text": [
      "Stored 'parameter_4' (DataFrame)\n"
     ]
    }
   ],
   "source": [
    "a1 = '1. Οι εργαζόμενοι υποστηρίζουν ο ένας τον άλλον.'\n",
    "a3 = '3. Όταν υπάρχει μεγάλος όγκος εργασίας που πρέπει να γίνει άμεσα, το προσωπικό εργάζεται ομαδικά για την ολοκλήρωση της.'\n",
    "a4 = '4. Υπάρχει σεβασμός ανάμεσα στους εργαζομένους.'\n",
    "a11 = '11. Όταν υπάρχει μεγάλος φόρτος εργασίας παρέχεται βοήθεια από άλλες Μονάδες.'\n",
    "\n",
    "parameter_4 = hospitals_questions[:][[a1,a3,a4,a11]]\n",
    "%store parameter_4"
   ]
  },
  {
   "cell_type": "code",
   "execution_count": 19,
   "id": "6a711d9e",
   "metadata": {},
   "outputs": [
    {
     "name": "stdout",
     "output_type": "stream",
     "text": [
      "Cronabachs alpha for parameter 1:  0.7165631888715147\n"
     ]
    }
   ],
   "source": [
    "#calculate cronabachs alpha\n",
    "ca = pg.cronbach_alpha(data=parameter_4)\n",
    "print(\"Cronabachs alpha for parameter 1: \",ca[0])"
   ]
  },
  {
   "cell_type": "markdown",
   "id": "e52ca784",
   "metadata": {},
   "source": [
    "#### Parameter of patient safety 5"
   ]
  },
  {
   "cell_type": "code",
   "execution_count": 20,
   "id": "8f5089a8",
   "metadata": {},
   "outputs": [
    {
     "name": "stdout",
     "output_type": "stream",
     "text": [
      "Stored 'parameter_5' (DataFrame)\n"
     ]
    }
   ],
   "source": [
    "a8 = '8. Το προσωπικό αισθάνεται ότι τα λάθη του μπορεί να χρησιμοποιηθούν εναντίον του. '\n",
    "a12 = '12. Όταν δηλώνεται ένα δυσμενές συμβάν, υπάρχει η αίσθηση ότι καταγράφεται το άτομο και όχι το καθαυτό συμβάν.'\n",
    "a16 = '16. Το προσωπικό ανησυχεί ότι τα λάθη του καταγράφονται στο προσωπικό του φάκελο.'\n",
    "\n",
    "parameter_5 = hospitals_questions[:][[a8,a12,a16]]\n",
    "%store parameter_5"
   ]
  },
  {
   "cell_type": "code",
   "execution_count": 21,
   "id": "0da32c87",
   "metadata": {},
   "outputs": [
    {
     "name": "stdout",
     "output_type": "stream",
     "text": [
      "Stored 'parameter_5' (DataFrame)\n"
     ]
    }
   ],
   "source": [
    "#reverse question a8 a12 a16\n",
    "pd.options.mode.chained_assignment = None  # default='warn'\n",
    "parameter_5 = my_reverse(parameter_5, a8)\n",
    "parameter_5 = my_reverse(parameter_5, a12)\n",
    "parameter_5 = my_reverse(parameter_5, a16)\n",
    "\n",
    "%store parameter_5"
   ]
  },
  {
   "cell_type": "code",
   "execution_count": 22,
   "id": "11d55979",
   "metadata": {},
   "outputs": [
    {
     "name": "stdout",
     "output_type": "stream",
     "text": [
      "Cronabachs alpha for parameter 1:  0.6166206065600939\n"
     ]
    }
   ],
   "source": [
    "#calculate cronabachs alpha\n",
    "ca = pg.cronbach_alpha(data=parameter_5)\n",
    "print(\"Cronabachs alpha for parameter 1: \",ca[0])"
   ]
  },
  {
   "cell_type": "markdown",
   "id": "e68817d0",
   "metadata": {},
   "source": [
    "#### Parameter of patient safety 6"
   ]
  },
  {
   "cell_type": "code",
   "execution_count": 23,
   "id": "b0ce7cde",
   "metadata": {},
   "outputs": [
    {
     "name": "stdout",
     "output_type": "stream",
     "text": [
      "Stored 'parameter_6' (DataFrame)\n"
     ]
    }
   ],
   "source": [
    "b1 = '1. Επιβραβεύει το προσωπικό με καλά λόγια όταν τηρούνται οι διαδικασίες ασφαλούς φροντίδας του ασθενούς.'\n",
    "b2 = '2. Λαμβάνει σοβαρά υπόψη του τις προτάσεις του προσωπικού για βελτίωση της ασφάλειας του ασθενούς.'\n",
    "b3 = '3. Παροτρύνει το προσωπικό να εργάζεται γρηγορότερα όταν υπάρχει υπερβολικός φόρτος εργασίας και πίεση, ακόμη και όταν παραβλέπονται σημαντικές διαδικασίες ασφάλειας του ασθενούς.'\n",
    "b4 = '4. Παραβλέπει επαναλαμβανόμενα προβλήματα ασφάλειας του ασθενούς.'\n",
    "\n",
    "parameter_6 = hospitals_questions[:][[b1,b2,b3,b4]]\n",
    "%store parameter_6\n"
   ]
  },
  {
   "cell_type": "code",
   "execution_count": 24,
   "id": "6eab5d4b",
   "metadata": {},
   "outputs": [
    {
     "name": "stdout",
     "output_type": "stream",
     "text": [
      "Stored 'parameter_6' (DataFrame)\n"
     ]
    }
   ],
   "source": [
    "#reverse question b3 b4\n",
    "parameter_6 = my_reverse(parameter_6, b3)\n",
    "parameter_6 = my_reverse(parameter_6, b4)\n",
    "\n",
    "%store parameter_6"
   ]
  },
  {
   "cell_type": "code",
   "execution_count": 25,
   "id": "6981ee83",
   "metadata": {},
   "outputs": [
    {
     "name": "stdout",
     "output_type": "stream",
     "text": [
      "Cronabachs alpha for parameter 1:  0.7798695280142379\n"
     ]
    }
   ],
   "source": [
    "#calculate cronabachs alpha\n",
    "ca = pg.cronbach_alpha(data=parameter_6)\n",
    "print(\"Cronabachs alpha for parameter 1: \",ca[0])"
   ]
  },
  {
   "cell_type": "markdown",
   "id": "8fa73a00",
   "metadata": {},
   "source": [
    "#### Parameter of patient safety 7"
   ]
  },
  {
   "cell_type": "code",
   "execution_count": 26,
   "id": "ce48ce08",
   "metadata": {},
   "outputs": [
    {
     "name": "stdout",
     "output_type": "stream",
     "text": [
      "Stored 'parameter_7' (DataFrame)\n"
     ]
    }
   ],
   "source": [
    "a2 = '2. Υπάρχει επαρκές προσωπικό για τη διεκπεραίωση της εργασίας.'\n",
    "a5 = '5. Το προσωπικό εργάζεται περισσότερες ώρες από αυτές που διασφαλίζουν ασφαλή φροντίδα για τον ασθενή.'\n",
    "a7 = '7. Αξιοποιείται περισσότερο προσωρινό προσωπικό από αυτό που διασφαλίζει την ασφαλή φροντίδα του ασθενούς.'\n",
    "a14 = '14. Το προσωπικό εργάζεται σε «κατάσταση κρίσης» προσπαθώντας να κάνει πολλά πράγματα γρήγορα.'\n",
    "\n",
    "parameter_7 = hospitals_questions[:][[a2,a5,a7,a14]]\n",
    "%store parameter_7"
   ]
  },
  {
   "cell_type": "code",
   "execution_count": 27,
   "id": "ff1d121e",
   "metadata": {},
   "outputs": [
    {
     "name": "stdout",
     "output_type": "stream",
     "text": [
      "Stored 'parameter_7' (DataFrame)\n"
     ]
    }
   ],
   "source": [
    "#reverse question a5 a7 a14\n",
    "parameter_7 = my_reverse(parameter_7,a5)\n",
    "parameter_7 = my_reverse(parameter_7,a7)\n",
    "parameter_7 = my_reverse(parameter_7,a14)\n",
    "\n",
    "%store parameter_7"
   ]
  },
  {
   "cell_type": "code",
   "execution_count": 28,
   "id": "000c6f85",
   "metadata": {},
   "outputs": [
    {
     "name": "stdout",
     "output_type": "stream",
     "text": [
      "Cronabachs alpha for parameter 1:  0.5449498614191258\n"
     ]
    }
   ],
   "source": [
    "#calculate cronabachs alpha\n",
    "ca = pg.cronbach_alpha(data=parameter_7)\n",
    "print(\"Cronabachs alpha for parameter 1: \",ca[0])"
   ]
  },
  {
   "cell_type": "markdown",
   "id": "2ad48799",
   "metadata": {},
   "source": [
    "#### Parameter of patient safety 8"
   ]
  },
  {
   "cell_type": "code",
   "execution_count": 29,
   "id": "75f8b2b3",
   "metadata": {},
   "outputs": [],
   "source": [
    "st1 = '1. Η Διοίκηση εξασφαλίζει εργασιακό κλίμα που προάγει την ασφάλεια του ασθενούς .'\n",
    "st8 = '8. Η ασφάλεια του ασθενούς αποτελεί κύρια προτεραιότητα για την Διοίκηση.'\n",
    "st9 = '9. Η Διοίκηση δείχνει να ενδιαφέρεται για την ασφάλεια του ασθενούς μόνο μετά από την αναφορά κάποιου δυσμενούς συμβάντος.'\n",
    "\n",
    "parameter_8 = hospitals_questions[:][[st1,st8,st9]]"
   ]
  },
  {
   "cell_type": "code",
   "execution_count": 30,
   "id": "87b69d13",
   "metadata": {},
   "outputs": [
    {
     "name": "stdout",
     "output_type": "stream",
     "text": [
      "Stored 'parameter_8' (DataFrame)\n"
     ]
    }
   ],
   "source": [
    "#reverse question st9\n",
    "parameter_8 = my_reverse(parameter_8,st9)\n",
    "\n",
    "%store parameter_8"
   ]
  },
  {
   "cell_type": "code",
   "execution_count": 31,
   "id": "7b441406",
   "metadata": {},
   "outputs": [
    {
     "name": "stdout",
     "output_type": "stream",
     "text": [
      "Cronabachs alpha for parameter 1:  0.7144048962711684\n"
     ]
    }
   ],
   "source": [
    "#calculate cronabachs alpha\n",
    "ca = pg.cronbach_alpha(data=parameter_8)\n",
    "print(\"Cronabachs alpha for parameter 1: \",ca[0])"
   ]
  },
  {
   "cell_type": "markdown",
   "id": "69299cca",
   "metadata": {},
   "source": [
    "#### Parameter of patient safety 9"
   ]
  },
  {
   "cell_type": "code",
   "execution_count": 32,
   "id": "e4ba2f94",
   "metadata": {},
   "outputs": [],
   "source": [
    "st2 = '2. Υπάρχει ελλιπής συντονισμός μεταξύ των Μονάδων.'\n",
    "st4 = '4. Υπάρχει καλή συνεργασία ανάμεσα στις Μονάδες όταν αυτό απαιτείται.'\n",
    "st6 = '6. Η συνεργασία με το προσωπικό άλλων Μονάδων είναι συχνά δυσάρεστη.'\n",
    "st10 = '10. Οι Μονάδες συνεργάζονται καλά μεταξύ τους για την παροχή άριστης ποιοτικά φροντίδας υγείας στον ασθενή.'\n",
    "\n",
    "parameter_9 = hospitals_questions[:][[st2,st4,st6,st10]]\n"
   ]
  },
  {
   "cell_type": "code",
   "execution_count": 33,
   "id": "c4b770dc",
   "metadata": {},
   "outputs": [
    {
     "name": "stdout",
     "output_type": "stream",
     "text": [
      "Stored 'parameter_9' (DataFrame)\n"
     ]
    }
   ],
   "source": [
    "#reverse question st2 st6 \n",
    "parameter_9 = my_reverse(parameter_9,st2)\n",
    "parameter_9 = my_reverse(parameter_9,st6)\n",
    "\n",
    "%store parameter_9"
   ]
  },
  {
   "cell_type": "code",
   "execution_count": 34,
   "id": "4a05ee53",
   "metadata": {},
   "outputs": [
    {
     "name": "stdout",
     "output_type": "stream",
     "text": [
      "Cronabachs alpha for parameter 1:  0.7808480166928229\n"
     ]
    }
   ],
   "source": [
    "#calculate cronabachs alpha\n",
    "ca = pg.cronbach_alpha(data=parameter_9)\n",
    "print(\"Cronabachs alpha for parameter 1: \",ca[0])"
   ]
  },
  {
   "cell_type": "markdown",
   "id": "126ec703",
   "metadata": {},
   "source": [
    "#### Parameter of patient safety 10 "
   ]
  },
  {
   "cell_type": "code",
   "execution_count": 35,
   "id": "03be980e",
   "metadata": {},
   "outputs": [
    {
     "name": "stdout",
     "output_type": "stream",
     "text": [
      "Stored 'parameter_10' (DataFrame)\n"
     ]
    }
   ],
   "source": [
    "st3 = '3. Η μεταφορά ασθενούς από τη μία Μονάδα στην άλλη συνήθως συνοδεύεται από προβλήματα.'\n",
    "st5 = '5. Συχνά, σημαντικές πληροφορίες σχετικά με τη νοσηλεία του ασθενούς χάνονται κατά την αλλαγή της βάρδιας.'\n",
    "st7 = '7. Συχνά παρουσιάζονται διάφορα προβλήματα κατά την ανταλλαγή πληροφοριών μεταξύ των Μονάδων.'\n",
    "st11 = '11. Η αλλαγή βάρδιας είναι προβληματική για τον ασθενή.'\n",
    "\n",
    "parameter_10 = hospitals_questions[:][[st3,st5,st7,st11]]\n",
    "\n",
    "%store parameter_10"
   ]
  },
  {
   "cell_type": "code",
   "execution_count": 36,
   "id": "debc37ef",
   "metadata": {},
   "outputs": [
    {
     "name": "stdout",
     "output_type": "stream",
     "text": [
      "Cronabachs alpha for parameter 1:  0.7948747220746301\n"
     ]
    }
   ],
   "source": [
    "#calculate cronabachs alpha\n",
    "ca = pg.cronbach_alpha(data=parameter_10)\n",
    "print(\"Cronabachs alpha for parameter 1: \",ca[0])"
   ]
  },
  {
   "cell_type": "markdown",
   "id": "3ec3351b",
   "metadata": {},
   "source": [
    "#### Parameter of patient safety 11\n"
   ]
  },
  {
   "cell_type": "code",
   "execution_count": 37,
   "id": "588f1b0c",
   "metadata": {},
   "outputs": [
    {
     "name": "stdout",
     "output_type": "stream",
     "text": [
      "Stored 'parameter_11' (DataFrame)\n"
     ]
    }
   ],
   "source": [
    "d1 = '…..αλλά εντοπιστεί και διορθωθεί πριν επηρεάσει τον ασθενή '\n",
    "d2 = '……αλλά δεν έχει πιθανότητα να βλάψει τον ασθενή.'\n",
    "d3 = '…..που θα μπορούσε να βλάψει τον ασθενή, αλλά δεν τον επηρέασε '\n",
    "\n",
    "parameter_11 = hospitals_questions[:][[d1,d2,d3]]\n",
    "\n",
    "%store parameter_11"
   ]
  },
  {
   "cell_type": "code",
   "execution_count": 38,
   "id": "215fbba8",
   "metadata": {},
   "outputs": [
    {
     "name": "stdout",
     "output_type": "stream",
     "text": [
      "Cronabachs alpha for parameter 1:  0.865161061318662\n"
     ]
    }
   ],
   "source": [
    "#calculate cronabachs alpha\n",
    "ca = pg.cronbach_alpha(data=parameter_11)\n",
    "print(\"Cronabachs alpha for parameter 1: \",ca[0])"
   ]
  },
  {
   "cell_type": "markdown",
   "id": "ec47361a",
   "metadata": {},
   "source": [
    "#### Parameter of patient safety 12"
   ]
  },
  {
   "cell_type": "code",
   "execution_count": 39,
   "id": "50ac1a1a",
   "metadata": {},
   "outputs": [],
   "source": [
    "a10 = '10. Από τύχη δεν συμβαίνουν σοβαρά λάθη.'\n",
    "a15 = '15. Η ασφάλεια του ασθενούς αποτελεί προτεραιότητα ακόμα και όταν υπάρχει φόρτος εργασίας. '\n",
    "a18 = '18. Οι διαδικασίες διεκπεραίωσης της εργασίας και το σύστημα εν γένει συμβάλλει στην πρόληψη δυσμενών συμβάντων.'\n",
    "a17 = '17. Υπάρχει πρόβλημα ασφάλειας του ασθενούς.'\n",
    "\n",
    "parameter_12 = hospitals_questions[:][[a10,a15,a18,a17]]"
   ]
  },
  {
   "cell_type": "code",
   "execution_count": 40,
   "id": "62757e19",
   "metadata": {},
   "outputs": [
    {
     "name": "stdout",
     "output_type": "stream",
     "text": [
      "Stored 'parameter_12' (DataFrame)\n"
     ]
    }
   ],
   "source": [
    "#reverse question a10 a17\n",
    "parameter_12 = my_reverse(parameter_12,a10)\n",
    "parameter_12 = my_reverse(parameter_12,a17)\n",
    "\n",
    "%store parameter_12"
   ]
  },
  {
   "cell_type": "code",
   "execution_count": 41,
   "id": "c659c90e",
   "metadata": {},
   "outputs": [
    {
     "name": "stdout",
     "output_type": "stream",
     "text": [
      "Cronabachs alpha for parameter 1:  0.6483703054705474\n"
     ]
    }
   ],
   "source": [
    "#calculate cronabachs alpha\n",
    "ca = pg.cronbach_alpha(data=parameter_12)\n",
    "print(\"Cronabachs alpha for parameter 1: \",ca[0])"
   ]
  },
  {
   "cell_type": "markdown",
   "id": "6f6a5966",
   "metadata": {},
   "source": [
    "#### Eleftheroi paramteroi"
   ]
  },
  {
   "cell_type": "code",
   "execution_count": 42,
   "id": "889106d0",
   "metadata": {},
   "outputs": [],
   "source": [
    "z = 'Τους τελευταίους 12 μήνες πόσα δυσμενή συμβάντα έχετε αναφέρει; (Αναφέρετε έναν αριθμό)'\n",
    "#parameter_14 = hospitals_questions[:][[z]]"
   ]
  },
  {
   "cell_type": "code",
   "execution_count": 43,
   "id": "2f261851",
   "metadata": {},
   "outputs": [],
   "source": [
    "import numpy as np\n",
    "\n",
    "\n",
    "pd.set_option('display.max_rows', None)\n",
    "#parameter_14 = parameter_14.dropna()\n",
    "\n",
    "#print(parameter_14)\n",
    "\n",
    "#for i in range(len(parameter_14)):\n",
    " #   print(parameter_14.loc[i,z])"
   ]
  },
  {
   "cell_type": "markdown",
   "id": "912f3a9d",
   "metadata": {},
   "source": [
    "### Parameter 13"
   ]
  },
  {
   "cell_type": "code",
   "execution_count": 44,
   "id": "84873ac1",
   "metadata": {},
   "outputs": [
    {
     "name": "stdout",
     "output_type": "stream",
     "text": [
      "Stored 'parameter_13' (DataFrame)\n"
     ]
    }
   ],
   "source": [
    "e = 'Παρακαλώ αξιολογήστε το επίπεδο ασφάλειας των ασθενών συνολικά στο Εργασιακό Περιβάλλον/Μονάδα σας επιλέγοντας με √ την απάντηση που σας εκφράζει.'\n",
    "\n",
    "parameter_13 = hospitals_questions[:][[e]]\n",
    "parameter_13.columns = ['score']\n",
    "\n",
    "\n",
    "\n",
    "%store parameter_13\n",
    "\n",
    "#parameter_13 = parameter_13.dropna()\n",
    "\n"
   ]
  },
  {
   "cell_type": "code",
   "execution_count": 45,
   "id": "48a32371",
   "metadata": {},
   "outputs": [
    {
     "name": "stdout",
     "output_type": "stream",
     "text": [
      "0   score\n"
     ]
    }
   ],
   "source": [
    "for index, item in enumerate(parameter_13, start=0):  \n",
    "    print(index,\" \", item)"
   ]
  },
  {
   "cell_type": "markdown",
   "id": "b6d1a789",
   "metadata": {},
   "source": [
    "## 4. Personal Info Exploratory Analysis"
   ]
  },
  {
   "cell_type": "markdown",
   "id": "39af13f8",
   "metadata": {},
   "source": [
    "### Analysis of Proffesion"
   ]
  },
  {
   "cell_type": "code",
   "execution_count": 46,
   "id": "d6dcb3fb",
   "metadata": {},
   "outputs": [
    {
     "data": {
      "text/plain": [
       "4. ΤΕ Νοσηλευτής           0.575758\n",
       "1. Ειδικευόμενος ιατρός    0.181818\n",
       "2. Ειδικός ιατρός          0.101010\n",
       "5. ΔΕ Βοηθός Νοσηλευτή     0.080808\n",
       "3. ΠΕ Νοσηλευτής           0.060606\n",
       "Name: 10. Τι θέση κατέχετε στο νοσοκομείο που εργάζεστε;, dtype: float64"
      ]
     },
     "execution_count": 46,
     "metadata": {},
     "output_type": "execute_result"
    }
   ],
   "source": [
    "proffesion = hospitals_personalInfo['10. Τι θέση κατέχετε στο νοσοκομείο που εργάζεστε;']\n",
    "\n",
    "absolute_frequencies = proffesion.value_counts()\n",
    "relative_frequencies = proffesion.value_counts(normalize=True)\n",
    "relative_frequencies"
   ]
  },
  {
   "cell_type": "code",
   "execution_count": 47,
   "id": "dfe07b04",
   "metadata": {},
   "outputs": [
    {
     "data": {
      "image/png": "[encoded data removed]",
      "text/plain": [
       "<Figure size 432x288 with 1 Axes>"
      ]
     },
     "metadata": {},
     "output_type": "display_data"
    }
   ],
   "source": [
    "#plot relative_frequencies\n",
    "colors = sns.color_palette(\"Paired\", 3)\n",
    "\n",
    "#define data\n",
    "data = relative_frequencies\n",
    "labels = relative_frequencies.index\n",
    "\n",
    "plt.pie(data, labels = labels, colors = colors, autopct='%0.f%%')\n",
    "plt.show()"
   ]
  },
  {
   "cell_type": "markdown",
   "id": "c7ab37ce",
   "metadata": {},
   "source": [
    "### Analysis of Gender"
   ]
  },
  {
   "cell_type": "code",
   "execution_count": 48,
   "id": "2e565335",
   "metadata": {},
   "outputs": [],
   "source": [
    "gender = hospitals_personalInfo['1. Φύλο: ']\n",
    "\n",
    "absolute_frequencies = gender.value_counts()\n",
    "relative_frequencies = gender.value_counts(normalize=True)\n",
    "\n"
   ]
  },
  {
   "cell_type": "code",
   "execution_count": 49,
   "id": "db05277a",
   "metadata": {},
   "outputs": [
    {
     "data": {
      "image/png": "[encoded data removed]",
      "text/plain": [
       "<Figure size 432x288 with 1 Axes>"
      ]
     },
     "metadata": {},
     "output_type": "display_data"
    }
   ],
   "source": [
    "#plot relative_frequencies\n",
    "\n",
    "#define data\n",
    "data = relative_frequencies\n",
    "labels = relative_frequencies.index\n",
    "\n",
    "plt.pie(data, labels = labels, colors = colors, autopct='%0.f%%')\n",
    "plt.show()"
   ]
  },
  {
   "cell_type": "markdown",
   "id": "1b9953cc",
   "metadata": {},
   "source": [
    "### Analysis of Age"
   ]
  },
  {
   "cell_type": "code",
   "execution_count": 50,
   "id": "05a26207",
   "metadata": {},
   "outputs": [
    {
     "name": "stdout",
     "output_type": "stream",
     "text": [
      "count    98.000000\n",
      "mean     45.520408\n",
      "std       9.615526\n",
      "min      23.000000\n",
      "25%      39.000000\n",
      "50%      47.500000\n",
      "75%      53.000000\n",
      "max      65.000000\n",
      "Name: 2. Ηλικία…, dtype: float64\n"
     ]
    }
   ],
   "source": [
    "age = hospitals_personalInfo['2. Ηλικία…']\n",
    "\n",
    "df = age.describe()\n",
    "print(df)"
   ]
  },
  {
   "cell_type": "markdown",
   "id": "f7e033da",
   "metadata": {},
   "source": [
    "### Analysis of Education"
   ]
  },
  {
   "cell_type": "code",
   "execution_count": 51,
   "id": "e237d12e",
   "metadata": {},
   "outputs": [],
   "source": [
    "education = hospitals_personalInfo['3α. Ποια είναι η βασική σας εκπαίδευση;']\n",
    "\n",
    "absolute_frequencies = education.value_counts()\n",
    "relative_frequencies = education.value_counts(normalize=True)\n",
    "\n"
   ]
  },
  {
   "cell_type": "code",
   "execution_count": 52,
   "id": "debd8ad5",
   "metadata": {},
   "outputs": [
    {
     "name": "stderr",
     "output_type": "stream",
     "text": [
      "/Users/stathis/opt/anaconda3/lib/python3.9/site-packages/outdated/utils.py:14: OutdatedPackageWarning: The package outdated is out of date. Your version is 0.2.1, the latest is 0.2.2.\n",
      "Set the environment variable OUTDATED_IGNORE=1 to disable these warnings.\n",
      "  return warn(\n"
     ]
    },
    {
     "data": {
      "image/png": "[encoded data removed]",
      "text/plain": [
       "<Figure size 432x288 with 1 Axes>"
      ]
     },
     "metadata": {},
     "output_type": "display_data"
    }
   ],
   "source": [
    "\n",
    "#define data\n",
    "data = relative_frequencies\n",
    "labels = relative_frequencies.index\n",
    "\n",
    "plt.pie(data, labels = labels, colors = colors, autopct='%0.f%%')\n",
    "plt.show()"
   ]
  },
  {
   "cell_type": "code",
   "execution_count": 53,
   "id": "9685a001",
   "metadata": {},
   "outputs": [
    {
     "name": "stdout",
     "output_type": "stream",
     "text": [
      "Stored 'hospitals' (DataFrame)\n"
     ]
    }
   ],
   "source": [
    "%store hospitals"
   ]
  },
  {
   "cell_type": "code",
   "execution_count": null,
   "id": "bcd5693b",
   "metadata": {},
   "outputs": [],
   "source": []
  },
  {
   "cell_type": "code",
   "execution_count": null,
   "id": "8d3e848f",
   "metadata": {},
   "outputs": [],
   "source": []
  },
  {
   "cell_type": "code",
   "execution_count": null,
   "id": "8f2c848e",
   "metadata": {},
   "outputs": [],
   "source": []
  },
  {
   "cell_type": "code",
   "execution_count": null,
   "id": "52e0257a",
   "metadata": {},
   "outputs": [],
   "source": []
  },
  {
   "cell_type": "code",
   "execution_count": null,
   "id": "5e809125",
   "metadata": {},
   "outputs": [],
   "source": []
  }
 ],
 "metadata": {
  "celltoolbar": "Raw Cell Format",
  "kernelspec": {
   "display_name": "Python 3 (ipykernel)",
   "language": "python",
   "name": "python3"
  },
  "language_info": {
   "codemirror_mode": {
    "name": "ipython",
    "version": 3
   },
   "file_extension": ".py",
   "mimetype": "text/x-python",
   "name": "python",
   "nbconvert_exporter": "python",
   "pygments_lexer": "ipython3",
   "version": "3.9.7"
  }
 },
 "nbformat": 4,
 "nbformat_minor": 5
}
