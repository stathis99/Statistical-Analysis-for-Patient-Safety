{
 "cells": [
  {
   "cell_type": "code",
   "execution_count": 34,
   "id": "9d4c70e7",
   "metadata": {},
   "outputs": [],
   "source": [
    "# Libraries\n",
    "import pandas as pd\n",
    "import pingouin as pg\n",
    "import matplotlib.pyplot as plt\n",
    "import seaborn as sns"
   ]
  },
  {
   "cell_type": "markdown",
   "id": "f7af3edc",
   "metadata": {},
   "source": [
    "## Open communication"
   ]
  },
  {
   "cell_type": "markdown",
   "id": "b289f700",
   "metadata": {},
   "source": [
    "### g2"
   ]
  },
  {
   "cell_type": "code",
   "execution_count": 35,
   "id": "d050f44a",
   "metadata": {},
   "outputs": [],
   "source": [
    "%store -r open_communication"
   ]
  },
  {
   "cell_type": "code",
   "execution_count": 36,
   "id": "79d8081d",
   "metadata": {},
   "outputs": [],
   "source": [
    "g2 = open_communication[\"2. Το προσωπικό μιλάει ελεύθερα όταν διαπιστώσει κάτι που επιδρά αρνητικά στη φροντίδα υγείας του ασθενούς.\"]"
   ]
  },
  {
   "cell_type": "code",
   "execution_count": 37,
   "id": "0cb90155",
   "metadata": {},
   "outputs": [],
   "source": [
    "absolute_frequencies = g2.value_counts()\n",
    "relative_frequencies = g2.value_counts(normalize=True)"
   ]
  },
  {
   "cell_type": "code",
   "execution_count": 38,
   "id": "592dc687",
   "metadata": {},
   "outputs": [
    {
     "name": "stdout",
     "output_type": "stream",
     "text": [
      "count    103.000000\n",
      "mean       3.883495\n",
      "std        1.012674\n",
      "min        1.000000\n",
      "25%        3.000000\n",
      "50%        4.000000\n",
      "75%        5.000000\n",
      "max        5.000000\n",
      "Name: 2. Το προσωπικό μιλάει ελεύθερα όταν διαπιστώσει κάτι που επιδρά αρνητικά στη φροντίδα υγείας του ασθενούς., dtype: float64\n",
      "4    0.407767\n",
      "5    0.300971\n",
      "3    0.194175\n",
      "2    0.067961\n",
      "1    0.029126\n",
      "Name: 2. Το προσωπικό μιλάει ελεύθερα όταν διαπιστώσει κάτι που επιδρά αρνητικά στη φροντίδα υγείας του ασθενούς., dtype: float64\n",
      "4    42\n",
      "5    31\n",
      "3    20\n",
      "2     7\n",
      "1     3\n",
      "Name: 2. Το προσωπικό μιλάει ελεύθερα όταν διαπιστώσει κάτι που επιδρά αρνητικά στη φροντίδα υγείας του ασθενούς., dtype: int64\n"
     ]
    }
   ],
   "source": [
    "print(g2.describe())\n",
    "print(relative_frequencies)\n",
    "print(absolute_frequencies)"
   ]
  },
  {
   "cell_type": "code",
   "execution_count": 39,
   "id": "c423e029",
   "metadata": {},
   "outputs": [],
   "source": [
    "data = absolute_frequencies[:]"
   ]
  },
  {
   "cell_type": "code",
   "execution_count": 44,
   "id": "7d5e4d6d",
   "metadata": {},
   "outputs": [
    {
     "data": {
      "text/plain": [
       "<AxesSubplot:xlabel='2. Το προσωπικό μιλάει ελεύθερα όταν διαπιστώσει κάτι που επιδρά αρνητικά στη φροντίδα υγείας του ασθενούς.', ylabel='Count'>"
      ]
     },
     "execution_count": 44,
     "metadata": {},
     "output_type": "execute_result"
    },
    {
     "data": {
      "image/png": "[encoded data removed]",
      "text/plain": [
       "<Figure size 432x288 with 1 Axes>"
      ]
     },
     "metadata": {
      "needs_background": "light"
     },
     "output_type": "display_data"
    }
   ],
   "source": [
    "sns.histplot(data=g2, bins = 5)"
   ]
  },
  {
   "cell_type": "code",
   "execution_count": null,
   "id": "ec59b62f",
   "metadata": {},
   "outputs": [],
   "source": []
  }
 ],
 "metadata": {
  "kernelspec": {
   "display_name": "Python 3 (ipykernel)",
   "language": "python",
   "name": "python3"
  },
  "language_info": {
   "codemirror_mode": {
    "name": "ipython",
    "version": 3
   },
   "file_extension": ".py",
   "mimetype": "text/x-python",
   "name": "python",
   "nbconvert_exporter": "python",
   "pygments_lexer": "ipython3",
   "version": "3.9.7"
  }
 },
 "nbformat": 4,
 "nbformat_minor": 5
}
