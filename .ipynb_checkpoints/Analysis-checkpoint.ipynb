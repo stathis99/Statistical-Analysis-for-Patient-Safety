{
 "cells": [
  {
   "cell_type": "markdown",
   "id": "21633eae",
   "metadata": {},
   "source": [
    "# Data Analysis For Hospital Patient Safety"
   ]
  },
  {
   "cell_type": "markdown",
   "id": "b78a6a73",
   "metadata": {},
   "source": [
    "### Data Collection"
   ]
  },
  {
   "cell_type": "code",
   "execution_count": 1,
   "id": "7ea98c54",
   "metadata": {},
   "outputs": [],
   "source": [
    "# Libraries\n",
    "import pandas as pd"
   ]
  },
  {
   "cell_type": "code",
   "execution_count": 66,
   "id": "243e3af4",
   "metadata": {},
   "outputs": [],
   "source": [
    "#Load Data\n",
    "sismanoglio = pd.read_csv('Data/Sismanoglio.csv')\n",
    "evangelismos = pd.read_csv('Data/Evagelismos.csv')\n",
    "genimatas = pd.read_csv('Data/Genimatas.csv')\n",
    "thriasio = pd.read_csv('Data/Thriasio.csv')\n",
    "mpenakio = pd.read_csv('Data/Mpenakio.csv')\n",
    "\n",
    "frames = [sismanoglio,evangelismos,genimatas,thriasio,mpenakio]\n",
    "\n",
    "hospitals = pd.concat(frames)"
   ]
  },
  {
   "cell_type": "code",
   "execution_count": 67,
   "id": "b6554bf1",
   "metadata": {},
   "outputs": [
    {
     "name": "stdout",
     "output_type": "stream",
     "text": [
      "sismanoglio has 16 rows/answers and  60 columns/questios\n",
      "evangelismos has 17 rows/answers and  60 columns/questios\n",
      "genimatas has 56 rows/answers and  60 columns/questios\n",
      "thriasio has 12 rows/answers and  60 columns/questios\n",
      "mpenakio has 2 rows/answers and  60 columns/questios\n"
     ]
    }
   ],
   "source": [
    "#Shape of Data\n",
    "print('sismanoglio has', sismanoglio.shape[0], 'rows/answers and ',sismanoglio.shape[1], 'columns/questios')\n",
    "print('evangelismos has', evangelismos.shape[0], 'rows/answers and ',evangelismos.shape[1], 'columns/questios')\n",
    "print('genimatas has', genimatas.shape[0], 'rows/answers and ',genimatas.shape[1], 'columns/questios')\n",
    "print('thriasio has', thriasio.shape[0], 'rows/answers and ',thriasio.shape[1], 'columns/questios')\n",
    "print('mpenakio has', mpenakio.shape[0], 'rows/answers and ',mpenakio.shape[1], 'columns/questios')\n"
   ]
  },
  {
   "cell_type": "code",
   "execution_count": 72,
   "id": "bdeedc1d",
   "metadata": {},
   "outputs": [
    {
     "name": "stdout",
     "output_type": "stream",
     "text": [
      "hospitlas have 103 rows/answers and  61 columns/questios\n"
     ]
    }
   ],
   "source": [
    "print('hospitlas have', hospitals.shape[0], 'rows/answers and ',hospitals.shape[1], 'columns/questios')"
   ]
  },
  {
   "cell_type": "markdown",
   "id": "f8ddca5e",
   "metadata": {},
   "source": [
    "### Data cleaning"
   ]
  },
  {
   "cell_type": "code",
   "execution_count": null,
   "id": "6ce6310a",
   "metadata": {},
   "outputs": [],
   "source": [
    "#Drop irrelevant coumns\n",
    "hospitals.drop(\"Χρονική σήμανση\", axis=1, inplace=True)"
   ]
  },
  {
   "cell_type": "code",
   "execution_count": null,
   "id": "aa665bc5",
   "metadata": {},
   "outputs": [],
   "source": [
    "#print all questions\n",
    "for index, item in enumerate(hospitals.columns, start=0):  \n",
    "    print(index,\" \", item)"
   ]
  },
  {
   "cell_type": "code",
   "execution_count": 112,
   "id": "92517f90",
   "metadata": {},
   "outputs": [],
   "source": [
    "hospitals_jobField  = hospitals.iloc[: , :5]\n",
    "hospitals_personalInfo = hospitals.iloc[:, 49:58]\n",
    "hospitals_questions = hospitals.iloc[:, 5:49]"
   ]
  },
  {
   "cell_type": "code",
   "execution_count": 113,
   "id": "2f7aeabe",
   "metadata": {},
   "outputs": [
    {
     "name": "stdout",
     "output_type": "stream",
     "text": [
      "0   1. Οι εργαζόμενοι υποστηρίζουν ο ένας τον άλλον.\n",
      "1   2. Υπάρχει επαρκές προσωπικό για τη διεκπεραίωση της εργασίας.\n",
      "2   3. Όταν υπάρχει μεγάλος όγκος εργασίας που πρέπει να γίνει άμεσα, το προσωπικό εργάζεται ομαδικά για την ολοκλήρωση της.\n",
      "3   4. Υπάρχει σεβασμός ανάμεσα στους εργαζομένους.\n",
      "4   5. Το προσωπικό εργάζεται περισσότερες ώρες από αυτές που διασφαλίζουν ασφαλή φροντίδα για τον ασθενή.\n",
      "5   6. Το προσωπικό εργάζεται δυναμικά για τη βελτίωση της ασφάλειας του ασθενούς.\n",
      "6   7. Αξιοποιείται περισσότερο προσωρινό προσωπικό από αυτό που διασφαλίζει την ασφαλή φροντίδα του ασθενούς.\n",
      "7   8. Το προσωπικό αισθάνεται ότι τα λάθη του μπορεί να χρησιμοποιηθούν εναντίον του. \n",
      "8   9. Τα λάθη οδήγησαν σε θετικές αλλαγές.\n",
      "9   10. Από τύχη δεν συμβαίνουν σοβαρά λάθη.\n",
      "10   11. Όταν υπάρχει μεγάλος φόρτος εργασίας παρέχεται βοήθεια από άλλες Μονάδες.\n",
      "11   12. Όταν δηλώνεται ένα δυσμενές συμβάν, υπάρχει η αίσθηση ότι καταγράφεται το άτομο και όχι το καθαυτό συμβάν.\n",
      "12   13. Όταν γίνονται αλλαγές για τη βελτίωση της ασφάλειας του ασθενούς, αξιολογείται η αποτελεσματικότητά τους.\n",
      "13   14. Το προσωπικό εργάζεται σε «κατάσταση κρίσης» προσπαθώντας να κάνει πολλά πράγματα γρήγορα.\n",
      "14   15. Η ασφάλεια του ασθενούς αποτελεί προτεραιότητα ακόμα και όταν υπάρχει φόρτος εργασίας. \n",
      "15   16. Το προσωπικό ανησυχεί ότι τα λάθη του καταγράφονται στο προσωπικό του φάκελο.\n",
      "16   17. Υπάρχει πρόβλημα ασφάλειας του ασθενούς.\n",
      "17   18. Οι διαδικασίες διεκπεραίωσης της εργασίας και το σύστημα εν γένει συμβάλλει στην πρόληψη δυσμενών συμβάντων.\n",
      "18   1. Επιβραβεύει το προσωπικό με καλά λόγια όταν τηρούνται οι διαδικασίες ασφαλούς φροντίδας του ασθενούς.\n",
      "19   2. Λαμβάνει σοβαρά υπόψη του τις προτάσεις του προσωπικού για βελτίωση της ασφάλειας του ασθενούς.\n",
      "20   3. Παροτρύνει το προσωπικό να εργάζεται γρηγορότερα όταν υπάρχει υπερβολικός φόρτος εργασίας και πίεση, ακόμη και όταν παραβλέπονται σημαντικές διαδικασίες ασφάλειας του ασθενούς.\n",
      "21   4. Παραβλέπει επαναλαμβανόμενα προβλήματα ασφάλειας του ασθενούς.\n",
      "22   1. Γίνεται συστηματική αξιολόγηση των αλλαγών που τίθενται σε εφαρμογή, βάσει δυσμενών συμβάντων που έχουν αναφερθεί. \n",
      "23   2. Το προσωπικό μιλάει ελεύθερα όταν διαπιστώσει κάτι που επιδρά αρνητικά στη φροντίδα υγείας του ασθενούς.\n",
      "24   3. Το προσωπικό ενημερώνεται συχνά για τα δυσμενή συμβάντα που λαμβάνουν χώρα.\n",
      "25   4. Το προσωπικό μπορεί ελεύθερα να αμφισβητήσει τις αποφάσεις ή τις ενέργειες των ανωτέρων του.\n",
      "26   5. Το προσωπικό συζητά τρόπους πρόληψης δυσμενών συμβάντων ώστε να μην επαναληφθούν.\n",
      "27   6. Το προσωπικό φοβάται να ρωτήσει, όταν κάτι δεν φαίνεται σωστό.\n",
      "28   …..αλλά εντοπιστεί και διορθωθεί πριν επηρεάσει τον ασθενή \n",
      "29   ……αλλά δεν έχει πιθανότητα να βλάψει τον ασθενή.\n",
      "30   …..που θα μπορούσε να βλάψει τον ασθενή, αλλά δεν τον επηρέασε \n",
      "31   Παρακαλώ αξιολογήστε το επίπεδο ασφάλειας των ασθενών συνολικά στο Εργασιακό Περιβάλλον/Μονάδα σας επιλέγοντας με √ την απάντηση που σας εκφράζει.\n",
      "32   1. Η Διοίκηση εξασφαλίζει εργασιακό κλίμα που προάγει την ασφάλεια του ασθενούς .\n",
      "33   2. Υπάρχει ελλιπής συντονισμός μεταξύ των Μονάδων.\n",
      "34   3. Η μεταφορά ασθενούς από τη μία Μονάδα στην άλλη συνήθως συνοδεύεται από προβλήματα.\n",
      "35   4. Υπάρχει καλή συνεργασία ανάμεσα στις Μονάδες όταν αυτό απαιτείται.\n",
      "36   5. Συχνά, σημαντικές πληροφορίες σχετικά με τη νοσηλεία του ασθενούς χάνονται κατά την αλλαγή της βάρδιας.\n",
      "37   6. Η συνεργασία με το προσωπικό άλλων Μονάδων είναι συχνά δυσάρεστη.\n",
      "38   7. Συχνά παρουσιάζονται διάφορα προβλήματα κατά την ανταλλαγή πληροφοριών μεταξύ των Μονάδων.\n",
      "39   8. Η ασφάλεια του ασθενούς αποτελεί κύρια προτεραιότητα για την Διοίκηση.\n",
      "40   9. Η Διοίκηση δείχνει να ενδιαφέρεται για την ασφάλεια του ασθενούς μόνο μετά από την αναφορά κάποιου δυσμενούς συμβάντος.\n",
      "41   10. Οι Μονάδες συνεργάζονται καλά μεταξύ τους για την παροχή άριστης ποιοτικά φροντίδας υγείας στον ασθενή.\n",
      "42   11. Η αλλαγή βάρδιας είναι προβληματική για τον ασθενή.\n",
      "43   Τους τελευταίους 12 μήνες πόσα δυσμενή συμβάντα έχετε αναφέρει; (Αναφέρετε έναν αριθμό)\n"
     ]
    }
   ],
   "source": [
    "#print all questions\n",
    "for index, item in enumerate(hospitals_questions, start=0):  \n",
    "    print(index,\" \", item)"
   ]
  },
  {
   "cell_type": "markdown",
   "id": "136abe5b",
   "metadata": {},
   "source": [
    "### Split Questions to 12 categories according to HSOPSC"
   ]
  },
  {
   "cell_type": "code",
   "execution_count": 116,
   "id": "86556220",
   "metadata": {},
   "outputs": [
    {
     "data": {
      "text/plain": [
       "0     2\n",
       "1     2\n",
       "2     4\n",
       "3     2\n",
       "4     1\n",
       "     ..\n",
       "9     2\n",
       "10    1\n",
       "11    3\n",
       "0     2\n",
       "1     2\n",
       "Name: 6. Το προσωπικό φοβάται να ρωτήσει, όταν κάτι δεν φαίνεται σωστό., Length: 103, dtype: int64"
      ]
     },
     "execution_count": 116,
     "metadata": {},
     "output_type": "execute_result"
    }
   ],
   "source": [
    "\n",
    "\n",
    "hospitals_questions[:]['6. Το προσωπικό φοβάται να ρωτήσει, όταν κάτι δεν φαίνεται σωστό.']"
   ]
  },
  {
   "cell_type": "code",
   "execution_count": null,
   "id": "27576a4b",
   "metadata": {},
   "outputs": [],
   "source": []
  }
 ],
 "metadata": {
  "kernelspec": {
   "display_name": "Python 3 (ipykernel)",
   "language": "python",
   "name": "python3"
  },
  "language_info": {
   "codemirror_mode": {
    "name": "ipython",
    "version": 3
   },
   "file_extension": ".py",
   "mimetype": "text/x-python",
   "name": "python",
   "nbconvert_exporter": "python",
   "pygments_lexer": "ipython3",
   "version": "3.9.7"
  }
 },
 "nbformat": 4,
 "nbformat_minor": 5
}
