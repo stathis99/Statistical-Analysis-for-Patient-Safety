{
 "cells": [
  {
   "cell_type": "markdown",
   "id": "b44516e8",
   "metadata": {},
   "source": [
    "# Positive Answer Charts for every Questione and Parameter"
   ]
  },
  {
   "cell_type": "code",
   "execution_count": 55,
   "id": "18cca55d",
   "metadata": {},
   "outputs": [],
   "source": [
    "#Libraries\n",
    "import numpy as np\n",
    "import matplotlib.pyplot as plt"
   ]
  },
  {
   "cell_type": "code",
   "execution_count": 56,
   "id": "629ce6c2",
   "metadata": {},
   "outputs": [],
   "source": [
    "# Get parameters from notebook 1\n",
    "\n",
    "%store -r open_communication\n",
    "%store -r parameter_2\n",
    "%store -r parameter_3\n",
    "%store -r parameter_4\n",
    "%store -r parameter_5\n",
    "%store -r parameter_6\n",
    "%store -r parameter_7\n",
    "%store -r parameter_8\n",
    "%store -r parameter_9\n",
    "%store -r parameter_10\n",
    "%store -r parameter_11\n",
    "%store -r parameter_12\n",
    "%store -r parameter_13"
   ]
  },
  {
   "cell_type": "code",
   "execution_count": 57,
   "id": "0beac42d",
   "metadata": {},
   "outputs": [],
   "source": [
    "allPositive  = []"
   ]
  },
  {
   "cell_type": "code",
   "execution_count": 58,
   "id": "2a9cbd96",
   "metadata": {},
   "outputs": [
    {
     "name": "stdout",
     "output_type": "stream",
     "text": [
      "Percentage of positive answers for this parametrt is  0.5210355987055015\n"
     ]
    }
   ],
   "source": [
    "#Open Communication\n",
    "\n",
    "relative_frequencies = open_communication.apply(lambda x: x.value_counts(normalize=True))\n",
    "positive_answers1 = relative_frequencies.iloc[3:6].sum().sum()/3\n",
    "print(\"Percentage of positive answers for this parametrt is \", positive_answers1)\n",
    "allPositive.append(positive_answers1)"
   ]
  },
  {
   "cell_type": "code",
   "execution_count": 59,
   "id": "2d7b45c0",
   "metadata": {},
   "outputs": [
    {
     "name": "stdout",
     "output_type": "stream",
     "text": [
      "Percentage of positive answers for this parametrt is  0.5762873831643587\n"
     ]
    }
   ],
   "source": [
    "#Feedback and communication about mistakes\n",
    "\n",
    "relative_frequencies = parameter_2.apply(lambda x: x.value_counts(normalize=True))\n",
    "positive_answers2 = relative_frequencies.iloc[3:6].sum().sum()/3\n",
    "print(\"Percentage of positive answers for this parametrt is \", positive_answers2)\n",
    "allPositive.append(positive_answers2)"
   ]
  },
  {
   "cell_type": "code",
   "execution_count": 60,
   "id": "2f32d525",
   "metadata": {},
   "outputs": [
    {
     "name": "stdout",
     "output_type": "stream",
     "text": [
      "Percentage of positive answers for this parametrt is  0.5916619074814392\n"
     ]
    }
   ],
   "source": [
    "#Organize and continious learning\n",
    "\n",
    "relative_frequencies = parameter_3.apply(lambda x: x.value_counts(normalize=True))\n",
    "positive_answers3 = relative_frequencies.iloc[3:6].sum().sum()/3\n",
    "print(\"Percentage of positive answers for this parametrt is \", positive_answers3)\n",
    "allPositive.append(positive_answers3)"
   ]
  },
  {
   "cell_type": "code",
   "execution_count": 61,
   "id": "90f7c636",
   "metadata": {},
   "outputs": [
    {
     "name": "stdout",
     "output_type": "stream",
     "text": [
      "Percentage of positive answers for this parametrt is  0.5466876070816675\n"
     ]
    }
   ],
   "source": [
    "#Cooperation within hospital's department\n",
    "\n",
    "relative_frequencies = parameter_4.apply(lambda x: x.value_counts(normalize=True))\n",
    "positive_answers4 = relative_frequencies.iloc[3:6].sum().sum()/4\n",
    "print(\"Percentage of positive answers for this parametrt is \", positive_answers4)\n",
    "allPositive.append(positive_answers4)"
   ]
  },
  {
   "cell_type": "code",
   "execution_count": 62,
   "id": "363f6359",
   "metadata": {},
   "outputs": [
    {
     "name": "stdout",
     "output_type": "stream",
     "text": [
      "Percentage of positive answers for this parametrt is  0.2859001205660258\n"
     ]
    }
   ],
   "source": [
    "#Not punishing reaction for mistakes\n",
    "\n",
    "relative_frequencies = parameter_5.apply(lambda x: x.value_counts(normalize=True))\n",
    "positive_answers5 = relative_frequencies.iloc[3:6].sum().sum()/3\n",
    "print(\"Percentage of positive answers for this parametrt is \", positive_answers5)\n",
    "allPositive.append(positive_answers5)"
   ]
  },
  {
   "cell_type": "code",
   "execution_count": 63,
   "id": "3b8fad81",
   "metadata": {},
   "outputs": [
    {
     "name": "stdout",
     "output_type": "stream",
     "text": [
      "Percentage of positive answers for this parametrt is  0.6470350276032742\n"
     ]
    }
   ],
   "source": [
    "#Expectations and actions of Supervisors\n",
    "\n",
    "relative_frequencies = parameter_6.apply(lambda x: x.value_counts(normalize=True))\n",
    "positive_answers6 = relative_frequencies.iloc[3:6].sum().sum()/4\n",
    "print(\"Percentage of positive answers for this parametrt is \", positive_answers6)\n",
    "allPositive.append(positive_answers6)"
   ]
  },
  {
   "cell_type": "code",
   "execution_count": 64,
   "id": "80beedfc",
   "metadata": {},
   "outputs": [
    {
     "name": "stdout",
     "output_type": "stream",
     "text": [
      "Percentage of positive answers for this parametrt is  0.1950398923387484\n"
     ]
    }
   ],
   "source": [
    "#Staff\n",
    "\n",
    "relative_frequencies = parameter_7.apply(lambda x: x.value_counts(normalize=True))\n",
    "positive_answers7 = relative_frequencies.iloc[3:6].sum().sum()/4\n",
    "print(\"Percentage of positive answers for this parametrt is \", positive_answers7)\n",
    "allPositive.append(positive_answers7)"
   ]
  },
  {
   "cell_type": "code",
   "execution_count": 65,
   "id": "f1314da4",
   "metadata": {},
   "outputs": [
    {
     "name": "stdout",
     "output_type": "stream",
     "text": [
      "Percentage of positive answers for this parametrt is  0.43949489180785584\n"
     ]
    }
   ],
   "source": [
    "#Support form supervisor in safety measures\n",
    "\n",
    "relative_frequencies = parameter_8.apply(lambda x: x.value_counts(normalize=True))\n",
    "positive_answers8 = relative_frequencies.iloc[3:6].sum().sum()/3\n",
    "print(\"Percentage of positive answers for this parametrt is \", positive_answers8)\n",
    "allPositive.append(positive_answers8)"
   ]
  },
  {
   "cell_type": "code",
   "execution_count": 66,
   "id": "c769a146",
   "metadata": {},
   "outputs": [
    {
     "name": "stdout",
     "output_type": "stream",
     "text": [
      "Percentage of positive answers for this parametrt is  0.4962402436702837\n"
     ]
    }
   ],
   "source": [
    "#Cooperation and teamwork withhin departments\n",
    "\n",
    "relative_frequencies = parameter_9.apply(lambda x: x.value_counts(normalize=True))\n",
    "positive_answers9 = relative_frequencies.iloc[3:6].sum().sum()/4\n",
    "print(\"Percentage of positive answers for this parametrt is \", positive_answers9)\n",
    "allPositive.append(positive_answers9)"
   ]
  },
  {
   "cell_type": "code",
   "execution_count": 67,
   "id": "ba8d415a",
   "metadata": {},
   "outputs": [
    {
     "name": "stdout",
     "output_type": "stream",
     "text": [
      "Percentage of positive answers for this parametrt is  0.18770226537216828\n"
     ]
    }
   ],
   "source": [
    "#Trnasfers of Patients within the hospital\n",
    "relative_frequencies = parameter_10.apply(lambda x: x.value_counts(normalize=True))\n",
    "positive_answers10 = relative_frequencies.iloc[3:6].sum().sum()/4\n",
    "print(\"Percentage of positive answers for this parametrt is \", positive_answers10)\n",
    "allPositive.append(positive_answers10)"
   ]
  },
  {
   "cell_type": "code",
   "execution_count": 68,
   "id": "e479f71a",
   "metadata": {},
   "outputs": [
    {
     "name": "stdout",
     "output_type": "stream",
     "text": [
      "Percentage of positive answers for this parametrt is  0.14472917880023298\n"
     ]
    }
   ],
   "source": [
    "#Relative report of mistakes \n",
    "\n",
    "relative_frequencies = parameter_11.apply(lambda x: x.value_counts(normalize=True))\n",
    "positive_answers11 = relative_frequencies.iloc[3:6].sum().sum()/3\n",
    "print(\"Percentage of positive answers for this parametrt is \", positive_answers11)\n",
    "allPositive.append(positive_answers11)"
   ]
  },
  {
   "cell_type": "code",
   "execution_count": 69,
   "id": "cca5be71",
   "metadata": {},
   "outputs": [
    {
     "name": "stdout",
     "output_type": "stream",
     "text": [
      "Percentage of positive answers for this parametrt is  0.5873072529982868\n"
     ]
    }
   ],
   "source": [
    "#Overall safety feeling\n",
    "\n",
    "relative_frequencies = parameter_12.apply(lambda x: x.value_counts(normalize=True))\n",
    "positive_answers12 = relative_frequencies.iloc[3:6].sum().sum()/4\n",
    "print(\"Percentage of positive answers for this parametrt is \", positive_answers12)\n",
    "allPositive.append(positive_answers12)"
   ]
  },
  {
   "cell_type": "code",
   "execution_count": 70,
   "id": "60685b3a",
   "metadata": {},
   "outputs": [
    {
     "data": {
      "text/plain": [
       "[0.5210355987055015,\n",
       " 0.5762873831643587,\n",
       " 0.5916619074814392,\n",
       " 0.5466876070816675,\n",
       " 0.2859001205660258,\n",
       " 0.6470350276032742,\n",
       " 0.1950398923387484,\n",
       " 0.43949489180785584,\n",
       " 0.4962402436702837,\n",
       " 0.18770226537216828,\n",
       " 0.14472917880023298,\n",
       " 0.5873072529982868]"
      ]
     },
     "execution_count": 70,
     "metadata": {},
     "output_type": "execute_result"
    }
   ],
   "source": [
    "allPositive"
   ]
  },
  {
   "cell_type": "code",
   "execution_count": 127,
   "id": "49b0536d",
   "metadata": {},
   "outputs": [
    {
     "data": {
      "image/png": "[encoded data removed]",
      "text/plain": [
       "<Figure size 576x504 with 1 Axes>"
      ]
     },
     "metadata": {
      "needs_background": "light"
     },
     "output_type": "display_data"
    }
   ],
   "source": [
    "\n",
    "\n",
    "name = ['parameter 1','parameter 2','parameter 3','parameter 4','parameter 5','parameter 6','parameter 7','parameter 8','parameter 9','parameter 10','parameter 11','parameter 12']\n",
    "price = allPositive\n",
    "\n",
    "# Figure Size\n",
    "fig, ax = plt.subplots(figsize =(8, 7))\n",
    "\n",
    "# Horizontal Bar Plot\n",
    "ax.barh(name, price,color=(0.2, 0.4, 0.6, 0.6))\n",
    "\n",
    "# Remove axes splines\n",
    "for s in ['top', 'bottom', 'left', 'right']:\n",
    "\tax.spines[s].set_visible(False)\n",
    "\n",
    "# Remove x, y Ticks\n",
    "ax.xaxis.set_ticks_position('none')\n",
    "ax.yaxis.set_ticks_position('none')\n",
    "\n",
    "# Add padding between axes and labels\n",
    "ax.xaxis.set_tick_params(pad = 1)\n",
    "ax.yaxis.set_tick_params(pad = 10)\n",
    "\n",
    "# Add x, y gridlines\n",
    "ax.grid(b = True, color ='grey',\n",
    "\t\tlinestyle ='-.', linewidth = 0.9,\n",
    "\t\talpha = 0.2)\n",
    "\n",
    "# Show top values\n",
    "ax.invert_yaxis()\n",
    "\n",
    "# Add annotation to bars\n",
    "for i in ax.patches:\n",
    "\tplt.text(i.get_width()+0.01, i.get_y()+0.4,\n",
    "\t\t\tstr(round((i.get_width()), 2)),\n",
    "\t\t\tfontsize = 10, fontweight ='bold',\n",
    "\t\t\tcolor ='grey')\n",
    "    \n",
    "# Add Plot Title\n",
    "ax.set_title('Positive answers for every parameter',\n",
    "\t\t\tloc ='left', )\n",
    "\n",
    "# Show Plot\n",
    "plt.show()\n"
   ]
  },
  {
   "cell_type": "code",
   "execution_count": 133,
   "id": "b2d7333c",
   "metadata": {},
   "outputs": [
    {
     "data": {
      "text/plain": [
       "4. Το προσωπικό μπορεί ελεύθερα να αμφισβητήσει τις αποφάσεις ή τις ενέργειες των ανωτέρων του.                0.262136\n",
       "2. Το προσωπικό μιλάει ελεύθερα όταν διαπιστώσει κάτι που επιδρά αρνητικά στη φροντίδα υγείας του ασθενούς.    0.708738\n",
       "6. Το προσωπικό φοβάται να ρωτήσει, όταν κάτι δεν φαίνεται σωστό.                                              0.592233\n",
       "dtype: float64"
      ]
     },
     "execution_count": 133,
     "metadata": {},
     "output_type": "execute_result"
    }
   ],
   "source": [
    "relative_frequencies = open_communication.apply(lambda x: x.value_counts(normalize=True))\n",
    "positive_answers1 = relative_frequencies.iloc[3:6].sum()\n",
    "\n",
    "positive_answers1"
   ]
  },
  {
   "cell_type": "code",
   "execution_count": 134,
   "id": "cad87265",
   "metadata": {},
   "outputs": [
    {
     "data": {
      "image/png": "[encoded data removed]",
      "text/plain": [
       "<Figure size 576x504 with 1 Axes>"
      ]
     },
     "metadata": {
      "needs_background": "light"
     },
     "output_type": "display_data"
    }
   ],
   "source": [
    "\n",
    "\n",
    "name = ['parameter 1','parameter 2','parameter 3']\n",
    "price = positive_answers1\n",
    "\n",
    "# Figure Size\n",
    "fig, ax = plt.subplots(figsize =(8, 7))\n",
    "\n",
    "# Horizontal Bar Plot\n",
    "ax.barh(name, price,color=(0.2, 0.4, 0.6, 0.6))\n",
    "\n",
    "# Remove axes splines\n",
    "for s in ['top', 'bottom', 'left', 'right']:\n",
    "\tax.spines[s].set_visible(False)\n",
    "\n",
    "# Remove x, y Ticks\n",
    "ax.xaxis.set_ticks_position('none')\n",
    "ax.yaxis.set_ticks_position('none')\n",
    "\n",
    "# Add padding between axes and labels\n",
    "ax.xaxis.set_tick_params(pad = 1)\n",
    "ax.yaxis.set_tick_params(pad = 10)\n",
    "\n",
    "# Add x, y gridlines\n",
    "ax.grid(b = True, color ='grey',\n",
    "\t\tlinestyle ='-.', linewidth = 0.9,\n",
    "\t\talpha = 0.2)\n",
    "\n",
    "# Show top values\n",
    "ax.invert_yaxis()\n",
    "\n",
    "# Add annotation to bars\n",
    "for i in ax.patches:\n",
    "\tplt.text(i.get_width()+0.01, i.get_y()+0.4,\n",
    "\t\t\tstr(round((i.get_width()), 2)),\n",
    "\t\t\tfontsize = 10, fontweight ='bold',\n",
    "\t\t\tcolor ='grey')\n",
    "    \n",
    "# Add Plot Title\n",
    "ax.set_title('Positive answers for every parameter',\n",
    "\t\t\tloc ='left', )\n",
    "\n",
    "# Show Plot\n",
    "plt.show()\n"
   ]
  },
  {
   "cell_type": "code",
   "execution_count": null,
   "id": "78a126bc",
   "metadata": {},
   "outputs": [],
   "source": []
  }
 ],
 "metadata": {
  "kernelspec": {
   "display_name": "Python 3 (ipykernel)",
   "language": "python",
   "name": "python3"
  },
  "language_info": {
   "codemirror_mode": {
    "name": "ipython",
    "version": 3
   },
   "file_extension": ".py",
   "mimetype": "text/x-python",
   "name": "python",
   "nbconvert_exporter": "python",
   "pygments_lexer": "ipython3",
   "version": "3.9.7"
  }
 },
 "nbformat": 4,
 "nbformat_minor": 5
}
