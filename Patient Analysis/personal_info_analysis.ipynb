{
 "cells": [
  {
   "cell_type": "code",
   "execution_count": 85,
   "id": "9f7fab78",
   "metadata": {},
   "outputs": [],
   "source": [
    "# Libraries\n",
    "import pandas as pd\n",
    "import pingouin as pg\n",
    "import matplotlib.pyplot as plt\n",
    "import seaborn as sns\n",
    "import numpy as np\n",
    "\n",
    "pd.options.mode.chained_assignment = None  # default='warn'\n"
   ]
  },
  {
   "cell_type": "markdown",
   "id": "2a33c5ef",
   "metadata": {},
   "source": [
    "## Personal Info Exploratory Analysis for patients"
   ]
  },
  {
   "cell_type": "code",
   "execution_count": 86,
   "id": "41c2e374",
   "metadata": {},
   "outputs": [],
   "source": [
    "#helper function that creates bar charts\n",
    "def my_graph(y,x,title,sizeX,sizeY,prin):\n",
    "\n",
    "\n",
    "    # Figure Size\n",
    "    fig, ax = plt.subplots(figsize =(sizeX, sizeY))\n",
    "\n",
    "    # Horizontal Bar Plot\n",
    "    ax.barh(y, x,color=(0.0, 0.4, 0.6, 0.6))\n",
    "\n",
    "    # Remove axes splines\n",
    "    for s in ['top', 'bottom', 'left', 'right']:\n",
    "        ax.spines[s].set_visible(False)\n",
    "\n",
    "    # Remove x, y Ticks\n",
    "    ax.xaxis.set_ticks_position('none')\n",
    "    #ax.yaxis.set_ticks_position('none')\n",
    "\n",
    "    # Add padding between axes and labels\n",
    "    ax.xaxis.set_tick_params(pad = 1)\n",
    "    ax.yaxis.set_tick_params(pad = 10)\n",
    "    ax.set_xticklabels([])\n",
    "    \n",
    "    # Add x, y gridlines\n",
    "    ax.grid(b = True, color ='grey',\n",
    "            linestyle ='-.', linewidth = 0.9,\n",
    "            alpha = 0.2)\n",
    "\n",
    "    # Show top values\n",
    "    ax.invert_yaxis()\n",
    "\n",
    "    # Add annotation to bars\n",
    "    for i in ax.patches:\n",
    "        plt.text(i.get_width()+0.01, i.get_y()+0.40,\n",
    "                str(round((i.get_width()), 1))+'%',\n",
    "                fontsize = 10, fontweight ='bold',\n",
    "                color ='black')\n",
    "    \n",
    "\n",
    "    # Add Plot Title\n",
    "    ax.set_title(title,\n",
    "                loc ='left', )\n",
    "    \n",
    "    if(prin == 1):\n",
    "        plt.tight_layout()\n",
    "        plt.savefig('personal.png')\n",
    "        \n",
    "\n",
    "    # Show Plot\n",
    "    plt.show()\n",
    "\n"
   ]
  },
  {
   "cell_type": "code",
   "execution_count": 87,
   "id": "c05a8cc3",
   "metadata": {},
   "outputs": [],
   "source": [
    "%store -r patients_personalInfo"
   ]
  },
  {
   "cell_type": "code",
   "execution_count": 88,
   "id": "eb1310bc",
   "metadata": {},
   "outputs": [
    {
     "data": {
      "text/html": [
       "<div>\n",
       "<style scoped>\n",
       "    .dataframe tbody tr th:only-of-type {\n",
       "        vertical-align: middle;\n",
       "    }\n",
       "\n",
       "    .dataframe tbody tr th {\n",
       "        vertical-align: top;\n",
       "    }\n",
       "\n",
       "    .dataframe thead th {\n",
       "        text-align: right;\n",
       "    }\n",
       "</style>\n",
       "<table border=\"1\" class=\"dataframe\">\n",
       "  <thead>\n",
       "    <tr style=\"text-align: right;\">\n",
       "      <th></th>\n",
       "      <th>sex</th>\n",
       "      <th>age</th>\n",
       "      <th>education</th>\n",
       "      <th>family</th>\n",
       "      <th>occupation</th>\n",
       "      <th>income</th>\n",
       "      <th>nationality</th>\n",
       "      <th>nursing field</th>\n",
       "      <th>nursing days</th>\n",
       "      <th>safety evaluation</th>\n",
       "      <th>comments</th>\n",
       "    </tr>\n",
       "  </thead>\n",
       "  <tbody>\n",
       "    <tr>\n",
       "      <th>0</th>\n",
       "      <td>2</td>\n",
       "      <td>30.0</td>\n",
       "      <td>8.0</td>\n",
       "      <td>3.0</td>\n",
       "      <td>1.0</td>\n",
       "      <td>2.0</td>\n",
       "      <td>2</td>\n",
       "      <td>1.0</td>\n",
       "      <td>5.0</td>\n",
       "      <td>5.0</td>\n",
       "      <td>oxi</td>\n",
       "    </tr>\n",
       "    <tr>\n",
       "      <th>1</th>\n",
       "      <td>2</td>\n",
       "      <td>72.0</td>\n",
       "      <td>4.0</td>\n",
       "      <td>3.0</td>\n",
       "      <td>3.0</td>\n",
       "      <td>1.0</td>\n",
       "      <td>1</td>\n",
       "      <td>2.0</td>\n",
       "      <td>7.0</td>\n",
       "      <td>3.0</td>\n",
       "      <td>Περιστέρια στον θάλαμο</td>\n",
       "    </tr>\n",
       "    <tr>\n",
       "      <th>2</th>\n",
       "      <td>2</td>\n",
       "      <td>58.0</td>\n",
       "      <td>3.0</td>\n",
       "      <td>3.0</td>\n",
       "      <td>1.0</td>\n",
       "      <td>1.0</td>\n",
       "      <td>1</td>\n",
       "      <td>2.0</td>\n",
       "      <td>6.0</td>\n",
       "      <td>5.0</td>\n",
       "      <td>oxi</td>\n",
       "    </tr>\n",
       "    <tr>\n",
       "      <th>3</th>\n",
       "      <td>2</td>\n",
       "      <td>71.0</td>\n",
       "      <td>1.0</td>\n",
       "      <td>3.0</td>\n",
       "      <td>3.0</td>\n",
       "      <td>1.0</td>\n",
       "      <td>1</td>\n",
       "      <td>2.0</td>\n",
       "      <td>7.0</td>\n",
       "      <td>5.0</td>\n",
       "      <td>Peristeria ston thalamo</td>\n",
       "    </tr>\n",
       "    <tr>\n",
       "      <th>4</th>\n",
       "      <td>2</td>\n",
       "      <td>72.0</td>\n",
       "      <td>1.0</td>\n",
       "      <td>3.0</td>\n",
       "      <td>3.0</td>\n",
       "      <td>1.0</td>\n",
       "      <td>1</td>\n",
       "      <td>2.0</td>\n",
       "      <td>7.0</td>\n",
       "      <td>5.0</td>\n",
       "      <td>peristeria ston thalamo</td>\n",
       "    </tr>\n",
       "    <tr>\n",
       "      <th>...</th>\n",
       "      <td>...</td>\n",
       "      <td>...</td>\n",
       "      <td>...</td>\n",
       "      <td>...</td>\n",
       "      <td>...</td>\n",
       "      <td>...</td>\n",
       "      <td>...</td>\n",
       "      <td>...</td>\n",
       "      <td>...</td>\n",
       "      <td>...</td>\n",
       "      <td>...</td>\n",
       "    </tr>\n",
       "    <tr>\n",
       "      <th>168</th>\n",
       "      <td>2</td>\n",
       "      <td>NaN</td>\n",
       "      <td>3.0</td>\n",
       "      <td>3.0</td>\n",
       "      <td>3.0</td>\n",
       "      <td>1.0</td>\n",
       "      <td>1</td>\n",
       "      <td>1.0</td>\n",
       "      <td>NaN</td>\n",
       "      <td>4.0</td>\n",
       "      <td>NaN</td>\n",
       "    </tr>\n",
       "    <tr>\n",
       "      <th>169</th>\n",
       "      <td>2</td>\n",
       "      <td>67.0</td>\n",
       "      <td>1.0</td>\n",
       "      <td>2.0</td>\n",
       "      <td>3.0</td>\n",
       "      <td>1.0</td>\n",
       "      <td>1</td>\n",
       "      <td>2.0</td>\n",
       "      <td>4.0</td>\n",
       "      <td>3.0</td>\n",
       "      <td>oxi</td>\n",
       "    </tr>\n",
       "    <tr>\n",
       "      <th>170</th>\n",
       "      <td>2</td>\n",
       "      <td>NaN</td>\n",
       "      <td>5.0</td>\n",
       "      <td>2.0</td>\n",
       "      <td>1.0</td>\n",
       "      <td>1.0</td>\n",
       "      <td>2</td>\n",
       "      <td>3.0</td>\n",
       "      <td>3.0</td>\n",
       "      <td>3.0</td>\n",
       "      <td>oxi</td>\n",
       "    </tr>\n",
       "    <tr>\n",
       "      <th>171</th>\n",
       "      <td>1</td>\n",
       "      <td>51.0</td>\n",
       "      <td>4.0</td>\n",
       "      <td>3.0</td>\n",
       "      <td>1.0</td>\n",
       "      <td>1.0</td>\n",
       "      <td>1</td>\n",
       "      <td>2.0</td>\n",
       "      <td>8.0</td>\n",
       "      <td>5.0</td>\n",
       "      <td>oxi</td>\n",
       "    </tr>\n",
       "    <tr>\n",
       "      <th>172</th>\n",
       "      <td>1</td>\n",
       "      <td>59.0</td>\n",
       "      <td>4.0</td>\n",
       "      <td>1.0</td>\n",
       "      <td>1.0</td>\n",
       "      <td>1.0</td>\n",
       "      <td>1</td>\n",
       "      <td>2.0</td>\n",
       "      <td>4.0</td>\n",
       "      <td>4.0</td>\n",
       "      <td>oxi</td>\n",
       "    </tr>\n",
       "  </tbody>\n",
       "</table>\n",
       "<p>173 rows × 11 columns</p>\n",
       "</div>"
      ],
      "text/plain": [
       "     sex   age  education  family  occupation  income  nationality  \\\n",
       "0      2  30.0        8.0     3.0         1.0     2.0            2   \n",
       "1      2  72.0        4.0     3.0         3.0     1.0            1   \n",
       "2      2  58.0        3.0     3.0         1.0     1.0            1   \n",
       "3      2  71.0        1.0     3.0         3.0     1.0            1   \n",
       "4      2  72.0        1.0     3.0         3.0     1.0            1   \n",
       "..   ...   ...        ...     ...         ...     ...          ...   \n",
       "168    2   NaN        3.0     3.0         3.0     1.0            1   \n",
       "169    2  67.0        1.0     2.0         3.0     1.0            1   \n",
       "170    2   NaN        5.0     2.0         1.0     1.0            2   \n",
       "171    1  51.0        4.0     3.0         1.0     1.0            1   \n",
       "172    1  59.0        4.0     1.0         1.0     1.0            1   \n",
       "\n",
       "     nursing field  nursing days  safety evaluation                 comments  \n",
       "0              1.0           5.0                5.0                      oxi  \n",
       "1              2.0           7.0                3.0   Περιστέρια στον θάλαμο  \n",
       "2              2.0           6.0                5.0                      oxi  \n",
       "3              2.0           7.0                5.0  Peristeria ston thalamo  \n",
       "4              2.0           7.0                5.0  peristeria ston thalamo  \n",
       "..             ...           ...                ...                      ...  \n",
       "168            1.0           NaN                4.0                      NaN  \n",
       "169            2.0           4.0                3.0                      oxi  \n",
       "170            3.0           3.0                3.0                      oxi  \n",
       "171            2.0           8.0                5.0                      oxi  \n",
       "172            2.0           4.0                4.0                      oxi  \n",
       "\n",
       "[173 rows x 11 columns]"
      ]
     },
     "execution_count": 88,
     "metadata": {},
     "output_type": "execute_result"
    }
   ],
   "source": [
    "patients_personalInfo\n"
   ]
  },
  {
   "cell_type": "code",
   "execution_count": 89,
   "id": "16cbf1b3",
   "metadata": {},
   "outputs": [],
   "source": [
    "# GENDER\n",
    "\n",
    "gender = patients_personalInfo['sex']\n",
    "\n",
    "absolute_frequencies = gender.value_counts()\n",
    "relative_frequencies = gender.value_counts(normalize=True)"
   ]
  },
  {
   "cell_type": "code",
   "execution_count": 90,
   "id": "bea31f99",
   "metadata": {},
   "outputs": [
    {
     "data": {
      "text/plain": [
       "1    0.560694\n",
       "2    0.439306\n",
       "Name: sex, dtype: float64"
      ]
     },
     "execution_count": 90,
     "metadata": {},
     "output_type": "execute_result"
    }
   ],
   "source": [
    "relative_frequencies"
   ]
  },
  {
   "cell_type": "code",
   "execution_count": 91,
   "id": "6c1b64c6",
   "metadata": {},
   "outputs": [],
   "source": [
    "relative_frequencies.index = ['Άνδρας','Γυναίκα']"
   ]
  },
  {
   "cell_type": "code",
   "execution_count": 92,
   "id": "eaca2916",
   "metadata": {},
   "outputs": [
    {
     "data": {
      "image/png": "[encoded data removed]",
      "text/plain": [
       "<Figure size 324x108 with 1 Axes>"
      ]
     },
     "metadata": {
      "needs_background": "light"
     },
     "output_type": "display_data"
    }
   ],
   "source": [
    "data = relative_frequencies*100\n",
    "labels = relative_frequencies.index\n",
    "\n",
    "\n",
    "my_graph(labels,data,\"Ποσοστιαία Κατανομή Φύλου\",4.5,1.5,0)"
   ]
  },
  {
   "cell_type": "code",
   "execution_count": 113,
   "id": "eb8e9e0b",
   "metadata": {},
   "outputs": [
    {
     "data": {
      "image/png": "[encoded data removed]",
      "text/plain": [
       "<Figure size 432x288 with 1 Axes>"
      ]
     },
     "metadata": {
      "needs_background": "light"
     },
     "output_type": "display_data"
    }
   ],
   "source": [
    "# AGE\n",
    "data = patients_personalInfo['age'].dropna().astype(int)\n",
    "\n",
    "\n",
    "#rm ouliers\n",
    "q = data.quantile(0.99)\n",
    "data = data[data < q]\n",
    "\n",
    "fig1, ax1 = plt.subplots()\n",
    "ax1.grid(b = True, color ='grey',\n",
    "        linestyle ='-.', linewidth = 0.9,\n",
    "        alpha = 0.2)\n",
    "\n",
    "bp = ax1.boxplot(data,showmeans=True)\n",
    "\n",
    "for box in bp['boxes']:\n",
    "    # change outline color\n",
    "    box.set(color=(0.0, 0.4, 0.6, 0.6), linewidth=2)\n",
    "\n",
    "label = ax1.set_ylabel('Ηλικία',fontsize='13')\n",
    "label = ax1.set_xlabel('Ασθενείς',fontsize='13')\n",
    "\n",
    "# Calculate the mean and variance\n",
    "mean = np.mean(data)\n",
    "std = np.std(data)\n",
    "\n",
    "# Annotate the plot with the mean and variance\n",
    "ax1.text(1.1, mean + 1.5, f'mean={mean:.2f}')\n",
    "ax1.text(1.1, mean - 1.5, f'std={std:.2f}')\n",
    "\n",
    "\n",
    "plt.savefig('age')\n",
    "\n",
    "plt.show()"
   ]
  },
  {
   "cell_type": "code",
   "execution_count": 122,
   "id": "123664b7",
   "metadata": {},
   "outputs": [],
   "source": [
    "#EDUCATION\n",
    "\n",
    "education = patients_personalInfo['education']\n",
    "\n",
    "absolute_frequencies = education.value_counts()\n",
    "relative_frequencies = education.value_counts(normalize=True)"
   ]
  },
  {
   "cell_type": "code",
   "execution_count": 123,
   "id": "f30390e5",
   "metadata": {},
   "outputs": [
    {
     "data": {
      "text/plain": [
       "4.0    0.255814\n",
       "7.0    0.186047\n",
       "1.0    0.174419\n",
       "6.0    0.127907\n",
       "5.0    0.104651\n",
       "3.0    0.098837\n",
       "8.0    0.040698\n",
       "2.0    0.011628\n",
       "Name: education, dtype: float64"
      ]
     },
     "execution_count": 123,
     "metadata": {},
     "output_type": "execute_result"
    }
   ],
   "source": [
    "relative_frequencies"
   ]
  },
  {
   "cell_type": "code",
   "execution_count": 130,
   "id": "fc23f854",
   "metadata": {},
   "outputs": [
    {
     "data": {
      "image/png": "[encoded data removed]",
      "text/plain": [
       "<Figure size 432x288 with 1 Axes>"
      ]
     },
     "metadata": {
      "needs_background": "light"
     },
     "output_type": "display_data"
    }
   ],
   "source": [
    "#define data\n",
    "data = relative_frequencies*100\n",
    "labels = ['Λύκειο','Πανεπηστίμιο','Δημοτικό','ΤΕΙ','Μεταλυκιακή','Γυμνάσιο','Μεταπτυχιακό/Διδακτορικό','Μερικές τάξεις Δημοτικού']\n",
    "\n",
    "\n",
    "my_graph(labels,data,\"Ποσοστιαία Κατανομή Eκπαίδευσης\",6,4,1)"
   ]
  },
  {
   "cell_type": "code",
   "execution_count": 131,
   "id": "1ce25609",
   "metadata": {},
   "outputs": [],
   "source": [
    "#EDUCATION\n",
    "family = patients_personalInfo['family']\n",
    "\n",
    "absolute_frequencies = family.value_counts()\n",
    "relative_frequencies = family.value_counts(normalize=True)"
   ]
  },
  {
   "cell_type": "code",
   "execution_count": 132,
   "id": "b0f4e848",
   "metadata": {},
   "outputs": [
    {
     "data": {
      "text/plain": [
       "3.0    0.476744\n",
       "1.0    0.325581\n",
       "2.0    0.197674\n",
       "Name: family, dtype: float64"
      ]
     },
     "execution_count": 132,
     "metadata": {},
     "output_type": "execute_result"
    }
   ],
   "source": [
    "relative_frequencies"
   ]
  },
  {
   "cell_type": "code",
   "execution_count": 133,
   "id": "dd5b604e",
   "metadata": {},
   "outputs": [
    {
     "data": {
      "image/png": "[encoded data removed]",
      "text/plain": [
       "<Figure size 360x144 with 1 Axes>"
      ]
     },
     "metadata": {
      "needs_background": "light"
     },
     "output_type": "display_data"
    }
   ],
   "source": [
    "data = relative_frequencies*100\n",
    "\n",
    "labels = ['Σε Γάμο/Συμβίωση με παιδιά','Μόνος','Σε Γάμο/Συμβίωση']\n",
    "\n",
    "\n",
    "my_graph(labels,data,\"Ποσοστιαία κατανομή Οικογενιακής Κατάστασης\",5,2,1)"
   ]
  },
  {
   "cell_type": "code",
   "execution_count": 134,
   "id": "9d674aad",
   "metadata": {},
   "outputs": [
    {
     "data": {
      "text/plain": [
       "0      1.0\n",
       "1      3.0\n",
       "2      1.0\n",
       "3      3.0\n",
       "4      3.0\n",
       "      ... \n",
       "168    3.0\n",
       "169    3.0\n",
       "170    1.0\n",
       "171    1.0\n",
       "172    1.0\n",
       "Name: occupation, Length: 173, dtype: float64"
      ]
     },
     "execution_count": 134,
     "metadata": {},
     "output_type": "execute_result"
    }
   ],
   "source": [
    "#OCCUPATION\n",
    "\n",
    "patients_personalInfo['occupation'] = patients_personalInfo['occupation'].replace(6,5)\n",
    "\n",
    "\n",
    "occupation = patients_personalInfo['occupation']\n",
    "\n",
    "\n",
    "\n",
    "absolute_frequencies = occupation.value_counts()\n",
    "relative_frequencies = occupation.value_counts(normalize=True)\n",
    "\n",
    "occupation"
   ]
  },
  {
   "cell_type": "code",
   "execution_count": 135,
   "id": "3b182f28",
   "metadata": {},
   "outputs": [
    {
     "data": {
      "text/plain": [
       "1.0    0.500000\n",
       "3.0    0.331395\n",
       "2.0    0.104651\n",
       "5.0    0.034884\n",
       "4.0    0.029070\n",
       "Name: occupation, dtype: float64"
      ]
     },
     "execution_count": 135,
     "metadata": {},
     "output_type": "execute_result"
    }
   ],
   "source": [
    "relative_frequencies"
   ]
  },
  {
   "cell_type": "code",
   "execution_count": 137,
   "id": "98ff6da8",
   "metadata": {},
   "outputs": [
    {
     "data": {
      "image/png": "[encoded data removed]",
      "text/plain": [
       "<Figure size 432x180 with 1 Axes>"
      ]
     },
     "metadata": {
      "needs_background": "light"
     },
     "output_type": "display_data"
    }
   ],
   "source": [
    "data = relative_frequencies*100\n",
    "labels = ['Εργαζόμενος/η','Συνταξιούχος','Άνεργος/η','Αλλο','Φοιτητής/τρια']\n",
    "\n",
    "\n",
    "my_graph(labels,data,\"Ποσοστιαία κατανομή απασχόλησης\",6,2.5,1)"
   ]
  },
  {
   "cell_type": "code",
   "execution_count": 138,
   "id": "2d00cd60",
   "metadata": {},
   "outputs": [],
   "source": [
    "#INCOME\n",
    "income = patients_personalInfo['income']\n",
    "\n",
    "absolute_frequencies = income.value_counts()\n",
    "relative_frequencies = income.value_counts(normalize=True)"
   ]
  },
  {
   "cell_type": "code",
   "execution_count": 139,
   "id": "6f222042",
   "metadata": {},
   "outputs": [
    {
     "data": {
      "text/plain": [
       "1.0    0.736842\n",
       "2.0    0.222222\n",
       "3.0    0.040936\n",
       "Name: income, dtype: float64"
      ]
     },
     "execution_count": 139,
     "metadata": {},
     "output_type": "execute_result"
    }
   ],
   "source": [
    "relative_frequencies"
   ]
  },
  {
   "cell_type": "code",
   "execution_count": 141,
   "id": "c59316b6",
   "metadata": {},
   "outputs": [
    {
     "data": {
      "image/png": "[encoded data removed]",
      "text/plain": [
       "<Figure size 432x144 with 1 Axes>"
      ]
     },
     "metadata": {
      "needs_background": "light"
     },
     "output_type": "display_data"
    }
   ],
   "source": [
    "data = relative_frequencies*100\n",
    "labels = ['<20.000','20.000-40.000','>40.000']\n",
    "\n",
    "\n",
    "my_graph(labels,data,\"Ποσοστιαία κατανομή εισοδήματος\",6,2,1)"
   ]
  },
  {
   "cell_type": "code",
   "execution_count": 142,
   "id": "2ae39ac1",
   "metadata": {},
   "outputs": [],
   "source": [
    "#NATIONALITY\n",
    "patients_personalInfo['nationality'] = patients_personalInfo['nationality'].replace(3,2)\n",
    "nationality = patients_personalInfo['nationality']\n",
    "\n",
    "absolute_frequencies = nationality.value_counts()\n",
    "relative_frequencies = nationality.value_counts(normalize=True)"
   ]
  },
  {
   "cell_type": "code",
   "execution_count": 143,
   "id": "aa0b6ca0",
   "metadata": {},
   "outputs": [
    {
     "data": {
      "text/plain": [
       "1    0.878613\n",
       "2    0.121387\n",
       "Name: nationality, dtype: float64"
      ]
     },
     "execution_count": 143,
     "metadata": {},
     "output_type": "execute_result"
    }
   ],
   "source": [
    "relative_frequencies"
   ]
  },
  {
   "cell_type": "code",
   "execution_count": 147,
   "id": "38a03599",
   "metadata": {},
   "outputs": [
    {
     "data": {
      "image/png": "[encoded data removed]",
      "text/plain": [
       "<Figure size 360x108 with 1 Axes>"
      ]
     },
     "metadata": {
      "needs_background": "light"
     },
     "output_type": "display_data"
    }
   ],
   "source": [
    "data = relative_frequencies*100\n",
    "labels = ['Ελληνική','Άλλη']\n",
    "\n",
    "\n",
    "my_graph(labels,data,\"Ποσοστιαία κατανομή απασχόλησης\",5,1.5,1)"
   ]
  },
  {
   "cell_type": "code",
   "execution_count": 148,
   "id": "fb238b51",
   "metadata": {},
   "outputs": [],
   "source": [
    "#NURSING FIELD\n",
    "\n",
    "nursing_field = patients_personalInfo['nursing field']\n",
    "\n",
    "absolute_frequencies = nursing_field.value_counts()\n",
    "relative_frequencies = nursing_field.value_counts(normalize=True)"
   ]
  },
  {
   "cell_type": "code",
   "execution_count": 149,
   "id": "64652b1f",
   "metadata": {},
   "outputs": [
    {
     "data": {
      "text/plain": [
       "2.0    0.546512\n",
       "1.0    0.296512\n",
       "3.0    0.156977\n",
       "Name: nursing field, dtype: float64"
      ]
     },
     "execution_count": 149,
     "metadata": {},
     "output_type": "execute_result"
    }
   ],
   "source": [
    "relative_frequencies"
   ]
  },
  {
   "cell_type": "code",
   "execution_count": 150,
   "id": "78072e6d",
   "metadata": {},
   "outputs": [
    {
     "data": {
      "image/png": "[encoded data removed]",
      "text/plain": [
       "<Figure size 432x180 with 1 Axes>"
      ]
     },
     "metadata": {
      "needs_background": "light"
     },
     "output_type": "display_data"
    }
   ],
   "source": [
    "data = relative_frequencies*100\n",
    "labels = ['Χειρουργικός','Παθολογικός','Άλλο']\n",
    "\n",
    "\n",
    "my_graph(labels,data,\"Ποσοστιαία κατανομή Τομέα Νοσηλείας\",6,2.5,1)"
   ]
  },
  {
   "cell_type": "code",
   "execution_count": 112,
   "id": "822d115c",
   "metadata": {},
   "outputs": [
    {
     "data": {
      "image/png": "[encoded data removed]",
      "text/plain": [
       "<Figure size 432x288 with 1 Axes>"
      ]
     },
     "metadata": {
      "needs_background": "light"
     },
     "output_type": "display_data"
    }
   ],
   "source": [
    "#NURSING DAYS\n",
    "\n",
    "\n",
    "# AGE\n",
    "data = patients_personalInfo['nursing days'].dropna().astype(int)\n",
    "\n",
    "\n",
    "#rm ouliers\n",
    "q = data.quantile(0.90)\n",
    "data = data[data < q]\n",
    "\n",
    "q = data.quantile(0.10)\n",
    "data = data[data > q]\n",
    "\n",
    "\n",
    "fig1, ax1 = plt.subplots()\n",
    "ax1.grid(b = True, color ='grey',\n",
    "        linestyle ='-.', linewidth = 0.9,\n",
    "        alpha = 0.2)\n",
    "\n",
    "bp = ax1.boxplot(data,showmeans=True)\n",
    "\n",
    "for box in bp['boxes']:\n",
    "    # change outline color\n",
    "    box.set(color=(0.0, 0.4, 0.6, 0.6), linewidth=2)\n",
    "\n",
    "label = ax1.set_ylabel('Ημέρες νοσηλείας',fontsize='13')\n",
    "label = ax1.set_xlabel('Δείγμα',fontsize='13')\n",
    "\n",
    "# Calculate the mean and variance\n",
    "mean = np.mean(data)\n",
    "std = np.std(data)\n",
    "\n",
    "# Annotate the plot with the mean and variance\n",
    "ax1.text(1.1, mean + 1, f'mean={mean:.2f}')\n",
    "ax1.text(1.1, mean - 1, f'std={std:.2f}')\n",
    "\n",
    "\n",
    "plt.savefig('nursing_days')\n",
    "\n",
    "plt.show()"
   ]
  },
  {
   "cell_type": "code",
   "execution_count": null,
   "id": "5d994f1e",
   "metadata": {},
   "outputs": [],
   "source": []
  }
 ],
 "metadata": {
  "kernelspec": {
   "display_name": "Python 3 (ipykernel)",
   "language": "python",
   "name": "python3"
  },
  "language_info": {
   "codemirror_mode": {
    "name": "ipython",
    "version": 3
   },
   "file_extension": ".py",
   "mimetype": "text/x-python",
   "name": "python",
   "nbconvert_exporter": "python",
   "pygments_lexer": "ipython3",
   "version": "3.9.7"
  }
 },
 "nbformat": 4,
 "nbformat_minor": 5
}
