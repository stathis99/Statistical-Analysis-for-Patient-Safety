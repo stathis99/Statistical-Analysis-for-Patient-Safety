{
 "cells": [
  {
   "cell_type": "code",
   "execution_count": null,
   "id": "9f7fab78",
   "metadata": {},
   "outputs": [],
   "source": [
    "# Libraries\n",
    "import pandas as pd\n",
    "import pingouin as pg\n",
    "import matplotlib.pyplot as plt\n",
    "import seaborn as sns\n",
    "\n",
    "pd.options.mode.chained_assignment = None  # default='warn'\n"
   ]
  },
  {
   "cell_type": "markdown",
   "id": "2a33c5ef",
   "metadata": {},
   "source": [
    "## Personal Info Exploratory Analysis for patients"
   ]
  },
  {
   "cell_type": "code",
   "execution_count": 64,
   "id": "41c2e374",
   "metadata": {},
   "outputs": [],
   "source": [
    "#helper function that creates bar charts\n",
    "def my_graph(parameters_title,pos_percentage,title):\n",
    "\n",
    "\n",
    "    # Figure Size\n",
    "    fig, ax = plt.subplots(figsize =(6, 2))\n",
    "\n",
    "    # Horizontal Bar Plot\n",
    "    ax.barh(parameters_title, pos_percentage,color=(0.2, 0.4, 0.6, 0.6))\n",
    "\n",
    "    # Remove axes splines\n",
    "    for s in ['top', 'bottom', 'left', 'right']:\n",
    "        ax.spines[s].set_visible(False)\n",
    "\n",
    "    # Remove x, y Ticks\n",
    "    ax.xaxis.set_ticks_position('none')\n",
    "    ax.yaxis.set_ticks_position('none')\n",
    "\n",
    "    # Add padding between axes and labels\n",
    "    ax.xaxis.set_tick_params(pad = 1)\n",
    "    ax.yaxis.set_tick_params(pad = 10)\n",
    "\n",
    "    # Add x, y gridlines\n",
    "    ax.grid(b = True, color ='grey',\n",
    "            linestyle ='-.', linewidth = 0.9,\n",
    "            alpha = 0.2)\n",
    "\n",
    "    # Show top values\n",
    "    ax.invert_yaxis()\n",
    "\n",
    "    # Add annotation to bars\n",
    "    for i in ax.patches:\n",
    "        plt.text(i.get_width()+0.01, i.get_y()+0.4,\n",
    "                str(round((i.get_width()), 2)),\n",
    "                fontsize = 10, fontweight ='bold',\n",
    "                color ='grey')\n",
    "\n",
    "    # Add Plot Title\n",
    "    ax.set_title(title,\n",
    "                loc ='left', )\n",
    "\n",
    "    # Show Plot\n",
    "    plt.show()\n"
   ]
  },
  {
   "cell_type": "code",
   "execution_count": 3,
   "id": "c05a8cc3",
   "metadata": {},
   "outputs": [],
   "source": [
    "%store -r patients_personalInfo"
   ]
  },
  {
   "cell_type": "code",
   "execution_count": 4,
   "id": "eb1310bc",
   "metadata": {},
   "outputs": [
    {
     "data": {
      "text/html": [
       "<div>\n",
       "<style scoped>\n",
       "    .dataframe tbody tr th:only-of-type {\n",
       "        vertical-align: middle;\n",
       "    }\n",
       "\n",
       "    .dataframe tbody tr th {\n",
       "        vertical-align: top;\n",
       "    }\n",
       "\n",
       "    .dataframe thead th {\n",
       "        text-align: right;\n",
       "    }\n",
       "</style>\n",
       "<table border=\"1\" class=\"dataframe\">\n",
       "  <thead>\n",
       "    <tr style=\"text-align: right;\">\n",
       "      <th></th>\n",
       "      <th>sex</th>\n",
       "      <th>age</th>\n",
       "      <th>education</th>\n",
       "      <th>family</th>\n",
       "      <th>occupation</th>\n",
       "      <th>income</th>\n",
       "      <th>nationality</th>\n",
       "      <th>nursing field</th>\n",
       "      <th>nursing days</th>\n",
       "      <th>safety evaluation</th>\n",
       "      <th>comments</th>\n",
       "    </tr>\n",
       "  </thead>\n",
       "  <tbody>\n",
       "    <tr>\n",
       "      <th>0</th>\n",
       "      <td>2</td>\n",
       "      <td>30</td>\n",
       "      <td>8</td>\n",
       "      <td>3</td>\n",
       "      <td>1</td>\n",
       "      <td>2</td>\n",
       "      <td>2</td>\n",
       "      <td>1</td>\n",
       "      <td>5.0</td>\n",
       "      <td>5.0</td>\n",
       "      <td>oxi</td>\n",
       "    </tr>\n",
       "    <tr>\n",
       "      <th>1</th>\n",
       "      <td>2</td>\n",
       "      <td>72</td>\n",
       "      <td>4</td>\n",
       "      <td>3</td>\n",
       "      <td>3</td>\n",
       "      <td>1</td>\n",
       "      <td>1</td>\n",
       "      <td>2</td>\n",
       "      <td>7.0</td>\n",
       "      <td>3.0</td>\n",
       "      <td>Περιστέρια στον θάλαμο</td>\n",
       "    </tr>\n",
       "    <tr>\n",
       "      <th>2</th>\n",
       "      <td>2</td>\n",
       "      <td>58</td>\n",
       "      <td>3</td>\n",
       "      <td>3</td>\n",
       "      <td>1</td>\n",
       "      <td>1</td>\n",
       "      <td>1</td>\n",
       "      <td>2</td>\n",
       "      <td>6.0</td>\n",
       "      <td>5.0</td>\n",
       "      <td>oxi</td>\n",
       "    </tr>\n",
       "    <tr>\n",
       "      <th>3</th>\n",
       "      <td>2</td>\n",
       "      <td>71</td>\n",
       "      <td>1</td>\n",
       "      <td>3</td>\n",
       "      <td>3</td>\n",
       "      <td>1</td>\n",
       "      <td>1</td>\n",
       "      <td>2</td>\n",
       "      <td>7.0</td>\n",
       "      <td>5.0</td>\n",
       "      <td>Peristeria ston thalamo</td>\n",
       "    </tr>\n",
       "    <tr>\n",
       "      <th>4</th>\n",
       "      <td>2</td>\n",
       "      <td>72</td>\n",
       "      <td>1</td>\n",
       "      <td>3</td>\n",
       "      <td>3</td>\n",
       "      <td>1</td>\n",
       "      <td>1</td>\n",
       "      <td>2</td>\n",
       "      <td>7.0</td>\n",
       "      <td>5.0</td>\n",
       "      <td>peristeria ston thalamo</td>\n",
       "    </tr>\n",
       "    <tr>\n",
       "      <th>5</th>\n",
       "      <td>2</td>\n",
       "      <td>58</td>\n",
       "      <td>3</td>\n",
       "      <td>1</td>\n",
       "      <td>3</td>\n",
       "      <td>1</td>\n",
       "      <td>1</td>\n",
       "      <td>1</td>\n",
       "      <td>7.0</td>\n",
       "      <td>3.0</td>\n",
       "      <td>oxi</td>\n",
       "    </tr>\n",
       "    <tr>\n",
       "      <th>6</th>\n",
       "      <td>2</td>\n",
       "      <td>45</td>\n",
       "      <td>4</td>\n",
       "      <td>3</td>\n",
       "      <td>3</td>\n",
       "      <td>2</td>\n",
       "      <td>2</td>\n",
       "      <td>1</td>\n",
       "      <td>NaN</td>\n",
       "      <td>5.0</td>\n",
       "      <td>oxi</td>\n",
       "    </tr>\n",
       "    <tr>\n",
       "      <th>7</th>\n",
       "      <td>1</td>\n",
       "      <td>60</td>\n",
       "      <td>3</td>\n",
       "      <td>2</td>\n",
       "      <td>1</td>\n",
       "      <td>2</td>\n",
       "      <td>1</td>\n",
       "      <td>2</td>\n",
       "      <td>4.0</td>\n",
       "      <td>5.0</td>\n",
       "      <td>oxi</td>\n",
       "    </tr>\n",
       "    <tr>\n",
       "      <th>8</th>\n",
       "      <td>1</td>\n",
       "      <td>60</td>\n",
       "      <td>1</td>\n",
       "      <td>1</td>\n",
       "      <td>2</td>\n",
       "      <td>1</td>\n",
       "      <td>1</td>\n",
       "      <td>2</td>\n",
       "      <td>5.0</td>\n",
       "      <td>5.0</td>\n",
       "      <td>oxi</td>\n",
       "    </tr>\n",
       "    <tr>\n",
       "      <th>9</th>\n",
       "      <td>2</td>\n",
       "      <td>30</td>\n",
       "      <td>5</td>\n",
       "      <td>1</td>\n",
       "      <td>2</td>\n",
       "      <td>1</td>\n",
       "      <td>1</td>\n",
       "      <td>2</td>\n",
       "      <td>2.0</td>\n",
       "      <td>5.0</td>\n",
       "      <td>oxi</td>\n",
       "    </tr>\n",
       "    <tr>\n",
       "      <th>10</th>\n",
       "      <td>2</td>\n",
       "      <td>60</td>\n",
       "      <td>1</td>\n",
       "      <td>3</td>\n",
       "      <td>3</td>\n",
       "      <td>1</td>\n",
       "      <td>1</td>\n",
       "      <td>2</td>\n",
       "      <td>5.0</td>\n",
       "      <td>5.0</td>\n",
       "      <td>oxi</td>\n",
       "    </tr>\n",
       "    <tr>\n",
       "      <th>11</th>\n",
       "      <td>1</td>\n",
       "      <td>71</td>\n",
       "      <td>1</td>\n",
       "      <td>1</td>\n",
       "      <td>3</td>\n",
       "      <td>1</td>\n",
       "      <td>1</td>\n",
       "      <td>2</td>\n",
       "      <td>5.0</td>\n",
       "      <td>5.0</td>\n",
       "      <td>oxi</td>\n",
       "    </tr>\n",
       "    <tr>\n",
       "      <th>12</th>\n",
       "      <td>1</td>\n",
       "      <td>58</td>\n",
       "      <td>8</td>\n",
       "      <td>1</td>\n",
       "      <td>3</td>\n",
       "      <td>1</td>\n",
       "      <td>1</td>\n",
       "      <td>2</td>\n",
       "      <td>5.0</td>\n",
       "      <td>NaN</td>\n",
       "      <td>oxi</td>\n",
       "    </tr>\n",
       "    <tr>\n",
       "      <th>13</th>\n",
       "      <td>1</td>\n",
       "      <td>58</td>\n",
       "      <td>5</td>\n",
       "      <td>3</td>\n",
       "      <td>1</td>\n",
       "      <td>1</td>\n",
       "      <td>2</td>\n",
       "      <td>1</td>\n",
       "      <td>5.0</td>\n",
       "      <td>5.0</td>\n",
       "      <td>oxi</td>\n",
       "    </tr>\n",
       "    <tr>\n",
       "      <th>14</th>\n",
       "      <td>1</td>\n",
       "      <td>50</td>\n",
       "      <td>4</td>\n",
       "      <td>3</td>\n",
       "      <td>1</td>\n",
       "      <td>1</td>\n",
       "      <td>1</td>\n",
       "      <td>2</td>\n",
       "      <td>5.0</td>\n",
       "      <td>5.0</td>\n",
       "      <td>oxi</td>\n",
       "    </tr>\n",
       "    <tr>\n",
       "      <th>15</th>\n",
       "      <td>2</td>\n",
       "      <td>30</td>\n",
       "      <td>5</td>\n",
       "      <td>1</td>\n",
       "      <td>2</td>\n",
       "      <td>1</td>\n",
       "      <td>1</td>\n",
       "      <td>2</td>\n",
       "      <td>5.0</td>\n",
       "      <td>5.0</td>\n",
       "      <td>κουνουπια</td>\n",
       "    </tr>\n",
       "    <tr>\n",
       "      <th>16</th>\n",
       "      <td>1</td>\n",
       "      <td>60</td>\n",
       "      <td>1</td>\n",
       "      <td>3</td>\n",
       "      <td>1</td>\n",
       "      <td>1</td>\n",
       "      <td>1</td>\n",
       "      <td>2</td>\n",
       "      <td>7.0</td>\n",
       "      <td>4.0</td>\n",
       "      <td>οχι</td>\n",
       "    </tr>\n",
       "  </tbody>\n",
       "</table>\n",
       "</div>"
      ],
      "text/plain": [
       "    sex  age  education  family  occupation  income  nationality  \\\n",
       "0     2   30          8       3           1       2            2   \n",
       "1     2   72          4       3           3       1            1   \n",
       "2     2   58          3       3           1       1            1   \n",
       "3     2   71          1       3           3       1            1   \n",
       "4     2   72          1       3           3       1            1   \n",
       "5     2   58          3       1           3       1            1   \n",
       "6     2   45          4       3           3       2            2   \n",
       "7     1   60          3       2           1       2            1   \n",
       "8     1   60          1       1           2       1            1   \n",
       "9     2   30          5       1           2       1            1   \n",
       "10    2   60          1       3           3       1            1   \n",
       "11    1   71          1       1           3       1            1   \n",
       "12    1   58          8       1           3       1            1   \n",
       "13    1   58          5       3           1       1            2   \n",
       "14    1   50          4       3           1       1            1   \n",
       "15    2   30          5       1           2       1            1   \n",
       "16    1   60          1       3           1       1            1   \n",
       "\n",
       "    nursing field  nursing days  safety evaluation                 comments  \n",
       "0               1           5.0                5.0                      oxi  \n",
       "1               2           7.0                3.0   Περιστέρια στον θάλαμο  \n",
       "2               2           6.0                5.0                      oxi  \n",
       "3               2           7.0                5.0  Peristeria ston thalamo  \n",
       "4               2           7.0                5.0  peristeria ston thalamo  \n",
       "5               1           7.0                3.0                      oxi  \n",
       "6               1           NaN                5.0                      oxi  \n",
       "7               2           4.0                5.0                      oxi  \n",
       "8               2           5.0                5.0                      oxi  \n",
       "9               2           2.0                5.0                      oxi  \n",
       "10              2           5.0                5.0                      oxi  \n",
       "11              2           5.0                5.0                      oxi  \n",
       "12              2           5.0                NaN                      oxi  \n",
       "13              1           5.0                5.0                      oxi  \n",
       "14              2           5.0                5.0                      oxi  \n",
       "15              2           5.0                5.0                κουνουπια  \n",
       "16              2           7.0                4.0                      οχι  "
      ]
     },
     "execution_count": 4,
     "metadata": {},
     "output_type": "execute_result"
    }
   ],
   "source": [
    "patients_personalInfo\n"
   ]
  },
  {
   "cell_type": "code",
   "execution_count": 106,
   "id": "16cbf1b3",
   "metadata": {},
   "outputs": [],
   "source": [
    "# GENDER\n",
    "\n",
    "gender = patients_personalInfo['sex']\n",
    "\n",
    "absolute_frequencies = gender.value_counts()\n",
    "relative_frequencies = gender.value_counts(normalize=True)"
   ]
  },
  {
   "cell_type": "code",
   "execution_count": 107,
   "id": "6c1b64c6",
   "metadata": {},
   "outputs": [],
   "source": [
    "relative_frequencies.index = ['Άνδρας','Γυναίκα']"
   ]
  },
  {
   "cell_type": "code",
   "execution_count": 110,
   "id": "eaca2916",
   "metadata": {},
   "outputs": [
    {
     "data": {
      "image/png": "[encoded data removed]",
      "text/plain": [
       "<Figure size 432x288 with 1 Axes>"
      ]
     },
     "metadata": {},
     "output_type": "display_data"
    }
   ],
   "source": [
    "#plot relative_frequencies\n",
    "colors = sns.color_palette(\"Paired\", 3)\n",
    "\n",
    "#define data\n",
    "data = relative_frequencies\n",
    "labels = relative_frequencies.index\n",
    "\n",
    "plt.pie(data, labels = labels, colors = colors, autopct='%0.f%%')\n",
    "plt.show()"
   ]
  },
  {
   "cell_type": "code",
   "execution_count": 111,
   "id": "eb8e9e0b",
   "metadata": {},
   "outputs": [],
   "source": [
    "# AGE\n",
    "\n",
    "#split age to classes\n",
    "def get_num_people_by_age_category(df):\n",
    "    df[\"age_group\"] = pd.cut(x=df['age'], bins=[0,20,40,60,80,100], labels=[\"0-20\",\"20-40\",\"40-60\",\"60-80\",\"80-100\"])\n",
    "    return df\n",
    "\n",
    "patients_personalInfo = get_num_people_by_age_category(patients_personalInfo)\n",
    "\n",
    "\n",
    "age = patients_personalInfo['age_group']\n",
    "\n",
    "\n",
    "absolute_frequencies = age.value_counts()\n",
    "relative_frequencies = age.value_counts(normalize=True)"
   ]
  },
  {
   "cell_type": "code",
   "execution_count": 112,
   "id": "73dbd456",
   "metadata": {},
   "outputs": [
    {
     "data": {
      "text/plain": [
       "40-60     10\n",
       "60-80      4\n",
       "20-40      3\n",
       "0-20       0\n",
       "80-100     0\n",
       "Name: age_group, dtype: int64"
      ]
     },
     "execution_count": 112,
     "metadata": {},
     "output_type": "execute_result"
    }
   ],
   "source": [
    "absolute_frequencies"
   ]
  },
  {
   "cell_type": "code",
   "execution_count": 113,
   "id": "74b6aa44",
   "metadata": {},
   "outputs": [
    {
     "data": {
      "image/png": "[encoded data removed]",
      "text/plain": [
       "<Figure size 432x144 with 1 Axes>"
      ]
     },
     "metadata": {
      "needs_background": "light"
     },
     "output_type": "display_data"
    }
   ],
   "source": [
    "par = [\"40-60\",\"60-80\",\"20-40\",\"0-20\",\"80-100\"]\n",
    "title = \"Age Groups\"\n",
    "\n",
    "\n",
    "my_graph(par,absolute_frequencies,title)"
   ]
  },
  {
   "cell_type": "code",
   "execution_count": 114,
   "id": "123664b7",
   "metadata": {},
   "outputs": [],
   "source": [
    "#EDUCATION\n",
    "\n",
    "education = patients_personalInfo['education']\n",
    "\n",
    "absolute_frequencies = education.value_counts()\n",
    "relative_frequencies = education.value_counts(normalize=True)"
   ]
  },
  {
   "cell_type": "code",
   "execution_count": 115,
   "id": "f30390e5",
   "metadata": {},
   "outputs": [
    {
     "data": {
      "text/plain": [
       "1    0.352941\n",
       "4    0.176471\n",
       "3    0.176471\n",
       "5    0.176471\n",
       "8    0.117647\n",
       "Name: education, dtype: float64"
      ]
     },
     "execution_count": 115,
     "metadata": {},
     "output_type": "execute_result"
    }
   ],
   "source": [
    "relative_frequencies"
   ]
  },
  {
   "cell_type": "code",
   "execution_count": 116,
   "id": "14a2d169",
   "metadata": {},
   "outputs": [
    {
     "data": {
      "image/png": "[encoded data removed]",
      "text/plain": [
       "<Figure size 432x288 with 1 Axes>"
      ]
     },
     "metadata": {},
     "output_type": "display_data"
    }
   ],
   "source": [
    "#define data\n",
    "data = relative_frequencies\n",
    "labels = ['dimotiko',\"lykeio\",\"gymasio\",\"iek\",\"metptixiako\"]\n",
    "\n",
    "plt.pie(data, labels = labels, colors = colors, autopct='%0.f%%')\n",
    "plt.show()"
   ]
  },
  {
   "cell_type": "code",
   "execution_count": 119,
   "id": "1ce25609",
   "metadata": {},
   "outputs": [],
   "source": [
    "#EDUCATION\n",
    "\n",
    "family = patients_personalInfo['family']\n",
    "\n",
    "absolute_frequencies = family.value_counts()\n",
    "relative_frequencies = family.value_counts(normalize=True)"
   ]
  },
  {
   "cell_type": "code",
   "execution_count": 120,
   "id": "7062c29e",
   "metadata": {},
   "outputs": [
    {
     "data": {
      "image/png": "[encoded data removed]",
      "text/plain": [
       "<Figure size 432x288 with 1 Axes>"
      ]
     },
     "metadata": {},
     "output_type": "display_data"
    }
   ],
   "source": [
    "#define data\n",
    "data = relative_frequencies\n",
    "labels = [\"1\",\"2\",\"3\"]\n",
    "\n",
    "plt.pie(data, labels = labels, colors = colors, autopct='%0.f%%')\n",
    "plt.show()"
   ]
  },
  {
   "cell_type": "code",
   "execution_count": 123,
   "id": "9d674aad",
   "metadata": {},
   "outputs": [],
   "source": [
    "#EDUCATION\n",
    "\n",
    "occupation = patients_personalInfo['occupation']\n",
    "\n",
    "absolute_frequencies = occupation.value_counts()\n",
    "relative_frequencies = occupation.value_counts(normalize=True)"
   ]
  },
  {
   "cell_type": "code",
   "execution_count": 125,
   "id": "98ff6da8",
   "metadata": {},
   "outputs": [
    {
     "data": {
      "image/png": "[encoded data removed]",
      "text/plain": [
       "<Figure size 432x288 with 1 Axes>"
      ]
     },
     "metadata": {},
     "output_type": "display_data"
    }
   ],
   "source": [
    "#define data\n",
    "data = relative_frequencies\n",
    "labels = [\"1\",\"2\",\"3\"]\n",
    "\n",
    "plt.pie(data, labels = labels, colors = colors, autopct='%0.f%%')\n",
    "plt.show()"
   ]
  },
  {
   "cell_type": "code",
   "execution_count": 126,
   "id": "2d00cd60",
   "metadata": {},
   "outputs": [],
   "source": [
    "#INCOME\n",
    "\n",
    "income = patients_personalInfo['income']\n",
    "\n",
    "absolute_frequencies = income.value_counts()\n",
    "relative_frequencies = income.value_counts(normalize=True)"
   ]
  },
  {
   "cell_type": "code",
   "execution_count": 128,
   "id": "c59316b6",
   "metadata": {},
   "outputs": [
    {
     "data": {
      "image/png": "[encoded data removed]",
      "text/plain": [
       "<Figure size 432x288 with 1 Axes>"
      ]
     },
     "metadata": {},
     "output_type": "display_data"
    }
   ],
   "source": [
    "#define data\n",
    "data = relative_frequencies\n",
    "labels = [\"1\",\"2\"]\n",
    "\n",
    "plt.pie(data, labels = labels, colors = colors, autopct='%0.f%%')\n",
    "plt.show()"
   ]
  },
  {
   "cell_type": "code",
   "execution_count": 129,
   "id": "2ae39ac1",
   "metadata": {},
   "outputs": [],
   "source": [
    "#NATIONALITY\n",
    "\n",
    "nationality = patients_personalInfo['nationality']\n",
    "\n",
    "absolute_frequencies = nationality.value_counts()\n",
    "relative_frequencies = nationality.value_counts(normalize=True)"
   ]
  },
  {
   "cell_type": "code",
   "execution_count": 130,
   "id": "38a03599",
   "metadata": {},
   "outputs": [
    {
     "data": {
      "image/png": "[encoded data removed]",
      "text/plain": [
       "<Figure size 432x288 with 1 Axes>"
      ]
     },
     "metadata": {},
     "output_type": "display_data"
    }
   ],
   "source": [
    "#define data\n",
    "data = relative_frequencies\n",
    "labels = [\"1\",\"2\"]\n",
    "\n",
    "plt.pie(data, labels = labels, colors = colors, autopct='%0.f%%')\n",
    "plt.show()"
   ]
  },
  {
   "cell_type": "code",
   "execution_count": 131,
   "id": "fb238b51",
   "metadata": {},
   "outputs": [],
   "source": [
    "#NURSING FIELD\n",
    "\n",
    "nursing_field = patients_personalInfo['nursing field']\n",
    "\n",
    "absolute_frequencies = nursing_field.value_counts()\n",
    "relative_frequencies = nursing_field.value_counts(normalize=True)"
   ]
  },
  {
   "cell_type": "code",
   "execution_count": 132,
   "id": "7207b6cd",
   "metadata": {},
   "outputs": [
    {
     "data": {
      "image/png": "[encoded data removed]",
      "text/plain": [
       "<Figure size 432x288 with 1 Axes>"
      ]
     },
     "metadata": {},
     "output_type": "display_data"
    }
   ],
   "source": [
    "#define data\n",
    "data = relative_frequencies\n",
    "labels = [\"1\",\"2\"]\n",
    "\n",
    "plt.pie(data, labels = labels, colors = colors, autopct='%0.f%%')\n",
    "plt.show()"
   ]
  },
  {
   "cell_type": "code",
   "execution_count": 133,
   "id": "822d115c",
   "metadata": {},
   "outputs": [],
   "source": [
    "#NURSING DAYS\n",
    "\n",
    "nursing_field = patients_personalInfo['nursing days']\n",
    "\n",
    "absolute_frequencies = nursing_field.value_counts()\n",
    "relative_frequencies = nursing_field.value_counts(normalize=True)"
   ]
  },
  {
   "cell_type": "code",
   "execution_count": 135,
   "id": "b2ef7706",
   "metadata": {},
   "outputs": [
    {
     "data": {
      "text/plain": [
       "0     5.0\n",
       "1     7.0\n",
       "2     6.0\n",
       "3     7.0\n",
       "4     7.0\n",
       "5     7.0\n",
       "6     NaN\n",
       "7     4.0\n",
       "8     5.0\n",
       "9     2.0\n",
       "10    5.0\n",
       "11    5.0\n",
       "12    5.0\n",
       "13    5.0\n",
       "14    5.0\n",
       "15    5.0\n",
       "16    7.0\n",
       "Name: nursing days, dtype: float64"
      ]
     },
     "execution_count": 135,
     "metadata": {},
     "output_type": "execute_result"
    }
   ],
   "source": [
    "nursing_field"
   ]
  },
  {
   "cell_type": "code",
   "execution_count": 136,
   "id": "20a81467",
   "metadata": {},
   "outputs": [
    {
     "data": {
      "text/plain": [
       "5.0    8\n",
       "7.0    5\n",
       "6.0    1\n",
       "4.0    1\n",
       "2.0    1\n",
       "Name: nursing days, dtype: int64"
      ]
     },
     "execution_count": 136,
     "metadata": {},
     "output_type": "execute_result"
    }
   ],
   "source": [
    "absolute_frequencies"
   ]
  },
  {
   "cell_type": "code",
   "execution_count": null,
   "id": "5d994f1e",
   "metadata": {},
   "outputs": [],
   "source": []
  }
 ],
 "metadata": {
  "kernelspec": {
   "display_name": "Python 3 (ipykernel)",
   "language": "python",
   "name": "python3"
  },
  "language_info": {
   "codemirror_mode": {
    "name": "ipython",
    "version": 3
   },
   "file_extension": ".py",
   "mimetype": "text/x-python",
   "name": "python",
   "nbconvert_exporter": "python",
   "pygments_lexer": "ipython3",
   "version": "3.9.7"
  }
 },
 "nbformat": 4,
 "nbformat_minor": 5
}
