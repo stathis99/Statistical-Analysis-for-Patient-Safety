{
 "cells": [
  {
   "cell_type": "code",
   "execution_count": 31,
   "id": "9f7fab78",
   "metadata": {},
   "outputs": [],
   "source": [
    "# Libraries\n",
    "import pandas as pd\n",
    "import pingouin as pg\n",
    "import matplotlib.pyplot as plt\n",
    "import seaborn as sns\n",
    "import numpy as np\n",
    "\n",
    "pd.options.mode.chained_assignment = None  # default='warn'\n"
   ]
  },
  {
   "cell_type": "markdown",
   "id": "2a33c5ef",
   "metadata": {},
   "source": [
    "## Personal Info Exploratory Analysis for patients"
   ]
  },
  {
   "cell_type": "code",
   "execution_count": 32,
   "id": "41c2e374",
   "metadata": {},
   "outputs": [],
   "source": [
    "#helper function that creates bar charts\n",
    "def my_graph(y,x,title,sizeX,sizeY,prin):\n",
    "\n",
    "\n",
    "    # Figure Size\n",
    "    fig, ax = plt.subplots(figsize =(sizeX, sizeY))\n",
    "\n",
    "    # Horizontal Bar Plot\n",
    "    ax.barh(y, x,color=(0.0, 0.4, 0.6, 0.6))\n",
    "\n",
    "    # Remove axes splines\n",
    "    for s in ['top', 'bottom', 'left', 'right']:\n",
    "        ax.spines[s].set_visible(False)\n",
    "\n",
    "    # Remove x, y Ticks\n",
    "    ax.xaxis.set_ticks_position('none')\n",
    "    #ax.yaxis.set_ticks_position('none')\n",
    "\n",
    "    # Add padding between axes and labels\n",
    "    ax.xaxis.set_tick_params(pad = 1)\n",
    "    ax.yaxis.set_tick_params(pad = 10)\n",
    "    ax.set_xticklabels([])\n",
    "    \n",
    "    # Add x, y gridlines\n",
    "    ax.grid(b = True, color ='grey',\n",
    "            linestyle ='-.', linewidth = 0.9,\n",
    "            alpha = 0.2)\n",
    "\n",
    "    # Show top values\n",
    "    ax.invert_yaxis()\n",
    "\n",
    "    # Add annotation to bars\n",
    "    for i in ax.patches:\n",
    "        plt.text(i.get_width()+0.01, i.get_y()+0.40,\n",
    "                str(round((i.get_width()), 1))+'%',\n",
    "                fontsize = 10, fontweight ='bold',\n",
    "                color ='black')\n",
    "    \n",
    "\n",
    "    # Add Plot Title\n",
    "    ax.set_title(title,\n",
    "                loc ='left', )\n",
    "    \n",
    "    if(prin == 1):\n",
    "        plt.tight_layout()\n",
    "        plt.savefig('personal.png')\n",
    "        \n",
    "\n",
    "    # Show Plot\n",
    "    plt.show()\n",
    "\n"
   ]
  },
  {
   "cell_type": "code",
   "execution_count": 33,
   "id": "c05a8cc3",
   "metadata": {},
   "outputs": [],
   "source": [
    "%store -r patients_personalInfo"
   ]
  },
  {
   "cell_type": "code",
   "execution_count": 34,
   "id": "eb1310bc",
   "metadata": {},
   "outputs": [
    {
     "data": {
      "text/html": [
       "<div>\n",
       "<style scoped>\n",
       "    .dataframe tbody tr th:only-of-type {\n",
       "        vertical-align: middle;\n",
       "    }\n",
       "\n",
       "    .dataframe tbody tr th {\n",
       "        vertical-align: top;\n",
       "    }\n",
       "\n",
       "    .dataframe thead th {\n",
       "        text-align: right;\n",
       "    }\n",
       "</style>\n",
       "<table border=\"1\" class=\"dataframe\">\n",
       "  <thead>\n",
       "    <tr style=\"text-align: right;\">\n",
       "      <th></th>\n",
       "      <th>sex</th>\n",
       "      <th>age</th>\n",
       "      <th>education</th>\n",
       "      <th>family</th>\n",
       "      <th>occupation</th>\n",
       "      <th>income</th>\n",
       "      <th>nationality</th>\n",
       "      <th>nursing field</th>\n",
       "      <th>nursing days</th>\n",
       "      <th>safety evaluation</th>\n",
       "      <th>comments</th>\n",
       "      <th>nursing_days_group</th>\n",
       "      <th>age_group</th>\n",
       "    </tr>\n",
       "  </thead>\n",
       "  <tbody>\n",
       "    <tr>\n",
       "      <th>0</th>\n",
       "      <td>2</td>\n",
       "      <td>30.0</td>\n",
       "      <td>8.0</td>\n",
       "      <td>3.0</td>\n",
       "      <td>1.0</td>\n",
       "      <td>2.0</td>\n",
       "      <td>2</td>\n",
       "      <td>1.0</td>\n",
       "      <td>5.0</td>\n",
       "      <td>5.0</td>\n",
       "      <td>oxi</td>\n",
       "      <td>0-5</td>\n",
       "      <td>20-40</td>\n",
       "    </tr>\n",
       "    <tr>\n",
       "      <th>1</th>\n",
       "      <td>2</td>\n",
       "      <td>72.0</td>\n",
       "      <td>4.0</td>\n",
       "      <td>3.0</td>\n",
       "      <td>3.0</td>\n",
       "      <td>1.0</td>\n",
       "      <td>1</td>\n",
       "      <td>2.0</td>\n",
       "      <td>7.0</td>\n",
       "      <td>3.0</td>\n",
       "      <td>Περιστέρια στον θάλαμο</td>\n",
       "      <td>5-10</td>\n",
       "      <td>60-80</td>\n",
       "    </tr>\n",
       "    <tr>\n",
       "      <th>2</th>\n",
       "      <td>2</td>\n",
       "      <td>58.0</td>\n",
       "      <td>3.0</td>\n",
       "      <td>3.0</td>\n",
       "      <td>1.0</td>\n",
       "      <td>1.0</td>\n",
       "      <td>1</td>\n",
       "      <td>2.0</td>\n",
       "      <td>6.0</td>\n",
       "      <td>5.0</td>\n",
       "      <td>oxi</td>\n",
       "      <td>5-10</td>\n",
       "      <td>40-60</td>\n",
       "    </tr>\n",
       "    <tr>\n",
       "      <th>3</th>\n",
       "      <td>2</td>\n",
       "      <td>71.0</td>\n",
       "      <td>1.0</td>\n",
       "      <td>3.0</td>\n",
       "      <td>3.0</td>\n",
       "      <td>1.0</td>\n",
       "      <td>1</td>\n",
       "      <td>2.0</td>\n",
       "      <td>7.0</td>\n",
       "      <td>5.0</td>\n",
       "      <td>Peristeria ston thalamo</td>\n",
       "      <td>5-10</td>\n",
       "      <td>60-80</td>\n",
       "    </tr>\n",
       "    <tr>\n",
       "      <th>4</th>\n",
       "      <td>2</td>\n",
       "      <td>72.0</td>\n",
       "      <td>1.0</td>\n",
       "      <td>3.0</td>\n",
       "      <td>3.0</td>\n",
       "      <td>1.0</td>\n",
       "      <td>1</td>\n",
       "      <td>2.0</td>\n",
       "      <td>7.0</td>\n",
       "      <td>5.0</td>\n",
       "      <td>peristeria ston thalamo</td>\n",
       "      <td>5-10</td>\n",
       "      <td>60-80</td>\n",
       "    </tr>\n",
       "    <tr>\n",
       "      <th>...</th>\n",
       "      <td>...</td>\n",
       "      <td>...</td>\n",
       "      <td>...</td>\n",
       "      <td>...</td>\n",
       "      <td>...</td>\n",
       "      <td>...</td>\n",
       "      <td>...</td>\n",
       "      <td>...</td>\n",
       "      <td>...</td>\n",
       "      <td>...</td>\n",
       "      <td>...</td>\n",
       "      <td>...</td>\n",
       "      <td>...</td>\n",
       "    </tr>\n",
       "    <tr>\n",
       "      <th>168</th>\n",
       "      <td>2</td>\n",
       "      <td>NaN</td>\n",
       "      <td>3.0</td>\n",
       "      <td>3.0</td>\n",
       "      <td>3.0</td>\n",
       "      <td>1.0</td>\n",
       "      <td>1</td>\n",
       "      <td>1.0</td>\n",
       "      <td>NaN</td>\n",
       "      <td>4.0</td>\n",
       "      <td>NaN</td>\n",
       "      <td>NaN</td>\n",
       "      <td>NaN</td>\n",
       "    </tr>\n",
       "    <tr>\n",
       "      <th>169</th>\n",
       "      <td>2</td>\n",
       "      <td>67.0</td>\n",
       "      <td>1.0</td>\n",
       "      <td>2.0</td>\n",
       "      <td>3.0</td>\n",
       "      <td>1.0</td>\n",
       "      <td>1</td>\n",
       "      <td>2.0</td>\n",
       "      <td>4.0</td>\n",
       "      <td>3.0</td>\n",
       "      <td>oxi</td>\n",
       "      <td>0-5</td>\n",
       "      <td>60-80</td>\n",
       "    </tr>\n",
       "    <tr>\n",
       "      <th>170</th>\n",
       "      <td>2</td>\n",
       "      <td>NaN</td>\n",
       "      <td>5.0</td>\n",
       "      <td>2.0</td>\n",
       "      <td>1.0</td>\n",
       "      <td>1.0</td>\n",
       "      <td>3</td>\n",
       "      <td>3.0</td>\n",
       "      <td>3.0</td>\n",
       "      <td>3.0</td>\n",
       "      <td>oxi</td>\n",
       "      <td>0-5</td>\n",
       "      <td>NaN</td>\n",
       "    </tr>\n",
       "    <tr>\n",
       "      <th>171</th>\n",
       "      <td>1</td>\n",
       "      <td>51.0</td>\n",
       "      <td>4.0</td>\n",
       "      <td>3.0</td>\n",
       "      <td>1.0</td>\n",
       "      <td>1.0</td>\n",
       "      <td>1</td>\n",
       "      <td>2.0</td>\n",
       "      <td>8.0</td>\n",
       "      <td>5.0</td>\n",
       "      <td>oxi</td>\n",
       "      <td>5-10</td>\n",
       "      <td>40-60</td>\n",
       "    </tr>\n",
       "    <tr>\n",
       "      <th>172</th>\n",
       "      <td>1</td>\n",
       "      <td>59.0</td>\n",
       "      <td>4.0</td>\n",
       "      <td>1.0</td>\n",
       "      <td>1.0</td>\n",
       "      <td>1.0</td>\n",
       "      <td>1</td>\n",
       "      <td>2.0</td>\n",
       "      <td>4.0</td>\n",
       "      <td>4.0</td>\n",
       "      <td>oxi</td>\n",
       "      <td>0-5</td>\n",
       "      <td>40-60</td>\n",
       "    </tr>\n",
       "  </tbody>\n",
       "</table>\n",
       "<p>173 rows × 13 columns</p>\n",
       "</div>"
      ],
      "text/plain": [
       "     sex   age  education  family  occupation  income  nationality  \\\n",
       "0      2  30.0        8.0     3.0         1.0     2.0            2   \n",
       "1      2  72.0        4.0     3.0         3.0     1.0            1   \n",
       "2      2  58.0        3.0     3.0         1.0     1.0            1   \n",
       "3      2  71.0        1.0     3.0         3.0     1.0            1   \n",
       "4      2  72.0        1.0     3.0         3.0     1.0            1   \n",
       "..   ...   ...        ...     ...         ...     ...          ...   \n",
       "168    2   NaN        3.0     3.0         3.0     1.0            1   \n",
       "169    2  67.0        1.0     2.0         3.0     1.0            1   \n",
       "170    2   NaN        5.0     2.0         1.0     1.0            3   \n",
       "171    1  51.0        4.0     3.0         1.0     1.0            1   \n",
       "172    1  59.0        4.0     1.0         1.0     1.0            1   \n",
       "\n",
       "     nursing field  nursing days  safety evaluation                 comments  \\\n",
       "0              1.0           5.0                5.0                      oxi   \n",
       "1              2.0           7.0                3.0   Περιστέρια στον θάλαμο   \n",
       "2              2.0           6.0                5.0                      oxi   \n",
       "3              2.0           7.0                5.0  Peristeria ston thalamo   \n",
       "4              2.0           7.0                5.0  peristeria ston thalamo   \n",
       "..             ...           ...                ...                      ...   \n",
       "168            1.0           NaN                4.0                      NaN   \n",
       "169            2.0           4.0                3.0                      oxi   \n",
       "170            3.0           3.0                3.0                      oxi   \n",
       "171            2.0           8.0                5.0                      oxi   \n",
       "172            2.0           4.0                4.0                      oxi   \n",
       "\n",
       "    nursing_days_group age_group  \n",
       "0                  0-5     20-40  \n",
       "1                 5-10     60-80  \n",
       "2                 5-10     40-60  \n",
       "3                 5-10     60-80  \n",
       "4                 5-10     60-80  \n",
       "..                 ...       ...  \n",
       "168                NaN       NaN  \n",
       "169                0-5     60-80  \n",
       "170                0-5       NaN  \n",
       "171               5-10     40-60  \n",
       "172                0-5     40-60  \n",
       "\n",
       "[173 rows x 13 columns]"
      ]
     },
     "execution_count": 34,
     "metadata": {},
     "output_type": "execute_result"
    }
   ],
   "source": [
    "patients_personalInfo\n"
   ]
  },
  {
   "cell_type": "code",
   "execution_count": 35,
   "id": "16cbf1b3",
   "metadata": {},
   "outputs": [],
   "source": [
    "# GENDER\n",
    "\n",
    "gender = patients_personalInfo['sex']\n",
    "\n",
    "absolute_frequencies = gender.value_counts()\n",
    "relative_frequencies = gender.value_counts(normalize=True)"
   ]
  },
  {
   "cell_type": "code",
   "execution_count": 36,
   "id": "bea31f99",
   "metadata": {},
   "outputs": [
    {
     "data": {
      "text/plain": [
       "1    0.560694\n",
       "2    0.439306\n",
       "Name: sex, dtype: float64"
      ]
     },
     "execution_count": 36,
     "metadata": {},
     "output_type": "execute_result"
    }
   ],
   "source": [
    "relative_frequencies"
   ]
  },
  {
   "cell_type": "code",
   "execution_count": 37,
   "id": "6c1b64c6",
   "metadata": {},
   "outputs": [],
   "source": [
    "relative_frequencies.index = ['Άνδρας','Γυναίκα']"
   ]
  },
  {
   "cell_type": "code",
   "execution_count": 38,
   "id": "eaca2916",
   "metadata": {},
   "outputs": [
    {
     "data": {
      "image/png": "[encoded data removed]",
      "text/plain": [
       "<Figure size 324x108 with 1 Axes>"
      ]
     },
     "metadata": {
      "needs_background": "light"
     },
     "output_type": "display_data"
    }
   ],
   "source": [
    "data = relative_frequencies*100\n",
    "labels = relative_frequencies.index\n",
    "\n",
    "\n",
    "my_graph(labels,data,\"Ποσοστιαία Κατανομή Φύλου\",4.5,1.5,1)"
   ]
  },
  {
   "cell_type": "code",
   "execution_count": 39,
   "id": "eb8e9e0b",
   "metadata": {},
   "outputs": [
    {
     "data": {
      "image/png": "[encoded data removed]",
      "text/plain": [
       "<Figure size 432x288 with 1 Axes>"
      ]
     },
     "metadata": {
      "needs_background": "light"
     },
     "output_type": "display_data"
    }
   ],
   "source": [
    "# AGE\n",
    "data = patients_personalInfo['age'].dropna().astype(int)\n",
    "\n",
    "\n",
    "#rm ouliers\n",
    "q = data.quantile(0.99)\n",
    "data = data[data < q]\n",
    "\n",
    "fig1, ax1 = plt.subplots()\n",
    "ax1.grid(b = True, color ='grey',\n",
    "        linestyle ='-.', linewidth = 0.9,\n",
    "        alpha = 0.2)\n",
    "\n",
    "bp = ax1.boxplot(data,showmeans=True)\n",
    "\n",
    "for box in bp['boxes']:\n",
    "    # change outline color\n",
    "    box.set(color=(0.0, 0.4, 0.6, 0.6), linewidth=2)\n",
    "\n",
    "label = ax1.set_ylabel('Ηλικία',fontsize='13')\n",
    "label = ax1.set_xlabel('Δείγμα',fontsize='13')\n",
    "\n",
    "# Calculate the mean and variance\n",
    "mean = np.mean(data)\n",
    "std = np.std(data)\n",
    "\n",
    "# Annotate the plot with the mean and variance\n",
    "ax1.text(1.1, mean + 1.5, f'mean={mean:.2f}')\n",
    "ax1.text(1.1, mean - 1.5, f'std={std:.2f}')\n",
    "\n",
    "\n",
    "plt.savefig('age')\n",
    "\n",
    "plt.show()"
   ]
  },
  {
   "cell_type": "code",
   "execution_count": 40,
   "id": "123664b7",
   "metadata": {},
   "outputs": [],
   "source": [
    "#EDUCATION\n",
    "\n",
    "education = patients_personalInfo['education']\n",
    "\n",
    "absolute_frequencies = education.value_counts()\n",
    "relative_frequencies = education.value_counts(normalize=True)"
   ]
  },
  {
   "cell_type": "code",
   "execution_count": 43,
   "id": "f30390e5",
   "metadata": {},
   "outputs": [
    {
     "data": {
      "text/plain": [
       "4.0    0.255814\n",
       "7.0    0.186047\n",
       "1.0    0.174419\n",
       "6.0    0.127907\n",
       "5.0    0.104651\n",
       "3.0    0.098837\n",
       "8.0    0.040698\n",
       "2.0    0.011628\n",
       "Name: education, dtype: float64"
      ]
     },
     "execution_count": 43,
     "metadata": {},
     "output_type": "execute_result"
    }
   ],
   "source": [
    "relative_frequencies"
   ]
  },
  {
   "cell_type": "code",
   "execution_count": 46,
   "id": "fc23f854",
   "metadata": {},
   "outputs": [
    {
     "data": {
      "image/png": "[encoded data removed]",
      "text/plain": [
       "<Figure size 432x180 with 1 Axes>"
      ]
     },
     "metadata": {
      "needs_background": "light"
     },
     "output_type": "display_data"
    }
   ],
   "source": [
    "#define data\n",
    "data = relative_frequencies*100\n",
    "labels = ['4','7','1','6','5','3','8','2']\n",
    "\n",
    "\n",
    "my_graph(labels,data,\"Ποσοστιαία Κατανομή Eκπαίδευσης\",6,2.5,0)"
   ]
  },
  {
   "cell_type": "code",
   "execution_count": null,
   "id": "1ce25609",
   "metadata": {},
   "outputs": [],
   "source": [
    "#EDUCATION\n",
    "\n",
    "family = patients_personalInfo['family']\n",
    "\n",
    "absolute_frequencies = family.value_counts()\n",
    "relative_frequencies = family.value_counts(normalize=True)"
   ]
  },
  {
   "cell_type": "code",
   "execution_count": null,
   "id": "7062c29e",
   "metadata": {},
   "outputs": [],
   "source": [
    "#define data\n",
    "data = relative_frequencies\n",
    "labels = [\"1\",\"2\",\"3\"]\n",
    "\n",
    "plt.pie(data, labels = labels, colors = colors, autopct='%0.f%%')\n",
    "plt.show()"
   ]
  },
  {
   "cell_type": "code",
   "execution_count": null,
   "id": "9d674aad",
   "metadata": {},
   "outputs": [],
   "source": [
    "#EDUCATION\n",
    "\n",
    "occupation = patients_personalInfo['occupation']\n",
    "\n",
    "absolute_frequencies = occupation.value_counts()\n",
    "relative_frequencies = occupation.value_counts(normalize=True)"
   ]
  },
  {
   "cell_type": "code",
   "execution_count": null,
   "id": "98ff6da8",
   "metadata": {},
   "outputs": [],
   "source": [
    "#define data\n",
    "data = relative_frequencies\n",
    "labels = [\"1\",\"2\",\"3\"]\n",
    "\n",
    "plt.pie(data, labels = labels, colors = colors, autopct='%0.f%%')\n",
    "plt.show()"
   ]
  },
  {
   "cell_type": "code",
   "execution_count": null,
   "id": "2d00cd60",
   "metadata": {},
   "outputs": [],
   "source": [
    "#INCOME\n",
    "\n",
    "income = patients_personalInfo['income']\n",
    "\n",
    "absolute_frequencies = income.value_counts()\n",
    "relative_frequencies = income.value_counts(normalize=True)"
   ]
  },
  {
   "cell_type": "code",
   "execution_count": null,
   "id": "c59316b6",
   "metadata": {},
   "outputs": [],
   "source": [
    "#define data\n",
    "data = relative_frequencies\n",
    "labels = [\"1\",\"2\"]\n",
    "\n",
    "plt.pie(data, labels = labels, colors = colors, autopct='%0.f%%')\n",
    "plt.show()"
   ]
  },
  {
   "cell_type": "code",
   "execution_count": null,
   "id": "2ae39ac1",
   "metadata": {},
   "outputs": [],
   "source": [
    "#NATIONALITY\n",
    "\n",
    "nationality = patients_personalInfo['nationality']\n",
    "\n",
    "absolute_frequencies = nationality.value_counts()\n",
    "relative_frequencies = nationality.value_counts(normalize=True)"
   ]
  },
  {
   "cell_type": "code",
   "execution_count": null,
   "id": "38a03599",
   "metadata": {},
   "outputs": [],
   "source": [
    "#define data\n",
    "data = relative_frequencies\n",
    "labels = [\"1\",\"2\"]\n",
    "\n",
    "plt.pie(data, labels = labels, colors = colors, autopct='%0.f%%')\n",
    "plt.show()"
   ]
  },
  {
   "cell_type": "code",
   "execution_count": null,
   "id": "fb238b51",
   "metadata": {},
   "outputs": [],
   "source": [
    "#NURSING FIELD\n",
    "\n",
    "nursing_field = patients_personalInfo['nursing field']\n",
    "\n",
    "absolute_frequencies = nursing_field.value_counts()\n",
    "relative_frequencies = nursing_field.value_counts(normalize=True)"
   ]
  },
  {
   "cell_type": "code",
   "execution_count": null,
   "id": "7207b6cd",
   "metadata": {},
   "outputs": [],
   "source": [
    "#define data\n",
    "data = relative_frequencies\n",
    "labels = [\"1\",\"2\"]\n",
    "\n",
    "plt.pie(data, labels = labels, colors = colors, autopct='%0.f%%')\n",
    "plt.show()"
   ]
  },
  {
   "cell_type": "code",
   "execution_count": null,
   "id": "822d115c",
   "metadata": {},
   "outputs": [],
   "source": [
    "#NURSING DAYS\n",
    "\n",
    "nursing_field = patients_personalInfo['nursing days']\n",
    "\n",
    "absolute_frequencies = nursing_field.value_counts()\n",
    "relative_frequencies = nursing_field.value_counts(normalize=True)"
   ]
  },
  {
   "cell_type": "code",
   "execution_count": null,
   "id": "b2ef7706",
   "metadata": {},
   "outputs": [],
   "source": [
    "nursing_field"
   ]
  },
  {
   "cell_type": "code",
   "execution_count": null,
   "id": "20a81467",
   "metadata": {},
   "outputs": [],
   "source": [
    "absolute_frequencies"
   ]
  },
  {
   "cell_type": "code",
   "execution_count": null,
   "id": "5d994f1e",
   "metadata": {},
   "outputs": [],
   "source": []
  }
 ],
 "metadata": {
  "kernelspec": {
   "display_name": "Python 3 (ipykernel)",
   "language": "python",
   "name": "python3"
  },
  "language_info": {
   "codemirror_mode": {
    "name": "ipython",
    "version": 3
   },
   "file_extension": ".py",
   "mimetype": "text/x-python",
   "name": "python",
   "nbconvert_exporter": "python",
   "pygments_lexer": "ipython3",
   "version": "3.9.7"
  }
 },
 "nbformat": 4,
 "nbformat_minor": 5
}
