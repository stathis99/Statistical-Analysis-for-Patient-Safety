{
 "cells": [
  {
   "cell_type": "code",
   "execution_count": 1,
   "id": "06946469",
   "metadata": {},
   "outputs": [
    {
     "name": "stderr",
     "output_type": "stream",
     "text": [
      "/Users/stathis/opt/anaconda3/lib/python3.9/site-packages/outdated/utils.py:14: OutdatedPackageWarning: The package pingouin is out of date. Your version is 0.5.2, the latest is 0.5.3.\n",
      "Set the environment variable OUTDATED_IGNORE=1 to disable these warnings.\n",
      "  return warn(\n",
      "/Users/stathis/opt/anaconda3/lib/python3.9/site-packages/outdated/utils.py:14: OutdatedPackageWarning: The package outdated is out of date. Your version is 0.2.1, the latest is 0.2.2.\n",
      "Set the environment variable OUTDATED_IGNORE=1 to disable these warnings.\n",
      "  return warn(\n"
     ]
    }
   ],
   "source": [
    "# Libraries\n",
    "import pandas as pd\n",
    "import pingouin as pg\n",
    "import matplotlib.pyplot as plt\n",
    "import seaborn as sns\n",
    "\n",
    "import statsmodels.api as sm\n",
    "from statsmodels.formula.api import ols\n",
    "\n",
    "from scipy.stats.stats import pearsonr\n",
    "from scipy import stats\n",
    "from scipy.stats import f_oneway\n",
    "\n",
    "\n",
    "\n",
    "pd.set_option('display.max_rows', None)"
   ]
  },
  {
   "cell_type": "code",
   "execution_count": 2,
   "id": "d265755c",
   "metadata": {},
   "outputs": [],
   "source": [
    "%store -r par_2\n",
    "\n",
    "%store -r patients_personalInfo"
   ]
  },
  {
   "cell_type": "code",
   "execution_count": 3,
   "id": "a59cf20c",
   "metadata": {},
   "outputs": [],
   "source": [
    "#parameter_1\n",
    "my_parameter = par_2"
   ]
  },
  {
   "cell_type": "code",
   "execution_count": 4,
   "id": "40772391",
   "metadata": {},
   "outputs": [
    {
     "data": {
      "text/html": [
       "<div>\n",
       "<style scoped>\n",
       "    .dataframe tbody tr th:only-of-type {\n",
       "        vertical-align: middle;\n",
       "    }\n",
       "\n",
       "    .dataframe tbody tr th {\n",
       "        vertical-align: top;\n",
       "    }\n",
       "\n",
       "    .dataframe thead th {\n",
       "        text-align: right;\n",
       "    }\n",
       "</style>\n",
       "<table border=\"1\" class=\"dataframe\">\n",
       "  <thead>\n",
       "    <tr style=\"text-align: right;\">\n",
       "      <th></th>\n",
       "      <th>q2</th>\n",
       "      <th>q4</th>\n",
       "      <th>q22</th>\n",
       "      <th>q25</th>\n",
       "    </tr>\n",
       "  </thead>\n",
       "  <tbody>\n",
       "    <tr>\n",
       "      <th>1</th>\n",
       "      <td>NaN</td>\n",
       "      <td>0.202312</td>\n",
       "      <td>0.075145</td>\n",
       "      <td>0.063584</td>\n",
       "    </tr>\n",
       "    <tr>\n",
       "      <th>2</th>\n",
       "      <td>0.011561</td>\n",
       "      <td>0.144509</td>\n",
       "      <td>0.040462</td>\n",
       "      <td>0.150289</td>\n",
       "    </tr>\n",
       "    <tr>\n",
       "      <th>3</th>\n",
       "      <td>0.086705</td>\n",
       "      <td>0.190751</td>\n",
       "      <td>0.161850</td>\n",
       "      <td>0.046243</td>\n",
       "    </tr>\n",
       "    <tr>\n",
       "      <th>4</th>\n",
       "      <td>0.364162</td>\n",
       "      <td>0.352601</td>\n",
       "      <td>0.583815</td>\n",
       "      <td>0.312139</td>\n",
       "    </tr>\n",
       "    <tr>\n",
       "      <th>5</th>\n",
       "      <td>0.537572</td>\n",
       "      <td>0.098266</td>\n",
       "      <td>0.138728</td>\n",
       "      <td>0.427746</td>\n",
       "    </tr>\n",
       "    <tr>\n",
       "      <th>6</th>\n",
       "      <td>NaN</td>\n",
       "      <td>0.011561</td>\n",
       "      <td>NaN</td>\n",
       "      <td>NaN</td>\n",
       "    </tr>\n",
       "  </tbody>\n",
       "</table>\n",
       "</div>"
      ],
      "text/plain": [
       "         q2        q4       q22       q25\n",
       "1       NaN  0.202312  0.075145  0.063584\n",
       "2  0.011561  0.144509  0.040462  0.150289\n",
       "3  0.086705  0.190751  0.161850  0.046243\n",
       "4  0.364162  0.352601  0.583815  0.312139\n",
       "5  0.537572  0.098266  0.138728  0.427746\n",
       "6       NaN  0.011561       NaN       NaN"
      ]
     },
     "execution_count": 4,
     "metadata": {},
     "output_type": "execute_result"
    }
   ],
   "source": [
    "# Relative frequences for answers of every question\n",
    "\n",
    "relative_frequencies = my_parameter.apply(lambda x: x.value_counts(normalize=True))\n",
    "relative_frequencies"
   ]
  },
  {
   "cell_type": "code",
   "execution_count": 5,
   "id": "0a1eb9d1",
   "metadata": {},
   "outputs": [
    {
     "name": "stderr",
     "output_type": "stream",
     "text": [
      "/var/folders/q9/jvtr2p8s6sn6wt933mh1tyfm0000gn/T/ipykernel_35553/303537056.py:23: UserWarning: FixedFormatter should only be used together with FixedLocator\n",
      "  ax.set_yticklabels(['{:,.0%}'.format(x) for x in vals])\n"
     ]
    },
    {
     "data": {
      "image/png": "[encoded data removed]",
      "text/plain": [
       "<Figure size 288x288 with 1 Axes>"
      ]
     },
     "metadata": {
      "needs_background": "light"
     },
     "output_type": "display_data"
    }
   ],
   "source": [
    "relative_frequencies_sum = relative_frequencies.sum(axis=1)/5\n",
    "height = relative_frequencies_sum\n",
    "\n",
    "bars = ('1', '2', '3', '4', '5','6')\n",
    "\n",
    "\n",
    "# Figure Size\n",
    "fig, ax= plt.subplots(figsize =(4, 4))\n",
    "\n",
    "\n",
    "# Horizontal Bar Plot\n",
    "ax.bar(bars, height,color=(0.0, 0.4, 0.6, 0.6))\n",
    "# Add x, y gridlines\n",
    "ax.grid(b = True, color ='grey',\n",
    "        linestyle ='-.', linewidth = 0.9,\n",
    "        alpha = 0.2)\n",
    "\n",
    "    # Add padding between axes and labels\n",
    "ax.xaxis.set_tick_params(pad = 10)\n",
    "ax.yaxis.set_tick_params(pad = 2)\n",
    "\n",
    "vals = ax.get_yticks()\n",
    "ax.set_yticklabels(['{:,.0%}'.format(x) for x in vals])\n",
    "\n",
    "plt.savefig('distribution.png')\n",
    "\n",
    "plt.show()"
   ]
  },
  {
   "cell_type": "code",
   "execution_count": 6,
   "id": "ad4bb0b4",
   "metadata": {},
   "outputs": [
    {
     "data": {
      "text/html": [
       "<div>\n",
       "<style scoped>\n",
       "    .dataframe tbody tr th:only-of-type {\n",
       "        vertical-align: middle;\n",
       "    }\n",
       "\n",
       "    .dataframe tbody tr th {\n",
       "        vertical-align: top;\n",
       "    }\n",
       "\n",
       "    .dataframe thead th {\n",
       "        text-align: right;\n",
       "    }\n",
       "</style>\n",
       "<table border=\"1\" class=\"dataframe\">\n",
       "  <thead>\n",
       "    <tr style=\"text-align: right;\">\n",
       "      <th></th>\n",
       "      <th>q2</th>\n",
       "      <th>q4</th>\n",
       "      <th>q22</th>\n",
       "      <th>q25</th>\n",
       "    </tr>\n",
       "  </thead>\n",
       "  <tbody>\n",
       "    <tr>\n",
       "      <th>count</th>\n",
       "      <td>173.000000</td>\n",
       "      <td>173.000000</td>\n",
       "      <td>173.00000</td>\n",
       "      <td>173.000000</td>\n",
       "    </tr>\n",
       "    <tr>\n",
       "      <th>mean</th>\n",
       "      <td>4.427746</td>\n",
       "      <td>3.034682</td>\n",
       "      <td>3.67052</td>\n",
       "      <td>3.890173</td>\n",
       "    </tr>\n",
       "    <tr>\n",
       "      <th>std</th>\n",
       "      <td>0.700277</td>\n",
       "      <td>1.346382</td>\n",
       "      <td>1.01792</td>\n",
       "      <td>1.282515</td>\n",
       "    </tr>\n",
       "    <tr>\n",
       "      <th>min</th>\n",
       "      <td>2.000000</td>\n",
       "      <td>1.000000</td>\n",
       "      <td>1.00000</td>\n",
       "      <td>1.000000</td>\n",
       "    </tr>\n",
       "    <tr>\n",
       "      <th>25%</th>\n",
       "      <td>4.000000</td>\n",
       "      <td>2.000000</td>\n",
       "      <td>3.00000</td>\n",
       "      <td>3.000000</td>\n",
       "    </tr>\n",
       "    <tr>\n",
       "      <th>50%</th>\n",
       "      <td>5.000000</td>\n",
       "      <td>3.000000</td>\n",
       "      <td>4.00000</td>\n",
       "      <td>4.000000</td>\n",
       "    </tr>\n",
       "    <tr>\n",
       "      <th>75%</th>\n",
       "      <td>5.000000</td>\n",
       "      <td>4.000000</td>\n",
       "      <td>4.00000</td>\n",
       "      <td>5.000000</td>\n",
       "    </tr>\n",
       "    <tr>\n",
       "      <th>max</th>\n",
       "      <td>5.000000</td>\n",
       "      <td>6.000000</td>\n",
       "      <td>5.00000</td>\n",
       "      <td>5.000000</td>\n",
       "    </tr>\n",
       "  </tbody>\n",
       "</table>\n",
       "</div>"
      ],
      "text/plain": [
       "               q2          q4        q22         q25\n",
       "count  173.000000  173.000000  173.00000  173.000000\n",
       "mean     4.427746    3.034682    3.67052    3.890173\n",
       "std      0.700277    1.346382    1.01792    1.282515\n",
       "min      2.000000    1.000000    1.00000    1.000000\n",
       "25%      4.000000    2.000000    3.00000    3.000000\n",
       "50%      5.000000    3.000000    4.00000    4.000000\n",
       "75%      5.000000    4.000000    4.00000    5.000000\n",
       "max      5.000000    6.000000    5.00000    5.000000"
      ]
     },
     "execution_count": 6,
     "metadata": {},
     "output_type": "execute_result"
    }
   ],
   "source": [
    "my_parameter.describe()"
   ]
  },
  {
   "cell_type": "code",
   "execution_count": 9,
   "id": "b633f610",
   "metadata": {},
   "outputs": [],
   "source": [
    "parameter = my_parameter\n",
    "\n",
    "individualScore = parameter.sum(axis=1)/4"
   ]
  },
  {
   "cell_type": "code",
   "execution_count": 10,
   "id": "a08aa9bb",
   "metadata": {},
   "outputs": [
    {
     "data": {
      "text/plain": [
       "count    173.000000\n",
       "mean       3.755780\n",
       "std        0.657003\n",
       "min        2.000000\n",
       "25%        3.250000\n",
       "50%        3.750000\n",
       "75%        4.250000\n",
       "max        5.000000\n",
       "dtype: float64"
      ]
     },
     "execution_count": 10,
     "metadata": {},
     "output_type": "execute_result"
    }
   ],
   "source": [
    "individualScore.describe()"
   ]
  },
  {
   "cell_type": "code",
   "execution_count": null,
   "id": "8bf3bd63",
   "metadata": {},
   "outputs": [],
   "source": []
  }
 ],
 "metadata": {
  "kernelspec": {
   "display_name": "Python 3 (ipykernel)",
   "language": "python",
   "name": "python3"
  },
  "language_info": {
   "codemirror_mode": {
    "name": "ipython",
    "version": 3
   },
   "file_extension": ".py",
   "mimetype": "text/x-python",
   "name": "python",
   "nbconvert_exporter": "python",
   "pygments_lexer": "ipython3",
   "version": "3.9.7"
  }
 },
 "nbformat": 4,
 "nbformat_minor": 5
}
