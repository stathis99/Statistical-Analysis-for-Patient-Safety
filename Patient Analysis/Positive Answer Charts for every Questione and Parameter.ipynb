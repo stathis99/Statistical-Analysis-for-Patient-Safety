{
 "cells": [
  {
   "cell_type": "markdown",
   "id": "b44516e8",
   "metadata": {},
   "source": [
    "# Positive Answer Charts for every Questione and Parameter"
   ]
  },
  {
   "cell_type": "code",
   "execution_count": 11,
   "id": "18cca55d",
   "metadata": {},
   "outputs": [],
   "source": [
    "#Libraries\n",
    "import numpy as np\n",
    "import matplotlib.pyplot as plt"
   ]
  },
  {
   "cell_type": "code",
   "execution_count": 12,
   "id": "629ce6c2",
   "metadata": {},
   "outputs": [],
   "source": [
    "# Get parameters from notebook 1\n",
    "\n",
    "%store -r par_1\n",
    "%store -r par_2\n",
    "%store -r par_3\n",
    "%store -r par_4\n",
    "%store -r par_5\n",
    "%store -r par_6\n",
    "%store -r par_7\n",
    "%store -r par_8\n"
   ]
  },
  {
   "cell_type": "code",
   "execution_count": 13,
   "id": "0beac42d",
   "metadata": {},
   "outputs": [],
   "source": [
    "allPositive  = []"
   ]
  },
  {
   "cell_type": "code",
   "execution_count": 14,
   "id": "2a9cbd96",
   "metadata": {},
   "outputs": [
    {
     "name": "stdout",
     "output_type": "stream",
     "text": [
      "Percentage of positive answers for this parametrt is  0.8439306358381502\n"
     ]
    }
   ],
   "source": [
    "#par 1\n",
    "\n",
    "relative_frequencies = par_1.apply(lambda x: x.value_counts(normalize=True))\n",
    "positive_answers1 = relative_frequencies.iloc[3:6].sum().sum()/5\n",
    "print(\"Percentage of positive answers for this parametrt is \", positive_answers1)\n",
    "allPositive.append(positive_answers1)"
   ]
  },
  {
   "cell_type": "code",
   "execution_count": 16,
   "id": "2d7b45c0",
   "metadata": {},
   "outputs": [
    {
     "name": "stdout",
     "output_type": "stream",
     "text": [
      "Percentage of positive answers for this parametrt is  0.7066473988439307\n"
     ]
    }
   ],
   "source": [
    "#par2\n",
    "\n",
    "relative_frequencies = par_2.apply(lambda x: x.value_counts(normalize=True))\n",
    "positive_answers2 = relative_frequencies.iloc[3:6].sum().sum()/4\n",
    "print(\"Percentage of positive answers for this parametrt is \", positive_answers2)\n",
    "allPositive.append(positive_answers2)"
   ]
  },
  {
   "cell_type": "code",
   "execution_count": 18,
   "id": "2f32d525",
   "metadata": {},
   "outputs": [
    {
     "name": "stdout",
     "output_type": "stream",
     "text": [
      "Percentage of positive answers for this parametrt is  0.6974951830443161\n"
     ]
    }
   ],
   "source": [
    "#par 3\n",
    "\n",
    "relative_frequencies = par_3.apply(lambda x: x.value_counts(normalize=True))\n",
    "positive_answers3 = relative_frequencies.iloc[3:6].sum().sum()/3\n",
    "print(\"Percentage of positive answers for this parametrt is \", positive_answers3)\n",
    "allPositive.append(positive_answers3)"
   ]
  },
  {
   "cell_type": "code",
   "execution_count": 20,
   "id": "90f7c636",
   "metadata": {},
   "outputs": [
    {
     "name": "stdout",
     "output_type": "stream",
     "text": [
      "Percentage of positive answers for this parametrt is  0.5857066041902713\n"
     ]
    }
   ],
   "source": [
    "# par 4\n",
    "\n",
    "relative_frequencies = par_4.apply(lambda x: x.value_counts(normalize=True))\n",
    "positive_answers4 = relative_frequencies.iloc[3:6].sum().sum()/7\n",
    "print(\"Percentage of positive answers for this parametrt is \", positive_answers4)\n",
    "allPositive.append(positive_answers4)"
   ]
  },
  {
   "cell_type": "code",
   "execution_count": 22,
   "id": "363f6359",
   "metadata": {},
   "outputs": [
    {
     "name": "stdout",
     "output_type": "stream",
     "text": [
      "Percentage of positive answers for this parametrt is  0.06358381502890173\n"
     ]
    }
   ],
   "source": [
    "#par 5\n",
    "\n",
    "relative_frequencies = par_5.apply(lambda x: x.value_counts(normalize=True))\n",
    "positive_answers5 = relative_frequencies.iloc[3:6].sum().sum()/2\n",
    "print(\"Percentage of positive answers for this parametrt is \", positive_answers5)\n",
    "allPositive.append(positive_answers5)"
   ]
  },
  {
   "cell_type": "code",
   "execution_count": 23,
   "id": "07d3d283",
   "metadata": {},
   "outputs": [
    {
     "data": {
      "text/html": [
       "<div>\n",
       "<style scoped>\n",
       "    .dataframe tbody tr th:only-of-type {\n",
       "        vertical-align: middle;\n",
       "    }\n",
       "\n",
       "    .dataframe tbody tr th {\n",
       "        vertical-align: top;\n",
       "    }\n",
       "\n",
       "    .dataframe thead th {\n",
       "        text-align: right;\n",
       "    }\n",
       "</style>\n",
       "<table border=\"1\" class=\"dataframe\">\n",
       "  <thead>\n",
       "    <tr style=\"text-align: right;\">\n",
       "      <th></th>\n",
       "      <th>q30</th>\n",
       "      <th>q5</th>\n",
       "    </tr>\n",
       "  </thead>\n",
       "  <tbody>\n",
       "    <tr>\n",
       "      <th>5</th>\n",
       "      <td>0.479769</td>\n",
       "      <td>0.462428</td>\n",
       "    </tr>\n",
       "    <tr>\n",
       "      <th>4</th>\n",
       "      <td>0.277457</td>\n",
       "      <td>0.381503</td>\n",
       "    </tr>\n",
       "    <tr>\n",
       "      <th>3</th>\n",
       "      <td>0.161850</td>\n",
       "      <td>0.109827</td>\n",
       "    </tr>\n",
       "    <tr>\n",
       "      <th>2</th>\n",
       "      <td>0.040462</td>\n",
       "      <td>0.028902</td>\n",
       "    </tr>\n",
       "    <tr>\n",
       "      <th>6</th>\n",
       "      <td>0.028902</td>\n",
       "      <td>0.011561</td>\n",
       "    </tr>\n",
       "    <tr>\n",
       "      <th>1</th>\n",
       "      <td>0.011561</td>\n",
       "      <td>0.005780</td>\n",
       "    </tr>\n",
       "  </tbody>\n",
       "</table>\n",
       "</div>"
      ],
      "text/plain": [
       "        q30        q5\n",
       "5  0.479769  0.462428\n",
       "4  0.277457  0.381503\n",
       "3  0.161850  0.109827\n",
       "2  0.040462  0.028902\n",
       "6  0.028902  0.011561\n",
       "1  0.011561  0.005780"
      ]
     },
     "execution_count": 23,
     "metadata": {},
     "output_type": "execute_result"
    }
   ],
   "source": [
    "relative_frequencies"
   ]
  },
  {
   "cell_type": "code",
   "execution_count": 24,
   "id": "3b8fad81",
   "metadata": {},
   "outputs": [
    {
     "name": "stdout",
     "output_type": "stream",
     "text": [
      "Percentage of positive answers for this parametrt is  0.7034295604247883\n"
     ]
    }
   ],
   "source": [
    "#par 6\n",
    "\n",
    "relative_frequencies = par_6.apply(lambda x: x.value_counts(normalize=True))\n",
    "positive_answers6 = relative_frequencies.iloc[3:6].sum().sum()/4\n",
    "print(\"Percentage of positive answers for this parametrt is \", positive_answers6)\n",
    "allPositive.append(positive_answers6)"
   ]
  },
  {
   "cell_type": "code",
   "execution_count": 26,
   "id": "80beedfc",
   "metadata": {},
   "outputs": [
    {
     "name": "stdout",
     "output_type": "stream",
     "text": [
      "Percentage of positive answers for this parametrt is  0.06647398843930635\n"
     ]
    }
   ],
   "source": [
    "#par 7\n",
    "\n",
    "relative_frequencies = par_7.apply(lambda x: x.value_counts(normalize=True))\n",
    "positive_answers7 = relative_frequencies.iloc[3:6].sum().sum()/2\n",
    "print(\"Percentage of positive answers for this parametrt is \", positive_answers7)\n",
    "allPositive.append(positive_answers7)"
   ]
  },
  {
   "cell_type": "code",
   "execution_count": 27,
   "id": "9f45c570",
   "metadata": {},
   "outputs": [
    {
     "data": {
      "text/html": [
       "<div>\n",
       "<style scoped>\n",
       "    .dataframe tbody tr th:only-of-type {\n",
       "        vertical-align: middle;\n",
       "    }\n",
       "\n",
       "    .dataframe tbody tr th {\n",
       "        vertical-align: top;\n",
       "    }\n",
       "\n",
       "    .dataframe thead th {\n",
       "        text-align: right;\n",
       "    }\n",
       "</style>\n",
       "<table border=\"1\" class=\"dataframe\">\n",
       "  <thead>\n",
       "    <tr style=\"text-align: right;\">\n",
       "      <th></th>\n",
       "      <th>q7</th>\n",
       "      <th>q14</th>\n",
       "    </tr>\n",
       "  </thead>\n",
       "  <tbody>\n",
       "    <tr>\n",
       "      <th>5</th>\n",
       "      <td>0.502890</td>\n",
       "      <td>0.473988</td>\n",
       "    </tr>\n",
       "    <tr>\n",
       "      <th>4</th>\n",
       "      <td>0.398844</td>\n",
       "      <td>0.393064</td>\n",
       "    </tr>\n",
       "    <tr>\n",
       "      <th>3</th>\n",
       "      <td>0.040462</td>\n",
       "      <td>0.057803</td>\n",
       "    </tr>\n",
       "    <tr>\n",
       "      <th>6</th>\n",
       "      <td>0.028902</td>\n",
       "      <td>0.046243</td>\n",
       "    </tr>\n",
       "    <tr>\n",
       "      <th>2</th>\n",
       "      <td>0.023121</td>\n",
       "      <td>0.023121</td>\n",
       "    </tr>\n",
       "    <tr>\n",
       "      <th>1</th>\n",
       "      <td>0.005780</td>\n",
       "      <td>0.005780</td>\n",
       "    </tr>\n",
       "  </tbody>\n",
       "</table>\n",
       "</div>"
      ],
      "text/plain": [
       "         q7       q14\n",
       "5  0.502890  0.473988\n",
       "4  0.398844  0.393064\n",
       "3  0.040462  0.057803\n",
       "6  0.028902  0.046243\n",
       "2  0.023121  0.023121\n",
       "1  0.005780  0.005780"
      ]
     },
     "execution_count": 27,
     "metadata": {},
     "output_type": "execute_result"
    }
   ],
   "source": [
    "relative_frequencies"
   ]
  },
  {
   "cell_type": "code",
   "execution_count": 29,
   "id": "f1314da4",
   "metadata": {},
   "outputs": [
    {
     "name": "stdout",
     "output_type": "stream",
     "text": [
      "Percentage of positive answers for this parametrt is  0.5809248554913296\n"
     ]
    }
   ],
   "source": [
    "# par 8\n",
    "\n",
    "relative_frequencies = par_8.apply(lambda x: x.value_counts(normalize=True))\n",
    "positive_answers8 = relative_frequencies.iloc[3:6].sum().sum()/2\n",
    "print(\"Percentage of positive answers for this parametrt is \", positive_answers8)\n",
    "allPositive.append(positive_answers8)"
   ]
  },
  {
   "cell_type": "code",
   "execution_count": 31,
   "id": "6787cae9",
   "metadata": {},
   "outputs": [
    {
     "data": {
      "text/plain": [
       "[0.8439306358381502,\n",
       " 0.7066473988439307,\n",
       " 0.6974951830443161,\n",
       " 0.5857066041902713,\n",
       " 0.06358381502890173,\n",
       " 0.7034295604247883,\n",
       " 0.06647398843930635,\n",
       " 0.5809248554913296]"
      ]
     },
     "execution_count": 31,
     "metadata": {},
     "output_type": "execute_result"
    }
   ],
   "source": [
    "allPositive"
   ]
  },
  {
   "cell_type": "code",
   "execution_count": 32,
   "id": "1ab34e92",
   "metadata": {},
   "outputs": [
    {
     "data": {
      "text/plain": [
       "[84.39306358381502,\n",
       " 70.66473988439307,\n",
       " 69.74951830443162,\n",
       " 58.570660419027135,\n",
       " 6.358381502890173,\n",
       " 70.34295604247883,\n",
       " 6.6473988439306355,\n",
       " 58.09248554913295]"
      ]
     },
     "execution_count": 32,
     "metadata": {},
     "output_type": "execute_result"
    }
   ],
   "source": [
    "allPositive = list(map(lambda item: item * 100, allPositive))\n",
    "allPositive"
   ]
  },
  {
   "cell_type": "markdown",
   "id": "bb91f03e",
   "metadata": {},
   "source": [
    "## Charts for positive answer percentage for every parameter"
   ]
  },
  {
   "cell_type": "code",
   "execution_count": 33,
   "id": "49b0536d",
   "metadata": {},
   "outputs": [
    {
     "data": {
      "image/png": "[encoded data removed]",
      "text/plain": [
       "<Figure size 720x864 with 1 Axes>"
      ]
     },
     "metadata": {
      "needs_background": "light"
     },
     "output_type": "display_data"
    }
   ],
   "source": [
    "name = ['Π1','Π2','Π3','Π4','Π5','Π6','Π7','Π8']\n",
    "\n",
    "\n",
    "# Figure Size\n",
    "fig, ax= plt.subplots(figsize =(10, 12))\n",
    "\n",
    "\n",
    "# Horizontal Bar Plot\n",
    "ax.barh(name, allPositive,color=(0.0, 0.4, 0.6, 0.6))\n",
    "\n",
    "# Remove axes splines\n",
    "for s in ['top', 'bottom', 'left', 'right']:\n",
    "\tax.spines[s].set_visible(False)\n",
    "\n",
    "# Remove x, y Ticks\n",
    "ax.xaxis.set_ticks_position('none')\n",
    "#ax.yaxis.set_ticks_position('none')\n",
    "\n",
    "# Add padding between axes and labels\n",
    "ax.xaxis.set_tick_params(pad = 10)\n",
    "ax.yaxis.set_tick_params(pad = 20)\n",
    "\n",
    "# Add x, y gridlines\n",
    "ax.grid(b = True, color ='grey',\n",
    "\t\tlinestyle ='-.', linewidth = 0.9,\n",
    "\t\talpha = 0.2)\n",
    "\n",
    "# Show top values\n",
    "ax.invert_yaxis()\n",
    "\n",
    "# Add annotation to bars\n",
    "for i in ax.patches:\n",
    "\tplt.text(i.get_width()+0.01, i.get_y()+0.4,\n",
    "\t\t\tstr(round((i.get_width()), 2))+'%',\n",
    "\t\t\tfontsize = 16, fontweight ='bold',\n",
    "\t\t\tcolor ='black')\n",
    "    \n",
    "# Add Plot Title\n",
    "ax.set_title('Ποσοστό θετικών απαντήσεων για κάθε παράμετρο του PMOS-30',\n",
    "\t\t\tloc ='left', fontsize=18, fontweight ='bold')\n",
    "\n",
    "# Show Plot\n",
    "plt.yticks(fontsize=17)\n",
    "plt.savefig(\"last.png\")\n",
    "\n",
    "plt.show()\n"
   ]
  },
  {
   "cell_type": "code",
   "execution_count": 34,
   "id": "cad87265",
   "metadata": {},
   "outputs": [],
   "source": [
    "#helper function that creates bar charts\n",
    "def my_graph(parameters_title,pos_percentage,title,save_title):\n",
    "    \n",
    "    pos_percentage = pos_percentage*100\n",
    "\n",
    "    # Figure Size\n",
    "    fig, ax = plt.subplots(figsize =(6, 2))\n",
    "\n",
    "    # Horizontal Bar Plot\n",
    "    ax.barh(parameters_title, pos_percentage,color=(0.0, 0.4, 0.6, 0.6))\n",
    "\n",
    "    # Remove axes splines\n",
    "    for s in ['top', 'bottom', 'left', 'right']:\n",
    "        ax.spines[s].set_visible(False)\n",
    "\n",
    "    # Remove x, y Ticks\n",
    "    ax.xaxis.set_ticks_position('none')\n",
    "    ax.yaxis.set_ticks_position('none')\n",
    "\n",
    "    # Add padding between axes and labels\n",
    "    ax.xaxis.set_tick_params(pad = 1)\n",
    "    ax.yaxis.set_tick_params(pad = 10)\n",
    "\n",
    "    # Add x, y gridlines\n",
    "    ax.grid(b = True, color ='grey',\n",
    "            linestyle ='-.', linewidth = 0.9,\n",
    "            alpha = 0.2)\n",
    "\n",
    "    # Show top values\n",
    "    ax.invert_yaxis()\n",
    "\n",
    "    # Add annotation to bars\n",
    "    for i in ax.patches:\n",
    "        plt.text(i.get_width()+0.01, i.get_y()+0.4,\n",
    "                str(round((i.get_width()), 2))+'%',\n",
    "                fontsize = 10, fontweight ='bold',\n",
    "                )\n",
    "\n",
    "    # Add Plot Title\n",
    "    ax.set_title(title,\n",
    "                loc ='left', )\n",
    "    if(save_title == 1):\n",
    "        plt.savefig('chart.png')\n",
    "\n",
    "    # Show Plot\n",
    "    plt.show()\n"
   ]
  },
  {
   "cell_type": "code",
   "execution_count": null,
   "id": "7f6cac8d",
   "metadata": {},
   "outputs": [],
   "source": []
  },
  {
   "cell_type": "markdown",
   "id": "17f2241f",
   "metadata": {},
   "source": [
    "## Charts for positive answer percentage for every question "
   ]
  },
  {
   "cell_type": "code",
   "execution_count": 35,
   "id": "78a126bc",
   "metadata": {},
   "outputs": [
    {
     "data": {
      "image/png": "[encoded data removed]",
      "text/plain": [
       "<Figure size 432x144 with 1 Axes>"
      ]
     },
     "metadata": {
      "needs_background": "light"
     },
     "output_type": "display_data"
    }
   ],
   "source": [
    "#1\n",
    "relative_frequencies = par_1.apply(lambda x: x.value_counts(normalize=True))\n",
    "positive_answers1 = relative_frequencies.iloc[3:6].sum()\n",
    "\n",
    "title = 'Επικοινωνία και ομαδικότητα'\n",
    "\n",
    "par = ['Ε3','Ε28','Ε13','Ε19','Ε24']\n",
    "my_graph(par,positive_answers1,title,0)"
   ]
  },
  {
   "cell_type": "code",
   "execution_count": 37,
   "id": "2ee2d7c4",
   "metadata": {},
   "outputs": [
    {
     "data": {
      "text/html": [
       "<div>\n",
       "<style scoped>\n",
       "    .dataframe tbody tr th:only-of-type {\n",
       "        vertical-align: middle;\n",
       "    }\n",
       "\n",
       "    .dataframe tbody tr th {\n",
       "        vertical-align: top;\n",
       "    }\n",
       "\n",
       "    .dataframe thead th {\n",
       "        text-align: right;\n",
       "    }\n",
       "</style>\n",
       "<table border=\"1\" class=\"dataframe\">\n",
       "  <thead>\n",
       "    <tr style=\"text-align: right;\">\n",
       "      <th></th>\n",
       "      <th>q3</th>\n",
       "      <th>q28</th>\n",
       "      <th>q13</th>\n",
       "      <th>q19</th>\n",
       "      <th>q24</th>\n",
       "    </tr>\n",
       "  </thead>\n",
       "  <tbody>\n",
       "    <tr>\n",
       "      <th>1</th>\n",
       "      <td>0.005780</td>\n",
       "      <td>0.005780</td>\n",
       "      <td>0.023121</td>\n",
       "      <td>0.057803</td>\n",
       "      <td>0.005780</td>\n",
       "    </tr>\n",
       "    <tr>\n",
       "      <th>2</th>\n",
       "      <td>0.023121</td>\n",
       "      <td>0.017341</td>\n",
       "      <td>0.098266</td>\n",
       "      <td>0.034682</td>\n",
       "      <td>0.057803</td>\n",
       "    </tr>\n",
       "    <tr>\n",
       "      <th>3</th>\n",
       "      <td>0.132948</td>\n",
       "      <td>0.092486</td>\n",
       "      <td>0.150289</td>\n",
       "      <td>0.052023</td>\n",
       "      <td>0.023121</td>\n",
       "    </tr>\n",
       "    <tr>\n",
       "      <th>4</th>\n",
       "      <td>0.335260</td>\n",
       "      <td>0.416185</td>\n",
       "      <td>0.312139</td>\n",
       "      <td>0.641618</td>\n",
       "      <td>0.445087</td>\n",
       "    </tr>\n",
       "    <tr>\n",
       "      <th>5</th>\n",
       "      <td>0.502890</td>\n",
       "      <td>0.462428</td>\n",
       "      <td>0.369942</td>\n",
       "      <td>0.213873</td>\n",
       "      <td>0.468208</td>\n",
       "    </tr>\n",
       "    <tr>\n",
       "      <th>6</th>\n",
       "      <td>NaN</td>\n",
       "      <td>0.005780</td>\n",
       "      <td>0.046243</td>\n",
       "      <td>NaN</td>\n",
       "      <td>NaN</td>\n",
       "    </tr>\n",
       "  </tbody>\n",
       "</table>\n",
       "</div>"
      ],
      "text/plain": [
       "         q3       q28       q13       q19       q24\n",
       "1  0.005780  0.005780  0.023121  0.057803  0.005780\n",
       "2  0.023121  0.017341  0.098266  0.034682  0.057803\n",
       "3  0.132948  0.092486  0.150289  0.052023  0.023121\n",
       "4  0.335260  0.416185  0.312139  0.641618  0.445087\n",
       "5  0.502890  0.462428  0.369942  0.213873  0.468208\n",
       "6       NaN  0.005780  0.046243       NaN       NaN"
      ]
     },
     "execution_count": 37,
     "metadata": {},
     "output_type": "execute_result"
    }
   ],
   "source": [
    "relative_frequencies"
   ]
  },
  {
   "cell_type": "code",
   "execution_count": 150,
   "id": "f54c4e6c",
   "metadata": {},
   "outputs": [
    {
     "data": {
      "text/html": [
       "<div>\n",
       "<style scoped>\n",
       "    .dataframe tbody tr th:only-of-type {\n",
       "        vertical-align: middle;\n",
       "    }\n",
       "\n",
       "    .dataframe tbody tr th {\n",
       "        vertical-align: top;\n",
       "    }\n",
       "\n",
       "    .dataframe thead th {\n",
       "        text-align: right;\n",
       "    }\n",
       "</style>\n",
       "<table border=\"1\" class=\"dataframe\">\n",
       "  <thead>\n",
       "    <tr style=\"text-align: right;\">\n",
       "      <th></th>\n",
       "      <th>4. Το προσωπικό μπορεί ελεύθερα να αμφισβητήσει τις αποφάσεις ή τις ενέργειες των ανωτέρων του.</th>\n",
       "      <th>2. Το προσωπικό μιλάει ελεύθερα όταν διαπιστώσει κάτι που επιδρά αρνητικά στη φροντίδα υγείας του ασθενούς.</th>\n",
       "      <th>6. Το προσωπικό φοβάται να ρωτήσει, όταν κάτι δεν φαίνεται σωστό.</th>\n",
       "    </tr>\n",
       "  </thead>\n",
       "  <tbody>\n",
       "    <tr>\n",
       "      <th>1.0</th>\n",
       "      <td>0.140496</td>\n",
       "      <td>0.037190</td>\n",
       "      <td>0.033058</td>\n",
       "    </tr>\n",
       "    <tr>\n",
       "      <th>2.0</th>\n",
       "      <td>0.297521</td>\n",
       "      <td>0.082645</td>\n",
       "      <td>0.152893</td>\n",
       "    </tr>\n",
       "    <tr>\n",
       "      <th>3.0</th>\n",
       "      <td>0.305785</td>\n",
       "      <td>0.198347</td>\n",
       "      <td>0.231405</td>\n",
       "    </tr>\n",
       "    <tr>\n",
       "      <th>4.0</th>\n",
       "      <td>0.181818</td>\n",
       "      <td>0.392562</td>\n",
       "      <td>0.289256</td>\n",
       "    </tr>\n",
       "    <tr>\n",
       "      <th>5.0</th>\n",
       "      <td>0.074380</td>\n",
       "      <td>0.289256</td>\n",
       "      <td>0.293388</td>\n",
       "    </tr>\n",
       "  </tbody>\n",
       "</table>\n",
       "</div>"
      ],
      "text/plain": [
       "     4. Το προσωπικό μπορεί ελεύθερα να αμφισβητήσει τις αποφάσεις ή τις ενέργειες των ανωτέρων του.  \\\n",
       "1.0                                           0.140496                                                 \n",
       "2.0                                           0.297521                                                 \n",
       "3.0                                           0.305785                                                 \n",
       "4.0                                           0.181818                                                 \n",
       "5.0                                           0.074380                                                 \n",
       "\n",
       "     2. Το προσωπικό μιλάει ελεύθερα όταν διαπιστώσει κάτι που επιδρά αρνητικά στη φροντίδα υγείας του ασθενούς.  \\\n",
       "1.0                                           0.037190                                                             \n",
       "2.0                                           0.082645                                                             \n",
       "3.0                                           0.198347                                                             \n",
       "4.0                                           0.392562                                                             \n",
       "5.0                                           0.289256                                                             \n",
       "\n",
       "     6. Το προσωπικό φοβάται να ρωτήσει, όταν κάτι δεν φαίνεται σωστό.  \n",
       "1.0                                           0.033058                  \n",
       "2.0                                           0.152893                  \n",
       "3.0                                           0.231405                  \n",
       "4.0                                           0.289256                  \n",
       "5.0                                           0.293388                  "
      ]
     },
     "execution_count": 150,
     "metadata": {},
     "output_type": "execute_result"
    }
   ],
   "source": [
    "relative_frequencies"
   ]
  },
  {
   "cell_type": "code",
   "execution_count": 151,
   "id": "ca7a8e86",
   "metadata": {},
   "outputs": [
    {
     "data": {
      "text/plain": [
       "4. Το προσωπικό μπορεί ελεύθερα να αμφισβητήσει τις αποφάσεις ή τις ενέργειες των ανωτέρων του.                0.256198\n",
       "2. Το προσωπικό μιλάει ελεύθερα όταν διαπιστώσει κάτι που επιδρά αρνητικά στη φροντίδα υγείας του ασθενούς.    0.681818\n",
       "6. Το προσωπικό φοβάται να ρωτήσει, όταν κάτι δεν φαίνεται σωστό.                                              0.582645\n",
       "dtype: float64"
      ]
     },
     "execution_count": 151,
     "metadata": {},
     "output_type": "execute_result"
    }
   ],
   "source": [
    "positive_answers1"
   ]
  },
  {
   "cell_type": "code",
   "execution_count": 152,
   "id": "7da2831b",
   "metadata": {},
   "outputs": [
    {
     "data": {
      "image/png": "[encoded data removed]",
      "text/plain": [
       "<Figure size 432x144 with 1 Axes>"
      ]
     },
     "metadata": {
      "needs_background": "light"
     },
     "output_type": "display_data"
    }
   ],
   "source": [
    "#2\n",
    "relative_frequencies = parameter_2.apply(lambda x: x.value_counts(normalize=True))\n",
    "positive_answers2 = relative_frequencies.iloc[3:6].sum()\n",
    "\n",
    "title = 'Ανατροφοδότηση και Επικοινωνία για τα λάθη'\n",
    "par = ['Γ1','Γ3','Γ5']\n",
    "\n",
    "my_graph(par,positive_answers2,title,0)"
   ]
  },
  {
   "cell_type": "code",
   "execution_count": 153,
   "id": "4070dbea",
   "metadata": {},
   "outputs": [
    {
     "data": {
      "text/html": [
       "<div>\n",
       "<style scoped>\n",
       "    .dataframe tbody tr th:only-of-type {\n",
       "        vertical-align: middle;\n",
       "    }\n",
       "\n",
       "    .dataframe tbody tr th {\n",
       "        vertical-align: top;\n",
       "    }\n",
       "\n",
       "    .dataframe thead th {\n",
       "        text-align: right;\n",
       "    }\n",
       "</style>\n",
       "<table border=\"1\" class=\"dataframe\">\n",
       "  <thead>\n",
       "    <tr style=\"text-align: right;\">\n",
       "      <th></th>\n",
       "      <th>1. Γίνεται συστηματική αξιολόγηση των αλλαγών που τίθενται σε εφαρμογή, βάσει δυσμενών συμβάντων που έχουν αναφερθεί.</th>\n",
       "      <th>3. Το προσωπικό ενημερώνεται συχνά για τα δυσμενή συμβάντα που λαμβάνουν χώρα.</th>\n",
       "      <th>5. Το προσωπικό συζητά τρόπους πρόληψης δυσμενών συμβάντων ώστε να μην επαναληφθούν.</th>\n",
       "    </tr>\n",
       "  </thead>\n",
       "  <tbody>\n",
       "    <tr>\n",
       "      <th>1.0</th>\n",
       "      <td>0.095041</td>\n",
       "      <td>0.020833</td>\n",
       "      <td>0.012448</td>\n",
       "    </tr>\n",
       "    <tr>\n",
       "      <th>2.0</th>\n",
       "      <td>0.148760</td>\n",
       "      <td>0.079167</td>\n",
       "      <td>0.128631</td>\n",
       "    </tr>\n",
       "    <tr>\n",
       "      <th>3.0</th>\n",
       "      <td>0.355372</td>\n",
       "      <td>0.166667</td>\n",
       "      <td>0.195021</td>\n",
       "    </tr>\n",
       "    <tr>\n",
       "      <th>4.0</th>\n",
       "      <td>0.285124</td>\n",
       "      <td>0.395833</td>\n",
       "      <td>0.410788</td>\n",
       "    </tr>\n",
       "    <tr>\n",
       "      <th>5.0</th>\n",
       "      <td>0.115702</td>\n",
       "      <td>0.337500</td>\n",
       "      <td>0.253112</td>\n",
       "    </tr>\n",
       "  </tbody>\n",
       "</table>\n",
       "</div>"
      ],
      "text/plain": [
       "     1. Γίνεται συστηματική αξιολόγηση των αλλαγών που τίθενται σε εφαρμογή, βάσει δυσμενών συμβάντων που έχουν αναφερθεί.   \\\n",
       "1.0                                           0.095041                                                                        \n",
       "2.0                                           0.148760                                                                        \n",
       "3.0                                           0.355372                                                                        \n",
       "4.0                                           0.285124                                                                        \n",
       "5.0                                           0.115702                                                                        \n",
       "\n",
       "     3. Το προσωπικό ενημερώνεται συχνά για τα δυσμενή συμβάντα που λαμβάνουν χώρα.  \\\n",
       "1.0                                           0.020833                                \n",
       "2.0                                           0.079167                                \n",
       "3.0                                           0.166667                                \n",
       "4.0                                           0.395833                                \n",
       "5.0                                           0.337500                                \n",
       "\n",
       "     5. Το προσωπικό συζητά τρόπους πρόληψης δυσμενών συμβάντων ώστε να μην επαναληφθούν.  \n",
       "1.0                                           0.012448                                     \n",
       "2.0                                           0.128631                                     \n",
       "3.0                                           0.195021                                     \n",
       "4.0                                           0.410788                                     \n",
       "5.0                                           0.253112                                     "
      ]
     },
     "execution_count": 153,
     "metadata": {},
     "output_type": "execute_result"
    }
   ],
   "source": [
    "relative_frequencies"
   ]
  },
  {
   "cell_type": "code",
   "execution_count": 154,
   "id": "438f6aa9",
   "metadata": {},
   "outputs": [
    {
     "data": {
      "image/png": "[encoded data removed]",
      "text/plain": [
       "<Figure size 432x144 with 1 Axes>"
      ]
     },
     "metadata": {
      "needs_background": "light"
     },
     "output_type": "display_data"
    }
   ],
   "source": [
    "#3\n",
    "relative_frequencies = parameter_3.apply(lambda x: x.value_counts(normalize=True))\n",
    "positive_answers3 = relative_frequencies.iloc[3:6].sum()\n",
    "\n",
    "title = 'Οργανωσιακή μάθηση - Συνεχής βελτίωση'\n",
    "par = ['Α6','Α9','Α13']\n",
    "\n",
    "my_graph(par,positive_answers3,title,0)"
   ]
  },
  {
   "cell_type": "code",
   "execution_count": 155,
   "id": "d93d2607",
   "metadata": {},
   "outputs": [
    {
     "data": {
      "text/html": [
       "<div>\n",
       "<style scoped>\n",
       "    .dataframe tbody tr th:only-of-type {\n",
       "        vertical-align: middle;\n",
       "    }\n",
       "\n",
       "    .dataframe tbody tr th {\n",
       "        vertical-align: top;\n",
       "    }\n",
       "\n",
       "    .dataframe thead th {\n",
       "        text-align: right;\n",
       "    }\n",
       "</style>\n",
       "<table border=\"1\" class=\"dataframe\">\n",
       "  <thead>\n",
       "    <tr style=\"text-align: right;\">\n",
       "      <th></th>\n",
       "      <th>6. Το προσωπικό εργάζεται δυναμικά για τη βελτίωση της ασφάλειας του ασθενούς.</th>\n",
       "      <th>9. Τα λάθη οδήγησαν σε θετικές αλλαγές.</th>\n",
       "      <th>13. Όταν γίνονται αλλαγές για τη βελτίωση της ασφάλειας του ασθενούς, αξιολογείται η αποτελεσματικότητά τους.</th>\n",
       "    </tr>\n",
       "  </thead>\n",
       "  <tbody>\n",
       "    <tr>\n",
       "      <th>1.0</th>\n",
       "      <td>0.016598</td>\n",
       "      <td>0.045455</td>\n",
       "      <td>0.054167</td>\n",
       "    </tr>\n",
       "    <tr>\n",
       "      <th>2.0</th>\n",
       "      <td>0.049793</td>\n",
       "      <td>0.144628</td>\n",
       "      <td>0.175000</td>\n",
       "    </tr>\n",
       "    <tr>\n",
       "      <th>3.0</th>\n",
       "      <td>0.149378</td>\n",
       "      <td>0.314050</td>\n",
       "      <td>0.258333</td>\n",
       "    </tr>\n",
       "    <tr>\n",
       "      <th>4.0</th>\n",
       "      <td>0.414938</td>\n",
       "      <td>0.376033</td>\n",
       "      <td>0.375000</td>\n",
       "    </tr>\n",
       "    <tr>\n",
       "      <th>5.0</th>\n",
       "      <td>0.369295</td>\n",
       "      <td>0.119835</td>\n",
       "      <td>0.137500</td>\n",
       "    </tr>\n",
       "  </tbody>\n",
       "</table>\n",
       "</div>"
      ],
      "text/plain": [
       "     6. Το προσωπικό εργάζεται δυναμικά για τη βελτίωση της ασφάλειας του ασθενούς.  \\\n",
       "1.0                                           0.016598                                \n",
       "2.0                                           0.049793                                \n",
       "3.0                                           0.149378                                \n",
       "4.0                                           0.414938                                \n",
       "5.0                                           0.369295                                \n",
       "\n",
       "     9. Τα λάθη οδήγησαν σε θετικές αλλαγές.  \\\n",
       "1.0                                 0.045455   \n",
       "2.0                                 0.144628   \n",
       "3.0                                 0.314050   \n",
       "4.0                                 0.376033   \n",
       "5.0                                 0.119835   \n",
       "\n",
       "     13. Όταν γίνονται αλλαγές για τη βελτίωση της ασφάλειας του ασθενούς, αξιολογείται η αποτελεσματικότητά τους.  \n",
       "1.0                                           0.054167                                                              \n",
       "2.0                                           0.175000                                                              \n",
       "3.0                                           0.258333                                                              \n",
       "4.0                                           0.375000                                                              \n",
       "5.0                                           0.137500                                                              "
      ]
     },
     "execution_count": 155,
     "metadata": {},
     "output_type": "execute_result"
    }
   ],
   "source": [
    "relative_frequencies"
   ]
  },
  {
   "cell_type": "code",
   "execution_count": 156,
   "id": "c4e439cf",
   "metadata": {},
   "outputs": [
    {
     "data": {
      "image/png": "[encoded data removed]",
      "text/plain": [
       "<Figure size 432x144 with 1 Axes>"
      ]
     },
     "metadata": {
      "needs_background": "light"
     },
     "output_type": "display_data"
    }
   ],
   "source": [
    "#4\n",
    "relative_frequencies = parameter_4.apply(lambda x: x.value_counts(normalize=True))\n",
    "positive_answers4 = relative_frequencies.iloc[3:6].sum()\n",
    "\n",
    "title = 'Συνεργασία και ομαδική εργασία εντός των τμημάτων του νοσοκομείου'\n",
    "par = ['Α1','Α3','Α4','Α11']\n",
    "\n",
    "my_graph(par,positive_answers4,title,0)"
   ]
  },
  {
   "cell_type": "code",
   "execution_count": 157,
   "id": "5fde7dc1",
   "metadata": {},
   "outputs": [
    {
     "data": {
      "text/html": [
       "<div>\n",
       "<style scoped>\n",
       "    .dataframe tbody tr th:only-of-type {\n",
       "        vertical-align: middle;\n",
       "    }\n",
       "\n",
       "    .dataframe tbody tr th {\n",
       "        vertical-align: top;\n",
       "    }\n",
       "\n",
       "    .dataframe thead th {\n",
       "        text-align: right;\n",
       "    }\n",
       "</style>\n",
       "<table border=\"1\" class=\"dataframe\">\n",
       "  <thead>\n",
       "    <tr style=\"text-align: right;\">\n",
       "      <th></th>\n",
       "      <th>1. Οι εργαζόμενοι υποστηρίζουν ο ένας τον άλλον.</th>\n",
       "      <th>3. Όταν υπάρχει μεγάλος όγκος εργασίας που πρέπει να γίνει άμεσα, το προσωπικό εργάζεται ομαδικά για την ολοκλήρωση της.</th>\n",
       "      <th>4. Υπάρχει σεβασμός ανάμεσα στους εργαζομένους.</th>\n",
       "      <th>11. Όταν υπάρχει μεγάλος φόρτος εργασίας παρέχεται βοήθεια από άλλες Μονάδες.</th>\n",
       "    </tr>\n",
       "  </thead>\n",
       "  <tbody>\n",
       "    <tr>\n",
       "      <th>1.0</th>\n",
       "      <td>0.020661</td>\n",
       "      <td>0.016529</td>\n",
       "      <td>0.016529</td>\n",
       "      <td>0.381743</td>\n",
       "    </tr>\n",
       "    <tr>\n",
       "      <th>2.0</th>\n",
       "      <td>0.061983</td>\n",
       "      <td>0.070248</td>\n",
       "      <td>0.099174</td>\n",
       "      <td>0.302905</td>\n",
       "    </tr>\n",
       "    <tr>\n",
       "      <th>3.0</th>\n",
       "      <td>0.301653</td>\n",
       "      <td>0.206612</td>\n",
       "      <td>0.330579</td>\n",
       "      <td>0.141079</td>\n",
       "    </tr>\n",
       "    <tr>\n",
       "      <th>4.0</th>\n",
       "      <td>0.442149</td>\n",
       "      <td>0.425620</td>\n",
       "      <td>0.367769</td>\n",
       "      <td>0.132780</td>\n",
       "    </tr>\n",
       "    <tr>\n",
       "      <th>5.0</th>\n",
       "      <td>0.173554</td>\n",
       "      <td>0.280992</td>\n",
       "      <td>0.185950</td>\n",
       "      <td>0.041494</td>\n",
       "    </tr>\n",
       "  </tbody>\n",
       "</table>\n",
       "</div>"
      ],
      "text/plain": [
       "     1. Οι εργαζόμενοι υποστηρίζουν ο ένας τον άλλον.  \\\n",
       "1.0                                          0.020661   \n",
       "2.0                                          0.061983   \n",
       "3.0                                          0.301653   \n",
       "4.0                                          0.442149   \n",
       "5.0                                          0.173554   \n",
       "\n",
       "     3. Όταν υπάρχει μεγάλος όγκος εργασίας που πρέπει να γίνει άμεσα, το προσωπικό εργάζεται ομαδικά για την ολοκλήρωση της.  \\\n",
       "1.0                                           0.016529                                                                          \n",
       "2.0                                           0.070248                                                                          \n",
       "3.0                                           0.206612                                                                          \n",
       "4.0                                           0.425620                                                                          \n",
       "5.0                                           0.280992                                                                          \n",
       "\n",
       "     4. Υπάρχει σεβασμός ανάμεσα στους εργαζομένους.  \\\n",
       "1.0                                         0.016529   \n",
       "2.0                                         0.099174   \n",
       "3.0                                         0.330579   \n",
       "4.0                                         0.367769   \n",
       "5.0                                         0.185950   \n",
       "\n",
       "     11. Όταν υπάρχει μεγάλος φόρτος εργασίας παρέχεται βοήθεια από άλλες Μονάδες.  \n",
       "1.0                                           0.381743                              \n",
       "2.0                                           0.302905                              \n",
       "3.0                                           0.141079                              \n",
       "4.0                                           0.132780                              \n",
       "5.0                                           0.041494                              "
      ]
     },
     "execution_count": 157,
     "metadata": {},
     "output_type": "execute_result"
    }
   ],
   "source": [
    "relative_frequencies"
   ]
  },
  {
   "cell_type": "code",
   "execution_count": 158,
   "id": "1f521f3d",
   "metadata": {},
   "outputs": [
    {
     "data": {
      "image/png": "[encoded data removed]",
      "text/plain": [
       "<Figure size 432x144 with 1 Axes>"
      ]
     },
     "metadata": {
      "needs_background": "light"
     },
     "output_type": "display_data"
    },
    {
     "data": {
      "text/html": [
       "<div>\n",
       "<style scoped>\n",
       "    .dataframe tbody tr th:only-of-type {\n",
       "        vertical-align: middle;\n",
       "    }\n",
       "\n",
       "    .dataframe tbody tr th {\n",
       "        vertical-align: top;\n",
       "    }\n",
       "\n",
       "    .dataframe thead th {\n",
       "        text-align: right;\n",
       "    }\n",
       "</style>\n",
       "<table border=\"1\" class=\"dataframe\">\n",
       "  <thead>\n",
       "    <tr style=\"text-align: right;\">\n",
       "      <th></th>\n",
       "      <th>8. Το προσωπικό αισθάνεται ότι τα λάθη του μπορεί να χρησιμοποιηθούν εναντίον του.</th>\n",
       "      <th>12. Όταν δηλώνεται ένα δυσμενές συμβάν, υπάρχει η αίσθηση ότι καταγράφεται το άτομο και όχι το καθαυτό συμβάν.</th>\n",
       "      <th>16. Το προσωπικό ανησυχεί ότι τα λάθη του καταγράφονται στο προσωπικό του φάκελο.</th>\n",
       "    </tr>\n",
       "  </thead>\n",
       "  <tbody>\n",
       "    <tr>\n",
       "      <th>1.0</th>\n",
       "      <td>0.252066</td>\n",
       "      <td>0.104167</td>\n",
       "      <td>0.100000</td>\n",
       "    </tr>\n",
       "    <tr>\n",
       "      <th>2.0</th>\n",
       "      <td>0.334711</td>\n",
       "      <td>0.308333</td>\n",
       "      <td>0.241667</td>\n",
       "    </tr>\n",
       "    <tr>\n",
       "      <th>3.0</th>\n",
       "      <td>0.252066</td>\n",
       "      <td>0.291667</td>\n",
       "      <td>0.320833</td>\n",
       "    </tr>\n",
       "    <tr>\n",
       "      <th>4.0</th>\n",
       "      <td>0.123967</td>\n",
       "      <td>0.212500</td>\n",
       "      <td>0.262500</td>\n",
       "    </tr>\n",
       "    <tr>\n",
       "      <th>5.0</th>\n",
       "      <td>0.037190</td>\n",
       "      <td>0.083333</td>\n",
       "      <td>0.075000</td>\n",
       "    </tr>\n",
       "  </tbody>\n",
       "</table>\n",
       "</div>"
      ],
      "text/plain": [
       "     8. Το προσωπικό αισθάνεται ότι τα λάθη του μπορεί να χρησιμοποιηθούν εναντίον του.   \\\n",
       "1.0                                           0.252066                                     \n",
       "2.0                                           0.334711                                     \n",
       "3.0                                           0.252066                                     \n",
       "4.0                                           0.123967                                     \n",
       "5.0                                           0.037190                                     \n",
       "\n",
       "     12. Όταν δηλώνεται ένα δυσμενές συμβάν, υπάρχει η αίσθηση ότι καταγράφεται το άτομο και όχι το καθαυτό συμβάν.  \\\n",
       "1.0                                           0.104167                                                                \n",
       "2.0                                           0.308333                                                                \n",
       "3.0                                           0.291667                                                                \n",
       "4.0                                           0.212500                                                                \n",
       "5.0                                           0.083333                                                                \n",
       "\n",
       "     16. Το προσωπικό ανησυχεί ότι τα λάθη του καταγράφονται στο προσωπικό του φάκελο.  \n",
       "1.0                                           0.100000                                  \n",
       "2.0                                           0.241667                                  \n",
       "3.0                                           0.320833                                  \n",
       "4.0                                           0.262500                                  \n",
       "5.0                                           0.075000                                  "
      ]
     },
     "execution_count": 158,
     "metadata": {},
     "output_type": "execute_result"
    }
   ],
   "source": [
    "#5\n",
    "relative_frequencies = parameter_5.apply(lambda x: x.value_counts(normalize=True))\n",
    "positive_answers5 = relative_frequencies.iloc[3:6].sum()\n",
    "\n",
    "title = 'Μη τιμωρητική αντίδραση στα λάθη'\n",
    "par = ['Α8','Α12','Α16']\n",
    "\n",
    "my_graph(par,positive_answers5,title,0)\n",
    "\n",
    "relative_frequencies"
   ]
  },
  {
   "cell_type": "code",
   "execution_count": null,
   "id": "4788eadd",
   "metadata": {},
   "outputs": [],
   "source": []
  },
  {
   "cell_type": "code",
   "execution_count": 159,
   "id": "ceb15684",
   "metadata": {},
   "outputs": [
    {
     "data": {
      "image/png": "[encoded data removed]",
      "text/plain": [
       "<Figure size 432x144 with 1 Axes>"
      ]
     },
     "metadata": {
      "needs_background": "light"
     },
     "output_type": "display_data"
    }
   ],
   "source": [
    "#6\n",
    "relative_frequencies = parameter_6.apply(lambda x: x.value_counts(normalize=True))\n",
    "positive_answers6 = relative_frequencies.iloc[3:6].sum()\n",
    "\n",
    "title = 'Πρωσδοκίες και δράσεις των Προϊστάμενων'\n",
    "par = ['Β1','Β2','Β3','Β4']\n",
    "\n",
    "my_graph(par,positive_answers6,title,0)\n",
    "\n"
   ]
  },
  {
   "cell_type": "code",
   "execution_count": 160,
   "id": "f4cbbcae",
   "metadata": {},
   "outputs": [
    {
     "data": {
      "text/html": [
       "<div>\n",
       "<style scoped>\n",
       "    .dataframe tbody tr th:only-of-type {\n",
       "        vertical-align: middle;\n",
       "    }\n",
       "\n",
       "    .dataframe tbody tr th {\n",
       "        vertical-align: top;\n",
       "    }\n",
       "\n",
       "    .dataframe thead th {\n",
       "        text-align: right;\n",
       "    }\n",
       "</style>\n",
       "<table border=\"1\" class=\"dataframe\">\n",
       "  <thead>\n",
       "    <tr style=\"text-align: right;\">\n",
       "      <th></th>\n",
       "      <th>1. Επιβραβεύει το προσωπικό με καλά λόγια όταν τηρούνται οι διαδικασίες ασφαλούς φροντίδας του ασθενούς.</th>\n",
       "      <th>2. Λαμβάνει σοβαρά υπόψη του τις προτάσεις του προσωπικού για βελτίωση της ασφάλειας του ασθενούς.</th>\n",
       "      <th>3. Παροτρύνει το προσωπικό να εργάζεται γρηγορότερα όταν υπάρχει υπερβολικός φόρτος εργασίας και πίεση, ακόμη και όταν παραβλέπονται σημαντικές διαδικασίες ασφάλειας του ασθενούς.</th>\n",
       "      <th>4. Παραβλέπει επαναλαμβανόμενα προβλήματα ασφάλειας του ασθενούς.</th>\n",
       "    </tr>\n",
       "  </thead>\n",
       "  <tbody>\n",
       "    <tr>\n",
       "      <th>1.0</th>\n",
       "      <td>0.074380</td>\n",
       "      <td>0.053719</td>\n",
       "      <td>0.053942</td>\n",
       "      <td>0.033058</td>\n",
       "    </tr>\n",
       "    <tr>\n",
       "      <th>2.0</th>\n",
       "      <td>0.107438</td>\n",
       "      <td>0.095041</td>\n",
       "      <td>0.165975</td>\n",
       "      <td>0.090909</td>\n",
       "    </tr>\n",
       "    <tr>\n",
       "      <th>3.0</th>\n",
       "      <td>0.169421</td>\n",
       "      <td>0.198347</td>\n",
       "      <td>0.224066</td>\n",
       "      <td>0.148760</td>\n",
       "    </tr>\n",
       "    <tr>\n",
       "      <th>4.0</th>\n",
       "      <td>0.318182</td>\n",
       "      <td>0.371901</td>\n",
       "      <td>0.286307</td>\n",
       "      <td>0.309917</td>\n",
       "    </tr>\n",
       "    <tr>\n",
       "      <th>5.0</th>\n",
       "      <td>0.330579</td>\n",
       "      <td>0.280992</td>\n",
       "      <td>0.269710</td>\n",
       "      <td>0.417355</td>\n",
       "    </tr>\n",
       "  </tbody>\n",
       "</table>\n",
       "</div>"
      ],
      "text/plain": [
       "     1. Επιβραβεύει το προσωπικό με καλά λόγια όταν τηρούνται οι διαδικασίες ασφαλούς φροντίδας του ασθενούς.  \\\n",
       "1.0                                           0.074380                                                          \n",
       "2.0                                           0.107438                                                          \n",
       "3.0                                           0.169421                                                          \n",
       "4.0                                           0.318182                                                          \n",
       "5.0                                           0.330579                                                          \n",
       "\n",
       "     2. Λαμβάνει σοβαρά υπόψη του τις προτάσεις του προσωπικού για βελτίωση της ασφάλειας του ασθενούς.  \\\n",
       "1.0                                           0.053719                                                    \n",
       "2.0                                           0.095041                                                    \n",
       "3.0                                           0.198347                                                    \n",
       "4.0                                           0.371901                                                    \n",
       "5.0                                           0.280992                                                    \n",
       "\n",
       "     3. Παροτρύνει το προσωπικό να εργάζεται γρηγορότερα όταν υπάρχει υπερβολικός φόρτος εργασίας και πίεση, ακόμη και όταν παραβλέπονται σημαντικές διαδικασίες ασφάλειας του ασθενούς.  \\\n",
       "1.0                                           0.053942                                                                                                                                     \n",
       "2.0                                           0.165975                                                                                                                                     \n",
       "3.0                                           0.224066                                                                                                                                     \n",
       "4.0                                           0.286307                                                                                                                                     \n",
       "5.0                                           0.269710                                                                                                                                     \n",
       "\n",
       "     4. Παραβλέπει επαναλαμβανόμενα προβλήματα ασφάλειας του ασθενούς.  \n",
       "1.0                                           0.033058                  \n",
       "2.0                                           0.090909                  \n",
       "3.0                                           0.148760                  \n",
       "4.0                                           0.309917                  \n",
       "5.0                                           0.417355                  "
      ]
     },
     "execution_count": 160,
     "metadata": {},
     "output_type": "execute_result"
    }
   ],
   "source": [
    "relative_frequencies"
   ]
  },
  {
   "cell_type": "code",
   "execution_count": 161,
   "id": "e1e03ff0",
   "metadata": {},
   "outputs": [
    {
     "data": {
      "image/png": "[encoded data removed]",
      "text/plain": [
       "<Figure size 432x144 with 1 Axes>"
      ]
     },
     "metadata": {
      "needs_background": "light"
     },
     "output_type": "display_data"
    }
   ],
   "source": [
    "#7\n",
    "relative_frequencies = parameter_7.apply(lambda x: x.value_counts(normalize=True))\n",
    "positive_answers7 = relative_frequencies.iloc[3:6].sum()\n",
    "\n",
    "title = 'Στελέχωση'\n",
    "par = ['Α2','Α5','Α7','Α14']\n",
    "\n",
    "my_graph(par,positive_answers7,title,0)"
   ]
  },
  {
   "cell_type": "code",
   "execution_count": 162,
   "id": "789eaf2e",
   "metadata": {},
   "outputs": [
    {
     "data": {
      "text/html": [
       "<div>\n",
       "<style scoped>\n",
       "    .dataframe tbody tr th:only-of-type {\n",
       "        vertical-align: middle;\n",
       "    }\n",
       "\n",
       "    .dataframe tbody tr th {\n",
       "        vertical-align: top;\n",
       "    }\n",
       "\n",
       "    .dataframe thead th {\n",
       "        text-align: right;\n",
       "    }\n",
       "</style>\n",
       "<table border=\"1\" class=\"dataframe\">\n",
       "  <thead>\n",
       "    <tr style=\"text-align: right;\">\n",
       "      <th></th>\n",
       "      <th>2. Υπάρχει επαρκές προσωπικό για τη διεκπεραίωση της εργασίας.</th>\n",
       "      <th>5. Το προσωπικό εργάζεται περισσότερες ώρες από αυτές που διασφαλίζουν ασφαλή φροντίδα για τον ασθενή.</th>\n",
       "      <th>7. Αξιοποιείται περισσότερο προσωρινό προσωπικό από αυτό που διασφαλίζει την ασφαλή φροντίδα του ασθενούς.</th>\n",
       "      <th>14. Το προσωπικό εργάζεται σε «κατάσταση κρίσης» προσπαθώντας να κάνει πολλά πράγματα γρήγορα.</th>\n",
       "    </tr>\n",
       "  </thead>\n",
       "  <tbody>\n",
       "    <tr>\n",
       "      <th>1.0</th>\n",
       "      <td>0.214876</td>\n",
       "      <td>0.286364</td>\n",
       "      <td>0.120332</td>\n",
       "      <td>0.309917</td>\n",
       "    </tr>\n",
       "    <tr>\n",
       "      <th>2.0</th>\n",
       "      <td>0.347107</td>\n",
       "      <td>0.304545</td>\n",
       "      <td>0.307054</td>\n",
       "      <td>0.409091</td>\n",
       "    </tr>\n",
       "    <tr>\n",
       "      <th>3.0</th>\n",
       "      <td>0.190083</td>\n",
       "      <td>0.195455</td>\n",
       "      <td>0.269710</td>\n",
       "      <td>0.177686</td>\n",
       "    </tr>\n",
       "    <tr>\n",
       "      <th>4.0</th>\n",
       "      <td>0.185950</td>\n",
       "      <td>0.127273</td>\n",
       "      <td>0.211618</td>\n",
       "      <td>0.078512</td>\n",
       "    </tr>\n",
       "    <tr>\n",
       "      <th>5.0</th>\n",
       "      <td>0.061983</td>\n",
       "      <td>0.086364</td>\n",
       "      <td>0.091286</td>\n",
       "      <td>0.024793</td>\n",
       "    </tr>\n",
       "  </tbody>\n",
       "</table>\n",
       "</div>"
      ],
      "text/plain": [
       "     2. Υπάρχει επαρκές προσωπικό για τη διεκπεραίωση της εργασίας.  \\\n",
       "1.0                                           0.214876                \n",
       "2.0                                           0.347107                \n",
       "3.0                                           0.190083                \n",
       "4.0                                           0.185950                \n",
       "5.0                                           0.061983                \n",
       "\n",
       "     5. Το προσωπικό εργάζεται περισσότερες ώρες από αυτές που διασφαλίζουν ασφαλή φροντίδα για τον ασθενή.  \\\n",
       "1.0                                           0.286364                                                        \n",
       "2.0                                           0.304545                                                        \n",
       "3.0                                           0.195455                                                        \n",
       "4.0                                           0.127273                                                        \n",
       "5.0                                           0.086364                                                        \n",
       "\n",
       "     7. Αξιοποιείται περισσότερο προσωρινό προσωπικό από αυτό που διασφαλίζει την ασφαλή φροντίδα του ασθενούς.  \\\n",
       "1.0                                           0.120332                                                            \n",
       "2.0                                           0.307054                                                            \n",
       "3.0                                           0.269710                                                            \n",
       "4.0                                           0.211618                                                            \n",
       "5.0                                           0.091286                                                            \n",
       "\n",
       "     14. Το προσωπικό εργάζεται σε «κατάσταση κρίσης» προσπαθώντας να κάνει πολλά πράγματα γρήγορα.  \n",
       "1.0                                           0.309917                                               \n",
       "2.0                                           0.409091                                               \n",
       "3.0                                           0.177686                                               \n",
       "4.0                                           0.078512                                               \n",
       "5.0                                           0.024793                                               "
      ]
     },
     "execution_count": 162,
     "metadata": {},
     "output_type": "execute_result"
    }
   ],
   "source": [
    "relative_frequencies"
   ]
  },
  {
   "cell_type": "code",
   "execution_count": 163,
   "id": "31048ec3",
   "metadata": {},
   "outputs": [
    {
     "data": {
      "image/png": "[encoded data removed]",
      "text/plain": [
       "<Figure size 432x144 with 1 Axes>"
      ]
     },
     "metadata": {
      "needs_background": "light"
     },
     "output_type": "display_data"
    }
   ],
   "source": [
    "#8\n",
    "relative_frequencies = parameter_8.apply(lambda x: x.value_counts(normalize=True))\n",
    "positive_answers8 = relative_frequencies.iloc[3:6].sum()\n",
    "\n",
    "title = 'Υποστήριξης της Διοίκησης του νοσοκομείου σε θέματα ασφάλειας'\n",
    "par = ['ΣΤ1','ΣΤ8','ΣΤ9']\n",
    "\n",
    "my_graph(par,positive_answers8,title,0)"
   ]
  },
  {
   "cell_type": "code",
   "execution_count": 164,
   "id": "5bb8fd9a",
   "metadata": {},
   "outputs": [
    {
     "data": {
      "text/html": [
       "<div>\n",
       "<style scoped>\n",
       "    .dataframe tbody tr th:only-of-type {\n",
       "        vertical-align: middle;\n",
       "    }\n",
       "\n",
       "    .dataframe tbody tr th {\n",
       "        vertical-align: top;\n",
       "    }\n",
       "\n",
       "    .dataframe thead th {\n",
       "        text-align: right;\n",
       "    }\n",
       "</style>\n",
       "<table border=\"1\" class=\"dataframe\">\n",
       "  <thead>\n",
       "    <tr style=\"text-align: right;\">\n",
       "      <th></th>\n",
       "      <th>1. Η Διοίκηση εξασφαλίζει εργασιακό κλίμα που προάγει την ασφάλεια του ασθενούς .</th>\n",
       "      <th>8. Η ασφάλεια του ασθενούς αποτελεί κύρια προτεραιότητα για την Διοίκηση.</th>\n",
       "      <th>9. Η Διοίκηση δείχνει να ενδιαφέρεται για την ασφάλεια του ασθενούς μόνο μετά από την αναφορά κάποιου δυσμενούς συμβάντος.</th>\n",
       "    </tr>\n",
       "  </thead>\n",
       "  <tbody>\n",
       "    <tr>\n",
       "      <th>1.0</th>\n",
       "      <td>0.074689</td>\n",
       "      <td>0.057851</td>\n",
       "      <td>0.166667</td>\n",
       "    </tr>\n",
       "    <tr>\n",
       "      <th>2.0</th>\n",
       "      <td>0.157676</td>\n",
       "      <td>0.136364</td>\n",
       "      <td>0.216667</td>\n",
       "    </tr>\n",
       "    <tr>\n",
       "      <th>3.0</th>\n",
       "      <td>0.282158</td>\n",
       "      <td>0.239669</td>\n",
       "      <td>0.216667</td>\n",
       "    </tr>\n",
       "    <tr>\n",
       "      <th>4.0</th>\n",
       "      <td>0.369295</td>\n",
       "      <td>0.276860</td>\n",
       "      <td>0.270833</td>\n",
       "    </tr>\n",
       "    <tr>\n",
       "      <th>5.0</th>\n",
       "      <td>0.116183</td>\n",
       "      <td>0.289256</td>\n",
       "      <td>0.129167</td>\n",
       "    </tr>\n",
       "  </tbody>\n",
       "</table>\n",
       "</div>"
      ],
      "text/plain": [
       "     1. Η Διοίκηση εξασφαλίζει εργασιακό κλίμα που προάγει την ασφάλεια του ασθενούς .  \\\n",
       "1.0                                           0.074689                                   \n",
       "2.0                                           0.157676                                   \n",
       "3.0                                           0.282158                                   \n",
       "4.0                                           0.369295                                   \n",
       "5.0                                           0.116183                                   \n",
       "\n",
       "     8. Η ασφάλεια του ασθενούς αποτελεί κύρια προτεραιότητα για την Διοίκηση.  \\\n",
       "1.0                                           0.057851                           \n",
       "2.0                                           0.136364                           \n",
       "3.0                                           0.239669                           \n",
       "4.0                                           0.276860                           \n",
       "5.0                                           0.289256                           \n",
       "\n",
       "     9. Η Διοίκηση δείχνει να ενδιαφέρεται για την ασφάλεια του ασθενούς μόνο μετά από την αναφορά κάποιου δυσμενούς συμβάντος.  \n",
       "1.0                                           0.166667                                                                           \n",
       "2.0                                           0.216667                                                                           \n",
       "3.0                                           0.216667                                                                           \n",
       "4.0                                           0.270833                                                                           \n",
       "5.0                                           0.129167                                                                           "
      ]
     },
     "execution_count": 164,
     "metadata": {},
     "output_type": "execute_result"
    }
   ],
   "source": [
    "relative_frequencies"
   ]
  },
  {
   "cell_type": "code",
   "execution_count": 165,
   "id": "6b0e5601",
   "metadata": {},
   "outputs": [
    {
     "data": {
      "image/png": "[encoded data removed]",
      "text/plain": [
       "<Figure size 432x144 with 1 Axes>"
      ]
     },
     "metadata": {
      "needs_background": "light"
     },
     "output_type": "display_data"
    }
   ],
   "source": [
    "#9\n",
    "relative_frequencies = parameter_9.apply(lambda x: x.value_counts(normalize=True))\n",
    "positive_answers9 = relative_frequencies.iloc[3:6].sum()\n",
    "\n",
    "title = 'Συνεργασία και ομαδική εργασία μεταξύ των τμημάτων του νοσοκομείου'\n",
    "par = ['ΣΤ2','ΣΤ4','ΣΤ6','ΣΤ10']\n",
    "\n",
    "my_graph(par,positive_answers9,title,0)"
   ]
  },
  {
   "cell_type": "code",
   "execution_count": 166,
   "id": "5bc2fe93",
   "metadata": {},
   "outputs": [
    {
     "data": {
      "text/html": [
       "<div>\n",
       "<style scoped>\n",
       "    .dataframe tbody tr th:only-of-type {\n",
       "        vertical-align: middle;\n",
       "    }\n",
       "\n",
       "    .dataframe tbody tr th {\n",
       "        vertical-align: top;\n",
       "    }\n",
       "\n",
       "    .dataframe thead th {\n",
       "        text-align: right;\n",
       "    }\n",
       "</style>\n",
       "<table border=\"1\" class=\"dataframe\">\n",
       "  <thead>\n",
       "    <tr style=\"text-align: right;\">\n",
       "      <th></th>\n",
       "      <th>2. Υπάρχει ελλιπής συντονισμός μεταξύ των Μονάδων.</th>\n",
       "      <th>4. Υπάρχει καλή συνεργασία ανάμεσα στις Μονάδες όταν αυτό απαιτείται.</th>\n",
       "      <th>6. Η συνεργασία με το προσωπικό άλλων Μονάδων είναι συχνά δυσάρεστη.</th>\n",
       "      <th>10. Οι Μονάδες συνεργάζονται καλά μεταξύ τους για την παροχή άριστης ποιοτικά φροντίδας υγείας στον ασθενή.</th>\n",
       "    </tr>\n",
       "  </thead>\n",
       "  <tbody>\n",
       "    <tr>\n",
       "      <th>1.0</th>\n",
       "      <td>0.078838</td>\n",
       "      <td>0.016598</td>\n",
       "      <td>0.025000</td>\n",
       "      <td>0.016667</td>\n",
       "    </tr>\n",
       "    <tr>\n",
       "      <th>2.0</th>\n",
       "      <td>0.261411</td>\n",
       "      <td>0.112033</td>\n",
       "      <td>0.154167</td>\n",
       "      <td>0.112500</td>\n",
       "    </tr>\n",
       "    <tr>\n",
       "      <th>3.0</th>\n",
       "      <td>0.331950</td>\n",
       "      <td>0.273859</td>\n",
       "      <td>0.304167</td>\n",
       "      <td>0.350000</td>\n",
       "    </tr>\n",
       "    <tr>\n",
       "      <th>4.0</th>\n",
       "      <td>0.265560</td>\n",
       "      <td>0.452282</td>\n",
       "      <td>0.379167</td>\n",
       "      <td>0.379167</td>\n",
       "    </tr>\n",
       "    <tr>\n",
       "      <th>5.0</th>\n",
       "      <td>0.062241</td>\n",
       "      <td>0.145228</td>\n",
       "      <td>0.137500</td>\n",
       "      <td>0.141667</td>\n",
       "    </tr>\n",
       "  </tbody>\n",
       "</table>\n",
       "</div>"
      ],
      "text/plain": [
       "     2. Υπάρχει ελλιπής συντονισμός μεταξύ των Μονάδων.  \\\n",
       "1.0                                           0.078838    \n",
       "2.0                                           0.261411    \n",
       "3.0                                           0.331950    \n",
       "4.0                                           0.265560    \n",
       "5.0                                           0.062241    \n",
       "\n",
       "     4. Υπάρχει καλή συνεργασία ανάμεσα στις Μονάδες όταν αυτό απαιτείται.  \\\n",
       "1.0                                           0.016598                       \n",
       "2.0                                           0.112033                       \n",
       "3.0                                           0.273859                       \n",
       "4.0                                           0.452282                       \n",
       "5.0                                           0.145228                       \n",
       "\n",
       "     6. Η συνεργασία με το προσωπικό άλλων Μονάδων είναι συχνά δυσάρεστη.  \\\n",
       "1.0                                           0.025000                      \n",
       "2.0                                           0.154167                      \n",
       "3.0                                           0.304167                      \n",
       "4.0                                           0.379167                      \n",
       "5.0                                           0.137500                      \n",
       "\n",
       "     10. Οι Μονάδες συνεργάζονται καλά μεταξύ τους για την παροχή άριστης ποιοτικά φροντίδας υγείας στον ασθενή.  \n",
       "1.0                                           0.016667                                                            \n",
       "2.0                                           0.112500                                                            \n",
       "3.0                                           0.350000                                                            \n",
       "4.0                                           0.379167                                                            \n",
       "5.0                                           0.141667                                                            "
      ]
     },
     "execution_count": 166,
     "metadata": {},
     "output_type": "execute_result"
    }
   ],
   "source": [
    "relative_frequencies"
   ]
  },
  {
   "cell_type": "code",
   "execution_count": 167,
   "id": "01305e7c",
   "metadata": {},
   "outputs": [
    {
     "data": {
      "image/png": "[encoded data removed]",
      "text/plain": [
       "<Figure size 432x144 with 1 Axes>"
      ]
     },
     "metadata": {
      "needs_background": "light"
     },
     "output_type": "display_data"
    }
   ],
   "source": [
    "#10\n",
    "relative_frequencies = parameter_10.apply(lambda x: x.value_counts(normalize=True))\n",
    "positive_answers10 = relative_frequencies.iloc[3:6].sum()\n",
    "\n",
    "title = 'Μεταφορές και διακομιδές ασθενών εντός του νοσοκομείου'\n",
    "\n",
    "par = ['ΣΤ3','ΣΤ5','ΣΤ7','ΣΤ11']\n",
    "\n",
    "my_graph(par,positive_answers10,title,0)"
   ]
  },
  {
   "cell_type": "code",
   "execution_count": 168,
   "id": "9a882401",
   "metadata": {},
   "outputs": [
    {
     "data": {
      "text/html": [
       "<div>\n",
       "<style scoped>\n",
       "    .dataframe tbody tr th:only-of-type {\n",
       "        vertical-align: middle;\n",
       "    }\n",
       "\n",
       "    .dataframe tbody tr th {\n",
       "        vertical-align: top;\n",
       "    }\n",
       "\n",
       "    .dataframe thead th {\n",
       "        text-align: right;\n",
       "    }\n",
       "</style>\n",
       "<table border=\"1\" class=\"dataframe\">\n",
       "  <thead>\n",
       "    <tr style=\"text-align: right;\">\n",
       "      <th></th>\n",
       "      <th>3. Η μεταφορά ασθενούς από τη μία Μονάδα στην άλλη συνήθως συνοδεύεται από προβλήματα.</th>\n",
       "      <th>5. Συχνά, σημαντικές πληροφορίες σχετικά με τη νοσηλεία του ασθενούς χάνονται κατά την αλλαγή της βάρδιας.</th>\n",
       "      <th>7. Συχνά παρουσιάζονται διάφορα προβλήματα κατά την ανταλλαγή πληροφοριών μεταξύ των Μονάδων.</th>\n",
       "      <th>11. Η αλλαγή βάρδιας είναι προβληματική για τον ασθενή.</th>\n",
       "    </tr>\n",
       "  </thead>\n",
       "  <tbody>\n",
       "    <tr>\n",
       "      <th>1.0</th>\n",
       "      <td>0.049793</td>\n",
       "      <td>0.020661</td>\n",
       "      <td>0.012448</td>\n",
       "      <td>0.024896</td>\n",
       "    </tr>\n",
       "    <tr>\n",
       "      <th>2.0</th>\n",
       "      <td>0.203320</td>\n",
       "      <td>0.161157</td>\n",
       "      <td>0.219917</td>\n",
       "      <td>0.136929</td>\n",
       "    </tr>\n",
       "    <tr>\n",
       "      <th>3.0</th>\n",
       "      <td>0.302905</td>\n",
       "      <td>0.194215</td>\n",
       "      <td>0.365145</td>\n",
       "      <td>0.228216</td>\n",
       "    </tr>\n",
       "    <tr>\n",
       "      <th>4.0</th>\n",
       "      <td>0.331950</td>\n",
       "      <td>0.380165</td>\n",
       "      <td>0.331950</td>\n",
       "      <td>0.319502</td>\n",
       "    </tr>\n",
       "    <tr>\n",
       "      <th>5.0</th>\n",
       "      <td>0.112033</td>\n",
       "      <td>0.243802</td>\n",
       "      <td>0.070539</td>\n",
       "      <td>0.290456</td>\n",
       "    </tr>\n",
       "  </tbody>\n",
       "</table>\n",
       "</div>"
      ],
      "text/plain": [
       "     3. Η μεταφορά ασθενούς από τη μία Μονάδα στην άλλη συνήθως συνοδεύεται από προβλήματα.  \\\n",
       "1.0                                           0.049793                                        \n",
       "2.0                                           0.203320                                        \n",
       "3.0                                           0.302905                                        \n",
       "4.0                                           0.331950                                        \n",
       "5.0                                           0.112033                                        \n",
       "\n",
       "     5. Συχνά, σημαντικές πληροφορίες σχετικά με τη νοσηλεία του ασθενούς χάνονται κατά την αλλαγή της βάρδιας.  \\\n",
       "1.0                                           0.020661                                                            \n",
       "2.0                                           0.161157                                                            \n",
       "3.0                                           0.194215                                                            \n",
       "4.0                                           0.380165                                                            \n",
       "5.0                                           0.243802                                                            \n",
       "\n",
       "     7. Συχνά παρουσιάζονται διάφορα προβλήματα κατά την ανταλλαγή πληροφοριών μεταξύ των Μονάδων.  \\\n",
       "1.0                                           0.012448                                               \n",
       "2.0                                           0.219917                                               \n",
       "3.0                                           0.365145                                               \n",
       "4.0                                           0.331950                                               \n",
       "5.0                                           0.070539                                               \n",
       "\n",
       "     11. Η αλλαγή βάρδιας είναι προβληματική για τον ασθενή.  \n",
       "1.0                                           0.024896        \n",
       "2.0                                           0.136929        \n",
       "3.0                                           0.228216        \n",
       "4.0                                           0.319502        \n",
       "5.0                                           0.290456        "
      ]
     },
     "execution_count": 168,
     "metadata": {},
     "output_type": "execute_result"
    }
   ],
   "source": [
    "relative_frequencies"
   ]
  },
  {
   "cell_type": "code",
   "execution_count": 169,
   "id": "749daa05",
   "metadata": {},
   "outputs": [
    {
     "data": {
      "image/png": "[encoded data removed]",
      "text/plain": [
       "<Figure size 432x144 with 1 Axes>"
      ]
     },
     "metadata": {
      "needs_background": "light"
     },
     "output_type": "display_data"
    }
   ],
   "source": [
    "#11\n",
    "relative_frequencies = parameter_11.apply(lambda x: x.value_counts(normalize=True))\n",
    "#positive_answers11 = relative_frequencies.iloc[].sum()\n",
    "\n",
    "title = 'Συχνότητα αναφοράς λαθών'\n",
    "par = ['Δ1','Δ2','Δ3']\n",
    "\n",
    "my_graph(par,positive_answers11,title,0)"
   ]
  },
  {
   "cell_type": "code",
   "execution_count": 170,
   "id": "c1b203e4",
   "metadata": {},
   "outputs": [
    {
     "data": {
      "text/html": [
       "<div>\n",
       "<style scoped>\n",
       "    .dataframe tbody tr th:only-of-type {\n",
       "        vertical-align: middle;\n",
       "    }\n",
       "\n",
       "    .dataframe tbody tr th {\n",
       "        vertical-align: top;\n",
       "    }\n",
       "\n",
       "    .dataframe thead th {\n",
       "        text-align: right;\n",
       "    }\n",
       "</style>\n",
       "<table border=\"1\" class=\"dataframe\">\n",
       "  <thead>\n",
       "    <tr style=\"text-align: right;\">\n",
       "      <th></th>\n",
       "      <th>…..αλλά εντοπιστεί και διορθωθεί πριν επηρεάσει τον ασθενή</th>\n",
       "      <th>……αλλά δεν έχει πιθανότητα να βλάψει τον ασθενή.</th>\n",
       "      <th>…..που θα μπορούσε να βλάψει τον ασθενή, αλλά δεν τον επηρέασε</th>\n",
       "    </tr>\n",
       "  </thead>\n",
       "  <tbody>\n",
       "    <tr>\n",
       "      <th>4.0</th>\n",
       "      <td>0.384937</td>\n",
       "      <td>0.333333</td>\n",
       "      <td>0.326360</td>\n",
       "    </tr>\n",
       "    <tr>\n",
       "      <th>3.0</th>\n",
       "      <td>0.242678</td>\n",
       "      <td>0.300000</td>\n",
       "      <td>0.292887</td>\n",
       "    </tr>\n",
       "    <tr>\n",
       "      <th>5.0</th>\n",
       "      <td>0.217573</td>\n",
       "      <td>0.166667</td>\n",
       "      <td>0.184100</td>\n",
       "    </tr>\n",
       "    <tr>\n",
       "      <th>2.0</th>\n",
       "      <td>0.096234</td>\n",
       "      <td>0.141667</td>\n",
       "      <td>0.150628</td>\n",
       "    </tr>\n",
       "    <tr>\n",
       "      <th>1.0</th>\n",
       "      <td>0.058577</td>\n",
       "      <td>0.058333</td>\n",
       "      <td>0.046025</td>\n",
       "    </tr>\n",
       "  </tbody>\n",
       "</table>\n",
       "</div>"
      ],
      "text/plain": [
       "     …..αλλά εντοπιστεί και διορθωθεί πριν επηρεάσει τον ασθενή   \\\n",
       "4.0                                           0.384937             \n",
       "3.0                                           0.242678             \n",
       "5.0                                           0.217573             \n",
       "2.0                                           0.096234             \n",
       "1.0                                           0.058577             \n",
       "\n",
       "     ……αλλά δεν έχει πιθανότητα να βλάψει τον ασθενή.  \\\n",
       "4.0                                          0.333333   \n",
       "3.0                                          0.300000   \n",
       "5.0                                          0.166667   \n",
       "2.0                                          0.141667   \n",
       "1.0                                          0.058333   \n",
       "\n",
       "     …..που θα μπορούσε να βλάψει τον ασθενή, αλλά δεν τον επηρέασε   \n",
       "4.0                                           0.326360                \n",
       "3.0                                           0.292887                \n",
       "5.0                                           0.184100                \n",
       "2.0                                           0.150628                \n",
       "1.0                                           0.046025                "
      ]
     },
     "execution_count": 170,
     "metadata": {},
     "output_type": "execute_result"
    }
   ],
   "source": [
    "relative_frequencies"
   ]
  },
  {
   "cell_type": "code",
   "execution_count": 171,
   "id": "e98bbc99",
   "metadata": {},
   "outputs": [
    {
     "data": {
      "image/png": "[encoded data removed]",
      "text/plain": [
       "<Figure size 432x144 with 1 Axes>"
      ]
     },
     "metadata": {
      "needs_background": "light"
     },
     "output_type": "display_data"
    }
   ],
   "source": [
    "#12\n",
    "relative_frequencies = parameter_12.apply(lambda x: x.value_counts(normalize=True))\n",
    "positive_answers12 = relative_frequencies.iloc[3:6].sum()\n",
    "\n",
    "title = 'Συνολική αντίληψη περί ασφάλειας ασθενών'\n",
    "par = ['Α10','Α15','Α18','Α17']\n",
    "\n",
    "my_graph(par,positive_answers12,title,1)"
   ]
  },
  {
   "cell_type": "code",
   "execution_count": 172,
   "id": "f29953bc",
   "metadata": {},
   "outputs": [
    {
     "data": {
      "text/html": [
       "<div>\n",
       "<style scoped>\n",
       "    .dataframe tbody tr th:only-of-type {\n",
       "        vertical-align: middle;\n",
       "    }\n",
       "\n",
       "    .dataframe tbody tr th {\n",
       "        vertical-align: top;\n",
       "    }\n",
       "\n",
       "    .dataframe thead th {\n",
       "        text-align: right;\n",
       "    }\n",
       "</style>\n",
       "<table border=\"1\" class=\"dataframe\">\n",
       "  <thead>\n",
       "    <tr style=\"text-align: right;\">\n",
       "      <th></th>\n",
       "      <th>10. Από τύχη δεν συμβαίνουν σοβαρά λάθη.</th>\n",
       "      <th>15. Η ασφάλεια του ασθενούς αποτελεί προτεραιότητα ακόμα και όταν υπάρχει φόρτος εργασίας.</th>\n",
       "      <th>18. Οι διαδικασίες διεκπεραίωσης της εργασίας και το σύστημα εν γένει συμβάλλει στην πρόληψη δυσμενών συμβάντων.</th>\n",
       "      <th>17. Υπάρχει πρόβλημα ασφάλειας του ασθενούς.</th>\n",
       "    </tr>\n",
       "  </thead>\n",
       "  <tbody>\n",
       "    <tr>\n",
       "      <th>1.0</th>\n",
       "      <td>0.107884</td>\n",
       "      <td>0.008299</td>\n",
       "      <td>0.041494</td>\n",
       "      <td>0.062500</td>\n",
       "    </tr>\n",
       "    <tr>\n",
       "      <th>2.0</th>\n",
       "      <td>0.186722</td>\n",
       "      <td>0.049793</td>\n",
       "      <td>0.178423</td>\n",
       "      <td>0.195833</td>\n",
       "    </tr>\n",
       "    <tr>\n",
       "      <th>3.0</th>\n",
       "      <td>0.211618</td>\n",
       "      <td>0.116183</td>\n",
       "      <td>0.311203</td>\n",
       "      <td>0.241667</td>\n",
       "    </tr>\n",
       "    <tr>\n",
       "      <th>4.0</th>\n",
       "      <td>0.290456</td>\n",
       "      <td>0.302905</td>\n",
       "      <td>0.360996</td>\n",
       "      <td>0.312500</td>\n",
       "    </tr>\n",
       "    <tr>\n",
       "      <th>5.0</th>\n",
       "      <td>0.203320</td>\n",
       "      <td>0.522822</td>\n",
       "      <td>0.107884</td>\n",
       "      <td>0.187500</td>\n",
       "    </tr>\n",
       "  </tbody>\n",
       "</table>\n",
       "</div>"
      ],
      "text/plain": [
       "     10. Από τύχη δεν συμβαίνουν σοβαρά λάθη.  \\\n",
       "1.0                                  0.107884   \n",
       "2.0                                  0.186722   \n",
       "3.0                                  0.211618   \n",
       "4.0                                  0.290456   \n",
       "5.0                                  0.203320   \n",
       "\n",
       "     15. Η ασφάλεια του ασθενούς αποτελεί προτεραιότητα ακόμα και όταν υπάρχει φόρτος εργασίας.   \\\n",
       "1.0                                           0.008299                                             \n",
       "2.0                                           0.049793                                             \n",
       "3.0                                           0.116183                                             \n",
       "4.0                                           0.302905                                             \n",
       "5.0                                           0.522822                                             \n",
       "\n",
       "     18. Οι διαδικασίες διεκπεραίωσης της εργασίας και το σύστημα εν γένει συμβάλλει στην πρόληψη δυσμενών συμβάντων.  \\\n",
       "1.0                                           0.041494                                                                  \n",
       "2.0                                           0.178423                                                                  \n",
       "3.0                                           0.311203                                                                  \n",
       "4.0                                           0.360996                                                                  \n",
       "5.0                                           0.107884                                                                  \n",
       "\n",
       "     17. Υπάρχει πρόβλημα ασφάλειας του ασθενούς.  \n",
       "1.0                                      0.062500  \n",
       "2.0                                      0.195833  \n",
       "3.0                                      0.241667  \n",
       "4.0                                      0.312500  \n",
       "5.0                                      0.187500  "
      ]
     },
     "execution_count": 172,
     "metadata": {},
     "output_type": "execute_result"
    }
   ],
   "source": [
    "relative_frequencies"
   ]
  },
  {
   "cell_type": "code",
   "execution_count": 173,
   "id": "490efb63",
   "metadata": {},
   "outputs": [
    {
     "data": {
      "text/html": [
       "<div>\n",
       "<style scoped>\n",
       "    .dataframe tbody tr th:only-of-type {\n",
       "        vertical-align: middle;\n",
       "    }\n",
       "\n",
       "    .dataframe tbody tr th {\n",
       "        vertical-align: top;\n",
       "    }\n",
       "\n",
       "    .dataframe thead th {\n",
       "        text-align: right;\n",
       "    }\n",
       "</style>\n",
       "<table border=\"1\" class=\"dataframe\">\n",
       "  <thead>\n",
       "    <tr style=\"text-align: right;\">\n",
       "      <th></th>\n",
       "      <th>score</th>\n",
       "    </tr>\n",
       "  </thead>\n",
       "  <tbody>\n",
       "    <tr>\n",
       "      <th>Πολύ Καλό</th>\n",
       "      <td>0.465812</td>\n",
       "    </tr>\n",
       "    <tr>\n",
       "      <th>Καλό</th>\n",
       "      <td>0.303419</td>\n",
       "    </tr>\n",
       "    <tr>\n",
       "      <th>Μέτριο</th>\n",
       "      <td>0.119658</td>\n",
       "    </tr>\n",
       "    <tr>\n",
       "      <th>Άριστο</th>\n",
       "      <td>0.094017</td>\n",
       "    </tr>\n",
       "    <tr>\n",
       "      <th>Κακό</th>\n",
       "      <td>0.017094</td>\n",
       "    </tr>\n",
       "  </tbody>\n",
       "</table>\n",
       "</div>"
      ],
      "text/plain": [
       "              score\n",
       "Πολύ Καλό  0.465812\n",
       "Καλό       0.303419\n",
       "Μέτριο     0.119658\n",
       "Άριστο     0.094017\n",
       "Κακό       0.017094"
      ]
     },
     "execution_count": 173,
     "metadata": {},
     "output_type": "execute_result"
    }
   ],
   "source": [
    "relative_frequencies = parameter_13.apply(lambda x: x.value_counts(normalize=True))\n",
    "relative_frequencies"
   ]
  },
  {
   "cell_type": "code",
   "execution_count": null,
   "id": "a376a5f9",
   "metadata": {},
   "outputs": [],
   "source": []
  },
  {
   "cell_type": "code",
   "execution_count": null,
   "id": "e26dbf2a",
   "metadata": {},
   "outputs": [],
   "source": []
  },
  {
   "cell_type": "code",
   "execution_count": null,
   "id": "82c56c67",
   "metadata": {},
   "outputs": [],
   "source": []
  },
  {
   "cell_type": "code",
   "execution_count": null,
   "id": "c4eb1d3e",
   "metadata": {},
   "outputs": [],
   "source": []
  }
 ],
 "metadata": {
  "kernelspec": {
   "display_name": "Python 3 (ipykernel)",
   "language": "python",
   "name": "python3"
  },
  "language_info": {
   "codemirror_mode": {
    "name": "ipython",
    "version": 3
   },
   "file_extension": ".py",
   "mimetype": "text/x-python",
   "name": "python",
   "nbconvert_exporter": "python",
   "pygments_lexer": "ipython3",
   "version": "3.9.7"
  }
 },
 "nbformat": 4,
 "nbformat_minor": 5
}
