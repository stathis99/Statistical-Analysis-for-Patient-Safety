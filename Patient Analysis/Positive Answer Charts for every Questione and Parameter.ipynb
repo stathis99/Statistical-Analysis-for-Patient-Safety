{
 "cells": [
  {
   "cell_type": "markdown",
   "id": "b44516e8",
   "metadata": {},
   "source": [
    "# Positive Answer Charts for every Questione and Parameter"
   ]
  },
  {
   "cell_type": "code",
   "execution_count": 33,
   "id": "18cca55d",
   "metadata": {},
   "outputs": [],
   "source": [
    "#Libraries\n",
    "import numpy as np\n",
    "import matplotlib.pyplot as plt"
   ]
  },
  {
   "cell_type": "code",
   "execution_count": 34,
   "id": "629ce6c2",
   "metadata": {},
   "outputs": [],
   "source": [
    "# Get parameters from notebook 1\n",
    "\n",
    "%store -r par_1\n",
    "%store -r par_2\n",
    "%store -r par_3\n",
    "%store -r par_4\n",
    "%store -r par_5\n",
    "%store -r par_6\n",
    "%store -r par_7\n",
    "%store -r par_8\n"
   ]
  },
  {
   "cell_type": "code",
   "execution_count": 35,
   "id": "0beac42d",
   "metadata": {},
   "outputs": [],
   "source": [
    "allPositive  = []"
   ]
  },
  {
   "cell_type": "code",
   "execution_count": 36,
   "id": "2a9cbd96",
   "metadata": {},
   "outputs": [
    {
     "name": "stdout",
     "output_type": "stream",
     "text": [
      "Percentage of positive answers for this parametrt is  0.8439306358381502\n"
     ]
    }
   ],
   "source": [
    "#par 1\n",
    "\n",
    "relative_frequencies = par_1.apply(lambda x: x.value_counts(normalize=True))\n",
    "positive_answers1 = relative_frequencies.iloc[3:6].sum().sum()/5\n",
    "print(\"Percentage of positive answers for this parametrt is \", positive_answers1)\n",
    "allPositive.append(positive_answers1)"
   ]
  },
  {
   "cell_type": "code",
   "execution_count": 37,
   "id": "2d7b45c0",
   "metadata": {},
   "outputs": [
    {
     "name": "stdout",
     "output_type": "stream",
     "text": [
      "Percentage of positive answers for this parametrt is  0.7066473988439307\n"
     ]
    }
   ],
   "source": [
    "#par2\n",
    "\n",
    "relative_frequencies = par_2.apply(lambda x: x.value_counts(normalize=True))\n",
    "positive_answers2 = relative_frequencies.iloc[3:6].sum().sum()/4\n",
    "print(\"Percentage of positive answers for this parametrt is \", positive_answers2)\n",
    "allPositive.append(positive_answers2)"
   ]
  },
  {
   "cell_type": "code",
   "execution_count": 38,
   "id": "2f32d525",
   "metadata": {},
   "outputs": [
    {
     "name": "stdout",
     "output_type": "stream",
     "text": [
      "Percentage of positive answers for this parametrt is  0.6974951830443161\n"
     ]
    }
   ],
   "source": [
    "#par 3\n",
    "\n",
    "relative_frequencies = par_3.apply(lambda x: x.value_counts(normalize=True))\n",
    "positive_answers3 = relative_frequencies.iloc[3:6].sum().sum()/3\n",
    "print(\"Percentage of positive answers for this parametrt is \", positive_answers3)\n",
    "allPositive.append(positive_answers3)"
   ]
  },
  {
   "cell_type": "code",
   "execution_count": 39,
   "id": "90f7c636",
   "metadata": {},
   "outputs": [
    {
     "name": "stdout",
     "output_type": "stream",
     "text": [
      "Percentage of positive answers for this parametrt is  0.5857066041902713\n"
     ]
    }
   ],
   "source": [
    "# par 4\n",
    "\n",
    "relative_frequencies = par_4.apply(lambda x: x.value_counts(normalize=True))\n",
    "positive_answers4 = relative_frequencies.iloc[3:6].sum().sum()/7\n",
    "print(\"Percentage of positive answers for this parametrt is \", positive_answers4)\n",
    "allPositive.append(positive_answers4)"
   ]
  },
  {
   "cell_type": "code",
   "execution_count": 40,
   "id": "363f6359",
   "metadata": {},
   "outputs": [
    {
     "name": "stdout",
     "output_type": "stream",
     "text": [
      "Percentage of positive answers for this parametrt is  0.8005780346820809\n"
     ]
    }
   ],
   "source": [
    "#par 5\n",
    "\n",
    "relative_frequencies = par_5.apply(lambda x: x.value_counts(normalize=True))\n",
    "positive_answers5 = (relative_frequencies.iloc[0].sum() + relative_frequencies.iloc[1].sum())/2\n",
    "print(\"Percentage of positive answers for this parametrt is \", positive_answers5)\n",
    "allPositive.append(positive_answers5)"
   ]
  },
  {
   "cell_type": "code",
   "execution_count": 41,
   "id": "07d3d283",
   "metadata": {},
   "outputs": [
    {
     "data": {
      "text/html": [
       "<div>\n",
       "<style scoped>\n",
       "    .dataframe tbody tr th:only-of-type {\n",
       "        vertical-align: middle;\n",
       "    }\n",
       "\n",
       "    .dataframe tbody tr th {\n",
       "        vertical-align: top;\n",
       "    }\n",
       "\n",
       "    .dataframe thead th {\n",
       "        text-align: right;\n",
       "    }\n",
       "</style>\n",
       "<table border=\"1\" class=\"dataframe\">\n",
       "  <thead>\n",
       "    <tr style=\"text-align: right;\">\n",
       "      <th></th>\n",
       "      <th>q30</th>\n",
       "      <th>q5</th>\n",
       "    </tr>\n",
       "  </thead>\n",
       "  <tbody>\n",
       "    <tr>\n",
       "      <th>5</th>\n",
       "      <td>0.479769</td>\n",
       "      <td>0.462428</td>\n",
       "    </tr>\n",
       "    <tr>\n",
       "      <th>4</th>\n",
       "      <td>0.277457</td>\n",
       "      <td>0.381503</td>\n",
       "    </tr>\n",
       "    <tr>\n",
       "      <th>3</th>\n",
       "      <td>0.161850</td>\n",
       "      <td>0.109827</td>\n",
       "    </tr>\n",
       "    <tr>\n",
       "      <th>2</th>\n",
       "      <td>0.040462</td>\n",
       "      <td>0.028902</td>\n",
       "    </tr>\n",
       "    <tr>\n",
       "      <th>6</th>\n",
       "      <td>0.028902</td>\n",
       "      <td>0.011561</td>\n",
       "    </tr>\n",
       "    <tr>\n",
       "      <th>1</th>\n",
       "      <td>0.011561</td>\n",
       "      <td>0.005780</td>\n",
       "    </tr>\n",
       "  </tbody>\n",
       "</table>\n",
       "</div>"
      ],
      "text/plain": [
       "        q30        q5\n",
       "5  0.479769  0.462428\n",
       "4  0.277457  0.381503\n",
       "3  0.161850  0.109827\n",
       "2  0.040462  0.028902\n",
       "6  0.028902  0.011561\n",
       "1  0.011561  0.005780"
      ]
     },
     "execution_count": 41,
     "metadata": {},
     "output_type": "execute_result"
    }
   ],
   "source": [
    "relative_frequencies"
   ]
  },
  {
   "cell_type": "code",
   "execution_count": 42,
   "id": "3b8fad81",
   "metadata": {},
   "outputs": [
    {
     "name": "stdout",
     "output_type": "stream",
     "text": [
      "Percentage of positive answers for this parametrt is  0.7034295604247883\n"
     ]
    }
   ],
   "source": [
    "#par 6\n",
    "\n",
    "relative_frequencies = par_6.apply(lambda x: x.value_counts(normalize=True))\n",
    "positive_answers6 = relative_frequencies.iloc[3:6].sum().sum()/4\n",
    "print(\"Percentage of positive answers for this parametrt is \", positive_answers6)\n",
    "allPositive.append(positive_answers6)"
   ]
  },
  {
   "cell_type": "code",
   "execution_count": 43,
   "id": "80beedfc",
   "metadata": {},
   "outputs": [
    {
     "name": "stdout",
     "output_type": "stream",
     "text": [
      "Percentage of positive answers for this parametrt is  0.8843930635838151\n"
     ]
    }
   ],
   "source": [
    "#par 7\n",
    "\n",
    "relative_frequencies = par_7.apply(lambda x: x.value_counts(normalize=True))\n",
    "positive_answers7 = (relative_frequencies.iloc[0].sum() + relative_frequencies.iloc[1].sum())/2\n",
    "print(\"Percentage of positive answers for this parametrt is \", positive_answers7)\n",
    "allPositive.append(positive_answers7)"
   ]
  },
  {
   "cell_type": "code",
   "execution_count": 44,
   "id": "9f45c570",
   "metadata": {},
   "outputs": [
    {
     "data": {
      "text/html": [
       "<div>\n",
       "<style scoped>\n",
       "    .dataframe tbody tr th:only-of-type {\n",
       "        vertical-align: middle;\n",
       "    }\n",
       "\n",
       "    .dataframe tbody tr th {\n",
       "        vertical-align: top;\n",
       "    }\n",
       "\n",
       "    .dataframe thead th {\n",
       "        text-align: right;\n",
       "    }\n",
       "</style>\n",
       "<table border=\"1\" class=\"dataframe\">\n",
       "  <thead>\n",
       "    <tr style=\"text-align: right;\">\n",
       "      <th></th>\n",
       "      <th>q7</th>\n",
       "      <th>q14</th>\n",
       "    </tr>\n",
       "  </thead>\n",
       "  <tbody>\n",
       "    <tr>\n",
       "      <th>5</th>\n",
       "      <td>0.502890</td>\n",
       "      <td>0.473988</td>\n",
       "    </tr>\n",
       "    <tr>\n",
       "      <th>4</th>\n",
       "      <td>0.398844</td>\n",
       "      <td>0.393064</td>\n",
       "    </tr>\n",
       "    <tr>\n",
       "      <th>3</th>\n",
       "      <td>0.040462</td>\n",
       "      <td>0.057803</td>\n",
       "    </tr>\n",
       "    <tr>\n",
       "      <th>6</th>\n",
       "      <td>0.028902</td>\n",
       "      <td>0.046243</td>\n",
       "    </tr>\n",
       "    <tr>\n",
       "      <th>2</th>\n",
       "      <td>0.023121</td>\n",
       "      <td>0.023121</td>\n",
       "    </tr>\n",
       "    <tr>\n",
       "      <th>1</th>\n",
       "      <td>0.005780</td>\n",
       "      <td>0.005780</td>\n",
       "    </tr>\n",
       "  </tbody>\n",
       "</table>\n",
       "</div>"
      ],
      "text/plain": [
       "         q7       q14\n",
       "5  0.502890  0.473988\n",
       "4  0.398844  0.393064\n",
       "3  0.040462  0.057803\n",
       "6  0.028902  0.046243\n",
       "2  0.023121  0.023121\n",
       "1  0.005780  0.005780"
      ]
     },
     "execution_count": 44,
     "metadata": {},
     "output_type": "execute_result"
    }
   ],
   "source": [
    "relative_frequencies"
   ]
  },
  {
   "cell_type": "code",
   "execution_count": 45,
   "id": "f1314da4",
   "metadata": {},
   "outputs": [
    {
     "name": "stdout",
     "output_type": "stream",
     "text": [
      "Percentage of positive answers for this parametrt is  0.5809248554913296\n"
     ]
    }
   ],
   "source": [
    "# par 8\n",
    "\n",
    "relative_frequencies = par_8.apply(lambda x: x.value_counts(normalize=True))\n",
    "positive_answers8 = relative_frequencies.iloc[3:6].sum().sum()/2\n",
    "print(\"Percentage of positive answers for this parametrt is \", positive_answers8)\n",
    "allPositive.append(positive_answers8)"
   ]
  },
  {
   "cell_type": "code",
   "execution_count": 46,
   "id": "6787cae9",
   "metadata": {},
   "outputs": [
    {
     "data": {
      "text/plain": [
       "[0.8439306358381502,\n",
       " 0.7066473988439307,\n",
       " 0.6974951830443161,\n",
       " 0.5857066041902713,\n",
       " 0.8005780346820809,\n",
       " 0.7034295604247883,\n",
       " 0.8843930635838151,\n",
       " 0.5809248554913296]"
      ]
     },
     "execution_count": 46,
     "metadata": {},
     "output_type": "execute_result"
    }
   ],
   "source": [
    "allPositive"
   ]
  },
  {
   "cell_type": "code",
   "execution_count": 47,
   "id": "1ab34e92",
   "metadata": {},
   "outputs": [
    {
     "data": {
      "text/plain": [
       "[84.39306358381502,\n",
       " 70.66473988439307,\n",
       " 69.74951830443162,\n",
       " 58.570660419027135,\n",
       " 80.05780346820809,\n",
       " 70.34295604247883,\n",
       " 88.43930635838151,\n",
       " 58.09248554913295]"
      ]
     },
     "execution_count": 47,
     "metadata": {},
     "output_type": "execute_result"
    }
   ],
   "source": [
    "allPositive = list(map(lambda item: item * 100, allPositive))\n",
    "allPositive"
   ]
  },
  {
   "cell_type": "markdown",
   "id": "bb91f03e",
   "metadata": {},
   "source": [
    "## Charts for positive answer percentage for every parameter"
   ]
  },
  {
   "cell_type": "code",
   "execution_count": 48,
   "id": "49b0536d",
   "metadata": {},
   "outputs": [
    {
     "data": {
      "image/png": "[encoded data removed]",
      "text/plain": [
       "<Figure size 720x864 with 1 Axes>"
      ]
     },
     "metadata": {
      "needs_background": "light"
     },
     "output_type": "display_data"
    }
   ],
   "source": [
    "name = ['Π1','Π2','Π3','Π4','Π5','Π6','Π7','Π8']\n",
    "\n",
    "\n",
    "# Figure Size\n",
    "fig, ax= plt.subplots(figsize =(10, 12))\n",
    "\n",
    "\n",
    "# Horizontal Bar Plot\n",
    "ax.barh(name, allPositive,color=(0.0, 0.4, 0.6, 0.6))\n",
    "\n",
    "# Remove axes splines\n",
    "for s in ['top', 'bottom', 'left', 'right']:\n",
    "\tax.spines[s].set_visible(False)\n",
    "\n",
    "# Remove x, y Ticks\n",
    "ax.xaxis.set_ticks_position('none')\n",
    "#ax.yaxis.set_ticks_position('none')\n",
    "\n",
    "# Add padding between axes and labels\n",
    "ax.xaxis.set_tick_params(pad = 10)\n",
    "ax.yaxis.set_tick_params(pad = 20)\n",
    "\n",
    "# Add x, y gridlines\n",
    "ax.grid(b = True, color ='grey',\n",
    "\t\tlinestyle ='-.', linewidth = 0.9,\n",
    "\t\talpha = 0.2)\n",
    "\n",
    "# Show top values\n",
    "ax.invert_yaxis()\n",
    "\n",
    "# Add annotation to bars\n",
    "for i in ax.patches:\n",
    "\tplt.text(i.get_width()+0.01, i.get_y()+0.4,\n",
    "\t\t\tstr(round((i.get_width()), 2))+'%',\n",
    "\t\t\tfontsize = 16, fontweight ='bold',\n",
    "\t\t\tcolor ='black')\n",
    "    \n",
    "# Add Plot Title\n",
    "ax.set_title('Ποσοστό θετικών απαντήσεων για κάθε παράμετρο του PMOS-30',\n",
    "\t\t\tloc ='left', fontsize=18, fontweight ='bold')\n",
    "\n",
    "# Show Plot\n",
    "plt.yticks(fontsize=17)\n",
    "plt.savefig(\"last.png\")\n",
    "\n",
    "plt.show()\n"
   ]
  },
  {
   "cell_type": "code",
   "execution_count": 49,
   "id": "cad87265",
   "metadata": {},
   "outputs": [],
   "source": [
    "#helper function that creates bar charts\n",
    "def my_graph(parameters_title,pos_percentage,title,save_title):\n",
    "    \n",
    "    pos_percentage = pos_percentage*100\n",
    "\n",
    "    # Figure Size\n",
    "    fig, ax = plt.subplots(figsize =(6, 2))\n",
    "\n",
    "    # Horizontal Bar Plot\n",
    "    ax.barh(parameters_title, pos_percentage,color=(0.0, 0.4, 0.6, 0.6))\n",
    "\n",
    "    # Remove axes splines\n",
    "    for s in ['top', 'bottom', 'left', 'right']:\n",
    "        ax.spines[s].set_visible(False)\n",
    "\n",
    "    # Remove x, y Ticks\n",
    "    ax.xaxis.set_ticks_position('none')\n",
    "    ax.yaxis.set_ticks_position('none')\n",
    "\n",
    "    # Add padding between axes and labels\n",
    "    ax.xaxis.set_tick_params(pad = 1)\n",
    "    ax.yaxis.set_tick_params(pad = 10)\n",
    "\n",
    "    # Add x, y gridlines\n",
    "    ax.grid(b = True, color ='grey',\n",
    "            linestyle ='-.', linewidth = 0.9,\n",
    "            alpha = 0.2)\n",
    "\n",
    "    # Show top values\n",
    "    ax.invert_yaxis()\n",
    "\n",
    "    # Add annotation to bars\n",
    "    for i in ax.patches:\n",
    "        plt.text(i.get_width()+0.01, i.get_y()+0.4,\n",
    "                str(round((i.get_width()), 2))+'%',\n",
    "                fontsize = 10, fontweight ='bold',\n",
    "                )\n",
    "\n",
    "    # Add Plot Title\n",
    "    ax.set_title(title,\n",
    "                loc ='left', )\n",
    "    if(save_title == 1):\n",
    "        plt.savefig('chart.png')\n",
    "\n",
    "    # Show Plot\n",
    "    plt.show()\n"
   ]
  },
  {
   "cell_type": "code",
   "execution_count": null,
   "id": "7f6cac8d",
   "metadata": {},
   "outputs": [],
   "source": []
  },
  {
   "cell_type": "markdown",
   "id": "17f2241f",
   "metadata": {},
   "source": [
    "## Charts for positive answer percentage for every question "
   ]
  },
  {
   "cell_type": "code",
   "execution_count": 50,
   "id": "78a126bc",
   "metadata": {},
   "outputs": [
    {
     "data": {
      "image/png": "[encoded data removed]",
      "text/plain": [
       "<Figure size 432x144 with 1 Axes>"
      ]
     },
     "metadata": {
      "needs_background": "light"
     },
     "output_type": "display_data"
    }
   ],
   "source": [
    "#1\n",
    "relative_frequencies = par_1.apply(lambda x: x.value_counts(normalize=True))\n",
    "positive_answers1 = relative_frequencies.iloc[3:5].sum()\n",
    "\n",
    "title = 'Επικοινωνία και ομαδικότητα'\n",
    "\n",
    "par = ['Ε3','Ε28','Ε13','Ε19','Ε24']\n",
    "my_graph(par,positive_answers1,title,0)"
   ]
  },
  {
   "cell_type": "code",
   "execution_count": 51,
   "id": "7da2831b",
   "metadata": {},
   "outputs": [
    {
     "data": {
      "image/png": "[encoded data removed]",
      "text/plain": [
       "<Figure size 432x144 with 1 Axes>"
      ]
     },
     "metadata": {
      "needs_background": "light"
     },
     "output_type": "display_data"
    }
   ],
   "source": [
    "#2\n",
    "relative_frequencies = par_2.apply(lambda x: x.value_counts(normalize=True))\n",
    "positive_answers2 = relative_frequencies.iloc[3:5].sum()\n",
    "\n",
    "title = 'Οργάνωση και Σχεδίαση Φροντίδας'\n",
    "par = ['E2','E4','E22','E25']\n",
    "\n",
    "my_graph(par,positive_answers2,title,0)"
   ]
  },
  {
   "cell_type": "code",
   "execution_count": 52,
   "id": "4070dbea",
   "metadata": {},
   "outputs": [
    {
     "data": {
      "text/html": [
       "<div>\n",
       "<style scoped>\n",
       "    .dataframe tbody tr th:only-of-type {\n",
       "        vertical-align: middle;\n",
       "    }\n",
       "\n",
       "    .dataframe tbody tr th {\n",
       "        vertical-align: top;\n",
       "    }\n",
       "\n",
       "    .dataframe thead th {\n",
       "        text-align: right;\n",
       "    }\n",
       "</style>\n",
       "<table border=\"1\" class=\"dataframe\">\n",
       "  <thead>\n",
       "    <tr style=\"text-align: right;\">\n",
       "      <th></th>\n",
       "      <th>q2</th>\n",
       "      <th>q4</th>\n",
       "      <th>q22</th>\n",
       "      <th>q25</th>\n",
       "    </tr>\n",
       "  </thead>\n",
       "  <tbody>\n",
       "    <tr>\n",
       "      <th>1</th>\n",
       "      <td>NaN</td>\n",
       "      <td>0.202312</td>\n",
       "      <td>0.075145</td>\n",
       "      <td>0.063584</td>\n",
       "    </tr>\n",
       "    <tr>\n",
       "      <th>2</th>\n",
       "      <td>0.011561</td>\n",
       "      <td>0.144509</td>\n",
       "      <td>0.040462</td>\n",
       "      <td>0.150289</td>\n",
       "    </tr>\n",
       "    <tr>\n",
       "      <th>3</th>\n",
       "      <td>0.086705</td>\n",
       "      <td>0.190751</td>\n",
       "      <td>0.161850</td>\n",
       "      <td>0.046243</td>\n",
       "    </tr>\n",
       "    <tr>\n",
       "      <th>4</th>\n",
       "      <td>0.364162</td>\n",
       "      <td>0.352601</td>\n",
       "      <td>0.583815</td>\n",
       "      <td>0.312139</td>\n",
       "    </tr>\n",
       "    <tr>\n",
       "      <th>5</th>\n",
       "      <td>0.537572</td>\n",
       "      <td>0.098266</td>\n",
       "      <td>0.138728</td>\n",
       "      <td>0.427746</td>\n",
       "    </tr>\n",
       "    <tr>\n",
       "      <th>6</th>\n",
       "      <td>NaN</td>\n",
       "      <td>0.011561</td>\n",
       "      <td>NaN</td>\n",
       "      <td>NaN</td>\n",
       "    </tr>\n",
       "  </tbody>\n",
       "</table>\n",
       "</div>"
      ],
      "text/plain": [
       "         q2        q4       q22       q25\n",
       "1       NaN  0.202312  0.075145  0.063584\n",
       "2  0.011561  0.144509  0.040462  0.150289\n",
       "3  0.086705  0.190751  0.161850  0.046243\n",
       "4  0.364162  0.352601  0.583815  0.312139\n",
       "5  0.537572  0.098266  0.138728  0.427746\n",
       "6       NaN  0.011561       NaN       NaN"
      ]
     },
     "execution_count": 52,
     "metadata": {},
     "output_type": "execute_result"
    }
   ],
   "source": [
    "relative_frequencies"
   ]
  },
  {
   "cell_type": "code",
   "execution_count": 53,
   "id": "438f6aa9",
   "metadata": {},
   "outputs": [
    {
     "data": {
      "image/png": "[encoded data removed]",
      "text/plain": [
       "<Figure size 432x144 with 1 Axes>"
      ]
     },
     "metadata": {
      "needs_background": "light"
     },
     "output_type": "display_data"
    }
   ],
   "source": [
    "#3\n",
    "relative_frequencies = par_3.apply(lambda x: x.value_counts(normalize=True))\n",
    "positive_answers3 = relative_frequencies.iloc[3:5].sum()\n",
    "\n",
    "title = 'Πρόσβαση σε Πόρους'\n",
    "par = ['E23','E29','E27']\n",
    "\n",
    "my_graph(par,positive_answers3,title,1)"
   ]
  },
  {
   "cell_type": "code",
   "execution_count": 54,
   "id": "d93d2607",
   "metadata": {},
   "outputs": [
    {
     "data": {
      "text/html": [
       "<div>\n",
       "<style scoped>\n",
       "    .dataframe tbody tr th:only-of-type {\n",
       "        vertical-align: middle;\n",
       "    }\n",
       "\n",
       "    .dataframe tbody tr th {\n",
       "        vertical-align: top;\n",
       "    }\n",
       "\n",
       "    .dataframe thead th {\n",
       "        text-align: right;\n",
       "    }\n",
       "</style>\n",
       "<table border=\"1\" class=\"dataframe\">\n",
       "  <thead>\n",
       "    <tr style=\"text-align: right;\">\n",
       "      <th></th>\n",
       "      <th>q23</th>\n",
       "      <th>q29</th>\n",
       "      <th>q27</th>\n",
       "    </tr>\n",
       "  </thead>\n",
       "  <tbody>\n",
       "    <tr>\n",
       "      <th>1</th>\n",
       "      <td>0.098266</td>\n",
       "      <td>0.011561</td>\n",
       "      <td>0.005780</td>\n",
       "    </tr>\n",
       "    <tr>\n",
       "      <th>2</th>\n",
       "      <td>0.213873</td>\n",
       "      <td>0.115607</td>\n",
       "      <td>0.063584</td>\n",
       "    </tr>\n",
       "    <tr>\n",
       "      <th>3</th>\n",
       "      <td>0.208092</td>\n",
       "      <td>0.086705</td>\n",
       "      <td>0.104046</td>\n",
       "    </tr>\n",
       "    <tr>\n",
       "      <th>4</th>\n",
       "      <td>0.398844</td>\n",
       "      <td>0.346821</td>\n",
       "      <td>0.398844</td>\n",
       "    </tr>\n",
       "    <tr>\n",
       "      <th>5</th>\n",
       "      <td>0.069364</td>\n",
       "      <td>0.433526</td>\n",
       "      <td>0.393064</td>\n",
       "    </tr>\n",
       "    <tr>\n",
       "      <th>6</th>\n",
       "      <td>0.011561</td>\n",
       "      <td>0.005780</td>\n",
       "      <td>0.034682</td>\n",
       "    </tr>\n",
       "  </tbody>\n",
       "</table>\n",
       "</div>"
      ],
      "text/plain": [
       "        q23       q29       q27\n",
       "1  0.098266  0.011561  0.005780\n",
       "2  0.213873  0.115607  0.063584\n",
       "3  0.208092  0.086705  0.104046\n",
       "4  0.398844  0.346821  0.398844\n",
       "5  0.069364  0.433526  0.393064\n",
       "6  0.011561  0.005780  0.034682"
      ]
     },
     "execution_count": 54,
     "metadata": {},
     "output_type": "execute_result"
    }
   ],
   "source": [
    "relative_frequencies"
   ]
  },
  {
   "cell_type": "code",
   "execution_count": 55,
   "id": "c4e439cf",
   "metadata": {},
   "outputs": [
    {
     "data": {
      "image/png": "[encoded data removed]",
      "text/plain": [
       "<Figure size 432x144 with 1 Axes>"
      ]
     },
     "metadata": {
      "needs_background": "light"
     },
     "output_type": "display_data"
    }
   ],
   "source": [
    "#4\n",
    "relative_frequencies = par_4.apply(lambda x: x.value_counts(normalize=True))\n",
    "positive_answers4 = relative_frequencies.iloc[3:5].sum()\n",
    "\n",
    "title = 'Τύπος και Διάταξη Θαλάμου'\n",
    "par = ['E11','E10','E9','E15','E16','E17','E18']\n",
    "\n",
    "my_graph(par,positive_answers4,title,0)"
   ]
  },
  {
   "cell_type": "code",
   "execution_count": 56,
   "id": "5fde7dc1",
   "metadata": {},
   "outputs": [
    {
     "data": {
      "text/html": [
       "<div>\n",
       "<style scoped>\n",
       "    .dataframe tbody tr th:only-of-type {\n",
       "        vertical-align: middle;\n",
       "    }\n",
       "\n",
       "    .dataframe tbody tr th {\n",
       "        vertical-align: top;\n",
       "    }\n",
       "\n",
       "    .dataframe thead th {\n",
       "        text-align: right;\n",
       "    }\n",
       "</style>\n",
       "<table border=\"1\" class=\"dataframe\">\n",
       "  <thead>\n",
       "    <tr style=\"text-align: right;\">\n",
       "      <th></th>\n",
       "      <th>q11</th>\n",
       "      <th>q10</th>\n",
       "      <th>q9</th>\n",
       "      <th>q15</th>\n",
       "      <th>q16</th>\n",
       "      <th>q17</th>\n",
       "      <th>q18</th>\n",
       "    </tr>\n",
       "  </thead>\n",
       "  <tbody>\n",
       "    <tr>\n",
       "      <th>1.0</th>\n",
       "      <td>0.011561</td>\n",
       "      <td>NaN</td>\n",
       "      <td>0.302326</td>\n",
       "      <td>0.144509</td>\n",
       "      <td>0.075145</td>\n",
       "      <td>0.098266</td>\n",
       "      <td>0.156069</td>\n",
       "    </tr>\n",
       "    <tr>\n",
       "      <th>2.0</th>\n",
       "      <td>0.040462</td>\n",
       "      <td>0.069364</td>\n",
       "      <td>0.313953</td>\n",
       "      <td>0.231214</td>\n",
       "      <td>0.132948</td>\n",
       "      <td>0.208092</td>\n",
       "      <td>0.173410</td>\n",
       "    </tr>\n",
       "    <tr>\n",
       "      <th>3.0</th>\n",
       "      <td>0.069364</td>\n",
       "      <td>0.179191</td>\n",
       "      <td>0.093023</td>\n",
       "      <td>0.132948</td>\n",
       "      <td>0.202312</td>\n",
       "      <td>0.161850</td>\n",
       "      <td>0.104046</td>\n",
       "    </tr>\n",
       "    <tr>\n",
       "      <th>4.0</th>\n",
       "      <td>0.341040</td>\n",
       "      <td>0.300578</td>\n",
       "      <td>0.250000</td>\n",
       "      <td>0.433526</td>\n",
       "      <td>0.520231</td>\n",
       "      <td>0.439306</td>\n",
       "      <td>0.456647</td>\n",
       "    </tr>\n",
       "    <tr>\n",
       "      <th>5.0</th>\n",
       "      <td>0.537572</td>\n",
       "      <td>0.450867</td>\n",
       "      <td>0.017442</td>\n",
       "      <td>0.023121</td>\n",
       "      <td>0.057803</td>\n",
       "      <td>0.075145</td>\n",
       "      <td>0.104046</td>\n",
       "    </tr>\n",
       "    <tr>\n",
       "      <th>6.0</th>\n",
       "      <td>NaN</td>\n",
       "      <td>NaN</td>\n",
       "      <td>0.023256</td>\n",
       "      <td>0.034682</td>\n",
       "      <td>0.011561</td>\n",
       "      <td>0.017341</td>\n",
       "      <td>0.005780</td>\n",
       "    </tr>\n",
       "  </tbody>\n",
       "</table>\n",
       "</div>"
      ],
      "text/plain": [
       "          q11       q10        q9       q15       q16       q17       q18\n",
       "1.0  0.011561       NaN  0.302326  0.144509  0.075145  0.098266  0.156069\n",
       "2.0  0.040462  0.069364  0.313953  0.231214  0.132948  0.208092  0.173410\n",
       "3.0  0.069364  0.179191  0.093023  0.132948  0.202312  0.161850  0.104046\n",
       "4.0  0.341040  0.300578  0.250000  0.433526  0.520231  0.439306  0.456647\n",
       "5.0  0.537572  0.450867  0.017442  0.023121  0.057803  0.075145  0.104046\n",
       "6.0       NaN       NaN  0.023256  0.034682  0.011561  0.017341  0.005780"
      ]
     },
     "execution_count": 56,
     "metadata": {},
     "output_type": "execute_result"
    }
   ],
   "source": [
    "relative_frequencies"
   ]
  },
  {
   "cell_type": "code",
   "execution_count": 57,
   "id": "1f521f3d",
   "metadata": {},
   "outputs": [
    {
     "data": {
      "image/png": "[encoded data removed]",
      "text/plain": [
       "<Figure size 432x144 with 1 Axes>"
      ]
     },
     "metadata": {
      "needs_background": "light"
     },
     "output_type": "display_data"
    }
   ],
   "source": [
    "#5\n",
    "relative_frequencies = par_5.apply(lambda x: x.value_counts(normalize=True))\n",
    "positive_answers5 = relative_frequencies.iloc[0] + relative_frequencies.iloc[1]\n",
    "\n",
    "title = 'Ροή Πληροφοριών '\n",
    "par = ['E30','E5']\n",
    "\n",
    "my_graph(par,positive_answers5,title,0)"
   ]
  },
  {
   "cell_type": "code",
   "execution_count": 58,
   "id": "8392b4cd",
   "metadata": {},
   "outputs": [
    {
     "data": {
      "text/html": [
       "<div>\n",
       "<style scoped>\n",
       "    .dataframe tbody tr th:only-of-type {\n",
       "        vertical-align: middle;\n",
       "    }\n",
       "\n",
       "    .dataframe tbody tr th {\n",
       "        vertical-align: top;\n",
       "    }\n",
       "\n",
       "    .dataframe thead th {\n",
       "        text-align: right;\n",
       "    }\n",
       "</style>\n",
       "<table border=\"1\" class=\"dataframe\">\n",
       "  <thead>\n",
       "    <tr style=\"text-align: right;\">\n",
       "      <th></th>\n",
       "      <th>q30</th>\n",
       "      <th>q5</th>\n",
       "    </tr>\n",
       "  </thead>\n",
       "  <tbody>\n",
       "    <tr>\n",
       "      <th>5</th>\n",
       "      <td>0.479769</td>\n",
       "      <td>0.462428</td>\n",
       "    </tr>\n",
       "    <tr>\n",
       "      <th>4</th>\n",
       "      <td>0.277457</td>\n",
       "      <td>0.381503</td>\n",
       "    </tr>\n",
       "    <tr>\n",
       "      <th>3</th>\n",
       "      <td>0.161850</td>\n",
       "      <td>0.109827</td>\n",
       "    </tr>\n",
       "    <tr>\n",
       "      <th>2</th>\n",
       "      <td>0.040462</td>\n",
       "      <td>0.028902</td>\n",
       "    </tr>\n",
       "    <tr>\n",
       "      <th>6</th>\n",
       "      <td>0.028902</td>\n",
       "      <td>0.011561</td>\n",
       "    </tr>\n",
       "    <tr>\n",
       "      <th>1</th>\n",
       "      <td>0.011561</td>\n",
       "      <td>0.005780</td>\n",
       "    </tr>\n",
       "  </tbody>\n",
       "</table>\n",
       "</div>"
      ],
      "text/plain": [
       "        q30        q5\n",
       "5  0.479769  0.462428\n",
       "4  0.277457  0.381503\n",
       "3  0.161850  0.109827\n",
       "2  0.040462  0.028902\n",
       "6  0.028902  0.011561\n",
       "1  0.011561  0.005780"
      ]
     },
     "execution_count": 58,
     "metadata": {},
     "output_type": "execute_result"
    }
   ],
   "source": [
    "relative_frequencies"
   ]
  },
  {
   "cell_type": "code",
   "execution_count": 59,
   "id": "ceb15684",
   "metadata": {},
   "outputs": [
    {
     "data": {
      "image/png": "[encoded data removed]",
      "text/plain": [
       "<Figure size 432x144 with 1 Axes>"
      ]
     },
     "metadata": {
      "needs_background": "light"
     },
     "output_type": "display_data"
    }
   ],
   "source": [
    "#6\n",
    "relative_frequencies = par_6.apply(lambda x: x.value_counts(normalize=True))\n",
    "positive_answers6 = relative_frequencies.iloc[3:5].sum()\n",
    "\n",
    "title = 'Ρόλοι και Αρμοδιότητες Προσωπικού '\n",
    "par = ['E6','E12','E20','E26']\n",
    "\n",
    "my_graph(par,positive_answers6,title,0)\n",
    "\n"
   ]
  },
  {
   "cell_type": "code",
   "execution_count": 60,
   "id": "f4cbbcae",
   "metadata": {},
   "outputs": [
    {
     "data": {
      "text/html": [
       "<div>\n",
       "<style scoped>\n",
       "    .dataframe tbody tr th:only-of-type {\n",
       "        vertical-align: middle;\n",
       "    }\n",
       "\n",
       "    .dataframe tbody tr th {\n",
       "        vertical-align: top;\n",
       "    }\n",
       "\n",
       "    .dataframe thead th {\n",
       "        text-align: right;\n",
       "    }\n",
       "</style>\n",
       "<table border=\"1\" class=\"dataframe\">\n",
       "  <thead>\n",
       "    <tr style=\"text-align: right;\">\n",
       "      <th></th>\n",
       "      <th>q6</th>\n",
       "      <th>q12</th>\n",
       "      <th>q20</th>\n",
       "      <th>q26</th>\n",
       "    </tr>\n",
       "  </thead>\n",
       "  <tbody>\n",
       "    <tr>\n",
       "      <th>1.0</th>\n",
       "      <td>0.005814</td>\n",
       "      <td>0.023121</td>\n",
       "      <td>0.040462</td>\n",
       "      <td>0.005780</td>\n",
       "    </tr>\n",
       "    <tr>\n",
       "      <th>2.0</th>\n",
       "      <td>0.034884</td>\n",
       "      <td>0.098266</td>\n",
       "      <td>0.127168</td>\n",
       "      <td>0.092486</td>\n",
       "    </tr>\n",
       "    <tr>\n",
       "      <th>3.0</th>\n",
       "      <td>0.186047</td>\n",
       "      <td>0.196532</td>\n",
       "      <td>0.184971</td>\n",
       "      <td>0.190751</td>\n",
       "    </tr>\n",
       "    <tr>\n",
       "      <th>4.0</th>\n",
       "      <td>0.319767</td>\n",
       "      <td>0.300578</td>\n",
       "      <td>0.283237</td>\n",
       "      <td>0.341040</td>\n",
       "    </tr>\n",
       "    <tr>\n",
       "      <th>5.0</th>\n",
       "      <td>0.430233</td>\n",
       "      <td>0.335260</td>\n",
       "      <td>0.364162</td>\n",
       "      <td>0.358382</td>\n",
       "    </tr>\n",
       "    <tr>\n",
       "      <th>6.0</th>\n",
       "      <td>0.023256</td>\n",
       "      <td>0.046243</td>\n",
       "      <td>NaN</td>\n",
       "      <td>0.011561</td>\n",
       "    </tr>\n",
       "  </tbody>\n",
       "</table>\n",
       "</div>"
      ],
      "text/plain": [
       "           q6       q12       q20       q26\n",
       "1.0  0.005814  0.023121  0.040462  0.005780\n",
       "2.0  0.034884  0.098266  0.127168  0.092486\n",
       "3.0  0.186047  0.196532  0.184971  0.190751\n",
       "4.0  0.319767  0.300578  0.283237  0.341040\n",
       "5.0  0.430233  0.335260  0.364162  0.358382\n",
       "6.0  0.023256  0.046243       NaN  0.011561"
      ]
     },
     "execution_count": 60,
     "metadata": {},
     "output_type": "execute_result"
    }
   ],
   "source": [
    "relative_frequencies"
   ]
  },
  {
   "cell_type": "code",
   "execution_count": 61,
   "id": "e1e03ff0",
   "metadata": {},
   "outputs": [
    {
     "data": {
      "image/png": "[encoded data removed]",
      "text/plain": [
       "<Figure size 432x144 with 1 Axes>"
      ]
     },
     "metadata": {
      "needs_background": "light"
     },
     "output_type": "display_data"
    }
   ],
   "source": [
    "#7\n",
    "relative_frequencies = par_7.apply(lambda x: x.value_counts(normalize=True))\n",
    "positive_answers7 = relative_frequencies.iloc[0] + relative_frequencies.iloc[1]\n",
    "\n",
    "title = 'Εκπαίδευση Προσωπικού'\n",
    "par = ['E7','E14']\n",
    "\n",
    "my_graph(par,positive_answers7,title,0)"
   ]
  },
  {
   "cell_type": "code",
   "execution_count": 62,
   "id": "789eaf2e",
   "metadata": {},
   "outputs": [
    {
     "data": {
      "text/html": [
       "<div>\n",
       "<style scoped>\n",
       "    .dataframe tbody tr th:only-of-type {\n",
       "        vertical-align: middle;\n",
       "    }\n",
       "\n",
       "    .dataframe tbody tr th {\n",
       "        vertical-align: top;\n",
       "    }\n",
       "\n",
       "    .dataframe thead th {\n",
       "        text-align: right;\n",
       "    }\n",
       "</style>\n",
       "<table border=\"1\" class=\"dataframe\">\n",
       "  <thead>\n",
       "    <tr style=\"text-align: right;\">\n",
       "      <th></th>\n",
       "      <th>q7</th>\n",
       "      <th>q14</th>\n",
       "    </tr>\n",
       "  </thead>\n",
       "  <tbody>\n",
       "    <tr>\n",
       "      <th>5</th>\n",
       "      <td>0.502890</td>\n",
       "      <td>0.473988</td>\n",
       "    </tr>\n",
       "    <tr>\n",
       "      <th>4</th>\n",
       "      <td>0.398844</td>\n",
       "      <td>0.393064</td>\n",
       "    </tr>\n",
       "    <tr>\n",
       "      <th>3</th>\n",
       "      <td>0.040462</td>\n",
       "      <td>0.057803</td>\n",
       "    </tr>\n",
       "    <tr>\n",
       "      <th>6</th>\n",
       "      <td>0.028902</td>\n",
       "      <td>0.046243</td>\n",
       "    </tr>\n",
       "    <tr>\n",
       "      <th>2</th>\n",
       "      <td>0.023121</td>\n",
       "      <td>0.023121</td>\n",
       "    </tr>\n",
       "    <tr>\n",
       "      <th>1</th>\n",
       "      <td>0.005780</td>\n",
       "      <td>0.005780</td>\n",
       "    </tr>\n",
       "  </tbody>\n",
       "</table>\n",
       "</div>"
      ],
      "text/plain": [
       "         q7       q14\n",
       "5  0.502890  0.473988\n",
       "4  0.398844  0.393064\n",
       "3  0.040462  0.057803\n",
       "6  0.028902  0.046243\n",
       "2  0.023121  0.023121\n",
       "1  0.005780  0.005780"
      ]
     },
     "execution_count": 62,
     "metadata": {},
     "output_type": "execute_result"
    }
   ],
   "source": [
    "relative_frequencies"
   ]
  },
  {
   "cell_type": "code",
   "execution_count": 63,
   "id": "31048ec3",
   "metadata": {},
   "outputs": [
    {
     "data": {
      "image/png": "[encoded data removed]",
      "text/plain": [
       "<Figure size 432x144 with 1 Axes>"
      ]
     },
     "metadata": {
      "needs_background": "light"
     },
     "output_type": "display_data"
    }
   ],
   "source": [
    "#8\n",
    "relative_frequencies = par_8.apply(lambda x: x.value_counts(normalize=True))\n",
    "positive_answers8 = relative_frequencies.iloc[3:5].sum()\n",
    "\n",
    "title = 'Καθυστερήσεις'\n",
    "par = ['E21','E8']\n",
    "\n",
    "my_graph(par,positive_answers8,title,0)"
   ]
  },
  {
   "cell_type": "code",
   "execution_count": 64,
   "id": "5bb8fd9a",
   "metadata": {},
   "outputs": [
    {
     "data": {
      "text/html": [
       "<div>\n",
       "<style scoped>\n",
       "    .dataframe tbody tr th:only-of-type {\n",
       "        vertical-align: middle;\n",
       "    }\n",
       "\n",
       "    .dataframe tbody tr th {\n",
       "        vertical-align: top;\n",
       "    }\n",
       "\n",
       "    .dataframe thead th {\n",
       "        text-align: right;\n",
       "    }\n",
       "</style>\n",
       "<table border=\"1\" class=\"dataframe\">\n",
       "  <thead>\n",
       "    <tr style=\"text-align: right;\">\n",
       "      <th></th>\n",
       "      <th>q21</th>\n",
       "      <th>q8</th>\n",
       "    </tr>\n",
       "  </thead>\n",
       "  <tbody>\n",
       "    <tr>\n",
       "      <th>1</th>\n",
       "      <td>0.127168</td>\n",
       "      <td>0.040462</td>\n",
       "    </tr>\n",
       "    <tr>\n",
       "      <th>2</th>\n",
       "      <td>0.283237</td>\n",
       "      <td>0.196532</td>\n",
       "    </tr>\n",
       "    <tr>\n",
       "      <th>3</th>\n",
       "      <td>0.052023</td>\n",
       "      <td>0.138728</td>\n",
       "    </tr>\n",
       "    <tr>\n",
       "      <th>4</th>\n",
       "      <td>0.196532</td>\n",
       "      <td>0.242775</td>\n",
       "    </tr>\n",
       "    <tr>\n",
       "      <th>5</th>\n",
       "      <td>0.335260</td>\n",
       "      <td>0.369942</td>\n",
       "    </tr>\n",
       "    <tr>\n",
       "      <th>6</th>\n",
       "      <td>0.005780</td>\n",
       "      <td>0.011561</td>\n",
       "    </tr>\n",
       "  </tbody>\n",
       "</table>\n",
       "</div>"
      ],
      "text/plain": [
       "        q21        q8\n",
       "1  0.127168  0.040462\n",
       "2  0.283237  0.196532\n",
       "3  0.052023  0.138728\n",
       "4  0.196532  0.242775\n",
       "5  0.335260  0.369942\n",
       "6  0.005780  0.011561"
      ]
     },
     "execution_count": 64,
     "metadata": {},
     "output_type": "execute_result"
    }
   ],
   "source": [
    "relative_frequencies"
   ]
  },
  {
   "cell_type": "code",
   "execution_count": null,
   "id": "a376a5f9",
   "metadata": {},
   "outputs": [],
   "source": []
  },
  {
   "cell_type": "code",
   "execution_count": null,
   "id": "e26dbf2a",
   "metadata": {},
   "outputs": [],
   "source": []
  },
  {
   "cell_type": "code",
   "execution_count": null,
   "id": "82c56c67",
   "metadata": {},
   "outputs": [],
   "source": []
  },
  {
   "cell_type": "code",
   "execution_count": null,
   "id": "c4eb1d3e",
   "metadata": {},
   "outputs": [],
   "source": []
  }
 ],
 "metadata": {
  "kernelspec": {
   "display_name": "Python 3 (ipykernel)",
   "language": "python",
   "name": "python3"
  },
  "language_info": {
   "codemirror_mode": {
    "name": "ipython",
    "version": 3
   },
   "file_extension": ".py",
   "mimetype": "text/x-python",
   "name": "python",
   "nbconvert_exporter": "python",
   "pygments_lexer": "ipython3",
   "version": "3.9.7"
  }
 },
 "nbformat": 4,
 "nbformat_minor": 5
}
