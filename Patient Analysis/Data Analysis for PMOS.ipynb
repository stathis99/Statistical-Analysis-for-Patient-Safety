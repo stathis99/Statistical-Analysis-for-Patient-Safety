{
 "cells": [
  {
   "cell_type": "markdown",
   "id": "a6a09333",
   "metadata": {},
   "source": [
    "# PMOS Analysis "
   ]
  },
  {
   "cell_type": "code",
   "execution_count": 1,
   "id": "8158183b",
   "metadata": {},
   "outputs": [
    {
     "name": "stderr",
     "output_type": "stream",
     "text": [
      "/Users/stathis/opt/anaconda3/lib/python3.9/site-packages/outdated/utils.py:14: OutdatedPackageWarning: The package outdated is out of date. Your version is 0.2.1, the latest is 0.2.2.\n",
      "Set the environment variable OUTDATED_IGNORE=1 to disable these warnings.\n",
      "  return warn(\n",
      "/Users/stathis/opt/anaconda3/lib/python3.9/site-packages/outdated/utils.py:14: OutdatedPackageWarning: The package pingouin is out of date. Your version is 0.5.2, the latest is 0.5.3.\n",
      "Set the environment variable OUTDATED_IGNORE=1 to disable these warnings.\n",
      "  return warn(\n"
     ]
    }
   ],
   "source": [
    "# Libraries\n",
    "import pandas as pd\n",
    "import pingouin as pg"
   ]
  },
  {
   "cell_type": "code",
   "execution_count": 2,
   "id": "eb0780d6",
   "metadata": {},
   "outputs": [],
   "source": [
    "PMOS = pd.read_csv('patient.csv')"
   ]
  },
  {
   "cell_type": "code",
   "execution_count": 3,
   "id": "deac8932",
   "metadata": {},
   "outputs": [
    {
     "data": {
      "text/html": [
       "<div>\n",
       "<style scoped>\n",
       "    .dataframe tbody tr th:only-of-type {\n",
       "        vertical-align: middle;\n",
       "    }\n",
       "\n",
       "    .dataframe tbody tr th {\n",
       "        vertical-align: top;\n",
       "    }\n",
       "\n",
       "    .dataframe thead th {\n",
       "        text-align: right;\n",
       "    }\n",
       "</style>\n",
       "<table border=\"1\" class=\"dataframe\">\n",
       "  <thead>\n",
       "    <tr style=\"text-align: right;\">\n",
       "      <th></th>\n",
       "      <th>q1</th>\n",
       "      <th>q2</th>\n",
       "      <th>q3</th>\n",
       "      <th>q4</th>\n",
       "      <th>q5</th>\n",
       "      <th>q6</th>\n",
       "      <th>q7</th>\n",
       "      <th>q8</th>\n",
       "      <th>q9</th>\n",
       "      <th>q10</th>\n",
       "      <th>...</th>\n",
       "      <th>age</th>\n",
       "      <th>education</th>\n",
       "      <th>family</th>\n",
       "      <th>occupation</th>\n",
       "      <th>income</th>\n",
       "      <th>nationality</th>\n",
       "      <th>nursing field</th>\n",
       "      <th>nursing days</th>\n",
       "      <th>safety evaluation</th>\n",
       "      <th>comments</th>\n",
       "    </tr>\n",
       "  </thead>\n",
       "  <tbody>\n",
       "    <tr>\n",
       "      <th>0</th>\n",
       "      <td>4</td>\n",
       "      <td>4</td>\n",
       "      <td>5</td>\n",
       "      <td>3</td>\n",
       "      <td>4</td>\n",
       "      <td>5.0</td>\n",
       "      <td>5</td>\n",
       "      <td>5</td>\n",
       "      <td>3.0</td>\n",
       "      <td>5</td>\n",
       "      <td>...</td>\n",
       "      <td>30.0</td>\n",
       "      <td>8.0</td>\n",
       "      <td>3.0</td>\n",
       "      <td>1.0</td>\n",
       "      <td>2.0</td>\n",
       "      <td>2</td>\n",
       "      <td>1.0</td>\n",
       "      <td>5.0</td>\n",
       "      <td>5.0</td>\n",
       "      <td>oxi</td>\n",
       "    </tr>\n",
       "    <tr>\n",
       "      <th>1</th>\n",
       "      <td>5</td>\n",
       "      <td>5</td>\n",
       "      <td>5</td>\n",
       "      <td>2</td>\n",
       "      <td>5</td>\n",
       "      <td>4.0</td>\n",
       "      <td>5</td>\n",
       "      <td>4</td>\n",
       "      <td>2.0</td>\n",
       "      <td>5</td>\n",
       "      <td>...</td>\n",
       "      <td>72.0</td>\n",
       "      <td>4.0</td>\n",
       "      <td>3.0</td>\n",
       "      <td>3.0</td>\n",
       "      <td>1.0</td>\n",
       "      <td>1</td>\n",
       "      <td>2.0</td>\n",
       "      <td>7.0</td>\n",
       "      <td>3.0</td>\n",
       "      <td>Περιστέρια στον θάλαμο</td>\n",
       "    </tr>\n",
       "    <tr>\n",
       "      <th>2</th>\n",
       "      <td>4</td>\n",
       "      <td>5</td>\n",
       "      <td>4</td>\n",
       "      <td>2</td>\n",
       "      <td>5</td>\n",
       "      <td>5.0</td>\n",
       "      <td>5</td>\n",
       "      <td>4</td>\n",
       "      <td>2.0</td>\n",
       "      <td>5</td>\n",
       "      <td>...</td>\n",
       "      <td>58.0</td>\n",
       "      <td>3.0</td>\n",
       "      <td>3.0</td>\n",
       "      <td>1.0</td>\n",
       "      <td>1.0</td>\n",
       "      <td>1</td>\n",
       "      <td>2.0</td>\n",
       "      <td>6.0</td>\n",
       "      <td>5.0</td>\n",
       "      <td>oxi</td>\n",
       "    </tr>\n",
       "    <tr>\n",
       "      <th>3</th>\n",
       "      <td>5</td>\n",
       "      <td>4</td>\n",
       "      <td>5</td>\n",
       "      <td>2</td>\n",
       "      <td>5</td>\n",
       "      <td>4.0</td>\n",
       "      <td>5</td>\n",
       "      <td>5</td>\n",
       "      <td>5.0</td>\n",
       "      <td>4</td>\n",
       "      <td>...</td>\n",
       "      <td>71.0</td>\n",
       "      <td>1.0</td>\n",
       "      <td>3.0</td>\n",
       "      <td>3.0</td>\n",
       "      <td>1.0</td>\n",
       "      <td>1</td>\n",
       "      <td>2.0</td>\n",
       "      <td>7.0</td>\n",
       "      <td>5.0</td>\n",
       "      <td>Peristeria ston thalamo</td>\n",
       "    </tr>\n",
       "    <tr>\n",
       "      <th>4</th>\n",
       "      <td>5</td>\n",
       "      <td>4</td>\n",
       "      <td>5</td>\n",
       "      <td>2</td>\n",
       "      <td>5</td>\n",
       "      <td>4.0</td>\n",
       "      <td>5</td>\n",
       "      <td>5</td>\n",
       "      <td>5.0</td>\n",
       "      <td>4</td>\n",
       "      <td>...</td>\n",
       "      <td>72.0</td>\n",
       "      <td>1.0</td>\n",
       "      <td>3.0</td>\n",
       "      <td>3.0</td>\n",
       "      <td>1.0</td>\n",
       "      <td>1</td>\n",
       "      <td>2.0</td>\n",
       "      <td>7.0</td>\n",
       "      <td>5.0</td>\n",
       "      <td>peristeria ston thalamo</td>\n",
       "    </tr>\n",
       "    <tr>\n",
       "      <th>...</th>\n",
       "      <td>...</td>\n",
       "      <td>...</td>\n",
       "      <td>...</td>\n",
       "      <td>...</td>\n",
       "      <td>...</td>\n",
       "      <td>...</td>\n",
       "      <td>...</td>\n",
       "      <td>...</td>\n",
       "      <td>...</td>\n",
       "      <td>...</td>\n",
       "      <td>...</td>\n",
       "      <td>...</td>\n",
       "      <td>...</td>\n",
       "      <td>...</td>\n",
       "      <td>...</td>\n",
       "      <td>...</td>\n",
       "      <td>...</td>\n",
       "      <td>...</td>\n",
       "      <td>...</td>\n",
       "      <td>...</td>\n",
       "      <td>...</td>\n",
       "    </tr>\n",
       "    <tr>\n",
       "      <th>168</th>\n",
       "      <td>5</td>\n",
       "      <td>5</td>\n",
       "      <td>5</td>\n",
       "      <td>2</td>\n",
       "      <td>5</td>\n",
       "      <td>5.0</td>\n",
       "      <td>5</td>\n",
       "      <td>5</td>\n",
       "      <td>5.0</td>\n",
       "      <td>5</td>\n",
       "      <td>...</td>\n",
       "      <td>NaN</td>\n",
       "      <td>3.0</td>\n",
       "      <td>3.0</td>\n",
       "      <td>3.0</td>\n",
       "      <td>1.0</td>\n",
       "      <td>1</td>\n",
       "      <td>1.0</td>\n",
       "      <td>NaN</td>\n",
       "      <td>4.0</td>\n",
       "      <td>NaN</td>\n",
       "    </tr>\n",
       "    <tr>\n",
       "      <th>169</th>\n",
       "      <td>5</td>\n",
       "      <td>5</td>\n",
       "      <td>5</td>\n",
       "      <td>5</td>\n",
       "      <td>5</td>\n",
       "      <td>5.0</td>\n",
       "      <td>5</td>\n",
       "      <td>5</td>\n",
       "      <td>5.0</td>\n",
       "      <td>5</td>\n",
       "      <td>...</td>\n",
       "      <td>67.0</td>\n",
       "      <td>1.0</td>\n",
       "      <td>2.0</td>\n",
       "      <td>3.0</td>\n",
       "      <td>1.0</td>\n",
       "      <td>1</td>\n",
       "      <td>2.0</td>\n",
       "      <td>4.0</td>\n",
       "      <td>3.0</td>\n",
       "      <td>oxi</td>\n",
       "    </tr>\n",
       "    <tr>\n",
       "      <th>170</th>\n",
       "      <td>5</td>\n",
       "      <td>5</td>\n",
       "      <td>5</td>\n",
       "      <td>2</td>\n",
       "      <td>4</td>\n",
       "      <td>4.0</td>\n",
       "      <td>5</td>\n",
       "      <td>4</td>\n",
       "      <td>4.0</td>\n",
       "      <td>4</td>\n",
       "      <td>...</td>\n",
       "      <td>NaN</td>\n",
       "      <td>5.0</td>\n",
       "      <td>2.0</td>\n",
       "      <td>1.0</td>\n",
       "      <td>1.0</td>\n",
       "      <td>3</td>\n",
       "      <td>3.0</td>\n",
       "      <td>3.0</td>\n",
       "      <td>3.0</td>\n",
       "      <td>oxi</td>\n",
       "    </tr>\n",
       "    <tr>\n",
       "      <th>171</th>\n",
       "      <td>5</td>\n",
       "      <td>5</td>\n",
       "      <td>5</td>\n",
       "      <td>5</td>\n",
       "      <td>5</td>\n",
       "      <td>5.0</td>\n",
       "      <td>5</td>\n",
       "      <td>5</td>\n",
       "      <td>5.0</td>\n",
       "      <td>5</td>\n",
       "      <td>...</td>\n",
       "      <td>51.0</td>\n",
       "      <td>4.0</td>\n",
       "      <td>3.0</td>\n",
       "      <td>1.0</td>\n",
       "      <td>1.0</td>\n",
       "      <td>1</td>\n",
       "      <td>2.0</td>\n",
       "      <td>8.0</td>\n",
       "      <td>5.0</td>\n",
       "      <td>oxi</td>\n",
       "    </tr>\n",
       "    <tr>\n",
       "      <th>172</th>\n",
       "      <td>5</td>\n",
       "      <td>5</td>\n",
       "      <td>5</td>\n",
       "      <td>2</td>\n",
       "      <td>4</td>\n",
       "      <td>4.0</td>\n",
       "      <td>4</td>\n",
       "      <td>4</td>\n",
       "      <td>2.0</td>\n",
       "      <td>4</td>\n",
       "      <td>...</td>\n",
       "      <td>59.0</td>\n",
       "      <td>4.0</td>\n",
       "      <td>1.0</td>\n",
       "      <td>1.0</td>\n",
       "      <td>1.0</td>\n",
       "      <td>1</td>\n",
       "      <td>2.0</td>\n",
       "      <td>4.0</td>\n",
       "      <td>4.0</td>\n",
       "      <td>oxi</td>\n",
       "    </tr>\n",
       "  </tbody>\n",
       "</table>\n",
       "<p>173 rows × 41 columns</p>\n",
       "</div>"
      ],
      "text/plain": [
       "     q1  q2  q3  q4  q5   q6  q7  q8   q9  q10  ...   age  education  family  \\\n",
       "0     4   4   5   3   4  5.0   5   5  3.0    5  ...  30.0        8.0     3.0   \n",
       "1     5   5   5   2   5  4.0   5   4  2.0    5  ...  72.0        4.0     3.0   \n",
       "2     4   5   4   2   5  5.0   5   4  2.0    5  ...  58.0        3.0     3.0   \n",
       "3     5   4   5   2   5  4.0   5   5  5.0    4  ...  71.0        1.0     3.0   \n",
       "4     5   4   5   2   5  4.0   5   5  5.0    4  ...  72.0        1.0     3.0   \n",
       "..   ..  ..  ..  ..  ..  ...  ..  ..  ...  ...  ...   ...        ...     ...   \n",
       "168   5   5   5   2   5  5.0   5   5  5.0    5  ...   NaN        3.0     3.0   \n",
       "169   5   5   5   5   5  5.0   5   5  5.0    5  ...  67.0        1.0     2.0   \n",
       "170   5   5   5   2   4  4.0   5   4  4.0    4  ...   NaN        5.0     2.0   \n",
       "171   5   5   5   5   5  5.0   5   5  5.0    5  ...  51.0        4.0     3.0   \n",
       "172   5   5   5   2   4  4.0   4   4  2.0    4  ...  59.0        4.0     1.0   \n",
       "\n",
       "     occupation  income  nationality  nursing field  nursing days  \\\n",
       "0           1.0     2.0            2            1.0           5.0   \n",
       "1           3.0     1.0            1            2.0           7.0   \n",
       "2           1.0     1.0            1            2.0           6.0   \n",
       "3           3.0     1.0            1            2.0           7.0   \n",
       "4           3.0     1.0            1            2.0           7.0   \n",
       "..          ...     ...          ...            ...           ...   \n",
       "168         3.0     1.0            1            1.0           NaN   \n",
       "169         3.0     1.0            1            2.0           4.0   \n",
       "170         1.0     1.0            3            3.0           3.0   \n",
       "171         1.0     1.0            1            2.0           8.0   \n",
       "172         1.0     1.0            1            2.0           4.0   \n",
       "\n",
       "     safety evaluation                 comments  \n",
       "0                  5.0                      oxi  \n",
       "1                  3.0   Περιστέρια στον θάλαμο  \n",
       "2                  5.0                      oxi  \n",
       "3                  5.0  Peristeria ston thalamo  \n",
       "4                  5.0  peristeria ston thalamo  \n",
       "..                 ...                      ...  \n",
       "168                4.0                      NaN  \n",
       "169                3.0                      oxi  \n",
       "170                3.0                      oxi  \n",
       "171                5.0                      oxi  \n",
       "172                4.0                      oxi  \n",
       "\n",
       "[173 rows x 41 columns]"
      ]
     },
     "execution_count": 3,
     "metadata": {},
     "output_type": "execute_result"
    }
   ],
   "source": [
    "PMOS"
   ]
  },
  {
   "cell_type": "code",
   "execution_count": 4,
   "id": "1e8c3e29",
   "metadata": {},
   "outputs": [
    {
     "name": "stdout",
     "output_type": "stream",
     "text": [
      "Stored 'patients_personalInfo' (DataFrame)\n"
     ]
    }
   ],
   "source": [
    "#slice pmos to 2 tables\n",
    "patients_questions  = PMOS.iloc[: , :30]\n",
    "patients_personalInfo = PMOS.iloc[:, 30:41]\n",
    "\n",
    "%store patients_personalInfo"
   ]
  },
  {
   "cell_type": "markdown",
   "id": "493e0c62",
   "metadata": {},
   "source": [
    "### Create all parameters and check for Intetrnal cosnistency "
   ]
  },
  {
   "cell_type": "code",
   "execution_count": 5,
   "id": "daf78279",
   "metadata": {},
   "outputs": [],
   "source": [
    "#helper functions\n",
    "\n",
    "def my_reverse(table, q):\n",
    "    for index in range(len(table)):\n",
    "        if table[q].iloc[index] == 1:\n",
    "            table[q].iloc[index] = 5\n",
    "        elif table[q].iloc[index] == 2:\n",
    "            table[q].iloc[index] = 4\n",
    "        elif table[q].iloc[index] == 4:\n",
    "            table[q].iloc[index] = 2\n",
    "        elif table[q].iloc[index] == 5:\n",
    "            table[q].iloc[index] = 1\n",
    "    return table"
   ]
  },
  {
   "cell_type": "code",
   "execution_count": 6,
   "id": "27d58eb8",
   "metadata": {},
   "outputs": [],
   "source": [
    "# parameter 1\n",
    "par_1 =patients_questions[:][['q3','q28','q13','q19','q24']] # reverse q19\n",
    "#parameter_1"
   ]
  },
  {
   "cell_type": "code",
   "execution_count": 7,
   "id": "2c845e19",
   "metadata": {},
   "outputs": [
    {
     "name": "stdout",
     "output_type": "stream",
     "text": [
      "Cronabachs alpha for parameter 1:  0.7031206254549527\n",
      "Stored 'par_1' (DataFrame)\n"
     ]
    }
   ],
   "source": [
    "par_1 = my_reverse(par_1,'q19')\n",
    "#calculate cronabachs alpha\n",
    "ca = pg.cronbach_alpha(data=par_1)\n",
    "print(\"Cronabachs alpha for parameter 1: \",ca[0])\n",
    "\n",
    "%store par_1"
   ]
  },
  {
   "cell_type": "code",
   "execution_count": 8,
   "id": "c89ff717",
   "metadata": {},
   "outputs": [
    {
     "data": {
      "text/html": [
       "<div>\n",
       "<style scoped>\n",
       "    .dataframe tbody tr th:only-of-type {\n",
       "        vertical-align: middle;\n",
       "    }\n",
       "\n",
       "    .dataframe tbody tr th {\n",
       "        vertical-align: top;\n",
       "    }\n",
       "\n",
       "    .dataframe thead th {\n",
       "        text-align: right;\n",
       "    }\n",
       "</style>\n",
       "<table border=\"1\" class=\"dataframe\">\n",
       "  <thead>\n",
       "    <tr style=\"text-align: right;\">\n",
       "      <th></th>\n",
       "      <th>q2</th>\n",
       "      <th>q4</th>\n",
       "      <th>q22</th>\n",
       "      <th>q25</th>\n",
       "    </tr>\n",
       "  </thead>\n",
       "  <tbody>\n",
       "    <tr>\n",
       "      <th>0</th>\n",
       "      <td>4</td>\n",
       "      <td>3</td>\n",
       "      <td>2</td>\n",
       "      <td>5</td>\n",
       "    </tr>\n",
       "    <tr>\n",
       "      <th>1</th>\n",
       "      <td>5</td>\n",
       "      <td>2</td>\n",
       "      <td>2</td>\n",
       "      <td>5</td>\n",
       "    </tr>\n",
       "    <tr>\n",
       "      <th>2</th>\n",
       "      <td>5</td>\n",
       "      <td>2</td>\n",
       "      <td>1</td>\n",
       "      <td>5</td>\n",
       "    </tr>\n",
       "    <tr>\n",
       "      <th>3</th>\n",
       "      <td>4</td>\n",
       "      <td>2</td>\n",
       "      <td>1</td>\n",
       "      <td>5</td>\n",
       "    </tr>\n",
       "    <tr>\n",
       "      <th>4</th>\n",
       "      <td>4</td>\n",
       "      <td>2</td>\n",
       "      <td>1</td>\n",
       "      <td>5</td>\n",
       "    </tr>\n",
       "    <tr>\n",
       "      <th>...</th>\n",
       "      <td>...</td>\n",
       "      <td>...</td>\n",
       "      <td>...</td>\n",
       "      <td>...</td>\n",
       "    </tr>\n",
       "    <tr>\n",
       "      <th>168</th>\n",
       "      <td>5</td>\n",
       "      <td>2</td>\n",
       "      <td>2</td>\n",
       "      <td>4</td>\n",
       "    </tr>\n",
       "    <tr>\n",
       "      <th>169</th>\n",
       "      <td>5</td>\n",
       "      <td>5</td>\n",
       "      <td>2</td>\n",
       "      <td>5</td>\n",
       "    </tr>\n",
       "    <tr>\n",
       "      <th>170</th>\n",
       "      <td>5</td>\n",
       "      <td>2</td>\n",
       "      <td>1</td>\n",
       "      <td>4</td>\n",
       "    </tr>\n",
       "    <tr>\n",
       "      <th>171</th>\n",
       "      <td>5</td>\n",
       "      <td>5</td>\n",
       "      <td>1</td>\n",
       "      <td>5</td>\n",
       "    </tr>\n",
       "    <tr>\n",
       "      <th>172</th>\n",
       "      <td>5</td>\n",
       "      <td>2</td>\n",
       "      <td>2</td>\n",
       "      <td>4</td>\n",
       "    </tr>\n",
       "  </tbody>\n",
       "</table>\n",
       "<p>173 rows × 4 columns</p>\n",
       "</div>"
      ],
      "text/plain": [
       "     q2  q4  q22  q25\n",
       "0     4   3    2    5\n",
       "1     5   2    2    5\n",
       "2     5   2    1    5\n",
       "3     4   2    1    5\n",
       "4     4   2    1    5\n",
       "..   ..  ..  ...  ...\n",
       "168   5   2    2    4\n",
       "169   5   5    2    5\n",
       "170   5   2    1    4\n",
       "171   5   5    1    5\n",
       "172   5   2    2    4\n",
       "\n",
       "[173 rows x 4 columns]"
      ]
     },
     "execution_count": 8,
     "metadata": {},
     "output_type": "execute_result"
    }
   ],
   "source": [
    "# parameter 2\n",
    "par_2 = patients_questions[:][['q2','q4','q22','q25']] # reverse q4 q22\n",
    "par_2\n"
   ]
  },
  {
   "cell_type": "code",
   "execution_count": 9,
   "id": "b8213dbe",
   "metadata": {},
   "outputs": [
    {
     "name": "stdout",
     "output_type": "stream",
     "text": [
      "Cronabachs alpha for parameter 1:  0.37111288449435875\n",
      "Stored 'par_2' (DataFrame)\n"
     ]
    }
   ],
   "source": [
    "par_2 = my_reverse(par_2,'q4')\n",
    "par_2 = my_reverse(par_2,'q22')\n",
    "\n",
    "#calculate cronabachs alpha\n",
    "ca = pg.cronbach_alpha(data=par_2)\n",
    "print(\"Cronabachs alpha for parameter 1: \",ca[0])\n",
    "\n",
    "%store par_2"
   ]
  },
  {
   "cell_type": "code",
   "execution_count": 11,
   "id": "48ec1f95",
   "metadata": {},
   "outputs": [
    {
     "name": "stdout",
     "output_type": "stream",
     "text": [
      "Stored 'par_3' (DataFrame)\n"
     ]
    }
   ],
   "source": [
    "# parameter 3\n",
    "par_3 = patients_questions[:][['q23','q29','q27']] \n",
    "par_3 = my_reverse(par_3,'q23')\n",
    "\n",
    "%store par_3"
   ]
  },
  {
   "cell_type": "code",
   "execution_count": 12,
   "id": "12309755",
   "metadata": {},
   "outputs": [
    {
     "name": "stdout",
     "output_type": "stream",
     "text": [
      "Cronabachs alpha for parameter 1:  0.4486927421041622\n"
     ]
    }
   ],
   "source": [
    "#calculate cronabachs alpha\n",
    "ca = pg.cronbach_alpha(data=par_3)\n",
    "print(\"Cronabachs alpha for parameter 1: \",ca[0])"
   ]
  },
  {
   "cell_type": "code",
   "execution_count": 13,
   "id": "d1893a62",
   "metadata": {},
   "outputs": [
    {
     "name": "stderr",
     "output_type": "stream",
     "text": [
      "/Users/stathis/opt/anaconda3/lib/python3.9/site-packages/pandas/core/indexing.py:1732: SettingWithCopyWarning: \n",
      "A value is trying to be set on a copy of a slice from a DataFrame\n",
      "\n",
      "See the caveats in the documentation: https://pandas.pydata.org/pandas-docs/stable/user_guide/indexing.html#returning-a-view-versus-a-copy\n",
      "  self._setitem_single_block(indexer, value, name)\n"
     ]
    }
   ],
   "source": [
    "# parameter 4\n",
    "parameter_4 = patients_questions[:][['q11','q10','q9','q15','q16','q17','q18']] \n",
    "parameter_4 = my_reverse(parameter_4,'q9')\n",
    "parameter_4 = my_reverse(parameter_4,'q15')\n",
    "parameter_4 = my_reverse(parameter_4,'q16')\n",
    "parameter_4 = my_reverse(parameter_4,'q17')\n",
    "parameter_4 = my_reverse(parameter_4,'q18')\n"
   ]
  },
  {
   "cell_type": "code",
   "execution_count": 14,
   "id": "0d3a528b",
   "metadata": {},
   "outputs": [
    {
     "name": "stdout",
     "output_type": "stream",
     "text": [
      "Cronabachs alpha for parameter 1:  0.6445862759959982\n",
      "Stored 'par_4' (DataFrame)\n"
     ]
    }
   ],
   "source": [
    "#calculate cronabachs alpha\n",
    "ca = pg.cronbach_alpha(data=parameter_4)\n",
    "print(\"Cronabachs alpha for parameter 1: \",ca[0])\n",
    "par_4 = parameter_4\n",
    "\n",
    "%store par_4"
   ]
  },
  {
   "cell_type": "code",
   "execution_count": 15,
   "id": "61acb01f",
   "metadata": {},
   "outputs": [
    {
     "name": "stdout",
     "output_type": "stream",
     "text": [
      "Stored 'par_5' (DataFrame)\n"
     ]
    }
   ],
   "source": [
    "# parameter 5\n",
    "parameter_5 = patients_questions[:][['q30','q5']] \n",
    "\n",
    "par_5 = parameter_5\n",
    "%store par_5"
   ]
  },
  {
   "cell_type": "code",
   "execution_count": 16,
   "id": "c4373271",
   "metadata": {},
   "outputs": [
    {
     "name": "stdout",
     "output_type": "stream",
     "text": [
      "Cronabachs alpha for parameter 1:  0.4584191153534216\n"
     ]
    }
   ],
   "source": [
    "#average interitem corrrelation\n",
    "\n",
    "\n",
    "#calculate cronabachs alpha\n",
    "ca = pg.cronbach_alpha(data=parameter_5)\n",
    "print(\"Cronabachs alpha for parameter 1: \",ca[0])"
   ]
  },
  {
   "cell_type": "code",
   "execution_count": 17,
   "id": "e62b3bc6",
   "metadata": {},
   "outputs": [
    {
     "name": "stdout",
     "output_type": "stream",
     "text": [
      "Stored 'par_6' (DataFrame)\n"
     ]
    }
   ],
   "source": [
    "# parameter 6\n",
    "parameter_6 = patients_questions[:][['q6','q12','q20','q26']] \n",
    "par_6 = parameter_6\n",
    "%store par_6"
   ]
  },
  {
   "cell_type": "code",
   "execution_count": 18,
   "id": "b07a1f99",
   "metadata": {},
   "outputs": [
    {
     "name": "stdout",
     "output_type": "stream",
     "text": [
      "Cronabachs alpha for parameter 1:  0.6783291259764366\n"
     ]
    }
   ],
   "source": [
    "#calculate cronabachs alpha\n",
    "ca = pg.cronbach_alpha(data=parameter_6)\n",
    "print(\"Cronabachs alpha for parameter 1: \",ca[0])"
   ]
  },
  {
   "cell_type": "code",
   "execution_count": 19,
   "id": "c63f3440",
   "metadata": {},
   "outputs": [
    {
     "name": "stdout",
     "output_type": "stream",
     "text": [
      "Stored 'par_7' (DataFrame)\n"
     ]
    }
   ],
   "source": [
    "# parameter 7\n",
    "parameter_7 = patients_questions[:][['q7','q14']] \n",
    "par_7 = parameter_7\n",
    "%store par_7"
   ]
  },
  {
   "cell_type": "code",
   "execution_count": 20,
   "id": "0010ce3d",
   "metadata": {},
   "outputs": [
    {
     "name": "stdout",
     "output_type": "stream",
     "text": [
      "Stored 'par_8' (DataFrame)\n"
     ]
    }
   ],
   "source": [
    "# parameter 8\n",
    "parameter_8 = patients_questions[:][['q21','q8']] \n",
    "par_8 = parameter_8\n",
    "%store par_8"
   ]
  },
  {
   "cell_type": "code",
   "execution_count": null,
   "id": "6341267e",
   "metadata": {},
   "outputs": [],
   "source": []
  }
 ],
 "metadata": {
  "kernelspec": {
   "display_name": "Python 3 (ipykernel)",
   "language": "python",
   "name": "python3"
  },
  "language_info": {
   "codemirror_mode": {
    "name": "ipython",
    "version": 3
   },
   "file_extension": ".py",
   "mimetype": "text/x-python",
   "name": "python",
   "nbconvert_exporter": "python",
   "pygments_lexer": "ipython3",
   "version": "3.9.7"
  }
 },
 "nbformat": 4,
 "nbformat_minor": 5
}
